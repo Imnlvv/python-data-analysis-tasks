{
 "cells": [
  {
   "cell_type": "code",
   "execution_count": 1,
   "id": "422c4cbf",
   "metadata": {},
   "outputs": [],
   "source": [
    "import pandas as pd\n",
    "import numpy as np"
   ]
  },
  {
   "cell_type": "code",
   "execution_count": 3,
   "id": "e2f84189",
   "metadata": {},
   "outputs": [
    {
     "data": {
      "text/html": [
       "<div>\n",
       "<style scoped>\n",
       "    .dataframe tbody tr th:only-of-type {\n",
       "        vertical-align: middle;\n",
       "    }\n",
       "\n",
       "    .dataframe tbody tr th {\n",
       "        vertical-align: top;\n",
       "    }\n",
       "\n",
       "    .dataframe thead th {\n",
       "        text-align: right;\n",
       "    }\n",
       "</style>\n",
       "<table border=\"1\" class=\"dataframe\">\n",
       "  <thead>\n",
       "    <tr style=\"text-align: right;\">\n",
       "      <th></th>\n",
       "      <th>respondentID</th>\n",
       "      <th>seen</th>\n",
       "      <th>fan</th>\n",
       "      <th>gender</th>\n",
       "      <th>age_group</th>\n",
       "      <th>income</th>\n",
       "      <th>loc</th>\n",
       "      <th>yoda</th>\n",
       "      <th>princess_leia_organa</th>\n",
       "    </tr>\n",
       "  </thead>\n",
       "  <tbody>\n",
       "    <tr>\n",
       "      <th>0</th>\n",
       "      <td>3292879998</td>\n",
       "      <td>да</td>\n",
       "      <td>да</td>\n",
       "      <td>М</td>\n",
       "      <td>18-29</td>\n",
       "      <td>NaN</td>\n",
       "      <td>Южно-Атлантический</td>\n",
       "      <td>очень нравится</td>\n",
       "      <td>очень нравится</td>\n",
       "    </tr>\n",
       "    <tr>\n",
       "      <th>1</th>\n",
       "      <td>3292879538</td>\n",
       "      <td>нет</td>\n",
       "      <td>NaN</td>\n",
       "      <td>М</td>\n",
       "      <td>18-29</td>\n",
       "      <td>0 - 24.999</td>\n",
       "      <td>Юго-Западный центральный</td>\n",
       "      <td>NaN</td>\n",
       "      <td>NaN</td>\n",
       "    </tr>\n",
       "    <tr>\n",
       "      <th>2</th>\n",
       "      <td>3292765271</td>\n",
       "      <td>да</td>\n",
       "      <td>нет</td>\n",
       "      <td>М</td>\n",
       "      <td>18-29</td>\n",
       "      <td>0 - 24.999</td>\n",
       "      <td>Северо-Западный центральный</td>\n",
       "      <td>не знаю такого персонажа</td>\n",
       "      <td>нравится</td>\n",
       "    </tr>\n",
       "    <tr>\n",
       "      <th>3</th>\n",
       "      <td>3292763116</td>\n",
       "      <td>да</td>\n",
       "      <td>да</td>\n",
       "      <td>М</td>\n",
       "      <td>18-29</td>\n",
       "      <td>100.000 - 149.999</td>\n",
       "      <td>Северо-Западный центральный</td>\n",
       "      <td>очень нравится</td>\n",
       "      <td>очень нравится</td>\n",
       "    </tr>\n",
       "    <tr>\n",
       "      <th>4</th>\n",
       "      <td>3292731220</td>\n",
       "      <td>да</td>\n",
       "      <td>да</td>\n",
       "      <td>М</td>\n",
       "      <td>18-29</td>\n",
       "      <td>100.000 - 149.999</td>\n",
       "      <td>Северо-Западный центральный</td>\n",
       "      <td>нравится</td>\n",
       "      <td>нравится</td>\n",
       "    </tr>\n",
       "    <tr>\n",
       "      <th>...</th>\n",
       "      <td>...</td>\n",
       "      <td>...</td>\n",
       "      <td>...</td>\n",
       "      <td>...</td>\n",
       "      <td>...</td>\n",
       "      <td>...</td>\n",
       "      <td>...</td>\n",
       "      <td>...</td>\n",
       "      <td>...</td>\n",
       "    </tr>\n",
       "    <tr>\n",
       "      <th>1181</th>\n",
       "      <td>3288388730</td>\n",
       "      <td>да</td>\n",
       "      <td>да</td>\n",
       "      <td>Ж</td>\n",
       "      <td>18-29</td>\n",
       "      <td>0 - 24.999</td>\n",
       "      <td>Северо-Восточный центральный</td>\n",
       "      <td>очень нравится</td>\n",
       "      <td>нравится</td>\n",
       "    </tr>\n",
       "    <tr>\n",
       "      <th>1182</th>\n",
       "      <td>3288378779</td>\n",
       "      <td>да</td>\n",
       "      <td>да</td>\n",
       "      <td>Ж</td>\n",
       "      <td>30-44</td>\n",
       "      <td>50.000 - 99.999</td>\n",
       "      <td>Горный</td>\n",
       "      <td>очень нравится</td>\n",
       "      <td>очень нравится</td>\n",
       "    </tr>\n",
       "    <tr>\n",
       "      <th>1183</th>\n",
       "      <td>3288375286</td>\n",
       "      <td>нет</td>\n",
       "      <td>NaN</td>\n",
       "      <td>Ж</td>\n",
       "      <td>30-44</td>\n",
       "      <td>50.000 - 99.999</td>\n",
       "      <td>Средне-Атлантический</td>\n",
       "      <td>NaN</td>\n",
       "      <td>NaN</td>\n",
       "    </tr>\n",
       "    <tr>\n",
       "      <th>1184</th>\n",
       "      <td>3288373068</td>\n",
       "      <td>да</td>\n",
       "      <td>да</td>\n",
       "      <td>Ж</td>\n",
       "      <td>45-60</td>\n",
       "      <td>100.000 - 149.999</td>\n",
       "      <td>Северо-Восточный центральный</td>\n",
       "      <td>очень нравится</td>\n",
       "      <td>очень нравится</td>\n",
       "    </tr>\n",
       "    <tr>\n",
       "      <th>1185</th>\n",
       "      <td>3288372923</td>\n",
       "      <td>да</td>\n",
       "      <td>нет</td>\n",
       "      <td>Ж</td>\n",
       "      <td>&gt; 60</td>\n",
       "      <td>50.000 - 99.999</td>\n",
       "      <td>Тихоокеанский</td>\n",
       "      <td>очень не нравится</td>\n",
       "      <td>очень нравится</td>\n",
       "    </tr>\n",
       "  </tbody>\n",
       "</table>\n",
       "<p>1186 rows × 9 columns</p>\n",
       "</div>"
      ],
      "text/plain": [
       "      respondentID seen  fan gender age_group             income  \\\n",
       "0       3292879998   да   да      М     18-29                NaN   \n",
       "1       3292879538  нет  NaN      М     18-29         0 - 24.999   \n",
       "2       3292765271   да  нет      М     18-29         0 - 24.999   \n",
       "3       3292763116   да   да      М     18-29  100.000 - 149.999   \n",
       "4       3292731220   да   да      М     18-29  100.000 - 149.999   \n",
       "...            ...  ...  ...    ...       ...                ...   \n",
       "1181    3288388730   да   да      Ж     18-29         0 - 24.999   \n",
       "1182    3288378779   да   да      Ж     30-44    50.000 - 99.999   \n",
       "1183    3288375286  нет  NaN      Ж     30-44    50.000 - 99.999   \n",
       "1184    3288373068   да   да      Ж     45-60  100.000 - 149.999   \n",
       "1185    3288372923   да  нет      Ж      > 60    50.000 - 99.999   \n",
       "\n",
       "                               loc                      yoda  \\\n",
       "0               Южно-Атлантический            очень нравится   \n",
       "1         Юго-Западный центральный                       NaN   \n",
       "2      Северо-Западный центральный  не знаю такого персонажа   \n",
       "3      Северо-Западный центральный            очень нравится   \n",
       "4      Северо-Западный центральный                  нравится   \n",
       "...                            ...                       ...   \n",
       "1181  Северо-Восточный центральный            очень нравится   \n",
       "1182                        Горный            очень нравится   \n",
       "1183          Средне-Атлантический                       NaN   \n",
       "1184  Северо-Восточный центральный            очень нравится   \n",
       "1185                 Тихоокеанский         очень не нравится   \n",
       "\n",
       "     princess_leia_organa  \n",
       "0          очень нравится  \n",
       "1                     NaN  \n",
       "2                нравится  \n",
       "3          очень нравится  \n",
       "4                нравится  \n",
       "...                   ...  \n",
       "1181             нравится  \n",
       "1182       очень нравится  \n",
       "1183                  NaN  \n",
       "1184       очень нравится  \n",
       "1185       очень нравится  \n",
       "\n",
       "[1186 rows x 9 columns]"
      ]
     },
     "execution_count": 3,
     "metadata": {},
     "output_type": "execute_result"
    }
   ],
   "source": [
    "star = pd.read_csv('StarWars.csv', sep = ';')\n",
    "star"
   ]
  },
  {
   "cell_type": "code",
   "execution_count": 12,
   "id": "89a78d3c",
   "metadata": {},
   "outputs": [
    {
     "data": {
      "text/html": [
       "<div>\n",
       "<style scoped>\n",
       "    .dataframe tbody tr th:only-of-type {\n",
       "        vertical-align: middle;\n",
       "    }\n",
       "\n",
       "    .dataframe tbody tr th {\n",
       "        vertical-align: top;\n",
       "    }\n",
       "\n",
       "    .dataframe thead th {\n",
       "        text-align: right;\n",
       "    }\n",
       "</style>\n",
       "<table border=\"1\" class=\"dataframe\">\n",
       "  <thead>\n",
       "    <tr style=\"text-align: right;\">\n",
       "      <th></th>\n",
       "      <th>respondentID</th>\n",
       "      <th>seen</th>\n",
       "      <th>fan</th>\n",
       "      <th>gender</th>\n",
       "      <th>age_group</th>\n",
       "      <th>income</th>\n",
       "      <th>loc</th>\n",
       "      <th>yoda</th>\n",
       "      <th>princess_leia_organa</th>\n",
       "    </tr>\n",
       "  </thead>\n",
       "  <tbody>\n",
       "    <tr>\n",
       "      <th>10</th>\n",
       "      <td>3292637870</td>\n",
       "      <td>да</td>\n",
       "      <td>NaN</td>\n",
       "      <td>NaN</td>\n",
       "      <td>NaN</td>\n",
       "      <td>NaN</td>\n",
       "      <td>NaN</td>\n",
       "      <td>NaN</td>\n",
       "      <td>NaN</td>\n",
       "    </tr>\n",
       "    <tr>\n",
       "      <th>11</th>\n",
       "      <td>3292635062</td>\n",
       "      <td>нет</td>\n",
       "      <td>NaN</td>\n",
       "      <td>NaN</td>\n",
       "      <td>NaN</td>\n",
       "      <td>NaN</td>\n",
       "      <td>NaN</td>\n",
       "      <td>NaN</td>\n",
       "      <td>NaN</td>\n",
       "    </tr>\n",
       "    <tr>\n",
       "      <th>12</th>\n",
       "      <td>3292609214</td>\n",
       "      <td>да</td>\n",
       "      <td>нет</td>\n",
       "      <td>М</td>\n",
       "      <td>18-29</td>\n",
       "      <td>25.000 - 49.999</td>\n",
       "      <td>Южно-Атлантический</td>\n",
       "      <td>очень нравится</td>\n",
       "      <td>нравится</td>\n",
       "    </tr>\n",
       "    <tr>\n",
       "      <th>13</th>\n",
       "      <td>3292596911</td>\n",
       "      <td>да</td>\n",
       "      <td>да</td>\n",
       "      <td>М</td>\n",
       "      <td>30-44</td>\n",
       "      <td>50.000 - 99.999</td>\n",
       "      <td>Горный</td>\n",
       "      <td>очень нравится</td>\n",
       "      <td>очень нравится</td>\n",
       "    </tr>\n",
       "    <tr>\n",
       "      <th>14</th>\n",
       "      <td>3292587240</td>\n",
       "      <td>да</td>\n",
       "      <td>да</td>\n",
       "      <td>М</td>\n",
       "      <td>18-29</td>\n",
       "      <td>NaN</td>\n",
       "      <td>Северо-Восточный центральный</td>\n",
       "      <td>очень нравится</td>\n",
       "      <td>очень нравится</td>\n",
       "    </tr>\n",
       "    <tr>\n",
       "      <th>15</th>\n",
       "      <td>3292583038</td>\n",
       "      <td>да</td>\n",
       "      <td>да</td>\n",
       "      <td>М</td>\n",
       "      <td>18-29</td>\n",
       "      <td>0 - 24.999</td>\n",
       "      <td>Юго-Западный центральный</td>\n",
       "      <td>нравится</td>\n",
       "      <td>нравится</td>\n",
       "    </tr>\n",
       "    <tr>\n",
       "      <th>16</th>\n",
       "      <td>3292580516</td>\n",
       "      <td>да</td>\n",
       "      <td>да</td>\n",
       "      <td>М</td>\n",
       "      <td>18-29</td>\n",
       "      <td>50.000 - 99.999</td>\n",
       "      <td>Новая Англия</td>\n",
       "      <td>очень не нравится</td>\n",
       "      <td>не нравится</td>\n",
       "    </tr>\n",
       "    <tr>\n",
       "      <th>17</th>\n",
       "      <td>3292572872</td>\n",
       "      <td>да</td>\n",
       "      <td>да</td>\n",
       "      <td>М</td>\n",
       "      <td>18-29</td>\n",
       "      <td>NaN</td>\n",
       "      <td>Средне-Атлантический</td>\n",
       "      <td>очень нравится</td>\n",
       "      <td>очень нравится</td>\n",
       "    </tr>\n",
       "    <tr>\n",
       "      <th>18</th>\n",
       "      <td>3292565282</td>\n",
       "      <td>да</td>\n",
       "      <td>да</td>\n",
       "      <td>М</td>\n",
       "      <td>18-29</td>\n",
       "      <td>NaN</td>\n",
       "      <td>Южно-Атлантический</td>\n",
       "      <td>очень нравится</td>\n",
       "      <td>очень нравится</td>\n",
       "    </tr>\n",
       "    <tr>\n",
       "      <th>19</th>\n",
       "      <td>3292562297</td>\n",
       "      <td>да</td>\n",
       "      <td>да</td>\n",
       "      <td>М</td>\n",
       "      <td>18-29</td>\n",
       "      <td>50.000 - 99.999</td>\n",
       "      <td>Северо-Западный центральный</td>\n",
       "      <td>очень нравится</td>\n",
       "      <td>очень нравится</td>\n",
       "    </tr>\n",
       "    <tr>\n",
       "      <th>20</th>\n",
       "      <td>3292522349</td>\n",
       "      <td>да</td>\n",
       "      <td>да</td>\n",
       "      <td>М</td>\n",
       "      <td>18-29</td>\n",
       "      <td>NaN</td>\n",
       "      <td>Тихоокеанский</td>\n",
       "      <td>очень нравится</td>\n",
       "      <td>нравится</td>\n",
       "    </tr>\n",
       "  </tbody>\n",
       "</table>\n",
       "</div>"
      ],
      "text/plain": [
       "    respondentID seen  fan gender age_group           income  \\\n",
       "10    3292637870   да  NaN    NaN       NaN              NaN   \n",
       "11    3292635062  нет  NaN    NaN       NaN              NaN   \n",
       "12    3292609214   да  нет      М     18-29  25.000 - 49.999   \n",
       "13    3292596911   да   да      М     30-44  50.000 - 99.999   \n",
       "14    3292587240   да   да      М     18-29              NaN   \n",
       "15    3292583038   да   да      М     18-29       0 - 24.999   \n",
       "16    3292580516   да   да      М     18-29  50.000 - 99.999   \n",
       "17    3292572872   да   да      М     18-29              NaN   \n",
       "18    3292565282   да   да      М     18-29              NaN   \n",
       "19    3292562297   да   да      М     18-29  50.000 - 99.999   \n",
       "20    3292522349   да   да      М     18-29              NaN   \n",
       "\n",
       "                             loc               yoda princess_leia_organa  \n",
       "10                           NaN                NaN                  NaN  \n",
       "11                           NaN                NaN                  NaN  \n",
       "12            Южно-Атлантический     очень нравится             нравится  \n",
       "13                        Горный     очень нравится       очень нравится  \n",
       "14  Северо-Восточный центральный     очень нравится       очень нравится  \n",
       "15      Юго-Западный центральный           нравится             нравится  \n",
       "16                  Новая Англия  очень не нравится          не нравится  \n",
       "17          Средне-Атлантический     очень нравится       очень нравится  \n",
       "18            Южно-Атлантический     очень нравится       очень нравится  \n",
       "19   Северо-Западный центральный     очень нравится       очень нравится  \n",
       "20                 Тихоокеанский     очень нравится             нравится  "
      ]
     },
     "execution_count": 12,
     "metadata": {},
     "output_type": "execute_result"
    }
   ],
   "source": [
    "star.loc[10:20]"
   ]
  },
  {
   "cell_type": "code",
   "execution_count": 20,
   "id": "1cb2ca57",
   "metadata": {},
   "outputs": [
    {
     "data": {
      "text/plain": [
       "(79, 9)"
      ]
     },
     "execution_count": 20,
     "metadata": {},
     "output_type": "execute_result"
    }
   ],
   "source": [
    "star[star['loc'] == 'Горный'].shape"
   ]
  },
  {
   "cell_type": "code",
   "execution_count": 17,
   "id": "cc55c779",
   "metadata": {},
   "outputs": [
    {
     "data": {
      "text/plain": [
       "(170, 9)"
      ]
     },
     "execution_count": 17,
     "metadata": {},
     "output_type": "execute_result"
    }
   ],
   "source": [
    "star[star['loc'] == 'Южно-Атлантический'].shape"
   ]
  },
  {
   "cell_type": "code",
   "execution_count": 21,
   "id": "a6fff031",
   "metadata": {},
   "outputs": [
    {
     "data": {
      "text/plain": [
       "(38, 9)"
      ]
     },
     "execution_count": 21,
     "metadata": {},
     "output_type": "execute_result"
    }
   ],
   "source": [
    "star[star['loc'] == 'Юго-Восточный центральный'].shape"
   ]
  },
  {
   "cell_type": "code",
   "execution_count": 22,
   "id": "0d3774a5",
   "metadata": {},
   "outputs": [
    {
     "data": {
      "text/plain": [
       "(175, 9)"
      ]
     },
     "execution_count": 22,
     "metadata": {},
     "output_type": "execute_result"
    }
   ],
   "source": [
    "star[star['loc'] == 'Тихоокеанский'].shape"
   ]
  },
  {
   "cell_type": "code",
   "execution_count": 23,
   "id": "c7a447ab",
   "metadata": {},
   "outputs": [
    {
     "data": {
      "text/plain": [
       "(122, 9)"
      ]
     },
     "execution_count": 23,
     "metadata": {},
     "output_type": "execute_result"
    }
   ],
   "source": [
    "star[star['loc'] == 'Средне-Атлантический'].shape"
   ]
  },
  {
   "cell_type": "code",
   "execution_count": 24,
   "id": "f62ad32f",
   "metadata": {},
   "outputs": [
    {
     "data": {
      "text/plain": [
       "(181, 9)"
      ]
     },
     "execution_count": 24,
     "metadata": {},
     "output_type": "execute_result"
    }
   ],
   "source": [
    "star[star['loc'] == 'Северо-Восточный центральный'].shape"
   ]
  },
  {
   "cell_type": "code",
   "execution_count": 25,
   "id": "820888e2",
   "metadata": {},
   "outputs": [
    {
     "data": {
      "text/plain": [
       "(19, 9)"
      ]
     },
     "execution_count": 25,
     "metadata": {},
     "output_type": "execute_result"
    }
   ],
   "source": [
    "star[(star['age_group'] == '18-29') & (star['fan'] == 'нет') & (star['loc'] == 'Тихоокеанский')].shape"
   ]
  },
  {
   "cell_type": "code",
   "execution_count": 52,
   "id": "07e0dd97",
   "metadata": {},
   "outputs": [
    {
     "data": {
      "text/plain": [
       "(360, 9)"
      ]
     },
     "execution_count": 52,
     "metadata": {},
     "output_type": "execute_result"
    }
   ],
   "source": [
    "star[star['yoda'].isna()].shape"
   ]
  },
  {
   "cell_type": "code",
   "execution_count": 33,
   "id": "f3e8e85f",
   "metadata": {},
   "outputs": [
    {
     "data": {
      "text/plain": [
       "(39, 9)"
      ]
     },
     "execution_count": 33,
     "metadata": {},
     "output_type": "execute_result"
    }
   ],
   "source": [
    "star[(star['princess_leia_organa'] == 'очень нравится') & (star['loc'] == 'Новая Англия')].shape"
   ]
  },
  {
   "cell_type": "code",
   "execution_count": 36,
   "id": "a5bced83",
   "metadata": {},
   "outputs": [
    {
     "data": {
      "text/plain": [
       "(0, 9)"
      ]
     },
     "execution_count": 36,
     "metadata": {},
     "output_type": "execute_result"
    }
   ],
   "source": [
    "star[(star['seen'] == 'нет') & (star['fan'] == 'да')].shape"
   ]
  },
  {
   "cell_type": "code",
   "execution_count": 40,
   "id": "54b379b1",
   "metadata": {},
   "outputs": [
    {
     "data": {
      "text/html": [
       "<div>\n",
       "<style scoped>\n",
       "    .dataframe tbody tr th:only-of-type {\n",
       "        vertical-align: middle;\n",
       "    }\n",
       "\n",
       "    .dataframe tbody tr th {\n",
       "        vertical-align: top;\n",
       "    }\n",
       "\n",
       "    .dataframe thead th {\n",
       "        text-align: right;\n",
       "    }\n",
       "</style>\n",
       "<table border=\"1\" class=\"dataframe\">\n",
       "  <thead>\n",
       "    <tr style=\"text-align: right;\">\n",
       "      <th></th>\n",
       "      <th>respondentID</th>\n",
       "      <th>seen</th>\n",
       "      <th>fan</th>\n",
       "      <th>gender</th>\n",
       "      <th>age_group</th>\n",
       "      <th>income</th>\n",
       "      <th>loc</th>\n",
       "      <th>yoda</th>\n",
       "      <th>princess_leia_organa</th>\n",
       "    </tr>\n",
       "  </thead>\n",
       "  <tbody>\n",
       "    <tr>\n",
       "      <th>169</th>\n",
       "      <td>3291077381</td>\n",
       "      <td>да</td>\n",
       "      <td>нет</td>\n",
       "      <td>М</td>\n",
       "      <td>45-60</td>\n",
       "      <td>150.000+</td>\n",
       "      <td>Горный</td>\n",
       "      <td>нравится</td>\n",
       "      <td>отношусь нейтрально</td>\n",
       "    </tr>\n",
       "    <tr>\n",
       "      <th>340</th>\n",
       "      <td>3290740448</td>\n",
       "      <td>да</td>\n",
       "      <td>да</td>\n",
       "      <td>Ж</td>\n",
       "      <td>45-60</td>\n",
       "      <td>150.000+</td>\n",
       "      <td>Горный</td>\n",
       "      <td>очень нравится</td>\n",
       "      <td>очень нравится</td>\n",
       "    </tr>\n",
       "    <tr>\n",
       "      <th>545</th>\n",
       "      <td>3290292697</td>\n",
       "      <td>да</td>\n",
       "      <td>да</td>\n",
       "      <td>Ж</td>\n",
       "      <td>45-60</td>\n",
       "      <td>150.000+</td>\n",
       "      <td>Горный</td>\n",
       "      <td>очень нравится</td>\n",
       "      <td>очень нравится</td>\n",
       "    </tr>\n",
       "    <tr>\n",
       "      <th>671</th>\n",
       "      <td>3289963393</td>\n",
       "      <td>да</td>\n",
       "      <td>да</td>\n",
       "      <td>Ж</td>\n",
       "      <td>&gt; 60</td>\n",
       "      <td>150.000+</td>\n",
       "      <td>Горный</td>\n",
       "      <td>очень нравится</td>\n",
       "      <td>очень нравится</td>\n",
       "    </tr>\n",
       "    <tr>\n",
       "      <th>737</th>\n",
       "      <td>3289831274</td>\n",
       "      <td>нет</td>\n",
       "      <td>NaN</td>\n",
       "      <td>Ж</td>\n",
       "      <td>&gt; 60</td>\n",
       "      <td>150.000+</td>\n",
       "      <td>Горный</td>\n",
       "      <td>NaN</td>\n",
       "      <td>NaN</td>\n",
       "    </tr>\n",
       "  </tbody>\n",
       "</table>\n",
       "</div>"
      ],
      "text/plain": [
       "     respondentID seen  fan gender age_group    income     loc  \\\n",
       "169    3291077381   да  нет      М     45-60  150.000+  Горный   \n",
       "340    3290740448   да   да      Ж     45-60  150.000+  Горный   \n",
       "545    3290292697   да   да      Ж     45-60  150.000+  Горный   \n",
       "671    3289963393   да   да      Ж      > 60  150.000+  Горный   \n",
       "737    3289831274  нет  NaN      Ж      > 60  150.000+  Горный   \n",
       "\n",
       "               yoda princess_leia_organa  \n",
       "169        нравится  отношусь нейтрально  \n",
       "340  очень нравится       очень нравится  \n",
       "545  очень нравится       очень нравится  \n",
       "671  очень нравится       очень нравится  \n",
       "737             NaN                  NaN  "
      ]
     },
     "execution_count": 40,
     "metadata": {},
     "output_type": "execute_result"
    }
   ],
   "source": [
    "star[(star['loc'] == 'Горный') & (star['income'] == '150.000+')]"
   ]
  },
  {
   "cell_type": "code",
   "execution_count": 42,
   "id": "5a5ee0d0",
   "metadata": {},
   "outputs": [
    {
     "data": {
      "text/plain": [
       "(154, 9)"
      ]
     },
     "execution_count": 42,
     "metadata": {},
     "output_type": "execute_result"
    }
   ],
   "source": [
    "star[(star['age_group'] == '45-60') & (star['fan'] == 'да')].shape"
   ]
  },
  {
   "cell_type": "code",
   "execution_count": 43,
   "id": "7d2d36e8",
   "metadata": {},
   "outputs": [
    {
     "data": {
      "text/plain": [
       "(56, 9)"
      ]
     },
     "execution_count": 43,
     "metadata": {},
     "output_type": "execute_result"
    }
   ],
   "source": [
    "star[(star['age_group'] == '18-29') & (star['fan'] == 'нет')].shape"
   ]
  },
  {
   "cell_type": "code",
   "execution_count": 50,
   "id": "aa728472",
   "metadata": {},
   "outputs": [
    {
     "data": {
      "text/plain": [
       "9"
      ]
     },
     "execution_count": 50,
     "metadata": {},
     "output_type": "execute_result"
    }
   ],
   "source": [
    "star[(star['fan'] == 'да') & (star['loc'] == 'Новая Англия') & (star['income'] == '0 - 24.999')].shape[0]"
   ]
  },
  {
   "cell_type": "code",
   "execution_count": 48,
   "id": "246229c6",
   "metadata": {},
   "outputs": [
    {
     "data": {
      "text/html": [
       "<div>\n",
       "<style scoped>\n",
       "    .dataframe tbody tr th:only-of-type {\n",
       "        vertical-align: middle;\n",
       "    }\n",
       "\n",
       "    .dataframe tbody tr th {\n",
       "        vertical-align: top;\n",
       "    }\n",
       "\n",
       "    .dataframe thead th {\n",
       "        text-align: right;\n",
       "    }\n",
       "</style>\n",
       "<table border=\"1\" class=\"dataframe\">\n",
       "  <thead>\n",
       "    <tr style=\"text-align: right;\">\n",
       "      <th></th>\n",
       "      <th>respondentID</th>\n",
       "      <th>seen</th>\n",
       "      <th>fan</th>\n",
       "      <th>gender</th>\n",
       "      <th>age_group</th>\n",
       "      <th>income</th>\n",
       "      <th>loc</th>\n",
       "      <th>yoda</th>\n",
       "      <th>princess_leia_organa</th>\n",
       "    </tr>\n",
       "  </thead>\n",
       "  <tbody>\n",
       "    <tr>\n",
       "      <th>0</th>\n",
       "      <td>3292879998</td>\n",
       "      <td>да</td>\n",
       "      <td>да</td>\n",
       "      <td>М</td>\n",
       "      <td>18-29</td>\n",
       "      <td>NaN</td>\n",
       "      <td>Южно-Атлантический</td>\n",
       "      <td>очень нравится</td>\n",
       "      <td>очень нравится</td>\n",
       "    </tr>\n",
       "    <tr>\n",
       "      <th>1</th>\n",
       "      <td>3292879538</td>\n",
       "      <td>нет</td>\n",
       "      <td>NaN</td>\n",
       "      <td>М</td>\n",
       "      <td>18-29</td>\n",
       "      <td>0 - 24.999</td>\n",
       "      <td>Юго-Западный центральный</td>\n",
       "      <td>NaN</td>\n",
       "      <td>NaN</td>\n",
       "    </tr>\n",
       "    <tr>\n",
       "      <th>2</th>\n",
       "      <td>3292765271</td>\n",
       "      <td>да</td>\n",
       "      <td>нет</td>\n",
       "      <td>М</td>\n",
       "      <td>18-29</td>\n",
       "      <td>0 - 24.999</td>\n",
       "      <td>Северо-Западный центральный</td>\n",
       "      <td>не знаю такого персонажа</td>\n",
       "      <td>нравится</td>\n",
       "    </tr>\n",
       "    <tr>\n",
       "      <th>3</th>\n",
       "      <td>3292763116</td>\n",
       "      <td>да</td>\n",
       "      <td>да</td>\n",
       "      <td>М</td>\n",
       "      <td>18-29</td>\n",
       "      <td>100.000 - 149.999</td>\n",
       "      <td>Северо-Западный центральный</td>\n",
       "      <td>очень нравится</td>\n",
       "      <td>очень нравится</td>\n",
       "    </tr>\n",
       "    <tr>\n",
       "      <th>4</th>\n",
       "      <td>3292731220</td>\n",
       "      <td>да</td>\n",
       "      <td>да</td>\n",
       "      <td>М</td>\n",
       "      <td>18-29</td>\n",
       "      <td>100.000 - 149.999</td>\n",
       "      <td>Северо-Западный центральный</td>\n",
       "      <td>нравится</td>\n",
       "      <td>нравится</td>\n",
       "    </tr>\n",
       "    <tr>\n",
       "      <th>...</th>\n",
       "      <td>...</td>\n",
       "      <td>...</td>\n",
       "      <td>...</td>\n",
       "      <td>...</td>\n",
       "      <td>...</td>\n",
       "      <td>...</td>\n",
       "      <td>...</td>\n",
       "      <td>...</td>\n",
       "      <td>...</td>\n",
       "    </tr>\n",
       "    <tr>\n",
       "      <th>1181</th>\n",
       "      <td>3288388730</td>\n",
       "      <td>да</td>\n",
       "      <td>да</td>\n",
       "      <td>Ж</td>\n",
       "      <td>18-29</td>\n",
       "      <td>0 - 24.999</td>\n",
       "      <td>Северо-Восточный центральный</td>\n",
       "      <td>очень нравится</td>\n",
       "      <td>нравится</td>\n",
       "    </tr>\n",
       "    <tr>\n",
       "      <th>1182</th>\n",
       "      <td>3288378779</td>\n",
       "      <td>да</td>\n",
       "      <td>да</td>\n",
       "      <td>Ж</td>\n",
       "      <td>30-44</td>\n",
       "      <td>50.000 - 99.999</td>\n",
       "      <td>Горный</td>\n",
       "      <td>очень нравится</td>\n",
       "      <td>очень нравится</td>\n",
       "    </tr>\n",
       "    <tr>\n",
       "      <th>1183</th>\n",
       "      <td>3288375286</td>\n",
       "      <td>нет</td>\n",
       "      <td>NaN</td>\n",
       "      <td>Ж</td>\n",
       "      <td>30-44</td>\n",
       "      <td>50.000 - 99.999</td>\n",
       "      <td>Средне-Атлантический</td>\n",
       "      <td>NaN</td>\n",
       "      <td>NaN</td>\n",
       "    </tr>\n",
       "    <tr>\n",
       "      <th>1184</th>\n",
       "      <td>3288373068</td>\n",
       "      <td>да</td>\n",
       "      <td>да</td>\n",
       "      <td>Ж</td>\n",
       "      <td>45-60</td>\n",
       "      <td>100.000 - 149.999</td>\n",
       "      <td>Северо-Восточный центральный</td>\n",
       "      <td>очень нравится</td>\n",
       "      <td>очень нравится</td>\n",
       "    </tr>\n",
       "    <tr>\n",
       "      <th>1185</th>\n",
       "      <td>3288372923</td>\n",
       "      <td>да</td>\n",
       "      <td>нет</td>\n",
       "      <td>Ж</td>\n",
       "      <td>&gt; 60</td>\n",
       "      <td>50.000 - 99.999</td>\n",
       "      <td>Тихоокеанский</td>\n",
       "      <td>очень не нравится</td>\n",
       "      <td>очень нравится</td>\n",
       "    </tr>\n",
       "  </tbody>\n",
       "</table>\n",
       "<p>1186 rows × 9 columns</p>\n",
       "</div>"
      ],
      "text/plain": [
       "      respondentID seen  fan gender age_group             income  \\\n",
       "0       3292879998   да   да      М     18-29                NaN   \n",
       "1       3292879538  нет  NaN      М     18-29         0 - 24.999   \n",
       "2       3292765271   да  нет      М     18-29         0 - 24.999   \n",
       "3       3292763116   да   да      М     18-29  100.000 - 149.999   \n",
       "4       3292731220   да   да      М     18-29  100.000 - 149.999   \n",
       "...            ...  ...  ...    ...       ...                ...   \n",
       "1181    3288388730   да   да      Ж     18-29         0 - 24.999   \n",
       "1182    3288378779   да   да      Ж     30-44    50.000 - 99.999   \n",
       "1183    3288375286  нет  NaN      Ж     30-44    50.000 - 99.999   \n",
       "1184    3288373068   да   да      Ж     45-60  100.000 - 149.999   \n",
       "1185    3288372923   да  нет      Ж      > 60    50.000 - 99.999   \n",
       "\n",
       "                               loc                      yoda  \\\n",
       "0               Южно-Атлантический            очень нравится   \n",
       "1         Юго-Западный центральный                       NaN   \n",
       "2      Северо-Западный центральный  не знаю такого персонажа   \n",
       "3      Северо-Западный центральный            очень нравится   \n",
       "4      Северо-Западный центральный                  нравится   \n",
       "...                            ...                       ...   \n",
       "1181  Северо-Восточный центральный            очень нравится   \n",
       "1182                        Горный            очень нравится   \n",
       "1183          Средне-Атлантический                       NaN   \n",
       "1184  Северо-Восточный центральный            очень нравится   \n",
       "1185                 Тихоокеанский         очень не нравится   \n",
       "\n",
       "     princess_leia_organa  \n",
       "0          очень нравится  \n",
       "1                     NaN  \n",
       "2                нравится  \n",
       "3          очень нравится  \n",
       "4                нравится  \n",
       "...                   ...  \n",
       "1181             нравится  \n",
       "1182       очень нравится  \n",
       "1183                  NaN  \n",
       "1184       очень нравится  \n",
       "1185       очень нравится  \n",
       "\n",
       "[1186 rows x 9 columns]"
      ]
     },
     "execution_count": 48,
     "metadata": {},
     "output_type": "execute_result"
    }
   ],
   "source": [
    "star"
   ]
  },
  {
   "cell_type": "code",
   "execution_count": 54,
   "id": "85b2c9dc",
   "metadata": {},
   "outputs": [
    {
     "data": {
      "text/plain": [
       "(0, 9)"
      ]
     },
     "execution_count": 54,
     "metadata": {},
     "output_type": "execute_result"
    }
   ],
   "source": [
    "star[(star['seen'].isna()) & (star['fan'].isna())].shape\n"
   ]
  },
  {
   "cell_type": "code",
   "execution_count": 56,
   "id": "a0407149",
   "metadata": {},
   "outputs": [
    {
     "data": {
      "text/plain": [
       "(9, 9)"
      ]
     },
     "execution_count": 56,
     "metadata": {},
     "output_type": "execute_result"
    }
   ],
   "source": [
    "star[(star['fan'] == 'да') & (star['loc'] == 'Новая Англия') & (star['income'] == '0 - 24.999')].shape"
   ]
  }
 ],
 "metadata": {
  "kernelspec": {
   "display_name": "Python 3 (ipykernel)",
   "language": "python",
   "name": "python3"
  },
  "language_info": {
   "codemirror_mode": {
    "name": "ipython",
    "version": 3
   },
   "file_extension": ".py",
   "mimetype": "text/x-python",
   "name": "python",
   "nbconvert_exporter": "python",
   "pygments_lexer": "ipython3",
   "version": "3.12.6"
  }
 },
 "nbformat": 4,
 "nbformat_minor": 5
}
