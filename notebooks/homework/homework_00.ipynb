{
 "cells": [
  {
   "cell_type": "code",
   "execution_count": 2,
   "id": "61446402-f105-47c7-96d9-7ecc7f45577d",
   "metadata": {},
   "outputs": [],
   "source": [
    "import pandas as pd\n",
    "import numpy as np"
   ]
  },
  {
   "cell_type": "code",
   "execution_count": 8,
   "id": "f64fe7a6-5228-4783-a644-cd8177db4945",
   "metadata": {},
   "outputs": [
    {
     "data": {
      "text/html": [
       "<div>\n",
       "<style scoped>\n",
       "    .dataframe tbody tr th:only-of-type {\n",
       "        vertical-align: middle;\n",
       "    }\n",
       "\n",
       "    .dataframe tbody tr th {\n",
       "        vertical-align: top;\n",
       "    }\n",
       "\n",
       "    .dataframe thead th {\n",
       "        text-align: right;\n",
       "    }\n",
       "</style>\n",
       "<table border=\"1\" class=\"dataframe\">\n",
       "  <thead>\n",
       "    <tr style=\"text-align: right;\">\n",
       "      <th></th>\n",
       "      <th>title</th>\n",
       "      <th>authors</th>\n",
       "      <th>average_rating</th>\n",
       "      <th>language_code</th>\n",
       "      <th>num_pages</th>\n",
       "      <th>ratings_count</th>\n",
       "      <th>text_reviews_count</th>\n",
       "      <th>publication_date</th>\n",
       "      <th>publisher</th>\n",
       "      <th>title_ser</th>\n",
       "      <th>num_in_ser</th>\n",
       "    </tr>\n",
       "  </thead>\n",
       "  <tbody>\n",
       "    <tr>\n",
       "      <th>0</th>\n",
       "      <td>Harry Potter and the Half-Blood Prince</td>\n",
       "      <td>J.K. Rowling/Mary GrandPré</td>\n",
       "      <td>4.57</td>\n",
       "      <td>eng</td>\n",
       "      <td>652.0</td>\n",
       "      <td>2095690</td>\n",
       "      <td>27591</td>\n",
       "      <td>9/16/2006</td>\n",
       "      <td>Scholastic Inc.</td>\n",
       "      <td>Harry Potter</td>\n",
       "      <td>6</td>\n",
       "    </tr>\n",
       "    <tr>\n",
       "      <th>1</th>\n",
       "      <td>Harry Potter and the Order of the Phoenix</td>\n",
       "      <td>J.K. Rowling/Mary GrandPré</td>\n",
       "      <td>4.49</td>\n",
       "      <td>eng</td>\n",
       "      <td>870.0</td>\n",
       "      <td>2153167</td>\n",
       "      <td>29221</td>\n",
       "      <td>9/1/2004</td>\n",
       "      <td>Scholastic Inc.</td>\n",
       "      <td>Harry Potter</td>\n",
       "      <td>5</td>\n",
       "    </tr>\n",
       "    <tr>\n",
       "      <th>2</th>\n",
       "      <td>Harry Potter and the Chamber of Secrets</td>\n",
       "      <td>J.K. Rowling</td>\n",
       "      <td>4.42</td>\n",
       "      <td>eng</td>\n",
       "      <td>352.0</td>\n",
       "      <td>6333</td>\n",
       "      <td>244</td>\n",
       "      <td>11/1/2003</td>\n",
       "      <td>Scholastic</td>\n",
       "      <td>Harry Potter</td>\n",
       "      <td>2</td>\n",
       "    </tr>\n",
       "    <tr>\n",
       "      <th>3</th>\n",
       "      <td>Harry Potter and the Prisoner of Azkaban</td>\n",
       "      <td>J.K. Rowling/Mary GrandPré</td>\n",
       "      <td>4.56</td>\n",
       "      <td>eng</td>\n",
       "      <td>435.0</td>\n",
       "      <td>2339585</td>\n",
       "      <td>36325</td>\n",
       "      <td>5/1/2004</td>\n",
       "      <td>Scholastic Inc.</td>\n",
       "      <td>Harry Potter</td>\n",
       "      <td>3</td>\n",
       "    </tr>\n",
       "    <tr>\n",
       "      <th>4</th>\n",
       "      <td>Unauthorized Harry Potter Book Seven News: \"Ha...</td>\n",
       "      <td>W. Frederick Zimmerman</td>\n",
       "      <td>3.74</td>\n",
       "      <td>other</td>\n",
       "      <td>152.0</td>\n",
       "      <td>19</td>\n",
       "      <td>1</td>\n",
       "      <td>4/26/2005</td>\n",
       "      <td>Nimble Books</td>\n",
       "      <td>-</td>\n",
       "      <td>0</td>\n",
       "    </tr>\n",
       "  </tbody>\n",
       "</table>\n",
       "</div>"
      ],
      "text/plain": [
       "                                               title  \\\n",
       "0             Harry Potter and the Half-Blood Prince   \n",
       "1          Harry Potter and the Order of the Phoenix   \n",
       "2            Harry Potter and the Chamber of Secrets   \n",
       "3           Harry Potter and the Prisoner of Azkaban   \n",
       "4  Unauthorized Harry Potter Book Seven News: \"Ha...   \n",
       "\n",
       "                      authors  average_rating language_code  num_pages  \\\n",
       "0  J.K. Rowling/Mary GrandPré            4.57           eng      652.0   \n",
       "1  J.K. Rowling/Mary GrandPré            4.49           eng      870.0   \n",
       "2                J.K. Rowling            4.42           eng      352.0   \n",
       "3  J.K. Rowling/Mary GrandPré            4.56           eng      435.0   \n",
       "4      W. Frederick Zimmerman            3.74         other      152.0   \n",
       "\n",
       "   ratings_count  text_reviews_count publication_date        publisher  \\\n",
       "0        2095690               27591        9/16/2006  Scholastic Inc.   \n",
       "1        2153167               29221         9/1/2004  Scholastic Inc.   \n",
       "2           6333                 244        11/1/2003       Scholastic   \n",
       "3        2339585               36325         5/1/2004  Scholastic Inc.   \n",
       "4             19                   1        4/26/2005     Nimble Books   \n",
       "\n",
       "      title_ser  num_in_ser  \n",
       "0  Harry Potter           6  \n",
       "1  Harry Potter           5  \n",
       "2  Harry Potter           2  \n",
       "3  Harry Potter           3  \n",
       "4             -           0  "
      ]
     },
     "execution_count": 8,
     "metadata": {},
     "output_type": "execute_result"
    }
   ],
   "source": [
    "books = pd.read_csv(\"books.csv\")\n",
    "books.head()\n",
    "\n",
    "\n",
    "book = 'books.csv'\n",
    "books = pd.read_csv(book, index_col='Unnamed: 0', on_bad_lines='skip')\n",
    "books.head()\n"
   ]
  },
  {
   "cell_type": "code",
   "execution_count": 15,
   "id": "c8acfba2-d160-4d41-8131-5bc9b5f2f08a",
   "metadata": {},
   "outputs": [
    {
     "name": "stdout",
     "output_type": "stream",
     "text": [
      "<class 'pandas.core.frame.DataFrame'>\n",
      "Index: 10063 entries, 0 to 10062\n",
      "Data columns (total 11 columns):\n",
      " #   Column              Non-Null Count  Dtype  \n",
      "---  ------              --------------  -----  \n",
      " 0   title               10063 non-null  object \n",
      " 1   authors             10063 non-null  object \n",
      " 2   average_rating      8591 non-null   float64\n",
      " 3   language_code       10063 non-null  object \n",
      " 4   num_pages           8379 non-null   float64\n",
      " 5   ratings_count       10063 non-null  int64  \n",
      " 6   text_reviews_count  10063 non-null  int64  \n",
      " 7   publication_date    10063 non-null  object \n",
      " 8   publisher           9508 non-null   object \n",
      " 9   title_ser           10063 non-null  object \n",
      " 10  num_in_ser          10063 non-null  int64  \n",
      "dtypes: float64(2), int64(3), object(6)\n",
      "memory usage: 943.4+ KB\n"
     ]
    }
   ],
   "source": [
    "books.info()"
   ]
  },
  {
   "cell_type": "code",
   "execution_count": 16,
   "id": "63d9249b-f1b0-4d39-96df-26eb3a34aed9",
   "metadata": {},
   "outputs": [
    {
     "data": {
      "text/plain": [
       "(10063, 11)"
      ]
     },
     "execution_count": 16,
     "metadata": {},
     "output_type": "execute_result"
    }
   ],
   "source": [
    "books.shape"
   ]
  },
  {
   "cell_type": "code",
   "execution_count": 11,
   "id": "286c8690-55f0-49e2-844e-d54a64b9a5c7",
   "metadata": {},
   "outputs": [
    {
     "data": {
      "text/plain": [
       "Index(['title', 'authors', 'average_rating', 'language_code', 'num_pages',\n",
       "       'ratings_count', 'text_reviews_count', 'publication_date', 'publisher',\n",
       "       'title_ser', 'num_in_ser'],\n",
       "      dtype='object')"
      ]
     },
     "execution_count": 11,
     "metadata": {},
     "output_type": "execute_result"
    }
   ],
   "source": [
    "books.columns"
   ]
  },
  {
   "cell_type": "code",
   "execution_count": 12,
   "id": "8f3f08d0-599b-4d97-93a8-093a6846e1f4",
   "metadata": {},
   "outputs": [
    {
     "data": {
      "text/html": [
       "<div>\n",
       "<style scoped>\n",
       "    .dataframe tbody tr th:only-of-type {\n",
       "        vertical-align: middle;\n",
       "    }\n",
       "\n",
       "    .dataframe tbody tr th {\n",
       "        vertical-align: top;\n",
       "    }\n",
       "\n",
       "    .dataframe thead th {\n",
       "        text-align: right;\n",
       "    }\n",
       "</style>\n",
       "<table border=\"1\" class=\"dataframe\">\n",
       "  <thead>\n",
       "    <tr style=\"text-align: right;\">\n",
       "      <th></th>\n",
       "      <th>authors</th>\n",
       "      <th>language_code</th>\n",
       "      <th>publication_date</th>\n",
       "    </tr>\n",
       "  </thead>\n",
       "  <tbody>\n",
       "    <tr>\n",
       "      <th>0</th>\n",
       "      <td>J.K. Rowling/Mary GrandPré</td>\n",
       "      <td>eng</td>\n",
       "      <td>9/16/2006</td>\n",
       "    </tr>\n",
       "    <tr>\n",
       "      <th>1</th>\n",
       "      <td>J.K. Rowling/Mary GrandPré</td>\n",
       "      <td>eng</td>\n",
       "      <td>9/1/2004</td>\n",
       "    </tr>\n",
       "    <tr>\n",
       "      <th>2</th>\n",
       "      <td>J.K. Rowling</td>\n",
       "      <td>eng</td>\n",
       "      <td>11/1/2003</td>\n",
       "    </tr>\n",
       "    <tr>\n",
       "      <th>3</th>\n",
       "      <td>J.K. Rowling/Mary GrandPré</td>\n",
       "      <td>eng</td>\n",
       "      <td>5/1/2004</td>\n",
       "    </tr>\n",
       "    <tr>\n",
       "      <th>4</th>\n",
       "      <td>W. Frederick Zimmerman</td>\n",
       "      <td>other</td>\n",
       "      <td>4/26/2005</td>\n",
       "    </tr>\n",
       "    <tr>\n",
       "      <th>...</th>\n",
       "      <td>...</td>\n",
       "      <td>...</td>\n",
       "      <td>...</td>\n",
       "    </tr>\n",
       "    <tr>\n",
       "      <th>10058</th>\n",
       "      <td>William T. Vollmann/Larry McCaffery/Michael He...</td>\n",
       "      <td>eng</td>\n",
       "      <td>12/21/2004</td>\n",
       "    </tr>\n",
       "    <tr>\n",
       "      <th>10059</th>\n",
       "      <td>William T. Vollmann</td>\n",
       "      <td>eng</td>\n",
       "      <td>12/1/1988</td>\n",
       "    </tr>\n",
       "    <tr>\n",
       "      <th>10060</th>\n",
       "      <td>William T. Vollmann</td>\n",
       "      <td>eng</td>\n",
       "      <td>8/1/1993</td>\n",
       "    </tr>\n",
       "    <tr>\n",
       "      <th>10061</th>\n",
       "      <td>William T. Vollmann</td>\n",
       "      <td>eng</td>\n",
       "      <td>2/27/2007</td>\n",
       "    </tr>\n",
       "    <tr>\n",
       "      <th>10062</th>\n",
       "      <td>Mark Twain</td>\n",
       "      <td>other</td>\n",
       "      <td>5/28/2006</td>\n",
       "    </tr>\n",
       "  </tbody>\n",
       "</table>\n",
       "<p>10063 rows × 3 columns</p>\n",
       "</div>"
      ],
      "text/plain": [
       "                                                 authors language_code  \\\n",
       "0                             J.K. Rowling/Mary GrandPré           eng   \n",
       "1                             J.K. Rowling/Mary GrandPré           eng   \n",
       "2                                           J.K. Rowling           eng   \n",
       "3                             J.K. Rowling/Mary GrandPré           eng   \n",
       "4                                 W. Frederick Zimmerman         other   \n",
       "...                                                  ...           ...   \n",
       "10058  William T. Vollmann/Larry McCaffery/Michael He...           eng   \n",
       "10059                                William T. Vollmann           eng   \n",
       "10060                                William T. Vollmann           eng   \n",
       "10061                                William T. Vollmann           eng   \n",
       "10062                                         Mark Twain         other   \n",
       "\n",
       "      publication_date  \n",
       "0            9/16/2006  \n",
       "1             9/1/2004  \n",
       "2            11/1/2003  \n",
       "3             5/1/2004  \n",
       "4            4/26/2005  \n",
       "...                ...  \n",
       "10058       12/21/2004  \n",
       "10059        12/1/1988  \n",
       "10060         8/1/1993  \n",
       "10061        2/27/2007  \n",
       "10062        5/28/2006  \n",
       "\n",
       "[10063 rows x 3 columns]"
      ]
     },
     "execution_count": 12,
     "metadata": {},
     "output_type": "execute_result"
    }
   ],
   "source": [
    "books[[\"authors\", \"language_code\", \"publication_date\"]]"
   ]
  },
  {
   "cell_type": "code",
   "execution_count": 14,
   "id": "19c89e75-1167-489c-8187-9b3e2fd83610",
   "metadata": {},
   "outputs": [
    {
     "data": {
      "text/plain": [
       "0    27591\n",
       "1    29221\n",
       "2      244\n",
       "3    36325\n",
       "4        1\n",
       "Name: text_reviews_count, dtype: int64"
      ]
     },
     "execution_count": 14,
     "metadata": {},
     "output_type": "execute_result"
    }
   ],
   "source": [
    "books[\"text_reviews_count\"].head()"
   ]
  },
  {
   "cell_type": "code",
   "execution_count": 18,
   "id": "2160efcd-c55b-4ec8-9b08-6423260f9d93",
   "metadata": {},
   "outputs": [
    {
     "name": "stdout",
     "output_type": "stream",
     "text": [
      "<class 'pandas.core.frame.DataFrame'>\n",
      "Index: 10063 entries, 0 to 10062\n",
      "Data columns (total 11 columns):\n",
      " #   Column              Non-Null Count  Dtype  \n",
      "---  ------              --------------  -----  \n",
      " 0   title               10063 non-null  object \n",
      " 1   authors             10063 non-null  object \n",
      " 2   average_rating      8591 non-null   float64\n",
      " 3   language_code       10063 non-null  object \n",
      " 4   num_pages           8379 non-null   float64\n",
      " 5   ratings_count       10063 non-null  int64  \n",
      " 6   text_reviews_count  10063 non-null  int64  \n",
      " 7   publication_date    10063 non-null  object \n",
      " 8   publisher           9508 non-null   object \n",
      " 9   title_ser           10063 non-null  object \n",
      " 10  num_in_ser          10063 non-null  int64  \n",
      "dtypes: float64(2), int64(3), object(6)\n",
      "memory usage: 943.4+ KB\n"
     ]
    }
   ],
   "source": [
    "books.info()"
   ]
  },
  {
   "cell_type": "code",
   "execution_count": 19,
   "id": "68d46609-ca08-48e9-9758-48206611e282",
   "metadata": {},
   "outputs": [
    {
     "data": {
      "text/plain": [
       "Index(['title', 'authors', 'average_rating', 'language_code', 'num_pages',\n",
       "       'ratings_count', 'text_reviews_count', 'publication_date', 'publisher',\n",
       "       'title_ser', 'num_in_ser'],\n",
       "      dtype='object')"
      ]
     },
     "execution_count": 19,
     "metadata": {},
     "output_type": "execute_result"
    }
   ],
   "source": [
    "books.columns"
   ]
  }
 ],
 "metadata": {
  "kernelspec": {
   "display_name": "Python 3 (ipykernel)",
   "language": "python",
   "name": "python3"
  },
  "language_info": {
   "codemirror_mode": {
    "name": "ipython",
    "version": 3
   },
   "file_extension": ".py",
   "mimetype": "text/x-python",
   "name": "python",
   "nbconvert_exporter": "python",
   "pygments_lexer": "ipython3",
   "version": "3.12.6"
  }
 },
 "nbformat": 4,
 "nbformat_minor": 5
}
