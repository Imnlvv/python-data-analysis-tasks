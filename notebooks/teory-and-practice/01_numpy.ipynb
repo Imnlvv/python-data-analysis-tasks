{
 "cells": [
  {
   "cell_type": "markdown",
   "id": "e3f06fb8",
   "metadata": {},
   "source": [
    "# Введение в NumPy"
   ]
  },
  {
   "cell_type": "markdown",
   "id": "0dcde861",
   "metadata": {},
   "source": [
    "### Массивы NumPy"
   ]
  },
  {
   "cell_type": "markdown",
   "id": "a666bf41",
   "metadata": {},
   "source": [
    "1. Этот массив помагает выполнять поэлементные опперации\n",
    "   для разных видов списков и т.д\n",
    "   \n",
    "   \n",
    "\n",
    "2. Массив NumPy не может содержать в себе несколько типов\n",
    "   данных, поэтому превращает все в самый сильный тип\n",
    "   в данном словаре (строки, вещ.число, число, лог.выражения)"
   ]
  },
  {
   "cell_type": "code",
   "execution_count": 1,
   "id": "736a9ec0",
   "metadata": {},
   "outputs": [
    {
     "name": "stdout",
     "output_type": "stream",
     "text": [
      "[2, 4, 5, 10, 4, 2]\n"
     ]
    }
   ],
   "source": [
    "x = [2, 4, 5]\n",
    "y = [10, 4, 2]\n",
    "\n",
    "print(x + y)"
   ]
  },
  {
   "cell_type": "code",
   "execution_count": 2,
   "id": "425694c6",
   "metadata": {},
   "outputs": [
    {
     "name": "stdout",
     "output_type": "stream",
     "text": [
      "[2 4 5]\n",
      "[10  4  2]\n",
      "<class 'numpy.ndarray'>\n",
      "[12  8  7]\n",
      "[ 4  8 10]\n",
      "[  8  64 125]\n"
     ]
    }
   ],
   "source": [
    "import numpy as np\n",
    "\n",
    "x_np = np.array(x) # .array - вызов для мат фун-ций\n",
    "y_np = np.array(y)\n",
    "\n",
    "print(x_np)\n",
    "print(y_np)\n",
    "print(type(x_np)) # выполнение поэлементных операций\n",
    "print(x_np + y_np)\n",
    "print(x_np * 2)\n",
    "print(x_np ** 3)"
   ]
  },
  {
   "cell_type": "code",
   "execution_count": 3,
   "id": "7f526e32",
   "metadata": {},
   "outputs": [
    {
     "name": "stdout",
     "output_type": "stream",
     "text": [
      "['cat', 1, 8.2, False]\n",
      "['cat' '1' '8.2' 'False']\n",
      "8.2\n"
     ]
    },
    {
     "data": {
      "text/plain": [
       "numpy.str_"
      ]
     },
     "execution_count": 3,
     "metadata": {},
     "output_type": "execute_result"
    }
   ],
   "source": [
    "z = ['cat', 1, 8.2, False]\n",
    "print(z)\n",
    "\n",
    "z_np = np.array(z)\n",
    "print(z_np) # превратилось в строку, а потом по очереди важности\n",
    "\n",
    "print(z_np[2])\n",
    "type(z_np[2])"
   ]
  },
  {
   "cell_type": "code",
   "execution_count": 4,
   "id": "e935c040",
   "metadata": {},
   "outputs": [],
   "source": [
    "age = np.array([18, 20, 43, 23, 14, 52, 12])"
   ]
  },
  {
   "cell_type": "code",
   "execution_count": 5,
   "id": "f1c826c5",
   "metadata": {},
   "outputs": [
    {
     "name": "stdout",
     "output_type": "stream",
     "text": [
      "[ True  True  True  True False  True False]\n",
      "[False False  True False  True  True  True]\n"
     ]
    }
   ],
   "source": [
    "print(age >= 18)\n",
    "\n",
    "print((age < 18) | (age > 35)) # | - or"
   ]
  },
  {
   "cell_type": "code",
   "execution_count": 6,
   "id": "b2149b28",
   "metadata": {},
   "outputs": [
    {
     "data": {
      "text/plain": [
       "array([43, 14, 52, 12])"
      ]
     },
     "execution_count": 6,
     "metadata": {},
     "output_type": "execute_result"
    }
   ],
   "source": [
    "# фильтрация origin массива\n",
    "age[(age < 18) | (age > 35)]"
   ]
  },
  {
   "cell_type": "code",
   "execution_count": 7,
   "id": "4e33796a",
   "metadata": {},
   "outputs": [
    {
     "name": "stdout",
     "output_type": "stream",
     "text": [
      "[[ 2  5  6]\n",
      " [ 8 10  4]]\n"
     ]
    }
   ],
   "source": [
    "# многразмерные массивы - матрицы\n",
    "A = np.array([[2, 5, 6], [8, 10, 4]])\n",
    "print(A)"
   ]
  },
  {
   "cell_type": "code",
   "execution_count": 8,
   "id": "e6585435",
   "metadata": {},
   "outputs": [
    {
     "name": "stdout",
     "output_type": "stream",
     "text": [
      "(2, 3)\n",
      "2\n",
      "6\n"
     ]
    }
   ],
   "source": [
    "# shape - атрибут, размерность матрицы (ряд, колонка)\n",
    "# ndim - атрибут, кол-во измерений\n",
    "# size - атрибут, кол-во элементов в матрице\n",
    "\n",
    "print(A.shape)\n",
    "print(A.ndim)\n",
    "print(A.size)"
   ]
  },
  {
   "cell_type": "code",
   "execution_count": 9,
   "id": "b5573bcb",
   "metadata": {},
   "outputs": [
    {
     "name": "stdout",
     "output_type": "stream",
     "text": [
      "8\n",
      "8\n",
      "[8]\n"
     ]
    }
   ],
   "source": [
    "# обращение к значениям внутри массива\n",
    "\n",
    "print(A[1][0]) #1\n",
    "print(A[1,0]) #2\n",
    "print(A[1:,0]) # : - ряд, 0 - колонка"
   ]
  },
  {
   "cell_type": "markdown",
   "id": "2094a953",
   "metadata": {},
   "source": [
    "## Экперимент #1"
   ]
  },
  {
   "cell_type": "code",
   "execution_count": 13,
   "id": "a960aa4c",
   "metadata": {},
   "outputs": [
    {
     "name": "stdout",
     "output_type": "stream",
     "text": [
      "0.07662105560302734 сек\n"
     ]
    }
   ],
   "source": [
    "# засекаем время\n",
    "import time\n",
    "\n",
    "# задаем размер наших списков\n",
    "size = 1000000\n",
    "\n",
    "# объявляем списки\n",
    "list1 = range(size)\n",
    "list2 = range(size)\n",
    "\n",
    "# запоминаем временную метку\n",
    "initial_time = time.time()\n",
    "\n",
    "# перемножаем элементы списков\n",
    "result_list = [(a * b) for a,b in zip(list1, list2)]\n",
    "list_time = time.time() - initial_time\n",
    "\n",
    "# смотрим, сколько времени это заняло\n",
    "print(f'{list_time} сек')"
   ]
  },
  {
   "cell_type": "code",
   "execution_count": 15,
   "id": "362ba136",
   "metadata": {},
   "outputs": [
    {
     "name": "stdout",
     "output_type": "stream",
     "text": [
      "0.0052051544189453125 сек\n",
      "15 раз\n"
     ]
    }
   ],
   "source": [
    "# объявляем массивы numpy\n",
    "array1 = np.arange(size)\n",
    "array2 = np.arange(size)\n",
    "\n",
    "# запоминаем временную метку\n",
    "initial_time = time.time()\n",
    "\n",
    "# перемножаем массивы \n",
    "result_array = array1 * array2\n",
    "array_time = time.time() - initial_time\n",
    "\n",
    "# сколько времени заняло\n",
    "print(f'{array_time} сек')\n",
    "\n",
    "# разница с NumPy и без\n",
    "print(round(list_time/array_time),'раз')"
   ]
  },
  {
   "cell_type": "markdown",
   "id": "dae8d26f",
   "metadata": {},
   "source": [
    "## Экперимент #2"
   ]
  },
  {
   "cell_type": "code",
   "execution_count": 17,
   "id": "44ee7af9",
   "metadata": {},
   "outputs": [
    {
     "name": "stdout",
     "output_type": "stream",
     "text": [
      "0.010452032089233398\n",
      "0.00045490264892578125\n",
      "0.03573298454284668\n"
     ]
    }
   ],
   "source": [
    "size = 1000000\n",
    "list  = range(size)\n",
    "array1 = np.array(list1)\n",
    "\n",
    "# 1 - суммируем все элементы списка (phyton)\n",
    "initial_time = time.time()\n",
    "list_sum = sum(list1)\n",
    "sum1_time = time.time() - initial_time\n",
    "\n",
    "\n",
    "# 2 - суммируем все элементы массива (numpy)\n",
    "initial_time = time.time()\n",
    "array_sum = array1.sum()\n",
    "sum2_time = time.time() - initial_time\n",
    "\n",
    "\n",
    "# 3 - суммируем стандартной фун-ей Phyton массив NumPy\n",
    "initial_time = time.time()\n",
    "array2_sum = sum(array1)\n",
    "sum3_time = time.time() - initial_time\n",
    "\n",
    "# сумма элементов списка с фун-ей sum()\n",
    "print(sum1_time)\n",
    "# сумма элементов массива с нативным методом .sum()\n",
    "print(sum2_time)\n",
    "# сумма элементов списка с фун-ей .sum()\n",
    "print(sum3_time)"
   ]
  },
  {
   "cell_type": "code",
   "execution_count": 65,
   "id": "e2bf9b1e",
   "metadata": {},
   "outputs": [],
   "source": [
    "# мораль - использовать нативные методы, \n",
    "# созданные и предназначенные для использования\n",
    "# в этих специальных библиотеках"
   ]
  }
 ],
 "metadata": {
  "kernelspec": {
   "display_name": "Python 3 (ipykernel)",
   "language": "python",
   "name": "python3"
  },
  "language_info": {
   "codemirror_mode": {
    "name": "ipython",
    "version": 3
   },
   "file_extension": ".py",
   "mimetype": "text/x-python",
   "name": "python",
   "nbconvert_exporter": "python",
   "pygments_lexer": "ipython3",
   "version": "3.12.6"
  }
 },
 "nbformat": 4,
 "nbformat_minor": 5
}
