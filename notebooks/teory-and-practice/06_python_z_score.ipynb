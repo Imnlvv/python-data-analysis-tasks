{
 "cells": [
  {
   "cell_type": "markdown",
   "id": "e6e1e954-53a0-4c4e-afaf-ea0ed45a21f5",
   "metadata": {},
   "source": [
    "## Рассчет Z-оценки. Pandas"
   ]
  },
  {
   "cell_type": "code",
   "execution_count": 1,
   "id": "408dab39-331c-4bd0-bdd0-f52d2e66c4e9",
   "metadata": {},
   "outputs": [],
   "source": [
    "import pandas as pd\n",
    "import numpy as np\n",
    "import scipy.stats"
   ]
  },
  {
   "cell_type": "code",
   "execution_count": 2,
   "id": "d05d3939-841c-4e0c-a206-e17051677e8d",
   "metadata": {},
   "outputs": [
    {
     "data": {
      "text/html": [
       "<div>\n",
       "<style scoped>\n",
       "    .dataframe tbody tr th:only-of-type {\n",
       "        vertical-align: middle;\n",
       "    }\n",
       "\n",
       "    .dataframe tbody tr th {\n",
       "        vertical-align: top;\n",
       "    }\n",
       "\n",
       "    .dataframe thead th {\n",
       "        text-align: right;\n",
       "    }\n",
       "</style>\n",
       "<table border=\"1\" class=\"dataframe\">\n",
       "  <thead>\n",
       "    <tr style=\"text-align: right;\">\n",
       "      <th></th>\n",
       "      <th>Id</th>\n",
       "      <th>Exam</th>\n",
       "      <th>Score</th>\n",
       "      <th>Advanced</th>\n",
       "    </tr>\n",
       "  </thead>\n",
       "  <tbody>\n",
       "    <tr>\n",
       "      <th>0</th>\n",
       "      <td>ID1</td>\n",
       "      <td>TOEFL</td>\n",
       "      <td>77.0</td>\n",
       "      <td>NO</td>\n",
       "    </tr>\n",
       "    <tr>\n",
       "      <th>1</th>\n",
       "      <td>ID10</td>\n",
       "      <td>TOEFL</td>\n",
       "      <td>105.0</td>\n",
       "      <td>NO</td>\n",
       "    </tr>\n",
       "    <tr>\n",
       "      <th>2</th>\n",
       "      <td>ID100</td>\n",
       "      <td>TOEFL</td>\n",
       "      <td>107.0</td>\n",
       "      <td>YES</td>\n",
       "    </tr>\n",
       "    <tr>\n",
       "      <th>3</th>\n",
       "      <td>ID101</td>\n",
       "      <td>TOEFL</td>\n",
       "      <td>72.0</td>\n",
       "      <td>NO</td>\n",
       "    </tr>\n",
       "    <tr>\n",
       "      <th>4</th>\n",
       "      <td>ID102</td>\n",
       "      <td>TOEFL</td>\n",
       "      <td>120.0</td>\n",
       "      <td>YES</td>\n",
       "    </tr>\n",
       "  </tbody>\n",
       "</table>\n",
       "</div>"
      ],
      "text/plain": [
       "      Id   Exam  Score Advanced\n",
       "0    ID1  TOEFL   77.0       NO\n",
       "1   ID10  TOEFL  105.0       NO\n",
       "2  ID100  TOEFL  107.0      YES\n",
       "3  ID101  TOEFL   72.0       NO\n",
       "4  ID102  TOEFL  120.0      YES"
      ]
     },
     "execution_count": 2,
     "metadata": {},
     "output_type": "execute_result"
    }
   ],
   "source": [
    "eng = pd.read_csv('eng_test.csv', sep = ';')\n",
    "eng.head()"
   ]
  },
  {
   "cell_type": "code",
   "execution_count": 3,
   "id": "fdc6e6f2-e492-44d0-aa92-aaa90ba563a3",
   "metadata": {},
   "outputs": [
    {
     "data": {
      "text/plain": [
       "<Axes: >"
      ]
     },
     "execution_count": 3,
     "metadata": {},
     "output_type": "execute_result"
    },
    {
     "data": {
      "image/png": "[encoded data removed]",
      "text/plain": [
       "<Figure size 640x480 with 1 Axes>"
      ]
     },
     "metadata": {},
     "output_type": "display_data"
    }
   ],
   "source": [
    "eng['Score'].hist(bins = 100)"
   ]
  },
  {
   "cell_type": "code",
   "execution_count": 4,
   "id": "efb83627-0e86-46b2-9a4c-3f6cac684008",
   "metadata": {},
   "outputs": [
    {
     "data": {
      "text/plain": [
       "<Axes: >"
      ]
     },
     "execution_count": 4,
     "metadata": {},
     "output_type": "execute_result"
    },
    {
     "data": {
      "image/png": "[encoded data removed]",
      "text/plain": [
       "<Figure size 640x480 with 1 Axes>"
      ]
     },
     "metadata": {},
     "output_type": "display_data"
    }
   ],
   "source": [
    "toefl = eng[eng['Exam'] == 'TOEFL']\n",
    "toefl['Score'].hist()"
   ]
  },
  {
   "cell_type": "code",
   "execution_count": 5,
   "id": "c0c14f15-24e9-4788-9646-ad61575be41e",
   "metadata": {},
   "outputs": [
    {
     "data": {
      "text/plain": [
       "<Axes: >"
      ]
     },
     "execution_count": 5,
     "metadata": {},
     "output_type": "execute_result"
    },
    {
     "data": {
      "image/png": "[encoded data removed]",
      "text/plain": [
       "<Figure size 640x480 with 1 Axes>"
      ]
     },
     "metadata": {},
     "output_type": "display_data"
    }
   ],
   "source": [
    "ielts = eng[eng['Exam'] == 'IELTS']\n",
    "ielts['Score'].hist()"
   ]
  },
  {
   "cell_type": "markdown",
   "id": "65a91e10-1415-45c4-bf75-f21483454f4e",
   "metadata": {},
   "source": [
    "## Поиск Z-числа"
   ]
  },
  {
   "cell_type": "code",
   "execution_count": 6,
   "id": "7bbb1788-37d9-4878-af45-cfccb0fa9c4c",
   "metadata": {},
   "outputs": [
    {
     "name": "stdout",
     "output_type": "stream",
     "text": [
      "77.0 93.776 17.832044863110905\n"
     ]
    }
   ],
   "source": [
    "X = toefl['Score'][0] # общее число данных\n",
    "mean = toefl['Score'].mean() # среднее число\n",
    "std = toefl['Score'].std(ddof=0) # среднеквадратичное число\n",
    "print(X, mean, std)"
   ]
  },
  {
   "cell_type": "code",
   "execution_count": 7,
   "id": "f5476334-b7d5-4059-95aa-b61c324f4a50",
   "metadata": {},
   "outputs": [
    {
     "name": "stdout",
     "output_type": "stream",
     "text": [
      "-0.9407782522297515\n"
     ]
    }
   ],
   "source": [
    "z_score = (X - mean) / std\n",
    "print(z_score)"
   ]
  },
  {
   "cell_type": "markdown",
   "id": "d163861e-bb36-45a4-918b-11106d0483ec",
   "metadata": {},
   "source": [
    "## Поиск Z-числа. Обратный порядок."
   ]
  },
  {
   "cell_type": "code",
   "execution_count": 8,
   "id": "9cccbfe3-7357-49c8-9ab0-50613934b32b",
   "metadata": {},
   "outputs": [
    {
     "name": "stdout",
     "output_type": "stream",
     "text": [
      "120\n"
     ]
    }
   ],
   "source": [
    "z_new = 1.4706109\n",
    "X_new = mean + z_new * std\n",
    "print(round(X_new))"
   ]
  },
  {
   "cell_type": "markdown",
   "id": "ea936345-0ee5-4b80-b112-69ce4cab3a53",
   "metadata": {},
   "source": [
    "## Поиск Z-числа. С помощью функции."
   ]
  },
  {
   "cell_type": "code",
   "execution_count": 56,
   "id": "cb9a82ef-3d90-42bf-b934-59fd8c7cfebe",
   "metadata": {},
   "outputs": [],
   "source": [
    "toefl.loc[:,'z_score'] = scipy.stats.zscore(toefl['Score'])"
   ]
  },
  {
   "cell_type": "code",
   "execution_count": 57,
   "id": "4cb16870-e804-4dc3-b8d8-671103573062",
   "metadata": {},
   "outputs": [
    {
     "data": {
      "text/html": [
       "<div>\n",
       "<style scoped>\n",
       "    .dataframe tbody tr th:only-of-type {\n",
       "        vertical-align: middle;\n",
       "    }\n",
       "\n",
       "    .dataframe tbody tr th {\n",
       "        vertical-align: top;\n",
       "    }\n",
       "\n",
       "    .dataframe thead th {\n",
       "        text-align: right;\n",
       "    }\n",
       "</style>\n",
       "<table border=\"1\" class=\"dataframe\">\n",
       "  <thead>\n",
       "    <tr style=\"text-align: right;\">\n",
       "      <th></th>\n",
       "      <th>Id</th>\n",
       "      <th>Exam</th>\n",
       "      <th>Score</th>\n",
       "      <th>Advanced</th>\n",
       "      <th>z_score</th>\n",
       "    </tr>\n",
       "  </thead>\n",
       "  <tbody>\n",
       "    <tr>\n",
       "      <th>0</th>\n",
       "      <td>ID1</td>\n",
       "      <td>TOEFL</td>\n",
       "      <td>77.0</td>\n",
       "      <td>NO</td>\n",
       "      <td>-0.940778</td>\n",
       "    </tr>\n",
       "    <tr>\n",
       "      <th>1</th>\n",
       "      <td>ID10</td>\n",
       "      <td>TOEFL</td>\n",
       "      <td>105.0</td>\n",
       "      <td>NO</td>\n",
       "      <td>0.629429</td>\n",
       "    </tr>\n",
       "    <tr>\n",
       "      <th>2</th>\n",
       "      <td>ID100</td>\n",
       "      <td>TOEFL</td>\n",
       "      <td>107.0</td>\n",
       "      <td>YES</td>\n",
       "      <td>0.741586</td>\n",
       "    </tr>\n",
       "    <tr>\n",
       "      <th>3</th>\n",
       "      <td>ID101</td>\n",
       "      <td>TOEFL</td>\n",
       "      <td>72.0</td>\n",
       "      <td>NO</td>\n",
       "      <td>-1.221172</td>\n",
       "    </tr>\n",
       "    <tr>\n",
       "      <th>4</th>\n",
       "      <td>ID102</td>\n",
       "      <td>TOEFL</td>\n",
       "      <td>120.0</td>\n",
       "      <td>YES</td>\n",
       "      <td>1.470611</td>\n",
       "    </tr>\n",
       "  </tbody>\n",
       "</table>\n",
       "</div>"
      ],
      "text/plain": [
       "      Id   Exam  Score Advanced   z_score\n",
       "0    ID1  TOEFL   77.0       NO -0.940778\n",
       "1   ID10  TOEFL  105.0       NO  0.629429\n",
       "2  ID100  TOEFL  107.0      YES  0.741586\n",
       "3  ID101  TOEFL   72.0       NO -1.221172\n",
       "4  ID102  TOEFL  120.0      YES  1.470611"
      ]
     },
     "execution_count": 57,
     "metadata": {},
     "output_type": "execute_result"
    }
   ],
   "source": [
    "toefl.head()"
   ]
  },
  {
   "cell_type": "code",
   "execution_count": 58,
   "id": "50cfe222-acc8-467d-95b3-5347e8c2f4d5",
   "metadata": {},
   "outputs": [],
   "source": [
    "ielts.loc[:, 'z_score']= scipy.stats.zscore(ielts['Score'])"
   ]
  },
  {
   "cell_type": "code",
   "execution_count": 59,
   "id": "0a5a5995-1fcb-4ff1-a36d-e9f647501130",
   "metadata": {},
   "outputs": [
    {
     "data": {
      "text/html": [
       "<div>\n",
       "<style scoped>\n",
       "    .dataframe tbody tr th:only-of-type {\n",
       "        vertical-align: middle;\n",
       "    }\n",
       "\n",
       "    .dataframe tbody tr th {\n",
       "        vertical-align: top;\n",
       "    }\n",
       "\n",
       "    .dataframe thead th {\n",
       "        text-align: right;\n",
       "    }\n",
       "</style>\n",
       "<table border=\"1\" class=\"dataframe\">\n",
       "  <thead>\n",
       "    <tr style=\"text-align: right;\">\n",
       "      <th></th>\n",
       "      <th>Id</th>\n",
       "      <th>Exam</th>\n",
       "      <th>Score</th>\n",
       "      <th>Advanced</th>\n",
       "      <th>z_core</th>\n",
       "      <th>z_score</th>\n",
       "    </tr>\n",
       "  </thead>\n",
       "  <tbody>\n",
       "    <tr>\n",
       "      <th>30</th>\n",
       "      <td>ID126</td>\n",
       "      <td>IELTS</td>\n",
       "      <td>9.0</td>\n",
       "      <td>YES</td>\n",
       "      <td>1.639443</td>\n",
       "      <td>1.639443</td>\n",
       "    </tr>\n",
       "    <tr>\n",
       "      <th>31</th>\n",
       "      <td>ID127</td>\n",
       "      <td>IELTS</td>\n",
       "      <td>5.0</td>\n",
       "      <td>NO</td>\n",
       "      <td>-0.915088</td>\n",
       "      <td>-0.915088</td>\n",
       "    </tr>\n",
       "    <tr>\n",
       "      <th>32</th>\n",
       "      <td>ID128</td>\n",
       "      <td>IELTS</td>\n",
       "      <td>7.5</td>\n",
       "      <td>YES</td>\n",
       "      <td>0.681494</td>\n",
       "      <td>0.681494</td>\n",
       "    </tr>\n",
       "    <tr>\n",
       "      <th>33</th>\n",
       "      <td>ID129</td>\n",
       "      <td>IELTS</td>\n",
       "      <td>5.0</td>\n",
       "      <td>NO</td>\n",
       "      <td>-0.915088</td>\n",
       "      <td>-0.915088</td>\n",
       "    </tr>\n",
       "    <tr>\n",
       "      <th>35</th>\n",
       "      <td>ID130</td>\n",
       "      <td>IELTS</td>\n",
       "      <td>4.0</td>\n",
       "      <td>NO</td>\n",
       "      <td>-1.553720</td>\n",
       "      <td>-1.553720</td>\n",
       "    </tr>\n",
       "  </tbody>\n",
       "</table>\n",
       "</div>"
      ],
      "text/plain": [
       "       Id   Exam  Score Advanced    z_core   z_score\n",
       "30  ID126  IELTS    9.0      YES  1.639443  1.639443\n",
       "31  ID127  IELTS    5.0       NO -0.915088 -0.915088\n",
       "32  ID128  IELTS    7.5      YES  0.681494  0.681494\n",
       "33  ID129  IELTS    5.0       NO -0.915088 -0.915088\n",
       "35  ID130  IELTS    4.0       NO -1.553720 -1.553720"
      ]
     },
     "execution_count": 59,
     "metadata": {},
     "output_type": "execute_result"
    }
   ],
   "source": [
    "ielts.head()"
   ]
  },
  {
   "cell_type": "markdown",
   "id": "89f20517-ac02-4a72-b064-febdc75e86a0",
   "metadata": {},
   "source": [
    "## Обединение групп"
   ]
  },
  {
   "cell_type": "code",
   "execution_count": 60,
   "id": "025354c3-90e8-4274-9376-6c2cf5c1bae9",
   "metadata": {},
   "outputs": [
    {
     "data": {
      "text/html": [
       "<div>\n",
       "<style scoped>\n",
       "    .dataframe tbody tr th:only-of-type {\n",
       "        vertical-align: middle;\n",
       "    }\n",
       "\n",
       "    .dataframe tbody tr th {\n",
       "        vertical-align: top;\n",
       "    }\n",
       "\n",
       "    .dataframe thead th {\n",
       "        text-align: right;\n",
       "    }\n",
       "</style>\n",
       "<table border=\"1\" class=\"dataframe\">\n",
       "  <thead>\n",
       "    <tr style=\"text-align: right;\">\n",
       "      <th></th>\n",
       "      <th>Id</th>\n",
       "      <th>Exam</th>\n",
       "      <th>Score</th>\n",
       "      <th>Advanced</th>\n",
       "      <th>z_score</th>\n",
       "      <th>z_core</th>\n",
       "    </tr>\n",
       "  </thead>\n",
       "  <tbody>\n",
       "    <tr>\n",
       "      <th>0</th>\n",
       "      <td>ID1</td>\n",
       "      <td>TOEFL</td>\n",
       "      <td>77.0</td>\n",
       "      <td>NO</td>\n",
       "      <td>-0.940778</td>\n",
       "      <td>NaN</td>\n",
       "    </tr>\n",
       "    <tr>\n",
       "      <th>1</th>\n",
       "      <td>ID10</td>\n",
       "      <td>TOEFL</td>\n",
       "      <td>105.0</td>\n",
       "      <td>NO</td>\n",
       "      <td>0.629429</td>\n",
       "      <td>NaN</td>\n",
       "    </tr>\n",
       "    <tr>\n",
       "      <th>2</th>\n",
       "      <td>ID100</td>\n",
       "      <td>TOEFL</td>\n",
       "      <td>107.0</td>\n",
       "      <td>YES</td>\n",
       "      <td>0.741586</td>\n",
       "      <td>NaN</td>\n",
       "    </tr>\n",
       "    <tr>\n",
       "      <th>3</th>\n",
       "      <td>ID101</td>\n",
       "      <td>TOEFL</td>\n",
       "      <td>72.0</td>\n",
       "      <td>NO</td>\n",
       "      <td>-1.221172</td>\n",
       "      <td>NaN</td>\n",
       "    </tr>\n",
       "    <tr>\n",
       "      <th>4</th>\n",
       "      <td>ID102</td>\n",
       "      <td>TOEFL</td>\n",
       "      <td>120.0</td>\n",
       "      <td>YES</td>\n",
       "      <td>1.470611</td>\n",
       "      <td>NaN</td>\n",
       "    </tr>\n",
       "    <tr>\n",
       "      <th>...</th>\n",
       "      <td>...</td>\n",
       "      <td>...</td>\n",
       "      <td>...</td>\n",
       "      <td>...</td>\n",
       "      <td>...</td>\n",
       "      <td>...</td>\n",
       "    </tr>\n",
       "    <tr>\n",
       "      <th>190</th>\n",
       "      <td>ID270</td>\n",
       "      <td>IELTS</td>\n",
       "      <td>8.0</td>\n",
       "      <td>YES</td>\n",
       "      <td>1.000810</td>\n",
       "      <td>1.000810</td>\n",
       "    </tr>\n",
       "    <tr>\n",
       "      <th>191</th>\n",
       "      <td>ID271</td>\n",
       "      <td>IELTS</td>\n",
       "      <td>6.5</td>\n",
       "      <td>NO</td>\n",
       "      <td>0.042861</td>\n",
       "      <td>0.042861</td>\n",
       "    </tr>\n",
       "    <tr>\n",
       "      <th>192</th>\n",
       "      <td>ID272</td>\n",
       "      <td>IELTS</td>\n",
       "      <td>4.0</td>\n",
       "      <td>NO</td>\n",
       "      <td>-1.553720</td>\n",
       "      <td>-1.553720</td>\n",
       "    </tr>\n",
       "    <tr>\n",
       "      <th>193</th>\n",
       "      <td>ID273</td>\n",
       "      <td>IELTS</td>\n",
       "      <td>7.0</td>\n",
       "      <td>YES</td>\n",
       "      <td>0.362178</td>\n",
       "      <td>0.362178</td>\n",
       "    </tr>\n",
       "    <tr>\n",
       "      <th>194</th>\n",
       "      <td>ID274</td>\n",
       "      <td>IELTS</td>\n",
       "      <td>8.0</td>\n",
       "      <td>YES</td>\n",
       "      <td>1.000810</td>\n",
       "      <td>1.000810</td>\n",
       "    </tr>\n",
       "  </tbody>\n",
       "</table>\n",
       "<p>274 rows × 6 columns</p>\n",
       "</div>"
      ],
      "text/plain": [
       "        Id   Exam  Score Advanced   z_score    z_core\n",
       "0      ID1  TOEFL   77.0       NO -0.940778       NaN\n",
       "1     ID10  TOEFL  105.0       NO  0.629429       NaN\n",
       "2    ID100  TOEFL  107.0      YES  0.741586       NaN\n",
       "3    ID101  TOEFL   72.0       NO -1.221172       NaN\n",
       "4    ID102  TOEFL  120.0      YES  1.470611       NaN\n",
       "..     ...    ...    ...      ...       ...       ...\n",
       "190  ID270  IELTS    8.0      YES  1.000810  1.000810\n",
       "191  ID271  IELTS    6.5       NO  0.042861  0.042861\n",
       "192  ID272  IELTS    4.0       NO -1.553720 -1.553720\n",
       "193  ID273  IELTS    7.0      YES  0.362178  0.362178\n",
       "194  ID274  IELTS    8.0      YES  1.000810  1.000810\n",
       "\n",
       "[274 rows x 6 columns]"
      ]
     },
     "execution_count": 60,
     "metadata": {},
     "output_type": "execute_result"
    }
   ],
   "source": [
    "eng_new = pd.concat([toefl, ielts])\n",
    "eng_new"
   ]
  },
  {
   "cell_type": "code",
   "execution_count": 14,
   "id": "eb978bd5-0595-4a87-90a2-58529f74dc20",
   "metadata": {},
   "outputs": [
    {
     "data": {
      "text/plain": [
       "<Axes: >"
      ]
     },
     "execution_count": 14,
     "metadata": {},
     "output_type": "execute_result"
    },
    {
     "data": {
      "image/png": "[encoded data removed]",
      "text/plain": [
       "<Figure size 640x480 with 1 Axes>"
      ]
     },
     "metadata": {},
     "output_type": "display_data"
    }
   ],
   "source": [
    "eng_new['z_score'].hist()"
   ]
  },
  {
   "cell_type": "code",
   "execution_count": 15,
   "id": "8167ed10-8ff6-4407-a68c-1c962ea5b812",
   "metadata": {},
   "outputs": [
    {
     "data": {
      "text/html": [
       "<div>\n",
       "<style scoped>\n",
       "    .dataframe tbody tr th:only-of-type {\n",
       "        vertical-align: middle;\n",
       "    }\n",
       "\n",
       "    .dataframe tbody tr th {\n",
       "        vertical-align: top;\n",
       "    }\n",
       "\n",
       "    .dataframe thead th {\n",
       "        text-align: right;\n",
       "    }\n",
       "</style>\n",
       "<table border=\"1\" class=\"dataframe\">\n",
       "  <thead>\n",
       "    <tr style=\"text-align: right;\">\n",
       "      <th></th>\n",
       "      <th>Id</th>\n",
       "      <th>Exam</th>\n",
       "      <th>Score</th>\n",
       "      <th>Advanced</th>\n",
       "      <th>z_score</th>\n",
       "      <th>z_core</th>\n",
       "    </tr>\n",
       "  </thead>\n",
       "  <tbody>\n",
       "    <tr>\n",
       "      <th>25</th>\n",
       "      <td>ID121</td>\n",
       "      <td>TOEFL</td>\n",
       "      <td>32.0</td>\n",
       "      <td>NO</td>\n",
       "      <td>-3.464325</td>\n",
       "      <td>NaN</td>\n",
       "    </tr>\n",
       "    <tr>\n",
       "      <th>27</th>\n",
       "      <td>ID123</td>\n",
       "      <td>TOEFL</td>\n",
       "      <td>25.0</td>\n",
       "      <td>YES</td>\n",
       "      <td>-3.856877</td>\n",
       "      <td>NaN</td>\n",
       "    </tr>\n",
       "  </tbody>\n",
       "</table>\n",
       "</div>"
      ],
      "text/plain": [
       "       Id   Exam  Score Advanced   z_score  z_core\n",
       "25  ID121  TOEFL   32.0       NO -3.464325     NaN\n",
       "27  ID123  TOEFL   25.0      YES -3.856877     NaN"
      ]
     },
     "execution_count": 15,
     "metadata": {},
     "output_type": "execute_result"
    }
   ],
   "source": [
    "eng_new[eng_new['z_score'] < -3] # выборосы"
   ]
  },
  {
   "cell_type": "code",
   "execution_count": 16,
   "id": "1fb26986-ffa9-4aae-b774-7427ff773ce1",
   "metadata": {},
   "outputs": [
    {
     "data": {
      "text/plain": [
       "Advanced\n",
       "NO    -0.518538\n",
       "YES    0.357371\n",
       "Name: z_score, dtype: float64"
      ]
     },
     "execution_count": 16,
     "metadata": {},
     "output_type": "execute_result"
    }
   ],
   "source": [
    "eng_new.groupby('Advanced')['z_score'].mean()"
   ]
  },
  {
   "cell_type": "markdown",
   "id": "dca2a5c5-7d98-4796-af42-0ad86a2cce90",
   "metadata": {},
   "source": [
    "## Выбросы"
   ]
  },
  {
   "cell_type": "code",
   "execution_count": 18,
   "id": "51d17d06-274e-4a15-a4d5-b1e516b9132f",
   "metadata": {},
   "outputs": [
    {
     "data": {
      "text/html": [
       "<div>\n",
       "<style scoped>\n",
       "    .dataframe tbody tr th:only-of-type {\n",
       "        vertical-align: middle;\n",
       "    }\n",
       "\n",
       "    .dataframe tbody tr th {\n",
       "        vertical-align: top;\n",
       "    }\n",
       "\n",
       "    .dataframe thead th {\n",
       "        text-align: right;\n",
       "    }\n",
       "</style>\n",
       "<table border=\"1\" class=\"dataframe\">\n",
       "  <thead>\n",
       "    <tr style=\"text-align: right;\">\n",
       "      <th></th>\n",
       "      <th>Date</th>\n",
       "      <th>Hour</th>\n",
       "      <th>Temperature</th>\n",
       "      <th>Humidity</th>\n",
       "      <th>Wind speed</th>\n",
       "      <th>Rainfall</th>\n",
       "      <th>Snowfall</th>\n",
       "      <th>Seasons</th>\n",
       "      <th>Holiday</th>\n",
       "      <th>Functioning Day</th>\n",
       "      <th>Rental Count</th>\n",
       "      <th>Temperature Category</th>\n",
       "      <th>Good Weather</th>\n",
       "    </tr>\n",
       "  </thead>\n",
       "  <tbody>\n",
       "    <tr>\n",
       "      <th>0</th>\n",
       "      <td>2017-12-01</td>\n",
       "      <td>0</td>\n",
       "      <td>-5.2</td>\n",
       "      <td>0</td>\n",
       "      <td>2.2</td>\n",
       "      <td>0.0</td>\n",
       "      <td>0.0</td>\n",
       "      <td>Winter</td>\n",
       "      <td>0</td>\n",
       "      <td>True</td>\n",
       "      <td>257</td>\n",
       "      <td>Freesing</td>\n",
       "      <td>0</td>\n",
       "    </tr>\n",
       "    <tr>\n",
       "      <th>1</th>\n",
       "      <td>2017-12-01</td>\n",
       "      <td>1</td>\n",
       "      <td>-5.5</td>\n",
       "      <td>0</td>\n",
       "      <td>0.8</td>\n",
       "      <td>0.0</td>\n",
       "      <td>0.0</td>\n",
       "      <td>Winter</td>\n",
       "      <td>0</td>\n",
       "      <td>True</td>\n",
       "      <td>219</td>\n",
       "      <td>Freesing</td>\n",
       "      <td>0</td>\n",
       "    </tr>\n",
       "    <tr>\n",
       "      <th>2</th>\n",
       "      <td>2017-12-01</td>\n",
       "      <td>2</td>\n",
       "      <td>-6.0</td>\n",
       "      <td>0</td>\n",
       "      <td>1.0</td>\n",
       "      <td>0.0</td>\n",
       "      <td>0.0</td>\n",
       "      <td>Winter</td>\n",
       "      <td>0</td>\n",
       "      <td>True</td>\n",
       "      <td>162</td>\n",
       "      <td>Freesing</td>\n",
       "      <td>0</td>\n",
       "    </tr>\n",
       "    <tr>\n",
       "      <th>3</th>\n",
       "      <td>2017-12-01</td>\n",
       "      <td>3</td>\n",
       "      <td>-6.2</td>\n",
       "      <td>1</td>\n",
       "      <td>0.9</td>\n",
       "      <td>0.0</td>\n",
       "      <td>0.0</td>\n",
       "      <td>Winter</td>\n",
       "      <td>0</td>\n",
       "      <td>True</td>\n",
       "      <td>148</td>\n",
       "      <td>Freesing</td>\n",
       "      <td>0</td>\n",
       "    </tr>\n",
       "    <tr>\n",
       "      <th>4</th>\n",
       "      <td>2017-12-01</td>\n",
       "      <td>4</td>\n",
       "      <td>-6.0</td>\n",
       "      <td>0</td>\n",
       "      <td>2.3</td>\n",
       "      <td>0.0</td>\n",
       "      <td>0.0</td>\n",
       "      <td>Winter</td>\n",
       "      <td>0</td>\n",
       "      <td>True</td>\n",
       "      <td>97</td>\n",
       "      <td>Freesing</td>\n",
       "      <td>0</td>\n",
       "    </tr>\n",
       "  </tbody>\n",
       "</table>\n",
       "</div>"
      ],
      "text/plain": [
       "        Date  Hour  Temperature  Humidity  Wind speed  Rainfall  Snowfall  \\\n",
       "0 2017-12-01     0         -5.2         0         2.2       0.0       0.0   \n",
       "1 2017-12-01     1         -5.5         0         0.8       0.0       0.0   \n",
       "2 2017-12-01     2         -6.0         0         1.0       0.0       0.0   \n",
       "3 2017-12-01     3         -6.2         1         0.9       0.0       0.0   \n",
       "4 2017-12-01     4         -6.0         0         2.3       0.0       0.0   \n",
       "\n",
       "  Seasons  Holiday  Functioning Day  Rental Count Temperature Category  \\\n",
       "0  Winter        0             True           257             Freesing   \n",
       "1  Winter        0             True           219             Freesing   \n",
       "2  Winter        0             True           162             Freesing   \n",
       "3  Winter        0             True           148             Freesing   \n",
       "4  Winter        0             True            97             Freesing   \n",
       "\n",
       "   Good Weather  \n",
       "0             0  \n",
       "1             0  \n",
       "2             0  \n",
       "3             0  \n",
       "4             0  "
      ]
     },
     "execution_count": 18,
     "metadata": {},
     "output_type": "execute_result"
    }
   ],
   "source": [
    "bikes = pd.read_pickle('BikesDataVars.pkl')\n",
    "bikes.head()"
   ]
  },
  {
   "cell_type": "code",
   "execution_count": 19,
   "id": "23dfe5ea-c7cb-4c92-bc9b-c3696abd2108",
   "metadata": {},
   "outputs": [
    {
     "data": {
      "text/plain": [
       "count    8760.000000\n",
       "mean      696.582078\n",
       "std       749.812613\n",
       "min         0.000000\n",
       "25%       157.000000\n",
       "50%       425.500000\n",
       "75%      1009.000000\n",
       "max      6012.000000\n",
       "Name: Rental Count, dtype: float64"
      ]
     },
     "execution_count": 19,
     "metadata": {},
     "output_type": "execute_result"
    }
   ],
   "source": [
    "bikes['Rental Count'].describe()"
   ]
  },
  {
   "cell_type": "code",
   "execution_count": 20,
   "id": "7a2b393b-8ed1-4c61-863c-d21e4ef09b8a",
   "metadata": {},
   "outputs": [],
   "source": [
    "q3 = np.percentile(bikes['Rental Count'], 75)\n",
    "q1 = np.percentile(bikes['Rental Count'], 25)"
   ]
  },
  {
   "cell_type": "code",
   "execution_count": 21,
   "id": "038c7781-8637-418e-ae01-ae4ea6ae3713",
   "metadata": {},
   "outputs": [
    {
     "data": {
      "text/plain": [
       "(np.float64(1009.0), np.float64(157.0))"
      ]
     },
     "execution_count": 21,
     "metadata": {},
     "output_type": "execute_result"
    }
   ],
   "source": [
    "q3, q1"
   ]
  },
  {
   "cell_type": "code",
   "execution_count": 22,
   "id": "2861bfd0-d9db-4712-8d72-3138423118ae",
   "metadata": {},
   "outputs": [
    {
     "data": {
      "text/plain": [
       "np.float64(852.0)"
      ]
     },
     "execution_count": 22,
     "metadata": {},
     "output_type": "execute_result"
    }
   ],
   "source": [
    "iqr = q3 - q1\n",
    "iqr"
   ]
  },
  {
   "cell_type": "code",
   "execution_count": 23,
   "id": "1ad2a511-09f1-476a-91f1-aaa39e259bbe",
   "metadata": {},
   "outputs": [
    {
     "name": "stdout",
     "output_type": "stream",
     "text": [
      "-1121.0 2287.0\n"
     ]
    }
   ],
   "source": [
    "iqr_threshold_bottom = q1 - 1.5 * iqr # нижняя граница выбросов\n",
    "iqr_threshold_top = q3 + 1.5 * iqr # верхняя граница выбросов\n",
    "\n",
    "print(iqr_threshold_bottom, iqr_threshold_top)"
   ]
  },
  {
   "cell_type": "code",
   "execution_count": 24,
   "id": "a9ff872d-40d4-49ab-ba06-4f45ee05a262",
   "metadata": {},
   "outputs": [
    {
     "data": {
      "text/plain": [
       "(413, 13)"
      ]
     },
     "execution_count": 24,
     "metadata": {},
     "output_type": "execute_result"
    }
   ],
   "source": [
    "bikes[bikes['Rental Count'] > iqr_threshold_top].shape # кол-во наблюдений, которые считаются выбросами"
   ]
  },
  {
   "cell_type": "code",
   "execution_count": 25,
   "id": "7479ded8-f8d5-458d-808a-8e9fad16d48e",
   "metadata": {},
   "outputs": [
    {
     "data": {
      "text/plain": [
       "Hour\n",
       "18    95\n",
       "19    64\n",
       "17    51\n",
       "20    48\n",
       "21    39\n",
       "8     38\n",
       "16    23\n",
       "22    21\n",
       "15    10\n",
       "14     8\n",
       "13     7\n",
       "23     4\n",
       "7      4\n",
       "9      1\n",
       "Name: count, dtype: int64"
      ]
     },
     "execution_count": 25,
     "metadata": {},
     "output_type": "execute_result"
    }
   ],
   "source": [
    "bikes[bikes['Rental Count'] > iqr_threshold_top]['Hour'].value_counts()"
   ]
  },
  {
   "cell_type": "code",
   "execution_count": 26,
   "id": "8cf08807-929e-48ea-8243-c51973c8ffa3",
   "metadata": {},
   "outputs": [
    {
     "data": {
      "text/plain": [
       "Seasons\n",
       "Summer    196\n",
       "Autumn    116\n",
       "Spring    101\n",
       "Name: count, dtype: int64"
      ]
     },
     "execution_count": 26,
     "metadata": {},
     "output_type": "execute_result"
    }
   ],
   "source": [
    "bikes[bikes['Rental Count'] > iqr_threshold_top]['Seasons'].value_counts()"
   ]
  },
  {
   "cell_type": "code",
   "execution_count": 27,
   "id": "c70b737d-9cb0-4a7a-beee-dea8f8b5d005",
   "metadata": {},
   "outputs": [],
   "source": [
    "# Выбросы через стреднеквадратичное отклонение"
   ]
  },
  {
   "cell_type": "code",
   "execution_count": 28,
   "id": "f06ef8ec-03d8-4b04-b8f3-2907d91aa795",
   "metadata": {},
   "outputs": [],
   "source": [
    "# нужно : найти среднее, верхнюю и нижнюю границу (на 2 сркв откл больше и ниже)"
   ]
  },
  {
   "cell_type": "code",
   "execution_count": 29,
   "id": "c39e4c33-e144-4ffb-bcdb-87633c2dd9f5",
   "metadata": {},
   "outputs": [
    {
     "name": "stdout",
     "output_type": "stream",
     "text": [
      "-1177.949455164326 2571.113610415468\n"
     ]
    }
   ],
   "source": [
    "mean = bikes['Rental Count'].mean()\n",
    "std = bikes['Rental Count'].std()\n",
    "std_threshold_bottom = mean - 2.5 * std\n",
    "std_threshold_top = mean + 2.5 * std\n",
    "\n",
    "print(std_threshold_bottom, std_threshold_top)"
   ]
  },
  {
   "cell_type": "code",
   "execution_count": 30,
   "id": "cbc44887-66cb-4c2b-a39c-4f97b420d1c9",
   "metadata": {},
   "outputs": [
    {
     "data": {
      "text/plain": [
       "(278, 13)"
      ]
     },
     "execution_count": 30,
     "metadata": {},
     "output_type": "execute_result"
    }
   ],
   "source": [
    "bikes[bikes['Rental Count'] > std_threshold_top].shape"
   ]
  },
  {
   "cell_type": "code",
   "execution_count": 31,
   "id": "e4ebcc3f-9d00-45e9-9c60-90bca3de862a",
   "metadata": {},
   "outputs": [],
   "source": [
    "# отфильтруем наши значения и посмотрим на мцд той выборки, где нет выбросов и где есть (оригинальная)"
   ]
  },
  {
   "cell_type": "code",
   "execution_count": 32,
   "id": "23158fbf-9a5f-4673-8fd3-cb26663a722b",
   "metadata": {},
   "outputs": [],
   "source": [
    "# фильтрация без выбросов\n",
    "\n",
    "iqr_no_outliers = bikes[bikes['Rental Count'] <= iqr_threshold_top]\n",
    "std_no_outliers = bikes[bikes['Rental Count'] <= std_threshold_top]"
   ]
  },
  {
   "cell_type": "code",
   "execution_count": 33,
   "id": "cb3ca06a-8b37-448b-99b1-3126346e933a",
   "metadata": {},
   "outputs": [
    {
     "name": "stdout",
     "output_type": "stream",
     "text": [
      "696.5820776255708\n",
      "584.146280100635\n",
      "613.2393303466164\n"
     ]
    }
   ],
   "source": [
    "# среднее\n",
    "\n",
    "print(bikes['Rental Count'].mean()) # оригинал\n",
    "print(iqr_no_outliers['Rental Count'].mean()) \n",
    "print(std_no_outliers['Rental Count'].mean())"
   ]
  },
  {
   "cell_type": "code",
   "execution_count": 34,
   "id": "0da6dee3-5300-4cdb-b3fc-6139f075dd04",
   "metadata": {},
   "outputs": [
    {
     "name": "stdout",
     "output_type": "stream",
     "text": [
      "425.5\n",
      "392.0\n",
      "402.0\n"
     ]
    }
   ],
   "source": [
    "# медиана\n",
    "\n",
    "print(bikes['Rental Count'].median()) # оригинал\n",
    "print(iqr_no_outliers['Rental Count'].median()) \n",
    "print(std_no_outliers['Rental Count'].median())"
   ]
  },
  {
   "cell_type": "markdown",
   "id": "fd8954d4-92b8-4cff-8b88-7a2e35536ad2",
   "metadata": {},
   "source": [
    "## Работа с пропущенными значениями"
   ]
  },
  {
   "cell_type": "code",
   "execution_count": 35,
   "id": "739741b2-bcd3-45af-892a-614dcb667ea0",
   "metadata": {},
   "outputs": [
    {
     "data": {
      "text/html": [
       "<div>\n",
       "<style scoped>\n",
       "    .dataframe tbody tr th:only-of-type {\n",
       "        vertical-align: middle;\n",
       "    }\n",
       "\n",
       "    .dataframe tbody tr th {\n",
       "        vertical-align: top;\n",
       "    }\n",
       "\n",
       "    .dataframe thead th {\n",
       "        text-align: right;\n",
       "    }\n",
       "</style>\n",
       "<table border=\"1\" class=\"dataframe\">\n",
       "  <thead>\n",
       "    <tr style=\"text-align: right;\">\n",
       "      <th></th>\n",
       "      <th>Date</th>\n",
       "      <th>Hour</th>\n",
       "      <th>Temperature</th>\n",
       "      <th>Humidity</th>\n",
       "      <th>Wind speed</th>\n",
       "      <th>Rainfall</th>\n",
       "      <th>Snowfall</th>\n",
       "      <th>Seasons</th>\n",
       "      <th>Holiday</th>\n",
       "      <th>Functioning Day</th>\n",
       "      <th>Rental Count</th>\n",
       "      <th>Temperature Category</th>\n",
       "      <th>Good Weather</th>\n",
       "    </tr>\n",
       "  </thead>\n",
       "  <tbody>\n",
       "    <tr>\n",
       "      <th>0</th>\n",
       "      <td>2017-12-01</td>\n",
       "      <td>0</td>\n",
       "      <td>-5.2</td>\n",
       "      <td>0</td>\n",
       "      <td>2.2</td>\n",
       "      <td>0.0</td>\n",
       "      <td>0.0</td>\n",
       "      <td>Winter</td>\n",
       "      <td>0</td>\n",
       "      <td>True</td>\n",
       "      <td>257</td>\n",
       "      <td>Freesing</td>\n",
       "      <td>0</td>\n",
       "    </tr>\n",
       "    <tr>\n",
       "      <th>1</th>\n",
       "      <td>2017-12-01</td>\n",
       "      <td>1</td>\n",
       "      <td>-5.5</td>\n",
       "      <td>0</td>\n",
       "      <td>0.8</td>\n",
       "      <td>0.0</td>\n",
       "      <td>0.0</td>\n",
       "      <td>Winter</td>\n",
       "      <td>0</td>\n",
       "      <td>True</td>\n",
       "      <td>219</td>\n",
       "      <td>Freesing</td>\n",
       "      <td>0</td>\n",
       "    </tr>\n",
       "    <tr>\n",
       "      <th>2</th>\n",
       "      <td>2017-12-01</td>\n",
       "      <td>2</td>\n",
       "      <td>-6.0</td>\n",
       "      <td>0</td>\n",
       "      <td>1.0</td>\n",
       "      <td>0.0</td>\n",
       "      <td>0.0</td>\n",
       "      <td>Winter</td>\n",
       "      <td>0</td>\n",
       "      <td>True</td>\n",
       "      <td>162</td>\n",
       "      <td>Freesing</td>\n",
       "      <td>0</td>\n",
       "    </tr>\n",
       "    <tr>\n",
       "      <th>3</th>\n",
       "      <td>2017-12-01</td>\n",
       "      <td>3</td>\n",
       "      <td>-6.2</td>\n",
       "      <td>1</td>\n",
       "      <td>0.9</td>\n",
       "      <td>0.0</td>\n",
       "      <td>0.0</td>\n",
       "      <td>Winter</td>\n",
       "      <td>0</td>\n",
       "      <td>True</td>\n",
       "      <td>148</td>\n",
       "      <td>Freesing</td>\n",
       "      <td>0</td>\n",
       "    </tr>\n",
       "    <tr>\n",
       "      <th>4</th>\n",
       "      <td>2017-12-01</td>\n",
       "      <td>4</td>\n",
       "      <td>-6.0</td>\n",
       "      <td>0</td>\n",
       "      <td>2.3</td>\n",
       "      <td>0.0</td>\n",
       "      <td>0.0</td>\n",
       "      <td>Winter</td>\n",
       "      <td>0</td>\n",
       "      <td>True</td>\n",
       "      <td>97</td>\n",
       "      <td>Freesing</td>\n",
       "      <td>0</td>\n",
       "    </tr>\n",
       "  </tbody>\n",
       "</table>\n",
       "</div>"
      ],
      "text/plain": [
       "        Date  Hour  Temperature  Humidity  Wind speed  Rainfall  Snowfall  \\\n",
       "0 2017-12-01     0         -5.2         0         2.2       0.0       0.0   \n",
       "1 2017-12-01     1         -5.5         0         0.8       0.0       0.0   \n",
       "2 2017-12-01     2         -6.0         0         1.0       0.0       0.0   \n",
       "3 2017-12-01     3         -6.2         1         0.9       0.0       0.0   \n",
       "4 2017-12-01     4         -6.0         0         2.3       0.0       0.0   \n",
       "\n",
       "  Seasons  Holiday  Functioning Day  Rental Count Temperature Category  \\\n",
       "0  Winter        0             True           257             Freesing   \n",
       "1  Winter        0             True           219             Freesing   \n",
       "2  Winter        0             True           162             Freesing   \n",
       "3  Winter        0             True           148             Freesing   \n",
       "4  Winter        0             True            97             Freesing   \n",
       "\n",
       "   Good Weather  \n",
       "0             0  \n",
       "1             0  \n",
       "2             0  \n",
       "3             0  \n",
       "4             0  "
      ]
     },
     "execution_count": 35,
     "metadata": {},
     "output_type": "execute_result"
    }
   ],
   "source": [
    "bikes.head()"
   ]
  },
  {
   "cell_type": "code",
   "execution_count": 36,
   "id": "399d15be-066c-4c73-b3d4-0fbfd8404d6e",
   "metadata": {},
   "outputs": [],
   "source": [
    "def get_temp_cat(temp):\n",
    "    if temp < 0:\n",
    "        return 'Freezing'\n",
    "    elif temp > 15:\n",
    "        return 'Chilly'\n",
    "    elif temp < 26:\n",
    "        return 'Nice'\n",
    "    elif temp >= 26:\n",
    "        return 'Hot'\n",
    "    else:\n",
    "        return temp"
   ]
  },
  {
   "cell_type": "code",
   "execution_count": 37,
   "id": "8ccce22c-7f0c-489f-8979-343198e92742",
   "metadata": {},
   "outputs": [
    {
     "name": "stdout",
     "output_type": "stream",
     "text": [
      "<class 'pandas.core.frame.DataFrame'>\n",
      "RangeIndex: 8760 entries, 0 to 8759\n",
      "Data columns (total 13 columns):\n",
      " #   Column                Non-Null Count  Dtype         \n",
      "---  ------                --------------  -----         \n",
      " 0   Date                  8760 non-null   datetime64[ns]\n",
      " 1   Hour                  8760 non-null   int64         \n",
      " 2   Temperature           8581 non-null   float64       \n",
      " 3   Humidity              8760 non-null   int64         \n",
      " 4   Wind speed            8760 non-null   float64       \n",
      " 5   Rainfall              8760 non-null   float64       \n",
      " 6   Snowfall              8760 non-null   float64       \n",
      " 7   Seasons               8760 non-null   object        \n",
      " 8   Holiday               8760 non-null   int64         \n",
      " 9   Functioning Day       8760 non-null   bool          \n",
      " 10  Rental Count          8760 non-null   int64         \n",
      " 11  Temperature Category  8581 non-null   category      \n",
      " 12  Good Weather          8760 non-null   int64         \n",
      "dtypes: bool(1), category(1), datetime64[ns](1), float64(4), int64(5), object(1)\n",
      "memory usage: 770.1+ KB\n"
     ]
    }
   ],
   "source": [
    "bikes.info()"
   ]
  },
  {
   "cell_type": "code",
   "execution_count": 38,
   "id": "611dfae9-1358-489b-890d-6b5740e7cbd0",
   "metadata": {},
   "outputs": [
    {
     "data": {
      "text/plain": [
       "Date                      0\n",
       "Hour                      0\n",
       "Temperature             179\n",
       "Humidity                  0\n",
       "Wind speed                0\n",
       "Rainfall                  0\n",
       "Snowfall                  0\n",
       "Seasons                   0\n",
       "Holiday                   0\n",
       "Functioning Day           0\n",
       "Rental Count              0\n",
       "Temperature Category    179\n",
       "Good Weather              0\n",
       "dtype: int64"
      ]
     },
     "execution_count": 38,
     "metadata": {},
     "output_type": "execute_result"
    }
   ],
   "source": [
    "bikes.isna().sum() # сумма пропущенных значений в каждой ячейке"
   ]
  },
  {
   "cell_type": "code",
   "execution_count": 39,
   "id": "7a434e16-2f3b-493e-9ea2-aecd021a90c6",
   "metadata": {},
   "outputs": [
    {
     "data": {
      "text/plain": [
       "numpy.float64"
      ]
     },
     "execution_count": 39,
     "metadata": {},
     "output_type": "execute_result"
    }
   ],
   "source": [
    "type(bikes[bikes['Temperature'].isna()]['Temperature'][39])"
   ]
  },
  {
   "cell_type": "code",
   "execution_count": 40,
   "id": "fc2e00ad-ef31-4ce2-8a2e-a5ea3224e291",
   "metadata": {},
   "outputs": [],
   "source": [
    "# что можно делать с пропущенными значениями?\n",
    "# 1 - если большинство значений пропущены или недоступны, то стоит эту колонку выбросить"
   ]
  },
  {
   "cell_type": "code",
   "execution_count": 41,
   "id": "891e75a1-8d9d-4d7e-bf49-384be51ba748",
   "metadata": {},
   "outputs": [
    {
     "data": {
      "text/plain": [
       "(8581, 13)"
      ]
     },
     "execution_count": 41,
     "metadata": {},
     "output_type": "execute_result"
    }
   ],
   "source": [
    "# 2 - выбросить только те наблюдения, в которых есть пропущенные значения\n",
    "\n",
    "bikes.dropna(subset = ['Temperature']).shape\n",
    "\n",
    "# есть метод для dropna() - inplace = True. Он значит, что коллонка удалится в оригинальном датасете"
   ]
  },
  {
   "cell_type": "markdown",
   "id": "ef8f5a91-13ce-4106-b781-08bd38e4ae36",
   "metadata": {},
   "source": [
    "## Заполнение пропущенных значений"
   ]
  },
  {
   "cell_type": "code",
   "execution_count": 42,
   "id": "995b088a-457e-4043-8b45-33e525bd4c24",
   "metadata": {},
   "outputs": [
    {
     "data": {
      "text/html": [
       "<div>\n",
       "<style scoped>\n",
       "    .dataframe tbody tr th:only-of-type {\n",
       "        vertical-align: middle;\n",
       "    }\n",
       "\n",
       "    .dataframe tbody tr th {\n",
       "        vertical-align: top;\n",
       "    }\n",
       "\n",
       "    .dataframe thead th {\n",
       "        text-align: right;\n",
       "    }\n",
       "</style>\n",
       "<table border=\"1\" class=\"dataframe\">\n",
       "  <thead>\n",
       "    <tr style=\"text-align: right;\">\n",
       "      <th></th>\n",
       "      <th>Date</th>\n",
       "      <th>Hour</th>\n",
       "      <th>Temperature</th>\n",
       "      <th>Humidity</th>\n",
       "      <th>Wind speed</th>\n",
       "      <th>Rainfall</th>\n",
       "      <th>Snowfall</th>\n",
       "      <th>Seasons</th>\n",
       "      <th>Holiday</th>\n",
       "      <th>Functioning Day</th>\n",
       "      <th>Rental Count</th>\n",
       "      <th>Temperature Category</th>\n",
       "      <th>Good Weather</th>\n",
       "      <th>Temperature_Median</th>\n",
       "    </tr>\n",
       "  </thead>\n",
       "  <tbody>\n",
       "    <tr>\n",
       "      <th>39</th>\n",
       "      <td>2017-12-02</td>\n",
       "      <td>15</td>\n",
       "      <td>NaN</td>\n",
       "      <td>1</td>\n",
       "      <td>2.3</td>\n",
       "      <td>0.0</td>\n",
       "      <td>0.0</td>\n",
       "      <td>Winter</td>\n",
       "      <td>0</td>\n",
       "      <td>True</td>\n",
       "      <td>688</td>\n",
       "      <td>NaN</td>\n",
       "      <td>0</td>\n",
       "      <td>13.7</td>\n",
       "    </tr>\n",
       "    <tr>\n",
       "      <th>50</th>\n",
       "      <td>2017-12-03</td>\n",
       "      <td>2</td>\n",
       "      <td>NaN</td>\n",
       "      <td>0</td>\n",
       "      <td>1.4</td>\n",
       "      <td>0.0</td>\n",
       "      <td>0.0</td>\n",
       "      <td>Winter</td>\n",
       "      <td>0</td>\n",
       "      <td>True</td>\n",
       "      <td>262</td>\n",
       "      <td>NaN</td>\n",
       "      <td>0</td>\n",
       "      <td>13.7</td>\n",
       "    </tr>\n",
       "    <tr>\n",
       "      <th>64</th>\n",
       "      <td>2017-12-03</td>\n",
       "      <td>16</td>\n",
       "      <td>NaN</td>\n",
       "      <td>0</td>\n",
       "      <td>1.6</td>\n",
       "      <td>0.0</td>\n",
       "      <td>0.0</td>\n",
       "      <td>Winter</td>\n",
       "      <td>0</td>\n",
       "      <td>True</td>\n",
       "      <td>577</td>\n",
       "      <td>NaN</td>\n",
       "      <td>0</td>\n",
       "      <td>13.7</td>\n",
       "    </tr>\n",
       "    <tr>\n",
       "      <th>105</th>\n",
       "      <td>2017-12-05</td>\n",
       "      <td>9</td>\n",
       "      <td>NaN</td>\n",
       "      <td>0</td>\n",
       "      <td>1.3</td>\n",
       "      <td>0.0</td>\n",
       "      <td>0.0</td>\n",
       "      <td>Winter</td>\n",
       "      <td>0</td>\n",
       "      <td>True</td>\n",
       "      <td>313</td>\n",
       "      <td>NaN</td>\n",
       "      <td>0</td>\n",
       "      <td>13.7</td>\n",
       "    </tr>\n",
       "    <tr>\n",
       "      <th>151</th>\n",
       "      <td>2017-12-07</td>\n",
       "      <td>7</td>\n",
       "      <td>NaN</td>\n",
       "      <td>0</td>\n",
       "      <td>0.5</td>\n",
       "      <td>0.0</td>\n",
       "      <td>0.9</td>\n",
       "      <td>Winter</td>\n",
       "      <td>0</td>\n",
       "      <td>True</td>\n",
       "      <td>269</td>\n",
       "      <td>NaN</td>\n",
       "      <td>0</td>\n",
       "      <td>13.7</td>\n",
       "    </tr>\n",
       "  </tbody>\n",
       "</table>\n",
       "</div>"
      ],
      "text/plain": [
       "          Date  Hour  Temperature  Humidity  Wind speed  Rainfall  Snowfall  \\\n",
       "39  2017-12-02    15          NaN         1         2.3       0.0       0.0   \n",
       "50  2017-12-03     2          NaN         0         1.4       0.0       0.0   \n",
       "64  2017-12-03    16          NaN         0         1.6       0.0       0.0   \n",
       "105 2017-12-05     9          NaN         0         1.3       0.0       0.0   \n",
       "151 2017-12-07     7          NaN         0         0.5       0.0       0.9   \n",
       "\n",
       "    Seasons  Holiday  Functioning Day  Rental Count Temperature Category  \\\n",
       "39   Winter        0             True           688                  NaN   \n",
       "50   Winter        0             True           262                  NaN   \n",
       "64   Winter        0             True           577                  NaN   \n",
       "105  Winter        0             True           313                  NaN   \n",
       "151  Winter        0             True           269                  NaN   \n",
       "\n",
       "     Good Weather  Temperature_Median  \n",
       "39              0                13.7  \n",
       "50              0                13.7  \n",
       "64              0                13.7  \n",
       "105             0                13.7  \n",
       "151             0                13.7  "
      ]
     },
     "execution_count": 42,
     "metadata": {},
     "output_type": "execute_result"
    }
   ],
   "source": [
    "# метод fillna() - заполняет пустую ячейку либо числом, либо искать нужное значение в векторе и подставлять его\n",
    "\n",
    "bikes['Temperature_Median'] = bikes['Temperature'].fillna(bikes['Temperature'].median())\n",
    "bikes[bikes['Temperature'].isna()].head()"
   ]
  },
  {
   "cell_type": "code",
   "execution_count": 43,
   "id": "2f8c428c-5631-4d6c-b3c1-325615df71cc",
   "metadata": {},
   "outputs": [
    {
     "data": {
      "text/html": [
       "<div>\n",
       "<style scoped>\n",
       "    .dataframe tbody tr th:only-of-type {\n",
       "        vertical-align: middle;\n",
       "    }\n",
       "\n",
       "    .dataframe tbody tr th {\n",
       "        vertical-align: top;\n",
       "    }\n",
       "\n",
       "    .dataframe thead th {\n",
       "        text-align: right;\n",
       "    }\n",
       "</style>\n",
       "<table border=\"1\" class=\"dataframe\">\n",
       "  <thead>\n",
       "    <tr style=\"text-align: right;\">\n",
       "      <th></th>\n",
       "      <th>Date</th>\n",
       "      <th>Hour</th>\n",
       "      <th>Temperature</th>\n",
       "      <th>Humidity</th>\n",
       "      <th>Wind speed</th>\n",
       "      <th>Rainfall</th>\n",
       "      <th>Snowfall</th>\n",
       "      <th>Seasons</th>\n",
       "      <th>Holiday</th>\n",
       "      <th>Functioning Day</th>\n",
       "      <th>Rental Count</th>\n",
       "      <th>Temperature Category</th>\n",
       "      <th>Good Weather</th>\n",
       "      <th>Temperature_Median</th>\n",
       "    </tr>\n",
       "  </thead>\n",
       "  <tbody>\n",
       "    <tr>\n",
       "      <th>0</th>\n",
       "      <td>2017-12-01</td>\n",
       "      <td>0</td>\n",
       "      <td>-5.2</td>\n",
       "      <td>0</td>\n",
       "      <td>2.2</td>\n",
       "      <td>0.0</td>\n",
       "      <td>0.0</td>\n",
       "      <td>Winter</td>\n",
       "      <td>0</td>\n",
       "      <td>True</td>\n",
       "      <td>257</td>\n",
       "      <td>Freesing</td>\n",
       "      <td>0</td>\n",
       "      <td>-5.2</td>\n",
       "    </tr>\n",
       "    <tr>\n",
       "      <th>1</th>\n",
       "      <td>2017-12-01</td>\n",
       "      <td>1</td>\n",
       "      <td>-5.5</td>\n",
       "      <td>0</td>\n",
       "      <td>0.8</td>\n",
       "      <td>0.0</td>\n",
       "      <td>0.0</td>\n",
       "      <td>Winter</td>\n",
       "      <td>0</td>\n",
       "      <td>True</td>\n",
       "      <td>219</td>\n",
       "      <td>Freesing</td>\n",
       "      <td>0</td>\n",
       "      <td>-5.5</td>\n",
       "    </tr>\n",
       "    <tr>\n",
       "      <th>2</th>\n",
       "      <td>2017-12-01</td>\n",
       "      <td>2</td>\n",
       "      <td>-6.0</td>\n",
       "      <td>0</td>\n",
       "      <td>1.0</td>\n",
       "      <td>0.0</td>\n",
       "      <td>0.0</td>\n",
       "      <td>Winter</td>\n",
       "      <td>0</td>\n",
       "      <td>True</td>\n",
       "      <td>162</td>\n",
       "      <td>Freesing</td>\n",
       "      <td>0</td>\n",
       "      <td>-6.0</td>\n",
       "    </tr>\n",
       "    <tr>\n",
       "      <th>3</th>\n",
       "      <td>2017-12-01</td>\n",
       "      <td>3</td>\n",
       "      <td>-6.2</td>\n",
       "      <td>1</td>\n",
       "      <td>0.9</td>\n",
       "      <td>0.0</td>\n",
       "      <td>0.0</td>\n",
       "      <td>Winter</td>\n",
       "      <td>0</td>\n",
       "      <td>True</td>\n",
       "      <td>148</td>\n",
       "      <td>Freesing</td>\n",
       "      <td>0</td>\n",
       "      <td>-6.2</td>\n",
       "    </tr>\n",
       "    <tr>\n",
       "      <th>4</th>\n",
       "      <td>2017-12-01</td>\n",
       "      <td>4</td>\n",
       "      <td>-6.0</td>\n",
       "      <td>0</td>\n",
       "      <td>2.3</td>\n",
       "      <td>0.0</td>\n",
       "      <td>0.0</td>\n",
       "      <td>Winter</td>\n",
       "      <td>0</td>\n",
       "      <td>True</td>\n",
       "      <td>97</td>\n",
       "      <td>Freesing</td>\n",
       "      <td>0</td>\n",
       "      <td>-6.0</td>\n",
       "    </tr>\n",
       "  </tbody>\n",
       "</table>\n",
       "</div>"
      ],
      "text/plain": [
       "        Date  Hour  Temperature  Humidity  Wind speed  Rainfall  Snowfall  \\\n",
       "0 2017-12-01     0         -5.2         0         2.2       0.0       0.0   \n",
       "1 2017-12-01     1         -5.5         0         0.8       0.0       0.0   \n",
       "2 2017-12-01     2         -6.0         0         1.0       0.0       0.0   \n",
       "3 2017-12-01     3         -6.2         1         0.9       0.0       0.0   \n",
       "4 2017-12-01     4         -6.0         0         2.3       0.0       0.0   \n",
       "\n",
       "  Seasons  Holiday  Functioning Day  Rental Count Temperature Category  \\\n",
       "0  Winter        0             True           257             Freesing   \n",
       "1  Winter        0             True           219             Freesing   \n",
       "2  Winter        0             True           162             Freesing   \n",
       "3  Winter        0             True           148             Freesing   \n",
       "4  Winter        0             True            97             Freesing   \n",
       "\n",
       "   Good Weather  Temperature_Median  \n",
       "0             0                -5.2  \n",
       "1             0                -5.5  \n",
       "2             0                -6.0  \n",
       "3             0                -6.2  \n",
       "4             0                -6.0  "
      ]
     },
     "execution_count": 43,
     "metadata": {},
     "output_type": "execute_result"
    }
   ],
   "source": [
    "bikes.head()"
   ]
  },
  {
   "cell_type": "code",
   "execution_count": 44,
   "id": "d551b7b8-723a-4190-a48e-8b746164b161",
   "metadata": {},
   "outputs": [
    {
     "data": {
      "text/html": [
       "<div>\n",
       "<style scoped>\n",
       "    .dataframe tbody tr th:only-of-type {\n",
       "        vertical-align: middle;\n",
       "    }\n",
       "\n",
       "    .dataframe tbody tr th {\n",
       "        vertical-align: top;\n",
       "    }\n",
       "\n",
       "    .dataframe thead th {\n",
       "        text-align: right;\n",
       "    }\n",
       "</style>\n",
       "<table border=\"1\" class=\"dataframe\">\n",
       "  <thead>\n",
       "    <tr style=\"text-align: right;\">\n",
       "      <th></th>\n",
       "      <th>Date</th>\n",
       "      <th>Hour</th>\n",
       "      <th>Temperature</th>\n",
       "      <th>Humidity</th>\n",
       "      <th>Wind speed</th>\n",
       "      <th>Rainfall</th>\n",
       "      <th>Snowfall</th>\n",
       "      <th>Seasons</th>\n",
       "      <th>Holiday</th>\n",
       "      <th>Functioning Day</th>\n",
       "      <th>Rental Count</th>\n",
       "      <th>Temperature Category</th>\n",
       "      <th>Good Weather</th>\n",
       "      <th>Temperature_Median</th>\n",
       "    </tr>\n",
       "  </thead>\n",
       "  <tbody>\n",
       "    <tr>\n",
       "      <th>38</th>\n",
       "      <td>2017-12-02</td>\n",
       "      <td>14</td>\n",
       "      <td>7.3</td>\n",
       "      <td>0</td>\n",
       "      <td>1.3</td>\n",
       "      <td>0.0</td>\n",
       "      <td>0.0</td>\n",
       "      <td>Winter</td>\n",
       "      <td>0</td>\n",
       "      <td>True</td>\n",
       "      <td>1054</td>\n",
       "      <td>Chilly</td>\n",
       "      <td>0</td>\n",
       "      <td>7.3</td>\n",
       "    </tr>\n",
       "    <tr>\n",
       "      <th>39</th>\n",
       "      <td>2017-12-02</td>\n",
       "      <td>15</td>\n",
       "      <td>NaN</td>\n",
       "      <td>1</td>\n",
       "      <td>2.3</td>\n",
       "      <td>0.0</td>\n",
       "      <td>0.0</td>\n",
       "      <td>Winter</td>\n",
       "      <td>0</td>\n",
       "      <td>True</td>\n",
       "      <td>688</td>\n",
       "      <td>NaN</td>\n",
       "      <td>0</td>\n",
       "      <td>13.7</td>\n",
       "    </tr>\n",
       "    <tr>\n",
       "      <th>40</th>\n",
       "      <td>2017-12-02</td>\n",
       "      <td>16</td>\n",
       "      <td>6.4</td>\n",
       "      <td>1</td>\n",
       "      <td>2.6</td>\n",
       "      <td>0.0</td>\n",
       "      <td>0.0</td>\n",
       "      <td>Winter</td>\n",
       "      <td>0</td>\n",
       "      <td>True</td>\n",
       "      <td>592</td>\n",
       "      <td>Chilly</td>\n",
       "      <td>0</td>\n",
       "      <td>6.4</td>\n",
       "    </tr>\n",
       "    <tr>\n",
       "      <th>41</th>\n",
       "      <td>2017-12-02</td>\n",
       "      <td>17</td>\n",
       "      <td>6.0</td>\n",
       "      <td>1</td>\n",
       "      <td>2.5</td>\n",
       "      <td>0.0</td>\n",
       "      <td>0.0</td>\n",
       "      <td>Winter</td>\n",
       "      <td>0</td>\n",
       "      <td>True</td>\n",
       "      <td>141</td>\n",
       "      <td>Chilly</td>\n",
       "      <td>0</td>\n",
       "      <td>6.0</td>\n",
       "    </tr>\n",
       "  </tbody>\n",
       "</table>\n",
       "</div>"
      ],
      "text/plain": [
       "         Date  Hour  Temperature  Humidity  Wind speed  Rainfall  Snowfall  \\\n",
       "38 2017-12-02    14          7.3         0         1.3       0.0       0.0   \n",
       "39 2017-12-02    15          NaN         1         2.3       0.0       0.0   \n",
       "40 2017-12-02    16          6.4         1         2.6       0.0       0.0   \n",
       "41 2017-12-02    17          6.0         1         2.5       0.0       0.0   \n",
       "\n",
       "   Seasons  Holiday  Functioning Day  Rental Count Temperature Category  \\\n",
       "38  Winter        0             True          1054               Chilly   \n",
       "39  Winter        0             True           688                  NaN   \n",
       "40  Winter        0             True           592               Chilly   \n",
       "41  Winter        0             True           141               Chilly   \n",
       "\n",
       "    Good Weather  Temperature_Median  \n",
       "38             0                 7.3  \n",
       "39             0                13.7  \n",
       "40             0                 6.4  \n",
       "41             0                 6.0  "
      ]
     },
     "execution_count": 44,
     "metadata": {},
     "output_type": "execute_result"
    }
   ],
   "source": [
    "bikes.iloc[38:42]"
   ]
  },
  {
   "cell_type": "code",
   "execution_count": 45,
   "id": "2a7d4afd-0699-4566-9bc3-c70c510d0903",
   "metadata": {},
   "outputs": [],
   "source": [
    "# Заполнение случайными данными"
   ]
  },
  {
   "cell_type": "code",
   "execution_count": 46,
   "id": "1267bea8-77c1-44ae-a242-20b3384083e5",
   "metadata": {},
   "outputs": [],
   "source": [
    "tamps_random = np.random.choice(bikes['Temperature'].dropna(), 8760)"
   ]
  },
  {
   "cell_type": "code",
   "execution_count": 47,
   "id": "61190284-ef0f-4fe7-aae5-24e3ab8146b6",
   "metadata": {},
   "outputs": [
    {
     "data": {
      "text/plain": [
       "array([  9.8,  -2. ,  14.1,  26.3,  27. ,  -3.8,   6. ,   1.6,   9.7,\n",
       "        14.3,  14.7,  19.7,  14.2,  32.3,  16.2,  24.4,  -1.8,  27.5,\n",
       "        16.9,  21.9,  17.5,  23.5,  20. ,  25. ,  13.3,  27.7,  18.8,\n",
       "        -0.4,  37.4,  24.8,   2.1,  13. ,  27.4,  19.1,   2. ,  16.9,\n",
       "        -1.3,  23.3,  21. ,  -3.3,  24.9,   1.2,   0.9,  21.2,  18.5,\n",
       "        30.7,  20.5,  24.7,  -8.5,   7.6,  24.2,  11.3,  18.7,  11.4,\n",
       "        15. ,  26.3,  21.6,  22.6,  29.5,  21.8,  -6.9,  33.6,   3.1,\n",
       "        29.4,  15.1,  35.6,  19.4,  22.1,  25.2,  -2.6, -12.1,   4.2,\n",
       "        31.2,  25.2,  19.4,  13.2,   3.9, -13.1,  23.3,  22.8,  15.3,\n",
       "        -8.6,  11.3,   7.7,   0.8,  18.2,  -3.2,  29.6,  32.5,   7. ,\n",
       "        24.7,  22.2,  27.3,  21.6,  28.5,  20.9,  33. ,   5.1,  29.8,\n",
       "        28.1])"
      ]
     },
     "execution_count": 47,
     "metadata": {},
     "output_type": "execute_result"
    }
   ],
   "source": [
    "tamps_random[:100]"
   ]
  },
  {
   "cell_type": "code",
   "execution_count": 48,
   "id": "d1c60328-f28a-4c82-bcdf-57bb5b48cddd",
   "metadata": {},
   "outputs": [],
   "source": [
    "bikes['Temperature_Random'] = bikes['Temperature'].fillna(pd.Series(tamps_random))"
   ]
  },
  {
   "cell_type": "code",
   "execution_count": 49,
   "id": "af62cc00-a2bc-4707-a7f9-2073e7b31670",
   "metadata": {},
   "outputs": [
    {
     "data": {
      "text/html": [
       "<div>\n",
       "<style scoped>\n",
       "    .dataframe tbody tr th:only-of-type {\n",
       "        vertical-align: middle;\n",
       "    }\n",
       "\n",
       "    .dataframe tbody tr th {\n",
       "        vertical-align: top;\n",
       "    }\n",
       "\n",
       "    .dataframe thead th {\n",
       "        text-align: right;\n",
       "    }\n",
       "</style>\n",
       "<table border=\"1\" class=\"dataframe\">\n",
       "  <thead>\n",
       "    <tr style=\"text-align: right;\">\n",
       "      <th></th>\n",
       "      <th>Date</th>\n",
       "      <th>Hour</th>\n",
       "      <th>Temperature</th>\n",
       "      <th>Humidity</th>\n",
       "      <th>Wind speed</th>\n",
       "      <th>Rainfall</th>\n",
       "      <th>Snowfall</th>\n",
       "      <th>Seasons</th>\n",
       "      <th>Holiday</th>\n",
       "      <th>Functioning Day</th>\n",
       "      <th>Rental Count</th>\n",
       "      <th>Temperature Category</th>\n",
       "      <th>Good Weather</th>\n",
       "      <th>Temperature_Median</th>\n",
       "      <th>Temperature_Random</th>\n",
       "    </tr>\n",
       "  </thead>\n",
       "  <tbody>\n",
       "    <tr>\n",
       "      <th>39</th>\n",
       "      <td>2017-12-02</td>\n",
       "      <td>15</td>\n",
       "      <td>NaN</td>\n",
       "      <td>1</td>\n",
       "      <td>2.3</td>\n",
       "      <td>0.0</td>\n",
       "      <td>0.0</td>\n",
       "      <td>Winter</td>\n",
       "      <td>0</td>\n",
       "      <td>True</td>\n",
       "      <td>688</td>\n",
       "      <td>NaN</td>\n",
       "      <td>0</td>\n",
       "      <td>13.7</td>\n",
       "      <td>-3.3</td>\n",
       "    </tr>\n",
       "    <tr>\n",
       "      <th>50</th>\n",
       "      <td>2017-12-03</td>\n",
       "      <td>2</td>\n",
       "      <td>NaN</td>\n",
       "      <td>0</td>\n",
       "      <td>1.4</td>\n",
       "      <td>0.0</td>\n",
       "      <td>0.0</td>\n",
       "      <td>Winter</td>\n",
       "      <td>0</td>\n",
       "      <td>True</td>\n",
       "      <td>262</td>\n",
       "      <td>NaN</td>\n",
       "      <td>0</td>\n",
       "      <td>13.7</td>\n",
       "      <td>24.2</td>\n",
       "    </tr>\n",
       "    <tr>\n",
       "      <th>64</th>\n",
       "      <td>2017-12-03</td>\n",
       "      <td>16</td>\n",
       "      <td>NaN</td>\n",
       "      <td>0</td>\n",
       "      <td>1.6</td>\n",
       "      <td>0.0</td>\n",
       "      <td>0.0</td>\n",
       "      <td>Winter</td>\n",
       "      <td>0</td>\n",
       "      <td>True</td>\n",
       "      <td>577</td>\n",
       "      <td>NaN</td>\n",
       "      <td>0</td>\n",
       "      <td>13.7</td>\n",
       "      <td>15.1</td>\n",
       "    </tr>\n",
       "    <tr>\n",
       "      <th>105</th>\n",
       "      <td>2017-12-05</td>\n",
       "      <td>9</td>\n",
       "      <td>NaN</td>\n",
       "      <td>0</td>\n",
       "      <td>1.3</td>\n",
       "      <td>0.0</td>\n",
       "      <td>0.0</td>\n",
       "      <td>Winter</td>\n",
       "      <td>0</td>\n",
       "      <td>True</td>\n",
       "      <td>313</td>\n",
       "      <td>NaN</td>\n",
       "      <td>0</td>\n",
       "      <td>13.7</td>\n",
       "      <td>-0.5</td>\n",
       "    </tr>\n",
       "    <tr>\n",
       "      <th>151</th>\n",
       "      <td>2017-12-07</td>\n",
       "      <td>7</td>\n",
       "      <td>NaN</td>\n",
       "      <td>0</td>\n",
       "      <td>0.5</td>\n",
       "      <td>0.0</td>\n",
       "      <td>0.9</td>\n",
       "      <td>Winter</td>\n",
       "      <td>0</td>\n",
       "      <td>True</td>\n",
       "      <td>269</td>\n",
       "      <td>NaN</td>\n",
       "      <td>0</td>\n",
       "      <td>13.7</td>\n",
       "      <td>-10.6</td>\n",
       "    </tr>\n",
       "  </tbody>\n",
       "</table>\n",
       "</div>"
      ],
      "text/plain": [
       "          Date  Hour  Temperature  Humidity  Wind speed  Rainfall  Snowfall  \\\n",
       "39  2017-12-02    15          NaN         1         2.3       0.0       0.0   \n",
       "50  2017-12-03     2          NaN         0         1.4       0.0       0.0   \n",
       "64  2017-12-03    16          NaN         0         1.6       0.0       0.0   \n",
       "105 2017-12-05     9          NaN         0         1.3       0.0       0.0   \n",
       "151 2017-12-07     7          NaN         0         0.5       0.0       0.9   \n",
       "\n",
       "    Seasons  Holiday  Functioning Day  Rental Count Temperature Category  \\\n",
       "39   Winter        0             True           688                  NaN   \n",
       "50   Winter        0             True           262                  NaN   \n",
       "64   Winter        0             True           577                  NaN   \n",
       "105  Winter        0             True           313                  NaN   \n",
       "151  Winter        0             True           269                  NaN   \n",
       "\n",
       "     Good Weather  Temperature_Median  Temperature_Random  \n",
       "39              0                13.7                -3.3  \n",
       "50              0                13.7                24.2  \n",
       "64              0                13.7                15.1  \n",
       "105             0                13.7                -0.5  \n",
       "151             0                13.7               -10.6  "
      ]
     },
     "execution_count": 49,
     "metadata": {},
     "output_type": "execute_result"
    }
   ],
   "source": [
    "bikes[bikes['Temperature'].isna()].head()"
   ]
  },
  {
   "cell_type": "code",
   "execution_count": 50,
   "id": "51294613-99d4-4140-b112-83825f5e29d9",
   "metadata": {},
   "outputs": [
    {
     "data": {
      "text/html": [
       "<div>\n",
       "<style scoped>\n",
       "    .dataframe tbody tr th:only-of-type {\n",
       "        vertical-align: middle;\n",
       "    }\n",
       "\n",
       "    .dataframe tbody tr th {\n",
       "        vertical-align: top;\n",
       "    }\n",
       "\n",
       "    .dataframe thead th {\n",
       "        text-align: right;\n",
       "    }\n",
       "</style>\n",
       "<table border=\"1\" class=\"dataframe\">\n",
       "  <thead>\n",
       "    <tr style=\"text-align: right;\">\n",
       "      <th></th>\n",
       "      <th>Date</th>\n",
       "      <th>Hour</th>\n",
       "      <th>Temperature</th>\n",
       "      <th>Humidity</th>\n",
       "      <th>Wind speed</th>\n",
       "      <th>Rainfall</th>\n",
       "      <th>Snowfall</th>\n",
       "      <th>Seasons</th>\n",
       "      <th>Holiday</th>\n",
       "      <th>Functioning Day</th>\n",
       "      <th>Rental Count</th>\n",
       "      <th>Temperature Category</th>\n",
       "      <th>Good Weather</th>\n",
       "      <th>Temperature_Median</th>\n",
       "      <th>Temperature_Random</th>\n",
       "    </tr>\n",
       "  </thead>\n",
       "  <tbody>\n",
       "    <tr>\n",
       "      <th>38</th>\n",
       "      <td>2017-12-02</td>\n",
       "      <td>14</td>\n",
       "      <td>7.3</td>\n",
       "      <td>0</td>\n",
       "      <td>1.3</td>\n",
       "      <td>0.0</td>\n",
       "      <td>0.0</td>\n",
       "      <td>Winter</td>\n",
       "      <td>0</td>\n",
       "      <td>True</td>\n",
       "      <td>1054</td>\n",
       "      <td>Chilly</td>\n",
       "      <td>0</td>\n",
       "      <td>7.3</td>\n",
       "      <td>7.3</td>\n",
       "    </tr>\n",
       "    <tr>\n",
       "      <th>39</th>\n",
       "      <td>2017-12-02</td>\n",
       "      <td>15</td>\n",
       "      <td>NaN</td>\n",
       "      <td>1</td>\n",
       "      <td>2.3</td>\n",
       "      <td>0.0</td>\n",
       "      <td>0.0</td>\n",
       "      <td>Winter</td>\n",
       "      <td>0</td>\n",
       "      <td>True</td>\n",
       "      <td>688</td>\n",
       "      <td>NaN</td>\n",
       "      <td>0</td>\n",
       "      <td>13.7</td>\n",
       "      <td>-3.3</td>\n",
       "    </tr>\n",
       "    <tr>\n",
       "      <th>40</th>\n",
       "      <td>2017-12-02</td>\n",
       "      <td>16</td>\n",
       "      <td>6.4</td>\n",
       "      <td>1</td>\n",
       "      <td>2.6</td>\n",
       "      <td>0.0</td>\n",
       "      <td>0.0</td>\n",
       "      <td>Winter</td>\n",
       "      <td>0</td>\n",
       "      <td>True</td>\n",
       "      <td>592</td>\n",
       "      <td>Chilly</td>\n",
       "      <td>0</td>\n",
       "      <td>6.4</td>\n",
       "      <td>6.4</td>\n",
       "    </tr>\n",
       "    <tr>\n",
       "      <th>41</th>\n",
       "      <td>2017-12-02</td>\n",
       "      <td>17</td>\n",
       "      <td>6.0</td>\n",
       "      <td>1</td>\n",
       "      <td>2.5</td>\n",
       "      <td>0.0</td>\n",
       "      <td>0.0</td>\n",
       "      <td>Winter</td>\n",
       "      <td>0</td>\n",
       "      <td>True</td>\n",
       "      <td>141</td>\n",
       "      <td>Chilly</td>\n",
       "      <td>0</td>\n",
       "      <td>6.0</td>\n",
       "      <td>6.0</td>\n",
       "    </tr>\n",
       "  </tbody>\n",
       "</table>\n",
       "</div>"
      ],
      "text/plain": [
       "         Date  Hour  Temperature  Humidity  Wind speed  Rainfall  Snowfall  \\\n",
       "38 2017-12-02    14          7.3         0         1.3       0.0       0.0   \n",
       "39 2017-12-02    15          NaN         1         2.3       0.0       0.0   \n",
       "40 2017-12-02    16          6.4         1         2.6       0.0       0.0   \n",
       "41 2017-12-02    17          6.0         1         2.5       0.0       0.0   \n",
       "\n",
       "   Seasons  Holiday  Functioning Day  Rental Count Temperature Category  \\\n",
       "38  Winter        0             True          1054               Chilly   \n",
       "39  Winter        0             True           688                  NaN   \n",
       "40  Winter        0             True           592               Chilly   \n",
       "41  Winter        0             True           141               Chilly   \n",
       "\n",
       "    Good Weather  Temperature_Median  Temperature_Random  \n",
       "38             0                 7.3                 7.3  \n",
       "39             0                13.7                -3.3  \n",
       "40             0                 6.4                 6.4  \n",
       "41             0                 6.0                 6.0  "
      ]
     },
     "execution_count": 50,
     "metadata": {},
     "output_type": "execute_result"
    }
   ],
   "source": [
    "bikes.iloc[38:42]"
   ]
  },
  {
   "cell_type": "code",
   "execution_count": 51,
   "id": "6fd7563f-4ea3-47b2-a909-68f03697de5a",
   "metadata": {},
   "outputs": [],
   "source": [
    "# заполнение по медиане и некоторым категориям"
   ]
  },
  {
   "cell_type": "code",
   "execution_count": 52,
   "id": "01f46aab-f1f3-4935-816d-17a50b5f80cd",
   "metadata": {},
   "outputs": [],
   "source": [
    "# bikes.groupby(bikes['Date'].dt.isocalendar().week, 'Hour'])['Temperature'].transform('median')"
   ]
  }
 ],
 "metadata": {
  "kernelspec": {
   "display_name": "Python 3 (ipykernel)",
   "language": "python",
   "name": "python3"
  },
  "language_info": {
   "codemirror_mode": {
    "name": "ipython",
    "version": 3
   },
   "file_extension": ".py",
   "mimetype": "text/x-python",
   "name": "python",
   "nbconvert_exporter": "python",
   "pygments_lexer": "ipython3",
   "version": "3.12.6"
  }
 },
 "nbformat": 4,
 "nbformat_minor": 5
}
