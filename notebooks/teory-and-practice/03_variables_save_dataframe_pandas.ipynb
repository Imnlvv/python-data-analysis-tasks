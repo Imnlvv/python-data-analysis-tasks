{
 "cells": [
  {
   "cell_type": "markdown",
   "id": "0f7520f3",
   "metadata": {},
   "source": [
    "Создание переменных"
   ]
  },
  {
   "cell_type": "code",
   "execution_count": 1,
   "id": "c43ee7a3",
   "metadata": {},
   "outputs": [],
   "source": [
    "import pandas as pd\n",
    "import numpy as np"
   ]
  },
  {
   "cell_type": "code",
   "execution_count": 2,
   "id": "f43ab930",
   "metadata": {},
   "outputs": [
    {
     "data": {
      "text/html": [
       "<div>\n",
       "<style scoped>\n",
       "    .dataframe tbody tr th:only-of-type {\n",
       "        vertical-align: middle;\n",
       "    }\n",
       "\n",
       "    .dataframe tbody tr th {\n",
       "        vertical-align: top;\n",
       "    }\n",
       "\n",
       "    .dataframe thead th {\n",
       "        text-align: right;\n",
       "    }\n",
       "</style>\n",
       "<table border=\"1\" class=\"dataframe\">\n",
       "  <thead>\n",
       "    <tr style=\"text-align: right;\">\n",
       "      <th></th>\n",
       "      <th>Date</th>\n",
       "      <th>Hour</th>\n",
       "      <th>Temperature</th>\n",
       "      <th>Humidity</th>\n",
       "      <th>Wind speed</th>\n",
       "      <th>Rainfall</th>\n",
       "      <th>Snowfall</th>\n",
       "      <th>Seasons</th>\n",
       "      <th>Holiday</th>\n",
       "      <th>Functioning Day</th>\n",
       "      <th>Partner 1</th>\n",
       "      <th>Partner 2</th>\n",
       "    </tr>\n",
       "  </thead>\n",
       "  <tbody>\n",
       "    <tr>\n",
       "      <th>0</th>\n",
       "      <td>01/12/2017</td>\n",
       "      <td>0</td>\n",
       "      <td>-5.2</td>\n",
       "      <td>37</td>\n",
       "      <td>2.2</td>\n",
       "      <td>0.0</td>\n",
       "      <td>0.0</td>\n",
       "      <td>Winter</td>\n",
       "      <td>No Holiday</td>\n",
       "      <td>Yes</td>\n",
       "      <td>207</td>\n",
       "      <td>50</td>\n",
       "    </tr>\n",
       "    <tr>\n",
       "      <th>1</th>\n",
       "      <td>01/12/2017</td>\n",
       "      <td>1</td>\n",
       "      <td>-5.5</td>\n",
       "      <td>38</td>\n",
       "      <td>0.8</td>\n",
       "      <td>0.0</td>\n",
       "      <td>0.0</td>\n",
       "      <td>Winter</td>\n",
       "      <td>No Holiday</td>\n",
       "      <td>Yes</td>\n",
       "      <td>139</td>\n",
       "      <td>80</td>\n",
       "    </tr>\n",
       "    <tr>\n",
       "      <th>2</th>\n",
       "      <td>01/12/2017</td>\n",
       "      <td>2</td>\n",
       "      <td>-6.0</td>\n",
       "      <td>39</td>\n",
       "      <td>1.0</td>\n",
       "      <td>0.0</td>\n",
       "      <td>0.0</td>\n",
       "      <td>Winter</td>\n",
       "      <td>No Holiday</td>\n",
       "      <td>Yes</td>\n",
       "      <td>22</td>\n",
       "      <td>140</td>\n",
       "    </tr>\n",
       "    <tr>\n",
       "      <th>3</th>\n",
       "      <td>01/12/2017</td>\n",
       "      <td>3</td>\n",
       "      <td>-6.2</td>\n",
       "      <td>40</td>\n",
       "      <td>0.9</td>\n",
       "      <td>0.0</td>\n",
       "      <td>0.0</td>\n",
       "      <td>Winter</td>\n",
       "      <td>No Holiday</td>\n",
       "      <td>Yes</td>\n",
       "      <td>43</td>\n",
       "      <td>105</td>\n",
       "    </tr>\n",
       "    <tr>\n",
       "      <th>4</th>\n",
       "      <td>01/12/2017</td>\n",
       "      <td>4</td>\n",
       "      <td>-6.0</td>\n",
       "      <td>36</td>\n",
       "      <td>2.3</td>\n",
       "      <td>0.0</td>\n",
       "      <td>0.0</td>\n",
       "      <td>Winter</td>\n",
       "      <td>No Holiday</td>\n",
       "      <td>Yes</td>\n",
       "      <td>59</td>\n",
       "      <td>38</td>\n",
       "    </tr>\n",
       "  </tbody>\n",
       "</table>\n",
       "</div>"
      ],
      "text/plain": [
       "         Date  Hour  Temperature  Humidity  Wind speed  Rainfall  Snowfall  \\\n",
       "0  01/12/2017     0         -5.2        37         2.2       0.0       0.0   \n",
       "1  01/12/2017     1         -5.5        38         0.8       0.0       0.0   \n",
       "2  01/12/2017     2         -6.0        39         1.0       0.0       0.0   \n",
       "3  01/12/2017     3         -6.2        40         0.9       0.0       0.0   \n",
       "4  01/12/2017     4         -6.0        36         2.3       0.0       0.0   \n",
       "\n",
       "  Seasons     Holiday Functioning Day  Partner 1  Partner 2  \n",
       "0  Winter  No Holiday             Yes        207         50  \n",
       "1  Winter  No Holiday             Yes        139         80  \n",
       "2  Winter  No Holiday             Yes         22        140  \n",
       "3  Winter  No Holiday             Yes         43        105  \n",
       "4  Winter  No Holiday             Yes         59         38  "
      ]
     },
     "execution_count": 2,
     "metadata": {},
     "output_type": "execute_result"
    }
   ],
   "source": [
    "bikes = pd.read_csv('BikeData.csv')\n",
    "bikes.head()"
   ]
  },
  {
   "cell_type": "code",
   "execution_count": 3,
   "id": "78f35ef7",
   "metadata": {},
   "outputs": [],
   "source": [
    "bikes['Rental Count'] = bikes['Partner 1'] + bikes['Partner 2']"
   ]
  },
  {
   "cell_type": "code",
   "execution_count": 4,
   "id": "603fb06b",
   "metadata": {},
   "outputs": [
    {
     "data": {
      "text/html": [
       "<div>\n",
       "<style scoped>\n",
       "    .dataframe tbody tr th:only-of-type {\n",
       "        vertical-align: middle;\n",
       "    }\n",
       "\n",
       "    .dataframe tbody tr th {\n",
       "        vertical-align: top;\n",
       "    }\n",
       "\n",
       "    .dataframe thead th {\n",
       "        text-align: right;\n",
       "    }\n",
       "</style>\n",
       "<table border=\"1\" class=\"dataframe\">\n",
       "  <thead>\n",
       "    <tr style=\"text-align: right;\">\n",
       "      <th></th>\n",
       "      <th>Date</th>\n",
       "      <th>Hour</th>\n",
       "      <th>Temperature</th>\n",
       "      <th>Humidity</th>\n",
       "      <th>Wind speed</th>\n",
       "      <th>Rainfall</th>\n",
       "      <th>Snowfall</th>\n",
       "      <th>Seasons</th>\n",
       "      <th>Holiday</th>\n",
       "      <th>Functioning Day</th>\n",
       "      <th>Partner 1</th>\n",
       "      <th>Partner 2</th>\n",
       "      <th>Rental Count</th>\n",
       "    </tr>\n",
       "  </thead>\n",
       "  <tbody>\n",
       "    <tr>\n",
       "      <th>0</th>\n",
       "      <td>01/12/2017</td>\n",
       "      <td>0</td>\n",
       "      <td>-5.2</td>\n",
       "      <td>37</td>\n",
       "      <td>2.2</td>\n",
       "      <td>0.0</td>\n",
       "      <td>0.0</td>\n",
       "      <td>Winter</td>\n",
       "      <td>No Holiday</td>\n",
       "      <td>Yes</td>\n",
       "      <td>207</td>\n",
       "      <td>50</td>\n",
       "      <td>257</td>\n",
       "    </tr>\n",
       "    <tr>\n",
       "      <th>1</th>\n",
       "      <td>01/12/2017</td>\n",
       "      <td>1</td>\n",
       "      <td>-5.5</td>\n",
       "      <td>38</td>\n",
       "      <td>0.8</td>\n",
       "      <td>0.0</td>\n",
       "      <td>0.0</td>\n",
       "      <td>Winter</td>\n",
       "      <td>No Holiday</td>\n",
       "      <td>Yes</td>\n",
       "      <td>139</td>\n",
       "      <td>80</td>\n",
       "      <td>219</td>\n",
       "    </tr>\n",
       "    <tr>\n",
       "      <th>2</th>\n",
       "      <td>01/12/2017</td>\n",
       "      <td>2</td>\n",
       "      <td>-6.0</td>\n",
       "      <td>39</td>\n",
       "      <td>1.0</td>\n",
       "      <td>0.0</td>\n",
       "      <td>0.0</td>\n",
       "      <td>Winter</td>\n",
       "      <td>No Holiday</td>\n",
       "      <td>Yes</td>\n",
       "      <td>22</td>\n",
       "      <td>140</td>\n",
       "      <td>162</td>\n",
       "    </tr>\n",
       "    <tr>\n",
       "      <th>3</th>\n",
       "      <td>01/12/2017</td>\n",
       "      <td>3</td>\n",
       "      <td>-6.2</td>\n",
       "      <td>40</td>\n",
       "      <td>0.9</td>\n",
       "      <td>0.0</td>\n",
       "      <td>0.0</td>\n",
       "      <td>Winter</td>\n",
       "      <td>No Holiday</td>\n",
       "      <td>Yes</td>\n",
       "      <td>43</td>\n",
       "      <td>105</td>\n",
       "      <td>148</td>\n",
       "    </tr>\n",
       "    <tr>\n",
       "      <th>4</th>\n",
       "      <td>01/12/2017</td>\n",
       "      <td>4</td>\n",
       "      <td>-6.0</td>\n",
       "      <td>36</td>\n",
       "      <td>2.3</td>\n",
       "      <td>0.0</td>\n",
       "      <td>0.0</td>\n",
       "      <td>Winter</td>\n",
       "      <td>No Holiday</td>\n",
       "      <td>Yes</td>\n",
       "      <td>59</td>\n",
       "      <td>38</td>\n",
       "      <td>97</td>\n",
       "    </tr>\n",
       "  </tbody>\n",
       "</table>\n",
       "</div>"
      ],
      "text/plain": [
       "         Date  Hour  Temperature  Humidity  Wind speed  Rainfall  Snowfall  \\\n",
       "0  01/12/2017     0         -5.2        37         2.2       0.0       0.0   \n",
       "1  01/12/2017     1         -5.5        38         0.8       0.0       0.0   \n",
       "2  01/12/2017     2         -6.0        39         1.0       0.0       0.0   \n",
       "3  01/12/2017     3         -6.2        40         0.9       0.0       0.0   \n",
       "4  01/12/2017     4         -6.0        36         2.3       0.0       0.0   \n",
       "\n",
       "  Seasons     Holiday Functioning Day  Partner 1  Partner 2  Rental Count  \n",
       "0  Winter  No Holiday             Yes        207         50           257  \n",
       "1  Winter  No Holiday             Yes        139         80           219  \n",
       "2  Winter  No Holiday             Yes         22        140           162  \n",
       "3  Winter  No Holiday             Yes         43        105           148  \n",
       "4  Winter  No Holiday             Yes         59         38            97  "
      ]
     },
     "execution_count": 4,
     "metadata": {},
     "output_type": "execute_result"
    }
   ],
   "source": [
    "bikes.head()"
   ]
  },
  {
   "cell_type": "code",
   "execution_count": 5,
   "id": "78a2afd5",
   "metadata": {},
   "outputs": [],
   "source": [
    "del bikes['Partner 1'] # удаление коллонки"
   ]
  },
  {
   "cell_type": "code",
   "execution_count": 6,
   "id": "4938ba94",
   "metadata": {},
   "outputs": [
    {
     "data": {
      "text/html": [
       "<div>\n",
       "<style scoped>\n",
       "    .dataframe tbody tr th:only-of-type {\n",
       "        vertical-align: middle;\n",
       "    }\n",
       "\n",
       "    .dataframe tbody tr th {\n",
       "        vertical-align: top;\n",
       "    }\n",
       "\n",
       "    .dataframe thead th {\n",
       "        text-align: right;\n",
       "    }\n",
       "</style>\n",
       "<table border=\"1\" class=\"dataframe\">\n",
       "  <thead>\n",
       "    <tr style=\"text-align: right;\">\n",
       "      <th></th>\n",
       "      <th>Date</th>\n",
       "      <th>Hour</th>\n",
       "      <th>Temperature</th>\n",
       "      <th>Humidity</th>\n",
       "      <th>Wind speed</th>\n",
       "      <th>Rainfall</th>\n",
       "      <th>Snowfall</th>\n",
       "      <th>Seasons</th>\n",
       "      <th>Holiday</th>\n",
       "      <th>Functioning Day</th>\n",
       "      <th>Partner 2</th>\n",
       "      <th>Rental Count</th>\n",
       "    </tr>\n",
       "  </thead>\n",
       "  <tbody>\n",
       "    <tr>\n",
       "      <th>0</th>\n",
       "      <td>01/12/2017</td>\n",
       "      <td>0</td>\n",
       "      <td>-5.2</td>\n",
       "      <td>37</td>\n",
       "      <td>2.2</td>\n",
       "      <td>0.0</td>\n",
       "      <td>0.0</td>\n",
       "      <td>Winter</td>\n",
       "      <td>No Holiday</td>\n",
       "      <td>Yes</td>\n",
       "      <td>50</td>\n",
       "      <td>257</td>\n",
       "    </tr>\n",
       "    <tr>\n",
       "      <th>1</th>\n",
       "      <td>01/12/2017</td>\n",
       "      <td>1</td>\n",
       "      <td>-5.5</td>\n",
       "      <td>38</td>\n",
       "      <td>0.8</td>\n",
       "      <td>0.0</td>\n",
       "      <td>0.0</td>\n",
       "      <td>Winter</td>\n",
       "      <td>No Holiday</td>\n",
       "      <td>Yes</td>\n",
       "      <td>80</td>\n",
       "      <td>219</td>\n",
       "    </tr>\n",
       "    <tr>\n",
       "      <th>2</th>\n",
       "      <td>01/12/2017</td>\n",
       "      <td>2</td>\n",
       "      <td>-6.0</td>\n",
       "      <td>39</td>\n",
       "      <td>1.0</td>\n",
       "      <td>0.0</td>\n",
       "      <td>0.0</td>\n",
       "      <td>Winter</td>\n",
       "      <td>No Holiday</td>\n",
       "      <td>Yes</td>\n",
       "      <td>140</td>\n",
       "      <td>162</td>\n",
       "    </tr>\n",
       "    <tr>\n",
       "      <th>3</th>\n",
       "      <td>01/12/2017</td>\n",
       "      <td>3</td>\n",
       "      <td>-6.2</td>\n",
       "      <td>40</td>\n",
       "      <td>0.9</td>\n",
       "      <td>0.0</td>\n",
       "      <td>0.0</td>\n",
       "      <td>Winter</td>\n",
       "      <td>No Holiday</td>\n",
       "      <td>Yes</td>\n",
       "      <td>105</td>\n",
       "      <td>148</td>\n",
       "    </tr>\n",
       "    <tr>\n",
       "      <th>4</th>\n",
       "      <td>01/12/2017</td>\n",
       "      <td>4</td>\n",
       "      <td>-6.0</td>\n",
       "      <td>36</td>\n",
       "      <td>2.3</td>\n",
       "      <td>0.0</td>\n",
       "      <td>0.0</td>\n",
       "      <td>Winter</td>\n",
       "      <td>No Holiday</td>\n",
       "      <td>Yes</td>\n",
       "      <td>38</td>\n",
       "      <td>97</td>\n",
       "    </tr>\n",
       "  </tbody>\n",
       "</table>\n",
       "</div>"
      ],
      "text/plain": [
       "         Date  Hour  Temperature  Humidity  Wind speed  Rainfall  Snowfall  \\\n",
       "0  01/12/2017     0         -5.2        37         2.2       0.0       0.0   \n",
       "1  01/12/2017     1         -5.5        38         0.8       0.0       0.0   \n",
       "2  01/12/2017     2         -6.0        39         1.0       0.0       0.0   \n",
       "3  01/12/2017     3         -6.2        40         0.9       0.0       0.0   \n",
       "4  01/12/2017     4         -6.0        36         2.3       0.0       0.0   \n",
       "\n",
       "  Seasons     Holiday Functioning Day  Partner 2  Rental Count  \n",
       "0  Winter  No Holiday             Yes         50           257  \n",
       "1  Winter  No Holiday             Yes         80           219  \n",
       "2  Winter  No Holiday             Yes        140           162  \n",
       "3  Winter  No Holiday             Yes        105           148  \n",
       "4  Winter  No Holiday             Yes         38            97  "
      ]
     },
     "execution_count": 6,
     "metadata": {},
     "output_type": "execute_result"
    }
   ],
   "source": [
    "bikes.head()"
   ]
  },
  {
   "cell_type": "code",
   "execution_count": 7,
   "id": "4f4cfeb5",
   "metadata": {},
   "outputs": [],
   "source": [
    "bikes = bikes.drop('Partner 2', axis = 1) # удаляем колонку при помощи pandas, указывая ее columns (1)"
   ]
  },
  {
   "cell_type": "code",
   "execution_count": 8,
   "id": "2410af8c",
   "metadata": {},
   "outputs": [
    {
     "data": {
      "text/html": [
       "<div>\n",
       "<style scoped>\n",
       "    .dataframe tbody tr th:only-of-type {\n",
       "        vertical-align: middle;\n",
       "    }\n",
       "\n",
       "    .dataframe tbody tr th {\n",
       "        vertical-align: top;\n",
       "    }\n",
       "\n",
       "    .dataframe thead th {\n",
       "        text-align: right;\n",
       "    }\n",
       "</style>\n",
       "<table border=\"1\" class=\"dataframe\">\n",
       "  <thead>\n",
       "    <tr style=\"text-align: right;\">\n",
       "      <th></th>\n",
       "      <th>Date</th>\n",
       "      <th>Hour</th>\n",
       "      <th>Temperature</th>\n",
       "      <th>Humidity</th>\n",
       "      <th>Wind speed</th>\n",
       "      <th>Rainfall</th>\n",
       "      <th>Snowfall</th>\n",
       "      <th>Seasons</th>\n",
       "      <th>Holiday</th>\n",
       "      <th>Functioning Day</th>\n",
       "      <th>Rental Count</th>\n",
       "    </tr>\n",
       "  </thead>\n",
       "  <tbody>\n",
       "    <tr>\n",
       "      <th>0</th>\n",
       "      <td>01/12/2017</td>\n",
       "      <td>0</td>\n",
       "      <td>-5.2</td>\n",
       "      <td>37</td>\n",
       "      <td>2.2</td>\n",
       "      <td>0.0</td>\n",
       "      <td>0.0</td>\n",
       "      <td>Winter</td>\n",
       "      <td>No Holiday</td>\n",
       "      <td>Yes</td>\n",
       "      <td>257</td>\n",
       "    </tr>\n",
       "    <tr>\n",
       "      <th>1</th>\n",
       "      <td>01/12/2017</td>\n",
       "      <td>1</td>\n",
       "      <td>-5.5</td>\n",
       "      <td>38</td>\n",
       "      <td>0.8</td>\n",
       "      <td>0.0</td>\n",
       "      <td>0.0</td>\n",
       "      <td>Winter</td>\n",
       "      <td>No Holiday</td>\n",
       "      <td>Yes</td>\n",
       "      <td>219</td>\n",
       "    </tr>\n",
       "    <tr>\n",
       "      <th>2</th>\n",
       "      <td>01/12/2017</td>\n",
       "      <td>2</td>\n",
       "      <td>-6.0</td>\n",
       "      <td>39</td>\n",
       "      <td>1.0</td>\n",
       "      <td>0.0</td>\n",
       "      <td>0.0</td>\n",
       "      <td>Winter</td>\n",
       "      <td>No Holiday</td>\n",
       "      <td>Yes</td>\n",
       "      <td>162</td>\n",
       "    </tr>\n",
       "    <tr>\n",
       "      <th>3</th>\n",
       "      <td>01/12/2017</td>\n",
       "      <td>3</td>\n",
       "      <td>-6.2</td>\n",
       "      <td>40</td>\n",
       "      <td>0.9</td>\n",
       "      <td>0.0</td>\n",
       "      <td>0.0</td>\n",
       "      <td>Winter</td>\n",
       "      <td>No Holiday</td>\n",
       "      <td>Yes</td>\n",
       "      <td>148</td>\n",
       "    </tr>\n",
       "    <tr>\n",
       "      <th>4</th>\n",
       "      <td>01/12/2017</td>\n",
       "      <td>4</td>\n",
       "      <td>-6.0</td>\n",
       "      <td>36</td>\n",
       "      <td>2.3</td>\n",
       "      <td>0.0</td>\n",
       "      <td>0.0</td>\n",
       "      <td>Winter</td>\n",
       "      <td>No Holiday</td>\n",
       "      <td>Yes</td>\n",
       "      <td>97</td>\n",
       "    </tr>\n",
       "  </tbody>\n",
       "</table>\n",
       "</div>"
      ],
      "text/plain": [
       "         Date  Hour  Temperature  Humidity  Wind speed  Rainfall  Snowfall  \\\n",
       "0  01/12/2017     0         -5.2        37         2.2       0.0       0.0   \n",
       "1  01/12/2017     1         -5.5        38         0.8       0.0       0.0   \n",
       "2  01/12/2017     2         -6.0        39         1.0       0.0       0.0   \n",
       "3  01/12/2017     3         -6.2        40         0.9       0.0       0.0   \n",
       "4  01/12/2017     4         -6.0        36         2.3       0.0       0.0   \n",
       "\n",
       "  Seasons     Holiday Functioning Day  Rental Count  \n",
       "0  Winter  No Holiday             Yes           257  \n",
       "1  Winter  No Holiday             Yes           219  \n",
       "2  Winter  No Holiday             Yes           162  \n",
       "3  Winter  No Holiday             Yes           148  \n",
       "4  Winter  No Holiday             Yes            97  "
      ]
     },
     "execution_count": 8,
     "metadata": {},
     "output_type": "execute_result"
    }
   ],
   "source": [
    "bikes.head()"
   ]
  },
  {
   "cell_type": "markdown",
   "id": "fda1bb83",
   "metadata": {},
   "source": [
    "Работа с датами"
   ]
  },
  {
   "cell_type": "code",
   "execution_count": 9,
   "id": "063d920c",
   "metadata": {},
   "outputs": [
    {
     "name": "stdout",
     "output_type": "stream",
     "text": [
      "<class 'pandas.core.frame.DataFrame'>\n",
      "RangeIndex: 8760 entries, 0 to 8759\n",
      "Data columns (total 11 columns):\n",
      " #   Column           Non-Null Count  Dtype  \n",
      "---  ------           --------------  -----  \n",
      " 0   Date             8760 non-null   object \n",
      " 1   Hour             8760 non-null   int64  \n",
      " 2   Temperature      8581 non-null   float64\n",
      " 3   Humidity         8760 non-null   int64  \n",
      " 4   Wind speed       8760 non-null   float64\n",
      " 5   Rainfall         8760 non-null   float64\n",
      " 6   Snowfall         8760 non-null   float64\n",
      " 7   Seasons          8760 non-null   object \n",
      " 8   Holiday          8760 non-null   object \n",
      " 9   Functioning Day  8760 non-null   object \n",
      " 10  Rental Count     8760 non-null   int64  \n",
      "dtypes: float64(4), int64(3), object(4)\n",
      "memory usage: 752.9+ KB\n"
     ]
    }
   ],
   "source": [
    "bikes.info()"
   ]
  },
  {
   "cell_type": "code",
   "execution_count": 10,
   "id": "8d4bce1b",
   "metadata": {},
   "outputs": [
    {
     "data": {
      "text/plain": [
       "0      2017-12-01\n",
       "1      2017-12-01\n",
       "2      2017-12-01\n",
       "3      2017-12-01\n",
       "4      2017-12-01\n",
       "          ...    \n",
       "8755   2018-11-30\n",
       "8756   2018-11-30\n",
       "8757   2018-11-30\n",
       "8758   2018-11-30\n",
       "8759   2018-11-30\n",
       "Name: Date, Length: 8760, dtype: datetime64[ns]"
      ]
     },
     "execution_count": 10,
     "metadata": {},
     "output_type": "execute_result"
    }
   ],
   "source": [
    "pd.to_datetime(bikes['Date'], dayfirst=True) # меняем тип признака Date"
   ]
  },
  {
   "cell_type": "code",
   "execution_count": 11,
   "id": "24fbedea",
   "metadata": {},
   "outputs": [
    {
     "data": {
      "text/plain": [
       "0       2017\n",
       "1       2017\n",
       "2       2017\n",
       "3       2017\n",
       "4       2017\n",
       "        ... \n",
       "8755    2018\n",
       "8756    2018\n",
       "8757    2018\n",
       "8758    2018\n",
       "8759    2018\n",
       "Name: Date, Length: 8760, dtype: int32"
      ]
     },
     "execution_count": 11,
     "metadata": {},
     "output_type": "execute_result"
    }
   ],
   "source": [
    "pd.to_datetime(bikes['Date'], dayfirst=True).dt.year # смотрим год"
   ]
  },
  {
   "cell_type": "code",
   "execution_count": 12,
   "id": "c30eeb15",
   "metadata": {},
   "outputs": [
    {
     "data": {
      "text/plain": [
       "0        1\n",
       "1        1\n",
       "2        1\n",
       "3        1\n",
       "4        1\n",
       "        ..\n",
       "8755    30\n",
       "8756    30\n",
       "8757    30\n",
       "8758    30\n",
       "8759    30\n",
       "Name: Date, Length: 8760, dtype: int32"
      ]
     },
     "execution_count": 12,
     "metadata": {},
     "output_type": "execute_result"
    }
   ],
   "source": [
    "pd.to_datetime(bikes['Date'], dayfirst=True).dt.day # смотрим день"
   ]
  },
  {
   "cell_type": "code",
   "execution_count": 13,
   "id": "6bb69237",
   "metadata": {},
   "outputs": [
    {
     "data": {
      "text/plain": [
       "0       12\n",
       "1       12\n",
       "2       12\n",
       "3       12\n",
       "4       12\n",
       "        ..\n",
       "8755    11\n",
       "8756    11\n",
       "8757    11\n",
       "8758    11\n",
       "8759    11\n",
       "Name: Date, Length: 8760, dtype: int32"
      ]
     },
     "execution_count": 13,
     "metadata": {},
     "output_type": "execute_result"
    }
   ],
   "source": [
    "pd.to_datetime(bikes['Date'], dayfirst=True).dt.month # смотрим месяц"
   ]
  },
  {
   "cell_type": "code",
   "execution_count": 14,
   "id": "dce14c49",
   "metadata": {},
   "outputs": [],
   "source": [
    "bikes['Date'] = pd.to_datetime(bikes['Date'], dayfirst=True)"
   ]
  },
  {
   "cell_type": "code",
   "execution_count": 15,
   "id": "2b8e0161",
   "metadata": {},
   "outputs": [
    {
     "data": {
      "text/plain": [
       "(744, 11)"
      ]
     },
     "execution_count": 15,
     "metadata": {},
     "output_type": "execute_result"
    }
   ],
   "source": [
    "bikes[bikes['Date'].dt.month == 3].shape"
   ]
  },
  {
   "cell_type": "code",
   "execution_count": 16,
   "id": "9fcb63fb",
   "metadata": {},
   "outputs": [
    {
     "data": {
      "text/plain": [
       "(1248, 11)"
      ]
     },
     "execution_count": 16,
     "metadata": {},
     "output_type": "execute_result"
    }
   ],
   "source": [
    "bikes[bikes['Date'].dt.day_name() == 'Sunday'].shape"
   ]
  },
  {
   "cell_type": "markdown",
   "id": "1d3eaee1",
   "metadata": {},
   "source": [
    "Переменные True и False"
   ]
  },
  {
   "cell_type": "markdown",
   "id": "059edcc3",
   "metadata": {},
   "source": [
    "###### Бинарная переменная - 1 способ"
   ]
  },
  {
   "cell_type": "code",
   "execution_count": 17,
   "id": "67215eb3",
   "metadata": {},
   "outputs": [],
   "source": [
    "bikes['Functioning Day'] = bikes['Functioning Day'] == 'Yes'"
   ]
  },
  {
   "cell_type": "code",
   "execution_count": 18,
   "id": "cd27a22e",
   "metadata": {},
   "outputs": [
    {
     "data": {
      "text/html": [
       "<div>\n",
       "<style scoped>\n",
       "    .dataframe tbody tr th:only-of-type {\n",
       "        vertical-align: middle;\n",
       "    }\n",
       "\n",
       "    .dataframe tbody tr th {\n",
       "        vertical-align: top;\n",
       "    }\n",
       "\n",
       "    .dataframe thead th {\n",
       "        text-align: right;\n",
       "    }\n",
       "</style>\n",
       "<table border=\"1\" class=\"dataframe\">\n",
       "  <thead>\n",
       "    <tr style=\"text-align: right;\">\n",
       "      <th></th>\n",
       "      <th>Date</th>\n",
       "      <th>Hour</th>\n",
       "      <th>Temperature</th>\n",
       "      <th>Humidity</th>\n",
       "      <th>Wind speed</th>\n",
       "      <th>Rainfall</th>\n",
       "      <th>Snowfall</th>\n",
       "      <th>Seasons</th>\n",
       "      <th>Holiday</th>\n",
       "      <th>Functioning Day</th>\n",
       "      <th>Rental Count</th>\n",
       "    </tr>\n",
       "  </thead>\n",
       "  <tbody>\n",
       "    <tr>\n",
       "      <th>0</th>\n",
       "      <td>2017-12-01</td>\n",
       "      <td>0</td>\n",
       "      <td>-5.2</td>\n",
       "      <td>37</td>\n",
       "      <td>2.2</td>\n",
       "      <td>0.0</td>\n",
       "      <td>0.0</td>\n",
       "      <td>Winter</td>\n",
       "      <td>No Holiday</td>\n",
       "      <td>True</td>\n",
       "      <td>257</td>\n",
       "    </tr>\n",
       "    <tr>\n",
       "      <th>1</th>\n",
       "      <td>2017-12-01</td>\n",
       "      <td>1</td>\n",
       "      <td>-5.5</td>\n",
       "      <td>38</td>\n",
       "      <td>0.8</td>\n",
       "      <td>0.0</td>\n",
       "      <td>0.0</td>\n",
       "      <td>Winter</td>\n",
       "      <td>No Holiday</td>\n",
       "      <td>True</td>\n",
       "      <td>219</td>\n",
       "    </tr>\n",
       "    <tr>\n",
       "      <th>2</th>\n",
       "      <td>2017-12-01</td>\n",
       "      <td>2</td>\n",
       "      <td>-6.0</td>\n",
       "      <td>39</td>\n",
       "      <td>1.0</td>\n",
       "      <td>0.0</td>\n",
       "      <td>0.0</td>\n",
       "      <td>Winter</td>\n",
       "      <td>No Holiday</td>\n",
       "      <td>True</td>\n",
       "      <td>162</td>\n",
       "    </tr>\n",
       "    <tr>\n",
       "      <th>3</th>\n",
       "      <td>2017-12-01</td>\n",
       "      <td>3</td>\n",
       "      <td>-6.2</td>\n",
       "      <td>40</td>\n",
       "      <td>0.9</td>\n",
       "      <td>0.0</td>\n",
       "      <td>0.0</td>\n",
       "      <td>Winter</td>\n",
       "      <td>No Holiday</td>\n",
       "      <td>True</td>\n",
       "      <td>148</td>\n",
       "    </tr>\n",
       "    <tr>\n",
       "      <th>4</th>\n",
       "      <td>2017-12-01</td>\n",
       "      <td>4</td>\n",
       "      <td>-6.0</td>\n",
       "      <td>36</td>\n",
       "      <td>2.3</td>\n",
       "      <td>0.0</td>\n",
       "      <td>0.0</td>\n",
       "      <td>Winter</td>\n",
       "      <td>No Holiday</td>\n",
       "      <td>True</td>\n",
       "      <td>97</td>\n",
       "    </tr>\n",
       "  </tbody>\n",
       "</table>\n",
       "</div>"
      ],
      "text/plain": [
       "        Date  Hour  Temperature  Humidity  Wind speed  Rainfall  Snowfall  \\\n",
       "0 2017-12-01     0         -5.2        37         2.2       0.0       0.0   \n",
       "1 2017-12-01     1         -5.5        38         0.8       0.0       0.0   \n",
       "2 2017-12-01     2         -6.0        39         1.0       0.0       0.0   \n",
       "3 2017-12-01     3         -6.2        40         0.9       0.0       0.0   \n",
       "4 2017-12-01     4         -6.0        36         2.3       0.0       0.0   \n",
       "\n",
       "  Seasons     Holiday  Functioning Day  Rental Count  \n",
       "0  Winter  No Holiday             True           257  \n",
       "1  Winter  No Holiday             True           219  \n",
       "2  Winter  No Holiday             True           162  \n",
       "3  Winter  No Holiday             True           148  \n",
       "4  Winter  No Holiday             True            97  "
      ]
     },
     "execution_count": 18,
     "metadata": {},
     "output_type": "execute_result"
    }
   ],
   "source": [
    "bikes.head()"
   ]
  },
  {
   "cell_type": "markdown",
   "id": "c8269cc4",
   "metadata": {},
   "source": [
    "###### Бинарная переменная - 2 способ"
   ]
  },
  {
   "cell_type": "code",
   "execution_count": 19,
   "id": "91445700",
   "metadata": {},
   "outputs": [
    {
     "name": "stdout",
     "output_type": "stream",
     "text": [
      "13.38\n",
      "[13.38, 26.76, 66.91, 165.19]\n",
      "[13.38, 26.76, 66.91, 165.19]\n"
     ]
    }
   ],
   "source": [
    "def currency_converter(rub):\n",
    "    return round(rub / 74.73, 2)\n",
    "\n",
    "print(currency_converter(1000))\n",
    "amounts = [1000, 2000, 5000, 12345]\n",
    "print(list(map(currency_converter, amounts)))\n",
    "print(list(map(lambda rub: round(rub / 74.73, 2), amounts))) # анонимная функция"
   ]
  },
  {
   "cell_type": "code",
   "execution_count": 20,
   "id": "dc916df5",
   "metadata": {},
   "outputs": [
    {
     "data": {
      "text/plain": [
       "0       0\n",
       "1       0\n",
       "2       0\n",
       "3       0\n",
       "4       0\n",
       "       ..\n",
       "8755    0\n",
       "8756    0\n",
       "8757    0\n",
       "8758    0\n",
       "8759    0\n",
       "Name: Holiday, Length: 8760, dtype: int64"
      ]
     },
     "execution_count": 20,
     "metadata": {},
     "output_type": "execute_result"
    }
   ],
   "source": [
    "bikes['Holiday'].apply(lambda x : 1 if x == 'Holiday' else 0) # бинарность через apply"
   ]
  },
  {
   "cell_type": "code",
   "execution_count": 21,
   "id": "33e50ded",
   "metadata": {},
   "outputs": [],
   "source": [
    "bikes['Holiday'] = bikes['Holiday'].apply(lambda x : 1 if x == 'Holiday' else 0)"
   ]
  },
  {
   "cell_type": "code",
   "execution_count": 22,
   "id": "ee27fd9d",
   "metadata": {},
   "outputs": [
    {
     "data": {
      "text/html": [
       "<div>\n",
       "<style scoped>\n",
       "    .dataframe tbody tr th:only-of-type {\n",
       "        vertical-align: middle;\n",
       "    }\n",
       "\n",
       "    .dataframe tbody tr th {\n",
       "        vertical-align: top;\n",
       "    }\n",
       "\n",
       "    .dataframe thead th {\n",
       "        text-align: right;\n",
       "    }\n",
       "</style>\n",
       "<table border=\"1\" class=\"dataframe\">\n",
       "  <thead>\n",
       "    <tr style=\"text-align: right;\">\n",
       "      <th></th>\n",
       "      <th>Date</th>\n",
       "      <th>Hour</th>\n",
       "      <th>Temperature</th>\n",
       "      <th>Humidity</th>\n",
       "      <th>Wind speed</th>\n",
       "      <th>Rainfall</th>\n",
       "      <th>Snowfall</th>\n",
       "      <th>Seasons</th>\n",
       "      <th>Holiday</th>\n",
       "      <th>Functioning Day</th>\n",
       "      <th>Rental Count</th>\n",
       "    </tr>\n",
       "  </thead>\n",
       "  <tbody>\n",
       "    <tr>\n",
       "      <th>0</th>\n",
       "      <td>2017-12-01</td>\n",
       "      <td>0</td>\n",
       "      <td>-5.2</td>\n",
       "      <td>37</td>\n",
       "      <td>2.2</td>\n",
       "      <td>0.0</td>\n",
       "      <td>0.0</td>\n",
       "      <td>Winter</td>\n",
       "      <td>0</td>\n",
       "      <td>True</td>\n",
       "      <td>257</td>\n",
       "    </tr>\n",
       "    <tr>\n",
       "      <th>1</th>\n",
       "      <td>2017-12-01</td>\n",
       "      <td>1</td>\n",
       "      <td>-5.5</td>\n",
       "      <td>38</td>\n",
       "      <td>0.8</td>\n",
       "      <td>0.0</td>\n",
       "      <td>0.0</td>\n",
       "      <td>Winter</td>\n",
       "      <td>0</td>\n",
       "      <td>True</td>\n",
       "      <td>219</td>\n",
       "    </tr>\n",
       "    <tr>\n",
       "      <th>2</th>\n",
       "      <td>2017-12-01</td>\n",
       "      <td>2</td>\n",
       "      <td>-6.0</td>\n",
       "      <td>39</td>\n",
       "      <td>1.0</td>\n",
       "      <td>0.0</td>\n",
       "      <td>0.0</td>\n",
       "      <td>Winter</td>\n",
       "      <td>0</td>\n",
       "      <td>True</td>\n",
       "      <td>162</td>\n",
       "    </tr>\n",
       "    <tr>\n",
       "      <th>3</th>\n",
       "      <td>2017-12-01</td>\n",
       "      <td>3</td>\n",
       "      <td>-6.2</td>\n",
       "      <td>40</td>\n",
       "      <td>0.9</td>\n",
       "      <td>0.0</td>\n",
       "      <td>0.0</td>\n",
       "      <td>Winter</td>\n",
       "      <td>0</td>\n",
       "      <td>True</td>\n",
       "      <td>148</td>\n",
       "    </tr>\n",
       "    <tr>\n",
       "      <th>4</th>\n",
       "      <td>2017-12-01</td>\n",
       "      <td>4</td>\n",
       "      <td>-6.0</td>\n",
       "      <td>36</td>\n",
       "      <td>2.3</td>\n",
       "      <td>0.0</td>\n",
       "      <td>0.0</td>\n",
       "      <td>Winter</td>\n",
       "      <td>0</td>\n",
       "      <td>True</td>\n",
       "      <td>97</td>\n",
       "    </tr>\n",
       "  </tbody>\n",
       "</table>\n",
       "</div>"
      ],
      "text/plain": [
       "        Date  Hour  Temperature  Humidity  Wind speed  Rainfall  Snowfall  \\\n",
       "0 2017-12-01     0         -5.2        37         2.2       0.0       0.0   \n",
       "1 2017-12-01     1         -5.5        38         0.8       0.0       0.0   \n",
       "2 2017-12-01     2         -6.0        39         1.0       0.0       0.0   \n",
       "3 2017-12-01     3         -6.2        40         0.9       0.0       0.0   \n",
       "4 2017-12-01     4         -6.0        36         2.3       0.0       0.0   \n",
       "\n",
       "  Seasons  Holiday  Functioning Day  Rental Count  \n",
       "0  Winter        0             True           257  \n",
       "1  Winter        0             True           219  \n",
       "2  Winter        0             True           162  \n",
       "3  Winter        0             True           148  \n",
       "4  Winter        0             True            97  "
      ]
     },
     "execution_count": 22,
     "metadata": {},
     "output_type": "execute_result"
    }
   ],
   "source": [
    "bikes.head()"
   ]
  },
  {
   "cell_type": "code",
   "execution_count": 23,
   "id": "0ed3573d",
   "metadata": {},
   "outputs": [
    {
     "data": {
      "text/plain": [
       "0       0\n",
       "1       0\n",
       "2       0\n",
       "3       1\n",
       "4       0\n",
       "       ..\n",
       "8755    0\n",
       "8756    0\n",
       "8757    0\n",
       "8758    1\n",
       "8759    1\n",
       "Name: Humidity, Length: 8760, dtype: int64"
      ]
     },
     "execution_count": 23,
     "metadata": {},
     "output_type": "execute_result"
    }
   ],
   "source": [
    "bikes['Humidity'].apply(lambda x: 1 if x in range(40,61) else 0)"
   ]
  },
  {
   "cell_type": "code",
   "execution_count": 24,
   "id": "8d5fc7e8",
   "metadata": {},
   "outputs": [],
   "source": [
    "bikes['Humidity'] = bikes['Humidity'].apply(lambda x: 1 if x in range(40,61) else 0)"
   ]
  },
  {
   "cell_type": "code",
   "execution_count": 25,
   "id": "2f93355f",
   "metadata": {},
   "outputs": [
    {
     "data": {
      "text/html": [
       "<div>\n",
       "<style scoped>\n",
       "    .dataframe tbody tr th:only-of-type {\n",
       "        vertical-align: middle;\n",
       "    }\n",
       "\n",
       "    .dataframe tbody tr th {\n",
       "        vertical-align: top;\n",
       "    }\n",
       "\n",
       "    .dataframe thead th {\n",
       "        text-align: right;\n",
       "    }\n",
       "</style>\n",
       "<table border=\"1\" class=\"dataframe\">\n",
       "  <thead>\n",
       "    <tr style=\"text-align: right;\">\n",
       "      <th></th>\n",
       "      <th>Date</th>\n",
       "      <th>Hour</th>\n",
       "      <th>Temperature</th>\n",
       "      <th>Humidity</th>\n",
       "      <th>Wind speed</th>\n",
       "      <th>Rainfall</th>\n",
       "      <th>Snowfall</th>\n",
       "      <th>Seasons</th>\n",
       "      <th>Holiday</th>\n",
       "      <th>Functioning Day</th>\n",
       "      <th>Rental Count</th>\n",
       "    </tr>\n",
       "  </thead>\n",
       "  <tbody>\n",
       "    <tr>\n",
       "      <th>0</th>\n",
       "      <td>2017-12-01</td>\n",
       "      <td>0</td>\n",
       "      <td>-5.2</td>\n",
       "      <td>0</td>\n",
       "      <td>2.2</td>\n",
       "      <td>0.0</td>\n",
       "      <td>0.0</td>\n",
       "      <td>Winter</td>\n",
       "      <td>0</td>\n",
       "      <td>True</td>\n",
       "      <td>257</td>\n",
       "    </tr>\n",
       "    <tr>\n",
       "      <th>1</th>\n",
       "      <td>2017-12-01</td>\n",
       "      <td>1</td>\n",
       "      <td>-5.5</td>\n",
       "      <td>0</td>\n",
       "      <td>0.8</td>\n",
       "      <td>0.0</td>\n",
       "      <td>0.0</td>\n",
       "      <td>Winter</td>\n",
       "      <td>0</td>\n",
       "      <td>True</td>\n",
       "      <td>219</td>\n",
       "    </tr>\n",
       "    <tr>\n",
       "      <th>2</th>\n",
       "      <td>2017-12-01</td>\n",
       "      <td>2</td>\n",
       "      <td>-6.0</td>\n",
       "      <td>0</td>\n",
       "      <td>1.0</td>\n",
       "      <td>0.0</td>\n",
       "      <td>0.0</td>\n",
       "      <td>Winter</td>\n",
       "      <td>0</td>\n",
       "      <td>True</td>\n",
       "      <td>162</td>\n",
       "    </tr>\n",
       "    <tr>\n",
       "      <th>3</th>\n",
       "      <td>2017-12-01</td>\n",
       "      <td>3</td>\n",
       "      <td>-6.2</td>\n",
       "      <td>1</td>\n",
       "      <td>0.9</td>\n",
       "      <td>0.0</td>\n",
       "      <td>0.0</td>\n",
       "      <td>Winter</td>\n",
       "      <td>0</td>\n",
       "      <td>True</td>\n",
       "      <td>148</td>\n",
       "    </tr>\n",
       "    <tr>\n",
       "      <th>4</th>\n",
       "      <td>2017-12-01</td>\n",
       "      <td>4</td>\n",
       "      <td>-6.0</td>\n",
       "      <td>0</td>\n",
       "      <td>2.3</td>\n",
       "      <td>0.0</td>\n",
       "      <td>0.0</td>\n",
       "      <td>Winter</td>\n",
       "      <td>0</td>\n",
       "      <td>True</td>\n",
       "      <td>97</td>\n",
       "    </tr>\n",
       "  </tbody>\n",
       "</table>\n",
       "</div>"
      ],
      "text/plain": [
       "        Date  Hour  Temperature  Humidity  Wind speed  Rainfall  Snowfall  \\\n",
       "0 2017-12-01     0         -5.2         0         2.2       0.0       0.0   \n",
       "1 2017-12-01     1         -5.5         0         0.8       0.0       0.0   \n",
       "2 2017-12-01     2         -6.0         0         1.0       0.0       0.0   \n",
       "3 2017-12-01     3         -6.2         1         0.9       0.0       0.0   \n",
       "4 2017-12-01     4         -6.0         0         2.3       0.0       0.0   \n",
       "\n",
       "  Seasons  Holiday  Functioning Day  Rental Count  \n",
       "0  Winter        0             True           257  \n",
       "1  Winter        0             True           219  \n",
       "2  Winter        0             True           162  \n",
       "3  Winter        0             True           148  \n",
       "4  Winter        0             True            97  "
      ]
     },
     "execution_count": 25,
     "metadata": {},
     "output_type": "execute_result"
    }
   ],
   "source": [
    "bikes.head()"
   ]
  },
  {
   "cell_type": "markdown",
   "id": "1de638d8",
   "metadata": {},
   "source": [
    "Категориальные переменные из колличественных"
   ]
  },
  {
   "cell_type": "code",
   "execution_count": 26,
   "id": "a4f0c5f5",
   "metadata": {},
   "outputs": [],
   "source": [
    "def get_temp_cat(temp):\n",
    "    if temp < 0:\n",
    "        return 'Freesing'\n",
    "    elif temp < 15:\n",
    "        return 'Chilly'\n",
    "    elif temp < 26:\n",
    "        return 'Nice'\n",
    "    elif temp >=26:\n",
    "        return 'Hot'\n",
    "    else:\n",
    "        return temp"
   ]
  },
  {
   "cell_type": "code",
   "execution_count": 27,
   "id": "c088974b",
   "metadata": {},
   "outputs": [],
   "source": [
    "bikes['Temperature Category'] = bikes['Temperature'].apply(get_temp_cat)"
   ]
  },
  {
   "cell_type": "code",
   "execution_count": 28,
   "id": "0423df02",
   "metadata": {},
   "outputs": [
    {
     "data": {
      "text/html": [
       "<div>\n",
       "<style scoped>\n",
       "    .dataframe tbody tr th:only-of-type {\n",
       "        vertical-align: middle;\n",
       "    }\n",
       "\n",
       "    .dataframe tbody tr th {\n",
       "        vertical-align: top;\n",
       "    }\n",
       "\n",
       "    .dataframe thead th {\n",
       "        text-align: right;\n",
       "    }\n",
       "</style>\n",
       "<table border=\"1\" class=\"dataframe\">\n",
       "  <thead>\n",
       "    <tr style=\"text-align: right;\">\n",
       "      <th></th>\n",
       "      <th>Date</th>\n",
       "      <th>Hour</th>\n",
       "      <th>Temperature</th>\n",
       "      <th>Humidity</th>\n",
       "      <th>Wind speed</th>\n",
       "      <th>Rainfall</th>\n",
       "      <th>Snowfall</th>\n",
       "      <th>Seasons</th>\n",
       "      <th>Holiday</th>\n",
       "      <th>Functioning Day</th>\n",
       "      <th>Rental Count</th>\n",
       "      <th>Temperature Category</th>\n",
       "    </tr>\n",
       "  </thead>\n",
       "  <tbody>\n",
       "    <tr>\n",
       "      <th>0</th>\n",
       "      <td>2017-12-01</td>\n",
       "      <td>0</td>\n",
       "      <td>-5.2</td>\n",
       "      <td>0</td>\n",
       "      <td>2.2</td>\n",
       "      <td>0.0</td>\n",
       "      <td>0.0</td>\n",
       "      <td>Winter</td>\n",
       "      <td>0</td>\n",
       "      <td>True</td>\n",
       "      <td>257</td>\n",
       "      <td>Freesing</td>\n",
       "    </tr>\n",
       "    <tr>\n",
       "      <th>1</th>\n",
       "      <td>2017-12-01</td>\n",
       "      <td>1</td>\n",
       "      <td>-5.5</td>\n",
       "      <td>0</td>\n",
       "      <td>0.8</td>\n",
       "      <td>0.0</td>\n",
       "      <td>0.0</td>\n",
       "      <td>Winter</td>\n",
       "      <td>0</td>\n",
       "      <td>True</td>\n",
       "      <td>219</td>\n",
       "      <td>Freesing</td>\n",
       "    </tr>\n",
       "    <tr>\n",
       "      <th>2</th>\n",
       "      <td>2017-12-01</td>\n",
       "      <td>2</td>\n",
       "      <td>-6.0</td>\n",
       "      <td>0</td>\n",
       "      <td>1.0</td>\n",
       "      <td>0.0</td>\n",
       "      <td>0.0</td>\n",
       "      <td>Winter</td>\n",
       "      <td>0</td>\n",
       "      <td>True</td>\n",
       "      <td>162</td>\n",
       "      <td>Freesing</td>\n",
       "    </tr>\n",
       "    <tr>\n",
       "      <th>3</th>\n",
       "      <td>2017-12-01</td>\n",
       "      <td>3</td>\n",
       "      <td>-6.2</td>\n",
       "      <td>1</td>\n",
       "      <td>0.9</td>\n",
       "      <td>0.0</td>\n",
       "      <td>0.0</td>\n",
       "      <td>Winter</td>\n",
       "      <td>0</td>\n",
       "      <td>True</td>\n",
       "      <td>148</td>\n",
       "      <td>Freesing</td>\n",
       "    </tr>\n",
       "    <tr>\n",
       "      <th>4</th>\n",
       "      <td>2017-12-01</td>\n",
       "      <td>4</td>\n",
       "      <td>-6.0</td>\n",
       "      <td>0</td>\n",
       "      <td>2.3</td>\n",
       "      <td>0.0</td>\n",
       "      <td>0.0</td>\n",
       "      <td>Winter</td>\n",
       "      <td>0</td>\n",
       "      <td>True</td>\n",
       "      <td>97</td>\n",
       "      <td>Freesing</td>\n",
       "    </tr>\n",
       "  </tbody>\n",
       "</table>\n",
       "</div>"
      ],
      "text/plain": [
       "        Date  Hour  Temperature  Humidity  Wind speed  Rainfall  Snowfall  \\\n",
       "0 2017-12-01     0         -5.2         0         2.2       0.0       0.0   \n",
       "1 2017-12-01     1         -5.5         0         0.8       0.0       0.0   \n",
       "2 2017-12-01     2         -6.0         0         1.0       0.0       0.0   \n",
       "3 2017-12-01     3         -6.2         1         0.9       0.0       0.0   \n",
       "4 2017-12-01     4         -6.0         0         2.3       0.0       0.0   \n",
       "\n",
       "  Seasons  Holiday  Functioning Day  Rental Count Temperature Category  \n",
       "0  Winter        0             True           257             Freesing  \n",
       "1  Winter        0             True           219             Freesing  \n",
       "2  Winter        0             True           162             Freesing  \n",
       "3  Winter        0             True           148             Freesing  \n",
       "4  Winter        0             True            97             Freesing  "
      ]
     },
     "execution_count": 28,
     "metadata": {},
     "output_type": "execute_result"
    }
   ],
   "source": [
    "bikes.head()"
   ]
  },
  {
   "cell_type": "code",
   "execution_count": 29,
   "id": "53a4193a",
   "metadata": {},
   "outputs": [
    {
     "name": "stdout",
     "output_type": "stream",
     "text": [
      "<class 'pandas.core.frame.DataFrame'>\n",
      "RangeIndex: 8760 entries, 0 to 8759\n",
      "Data columns (total 12 columns):\n",
      " #   Column                Non-Null Count  Dtype         \n",
      "---  ------                --------------  -----         \n",
      " 0   Date                  8760 non-null   datetime64[ns]\n",
      " 1   Hour                  8760 non-null   int64         \n",
      " 2   Temperature           8581 non-null   float64       \n",
      " 3   Humidity              8760 non-null   int64         \n",
      " 4   Wind speed            8760 non-null   float64       \n",
      " 5   Rainfall              8760 non-null   float64       \n",
      " 6   Snowfall              8760 non-null   float64       \n",
      " 7   Seasons               8760 non-null   object        \n",
      " 8   Holiday               8760 non-null   int64         \n",
      " 9   Functioning Day       8760 non-null   bool          \n",
      " 10  Rental Count          8760 non-null   int64         \n",
      " 11  Temperature Category  8581 non-null   object        \n",
      "dtypes: bool(1), datetime64[ns](1), float64(4), int64(4), object(2)\n",
      "memory usage: 761.5+ KB\n"
     ]
    }
   ],
   "source": [
    "bikes.info()"
   ]
  },
  {
   "cell_type": "code",
   "execution_count": 30,
   "id": "303524e8",
   "metadata": {},
   "outputs": [],
   "source": [
    "bikes['Temperature Category'] = pd.Categorical(bikes['Temperature Category']) # меняем категорию"
   ]
  },
  {
   "cell_type": "code",
   "execution_count": 31,
   "id": "2b3766c1",
   "metadata": {},
   "outputs": [
    {
     "name": "stdout",
     "output_type": "stream",
     "text": [
      "<class 'pandas.core.frame.DataFrame'>\n",
      "RangeIndex: 8760 entries, 0 to 8759\n",
      "Data columns (total 12 columns):\n",
      " #   Column                Non-Null Count  Dtype         \n",
      "---  ------                --------------  -----         \n",
      " 0   Date                  8760 non-null   datetime64[ns]\n",
      " 1   Hour                  8760 non-null   int64         \n",
      " 2   Temperature           8581 non-null   float64       \n",
      " 3   Humidity              8760 non-null   int64         \n",
      " 4   Wind speed            8760 non-null   float64       \n",
      " 5   Rainfall              8760 non-null   float64       \n",
      " 6   Snowfall              8760 non-null   float64       \n",
      " 7   Seasons               8760 non-null   object        \n",
      " 8   Holiday               8760 non-null   int64         \n",
      " 9   Functioning Day       8760 non-null   bool          \n",
      " 10  Rental Count          8760 non-null   int64         \n",
      " 11  Temperature Category  8581 non-null   category      \n",
      "dtypes: bool(1), category(1), datetime64[ns](1), float64(4), int64(4), object(1)\n",
      "memory usage: 701.8+ KB\n"
     ]
    }
   ],
   "source": [
    "bikes.info()"
   ]
  },
  {
   "cell_type": "code",
   "execution_count": 32,
   "id": "845fc80d",
   "metadata": {},
   "outputs": [
    {
     "data": {
      "text/plain": [
       "0       Freesing\n",
       "1       Freesing\n",
       "2       Freesing\n",
       "3       Freesing\n",
       "4       Freesing\n",
       "          ...   \n",
       "8755      Chilly\n",
       "8756      Chilly\n",
       "8757      Chilly\n",
       "8758      Chilly\n",
       "8759      Chilly\n",
       "Name: Temperature Category, Length: 8760, dtype: category\n",
       "Categories (4, object): ['Chilly', 'Freesing', 'Hot', 'Nice']"
      ]
     },
     "execution_count": 32,
     "metadata": {},
     "output_type": "execute_result"
    }
   ],
   "source": [
    "bikes['Temperature Category']"
   ]
  },
  {
   "cell_type": "code",
   "execution_count": 33,
   "id": "c534cd7c",
   "metadata": {},
   "outputs": [
    {
     "data": {
      "text/plain": [
       "0       1\n",
       "1       1\n",
       "2       1\n",
       "3       1\n",
       "4       1\n",
       "       ..\n",
       "8755    0\n",
       "8756    0\n",
       "8757    0\n",
       "8758    0\n",
       "8759    0\n",
       "Length: 8760, dtype: int8"
      ]
     },
     "execution_count": 33,
     "metadata": {},
     "output_type": "execute_result"
    }
   ],
   "source": [
    "bikes['Temperature Category'].cat.codes # массив, закодированный числами"
   ]
  },
  {
   "cell_type": "code",
   "execution_count": 34,
   "id": "5103d56f",
   "metadata": {},
   "outputs": [
    {
     "data": {
      "text/plain": [
       "Index(['Chilly', 'Freesing', 'Hot', 'Nice'], dtype='object')"
      ]
     },
     "execution_count": 34,
     "metadata": {},
     "output_type": "execute_result"
    }
   ],
   "source": [
    "bikes['Temperature Category'].cat.categories # категории"
   ]
  },
  {
   "cell_type": "markdown",
   "id": "51c17074",
   "metadata": {},
   "source": [
    "Переменная с несколькими основными переменными"
   ]
  },
  {
   "cell_type": "code",
   "execution_count": 35,
   "id": "49eb7cc3",
   "metadata": {},
   "outputs": [],
   "source": [
    "bikes['Good Weather'] = np.where((bikes['Temperature Category'] == 'Nice') & (bikes['Humidity'] == 1) & (bikes['Wind speed'] <= 5.4) & (bikes['Snowfall'] == 0) & (bikes['Rainfall'] == 0), 1, 0)"
   ]
  },
  {
   "cell_type": "code",
   "execution_count": 36,
   "id": "bdf904b5",
   "metadata": {},
   "outputs": [
    {
     "data": {
      "text/html": [
       "<div>\n",
       "<style scoped>\n",
       "    .dataframe tbody tr th:only-of-type {\n",
       "        vertical-align: middle;\n",
       "    }\n",
       "\n",
       "    .dataframe tbody tr th {\n",
       "        vertical-align: top;\n",
       "    }\n",
       "\n",
       "    .dataframe thead th {\n",
       "        text-align: right;\n",
       "    }\n",
       "</style>\n",
       "<table border=\"1\" class=\"dataframe\">\n",
       "  <thead>\n",
       "    <tr style=\"text-align: right;\">\n",
       "      <th></th>\n",
       "      <th>Date</th>\n",
       "      <th>Hour</th>\n",
       "      <th>Temperature</th>\n",
       "      <th>Humidity</th>\n",
       "      <th>Wind speed</th>\n",
       "      <th>Rainfall</th>\n",
       "      <th>Snowfall</th>\n",
       "      <th>Seasons</th>\n",
       "      <th>Holiday</th>\n",
       "      <th>Functioning Day</th>\n",
       "      <th>Rental Count</th>\n",
       "      <th>Temperature Category</th>\n",
       "      <th>Good Weather</th>\n",
       "    </tr>\n",
       "  </thead>\n",
       "  <tbody>\n",
       "    <tr>\n",
       "      <th>0</th>\n",
       "      <td>2017-12-01</td>\n",
       "      <td>0</td>\n",
       "      <td>-5.2</td>\n",
       "      <td>0</td>\n",
       "      <td>2.2</td>\n",
       "      <td>0.0</td>\n",
       "      <td>0.0</td>\n",
       "      <td>Winter</td>\n",
       "      <td>0</td>\n",
       "      <td>True</td>\n",
       "      <td>257</td>\n",
       "      <td>Freesing</td>\n",
       "      <td>0</td>\n",
       "    </tr>\n",
       "    <tr>\n",
       "      <th>1</th>\n",
       "      <td>2017-12-01</td>\n",
       "      <td>1</td>\n",
       "      <td>-5.5</td>\n",
       "      <td>0</td>\n",
       "      <td>0.8</td>\n",
       "      <td>0.0</td>\n",
       "      <td>0.0</td>\n",
       "      <td>Winter</td>\n",
       "      <td>0</td>\n",
       "      <td>True</td>\n",
       "      <td>219</td>\n",
       "      <td>Freesing</td>\n",
       "      <td>0</td>\n",
       "    </tr>\n",
       "    <tr>\n",
       "      <th>2</th>\n",
       "      <td>2017-12-01</td>\n",
       "      <td>2</td>\n",
       "      <td>-6.0</td>\n",
       "      <td>0</td>\n",
       "      <td>1.0</td>\n",
       "      <td>0.0</td>\n",
       "      <td>0.0</td>\n",
       "      <td>Winter</td>\n",
       "      <td>0</td>\n",
       "      <td>True</td>\n",
       "      <td>162</td>\n",
       "      <td>Freesing</td>\n",
       "      <td>0</td>\n",
       "    </tr>\n",
       "    <tr>\n",
       "      <th>3</th>\n",
       "      <td>2017-12-01</td>\n",
       "      <td>3</td>\n",
       "      <td>-6.2</td>\n",
       "      <td>1</td>\n",
       "      <td>0.9</td>\n",
       "      <td>0.0</td>\n",
       "      <td>0.0</td>\n",
       "      <td>Winter</td>\n",
       "      <td>0</td>\n",
       "      <td>True</td>\n",
       "      <td>148</td>\n",
       "      <td>Freesing</td>\n",
       "      <td>0</td>\n",
       "    </tr>\n",
       "    <tr>\n",
       "      <th>4</th>\n",
       "      <td>2017-12-01</td>\n",
       "      <td>4</td>\n",
       "      <td>-6.0</td>\n",
       "      <td>0</td>\n",
       "      <td>2.3</td>\n",
       "      <td>0.0</td>\n",
       "      <td>0.0</td>\n",
       "      <td>Winter</td>\n",
       "      <td>0</td>\n",
       "      <td>True</td>\n",
       "      <td>97</td>\n",
       "      <td>Freesing</td>\n",
       "      <td>0</td>\n",
       "    </tr>\n",
       "  </tbody>\n",
       "</table>\n",
       "</div>"
      ],
      "text/plain": [
       "        Date  Hour  Temperature  Humidity  Wind speed  Rainfall  Snowfall  \\\n",
       "0 2017-12-01     0         -5.2         0         2.2       0.0       0.0   \n",
       "1 2017-12-01     1         -5.5         0         0.8       0.0       0.0   \n",
       "2 2017-12-01     2         -6.0         0         1.0       0.0       0.0   \n",
       "3 2017-12-01     3         -6.2         1         0.9       0.0       0.0   \n",
       "4 2017-12-01     4         -6.0         0         2.3       0.0       0.0   \n",
       "\n",
       "  Seasons  Holiday  Functioning Day  Rental Count Temperature Category  \\\n",
       "0  Winter        0             True           257             Freesing   \n",
       "1  Winter        0             True           219             Freesing   \n",
       "2  Winter        0             True           162             Freesing   \n",
       "3  Winter        0             True           148             Freesing   \n",
       "4  Winter        0             True            97             Freesing   \n",
       "\n",
       "   Good Weather  \n",
       "0             0  \n",
       "1             0  \n",
       "2             0  \n",
       "3             0  \n",
       "4             0  "
      ]
     },
     "execution_count": 36,
     "metadata": {},
     "output_type": "execute_result"
    }
   ],
   "source": [
    "bikes.head()"
   ]
  },
  {
   "cell_type": "code",
   "execution_count": 37,
   "id": "981db8e6",
   "metadata": {},
   "outputs": [
    {
     "data": {
      "text/plain": [
       "np.int64(812)"
      ]
     },
     "execution_count": 37,
     "metadata": {},
     "output_type": "execute_result"
    }
   ],
   "source": [
    "bikes['Good Weather'].sum()"
   ]
  },
  {
   "cell_type": "markdown",
   "id": "65747824",
   "metadata": {},
   "source": [
    "Cохранение DataFrame"
   ]
  },
  {
   "cell_type": "code",
   "execution_count": 42,
   "id": "2b3e0b1c",
   "metadata": {},
   "outputs": [
    {
     "name": "stdout",
     "output_type": "stream",
     "text": [
      "<class 'pandas.core.frame.DataFrame'>\n",
      "RangeIndex: 8760 entries, 0 to 8759\n",
      "Data columns (total 13 columns):\n",
      " #   Column                Non-Null Count  Dtype  \n",
      "---  ------                --------------  -----  \n",
      " 0   Date                  8760 non-null   object \n",
      " 1   Hour                  8760 non-null   int64  \n",
      " 2   Temperature           8581 non-null   float64\n",
      " 3   Humidity              8760 non-null   int64  \n",
      " 4   Wind speed            8760 non-null   float64\n",
      " 5   Rainfall              8760 non-null   float64\n",
      " 6   Snowfall              8760 non-null   float64\n",
      " 7   Seasons               8760 non-null   object \n",
      " 8   Holiday               8760 non-null   int64  \n",
      " 9   Functioning Day       8760 non-null   bool   \n",
      " 10  Rental Count          8760 non-null   int64  \n",
      " 11  Temperature Category  8581 non-null   object \n",
      " 12  Good Weather          8760 non-null   int64  \n",
      "dtypes: bool(1), float64(4), int64(5), object(3)\n",
      "memory usage: 829.9+ KB\n"
     ]
    }
   ],
   "source": [
    "bikes.to_csv('BikesDataVars.csv', index = False)\n",
    "bikes.to_excel('BikesDataVars.xlsx', index = False)\n",
    "df = pd.read_csv('BikesDataVars.csv')\n",
    "df.info()"
   ]
  },
  {
   "cell_type": "code",
   "execution_count": 43,
   "id": "76758228",
   "metadata": {},
   "outputs": [
    {
     "name": "stdout",
     "output_type": "stream",
     "text": [
      "<class 'pandas.core.frame.DataFrame'>\n",
      "RangeIndex: 8760 entries, 0 to 8759\n",
      "Data columns (total 13 columns):\n",
      " #   Column                Non-Null Count  Dtype         \n",
      "---  ------                --------------  -----         \n",
      " 0   Date                  8760 non-null   datetime64[ns]\n",
      " 1   Hour                  8760 non-null   int64         \n",
      " 2   Temperature           8581 non-null   float64       \n",
      " 3   Humidity              8760 non-null   int64         \n",
      " 4   Wind speed            8760 non-null   float64       \n",
      " 5   Rainfall              8760 non-null   float64       \n",
      " 6   Snowfall              8760 non-null   float64       \n",
      " 7   Seasons               8760 non-null   object        \n",
      " 8   Holiday               8760 non-null   int64         \n",
      " 9   Functioning Day       8760 non-null   bool          \n",
      " 10  Rental Count          8760 non-null   int64         \n",
      " 11  Temperature Category  8581 non-null   object        \n",
      " 12  Good Weather          8760 non-null   int64         \n",
      "dtypes: bool(1), datetime64[ns](1), float64(4), int64(5), object(2)\n",
      "memory usage: 829.9+ KB\n"
     ]
    }
   ],
   "source": [
    "df = pd.read_excel('BikesDataVars.xlsx')\n",
    "df.info()"
   ]
  },
  {
   "cell_type": "code",
   "execution_count": 44,
   "id": "1d63a9cb",
   "metadata": {},
   "outputs": [
    {
     "name": "stdout",
     "output_type": "stream",
     "text": [
      "<class 'pandas.core.frame.DataFrame'>\n",
      "RangeIndex: 8760 entries, 0 to 8759\n",
      "Data columns (total 13 columns):\n",
      " #   Column                Non-Null Count  Dtype         \n",
      "---  ------                --------------  -----         \n",
      " 0   Date                  8760 non-null   datetime64[ns]\n",
      " 1   Hour                  8760 non-null   int64         \n",
      " 2   Temperature           8581 non-null   float64       \n",
      " 3   Humidity              8760 non-null   int64         \n",
      " 4   Wind speed            8760 non-null   float64       \n",
      " 5   Rainfall              8760 non-null   float64       \n",
      " 6   Snowfall              8760 non-null   float64       \n",
      " 7   Seasons               8760 non-null   object        \n",
      " 8   Holiday               8760 non-null   int64         \n",
      " 9   Functioning Day       8760 non-null   bool          \n",
      " 10  Rental Count          8760 non-null   int64         \n",
      " 11  Temperature Category  8581 non-null   category      \n",
      " 12  Good Weather          8760 non-null   int64         \n",
      "dtypes: bool(1), category(1), datetime64[ns](1), float64(4), int64(5), object(1)\n",
      "memory usage: 770.1+ KB\n"
     ]
    }
   ],
   "source": [
    "bikes.to_pickle('BikesDataVars.pkl')\n",
    "df = pd.read_pickle('BikesDataVars.pkl')\n",
    "df.info()"
   ]
  }
 ],
 "metadata": {
  "kernelspec": {
   "display_name": "Python 3 (ipykernel)",
   "language": "python",
   "name": "python3"
  },
  "language_info": {
   "codemirror_mode": {
    "name": "ipython",
    "version": 3
   },
   "file_extension": ".py",
   "mimetype": "text/x-python",
   "name": "python",
   "nbconvert_exporter": "python",
   "pygments_lexer": "ipython3",
   "version": "3.12.6"
  }
 },
 "nbformat": 4,
 "nbformat_minor": 5
}
