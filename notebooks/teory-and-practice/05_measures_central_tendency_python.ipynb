{
 "cells": [
  {
   "cell_type": "code",
   "execution_count": 1,
   "id": "b8ea073e",
   "metadata": {},
   "outputs": [],
   "source": [
    "import pandas as pd\n",
    "import numpy as np"
   ]
  },
  {
   "cell_type": "code",
   "execution_count": 2,
   "id": "194aca89",
   "metadata": {},
   "outputs": [
    {
     "data": {
      "text/html": [
       "<div>\n",
       "<style scoped>\n",
       "    .dataframe tbody tr th:only-of-type {\n",
       "        vertical-align: middle;\n",
       "    }\n",
       "\n",
       "    .dataframe tbody tr th {\n",
       "        vertical-align: top;\n",
       "    }\n",
       "\n",
       "    .dataframe thead th {\n",
       "        text-align: right;\n",
       "    }\n",
       "</style>\n",
       "<table border=\"1\" class=\"dataframe\">\n",
       "  <thead>\n",
       "    <tr style=\"text-align: right;\">\n",
       "      <th></th>\n",
       "      <th>Date</th>\n",
       "      <th>Hour</th>\n",
       "      <th>Temperature</th>\n",
       "      <th>Humidity</th>\n",
       "      <th>Wind speed</th>\n",
       "      <th>Rainfall</th>\n",
       "      <th>Snowfall</th>\n",
       "      <th>Seasons</th>\n",
       "      <th>Holiday</th>\n",
       "      <th>Functioning Day</th>\n",
       "      <th>Rental Count</th>\n",
       "      <th>Normal Humidity</th>\n",
       "      <th>Temperature Category</th>\n",
       "      <th>Good Weather</th>\n",
       "    </tr>\n",
       "  </thead>\n",
       "  <tbody>\n",
       "    <tr>\n",
       "      <th>0</th>\n",
       "      <td>2017-12-01</td>\n",
       "      <td>0</td>\n",
       "      <td>-5.2</td>\n",
       "      <td>37</td>\n",
       "      <td>2.2</td>\n",
       "      <td>0.0</td>\n",
       "      <td>0.0</td>\n",
       "      <td>Winter</td>\n",
       "      <td>0</td>\n",
       "      <td>True</td>\n",
       "      <td>257</td>\n",
       "      <td>0</td>\n",
       "      <td>Freezing</td>\n",
       "      <td>0</td>\n",
       "    </tr>\n",
       "    <tr>\n",
       "      <th>1</th>\n",
       "      <td>2017-12-01</td>\n",
       "      <td>1</td>\n",
       "      <td>-5.5</td>\n",
       "      <td>38</td>\n",
       "      <td>0.8</td>\n",
       "      <td>0.0</td>\n",
       "      <td>0.0</td>\n",
       "      <td>Winter</td>\n",
       "      <td>0</td>\n",
       "      <td>True</td>\n",
       "      <td>219</td>\n",
       "      <td>0</td>\n",
       "      <td>Freezing</td>\n",
       "      <td>0</td>\n",
       "    </tr>\n",
       "    <tr>\n",
       "      <th>2</th>\n",
       "      <td>2017-12-01</td>\n",
       "      <td>2</td>\n",
       "      <td>-6.0</td>\n",
       "      <td>39</td>\n",
       "      <td>1.0</td>\n",
       "      <td>0.0</td>\n",
       "      <td>0.0</td>\n",
       "      <td>Winter</td>\n",
       "      <td>0</td>\n",
       "      <td>True</td>\n",
       "      <td>162</td>\n",
       "      <td>0</td>\n",
       "      <td>Freezing</td>\n",
       "      <td>0</td>\n",
       "    </tr>\n",
       "    <tr>\n",
       "      <th>3</th>\n",
       "      <td>2017-12-01</td>\n",
       "      <td>3</td>\n",
       "      <td>-6.2</td>\n",
       "      <td>40</td>\n",
       "      <td>0.9</td>\n",
       "      <td>0.0</td>\n",
       "      <td>0.0</td>\n",
       "      <td>Winter</td>\n",
       "      <td>0</td>\n",
       "      <td>True</td>\n",
       "      <td>148</td>\n",
       "      <td>1</td>\n",
       "      <td>Freezing</td>\n",
       "      <td>0</td>\n",
       "    </tr>\n",
       "    <tr>\n",
       "      <th>4</th>\n",
       "      <td>2017-12-01</td>\n",
       "      <td>4</td>\n",
       "      <td>-6.0</td>\n",
       "      <td>36</td>\n",
       "      <td>2.3</td>\n",
       "      <td>0.0</td>\n",
       "      <td>0.0</td>\n",
       "      <td>Winter</td>\n",
       "      <td>0</td>\n",
       "      <td>True</td>\n",
       "      <td>97</td>\n",
       "      <td>0</td>\n",
       "      <td>Freezing</td>\n",
       "      <td>0</td>\n",
       "    </tr>\n",
       "  </tbody>\n",
       "</table>\n",
       "</div>"
      ],
      "text/plain": [
       "        Date  Hour  Temperature  Humidity  Wind speed  Rainfall  Snowfall  \\\n",
       "0 2017-12-01     0         -5.2        37         2.2       0.0       0.0   \n",
       "1 2017-12-01     1         -5.5        38         0.8       0.0       0.0   \n",
       "2 2017-12-01     2         -6.0        39         1.0       0.0       0.0   \n",
       "3 2017-12-01     3         -6.2        40         0.9       0.0       0.0   \n",
       "4 2017-12-01     4         -6.0        36         2.3       0.0       0.0   \n",
       "\n",
       "  Seasons  Holiday  Functioning Day  Rental Count  Normal Humidity  \\\n",
       "0  Winter        0             True           257                0   \n",
       "1  Winter        0             True           219                0   \n",
       "2  Winter        0             True           162                0   \n",
       "3  Winter        0             True           148                1   \n",
       "4  Winter        0             True            97                0   \n",
       "\n",
       "  Temperature Category  Good Weather  \n",
       "0             Freezing             0  \n",
       "1             Freezing             0  \n",
       "2             Freezing             0  \n",
       "3             Freezing             0  \n",
       "4             Freezing             0  "
      ]
     },
     "execution_count": 2,
     "metadata": {},
     "output_type": "execute_result"
    }
   ],
   "source": [
    "bikes = pd.read_pickle('BikesDataVars (1).pkl')\n",
    "bikes.head()"
   ]
  },
  {
   "cell_type": "markdown",
   "id": "531c2bfc",
   "metadata": {},
   "source": [
    "### Среднее арифметическое"
   ]
  },
  {
   "cell_type": "code",
   "execution_count": 3,
   "id": "5c498fc9",
   "metadata": {},
   "outputs": [
    {
     "data": {
      "text/plain": [
       "np.float64(58.226255707762554)"
      ]
     },
     "execution_count": 3,
     "metadata": {},
     "output_type": "execute_result"
    }
   ],
   "source": [
    "bikes['Humidity'].sum() / len(bikes['Humidity'])"
   ]
  },
  {
   "cell_type": "code",
   "execution_count": 4,
   "id": "eb3a6f45",
   "metadata": {},
   "outputs": [
    {
     "data": {
      "text/plain": [
       "np.float64(58.226255707762554)"
      ]
     },
     "execution_count": 4,
     "metadata": {},
     "output_type": "execute_result"
    }
   ],
   "source": [
    "bikes['Humidity'].mean()"
   ]
  },
  {
   "cell_type": "markdown",
   "id": "75838d34",
   "metadata": {},
   "source": [
    "### Медиана"
   ]
  },
  {
   "cell_type": "code",
   "execution_count": 5,
   "id": "f36e3088",
   "metadata": {},
   "outputs": [
    {
     "name": "stdout",
     "output_type": "stream",
     "text": [
      "8760\n",
      "4380 4381\n",
      "57.0\n"
     ]
    }
   ],
   "source": [
    "hum_sorted = bikes['Humidity'].sort_values().reset_index(drop = True) # сортируем влажность (по возрастанию)\n",
    "print(len(hum_sorted))\n",
    "\n",
    "ind_1, ind_2 = int(len(hum_sorted) / 2), int(len(hum_sorted) / 2 + 1)\n",
    "print(ind_1, ind_2)\n",
    "\n",
    "print((hum_sorted[ind_1] + hum_sorted[ind_2]) / 2)"
   ]
  },
  {
   "cell_type": "code",
   "execution_count": 6,
   "id": "ec63230a",
   "metadata": {},
   "outputs": [
    {
     "data": {
      "text/plain": [
       "np.float64(57.0)"
      ]
     },
     "execution_count": 6,
     "metadata": {},
     "output_type": "execute_result"
    }
   ],
   "source": [
    "bikes['Humidity'].median()"
   ]
  },
  {
   "cell_type": "markdown",
   "id": "5bee64c5",
   "metadata": {},
   "source": [
    "### Мода"
   ]
  },
  {
   "cell_type": "code",
   "execution_count": 7,
   "id": "eadb72be",
   "metadata": {},
   "outputs": [
    {
     "data": {
      "text/plain": [
       "Humidity\n",
       "53    173\n",
       "97    173\n",
       "Name: count, dtype: int64"
      ]
     },
     "execution_count": 7,
     "metadata": {},
     "output_type": "execute_result"
    }
   ],
   "source": [
    "bikes['Humidity'].value_counts().head(2)"
   ]
  },
  {
   "cell_type": "code",
   "execution_count": 8,
   "id": "1ddde3fb",
   "metadata": {},
   "outputs": [
    {
     "data": {
      "text/plain": [
       "0    53\n",
       "1    97\n",
       "Name: Humidity, dtype: int64"
      ]
     },
     "execution_count": 8,
     "metadata": {},
     "output_type": "execute_result"
    }
   ],
   "source": [
    "bikes['Humidity'].mode()"
   ]
  },
  {
   "cell_type": "code",
   "execution_count": 9,
   "id": "01a1c750",
   "metadata": {},
   "outputs": [
    {
     "data": {
      "text/plain": [
       "<Axes: >"
      ]
     },
     "execution_count": 9,
     "metadata": {},
     "output_type": "execute_result"
    },
    {
     "data": {
      "image/png": "[encoded data removed]",
      "text/plain": [
       "<Figure size 640x480 with 1 Axes>"
      ]
     },
     "metadata": {},
     "output_type": "display_data"
    }
   ],
   "source": [
    "bikes['Humidity'].hist(bins = 100)"
   ]
  },
  {
   "cell_type": "code",
   "execution_count": 10,
   "id": "443efa7f",
   "metadata": {},
   "outputs": [
    {
     "data": {
      "text/html": [
       "<div>\n",
       "<style scoped>\n",
       "    .dataframe tbody tr th:only-of-type {\n",
       "        vertical-align: middle;\n",
       "    }\n",
       "\n",
       "    .dataframe tbody tr th {\n",
       "        vertical-align: top;\n",
       "    }\n",
       "\n",
       "    .dataframe thead th {\n",
       "        text-align: right;\n",
       "    }\n",
       "</style>\n",
       "<table border=\"1\" class=\"dataframe\">\n",
       "  <thead>\n",
       "    <tr style=\"text-align: right;\">\n",
       "      <th></th>\n",
       "      <th>Date</th>\n",
       "      <th>Hour</th>\n",
       "      <th>Temperature</th>\n",
       "      <th>Humidity</th>\n",
       "      <th>Wind speed</th>\n",
       "      <th>Rainfall</th>\n",
       "      <th>Snowfall</th>\n",
       "      <th>Holiday</th>\n",
       "      <th>Rental Count</th>\n",
       "      <th>Normal Humidity</th>\n",
       "      <th>Good Weather</th>\n",
       "    </tr>\n",
       "  </thead>\n",
       "  <tbody>\n",
       "    <tr>\n",
       "      <th>count</th>\n",
       "      <td>8760</td>\n",
       "      <td>8760.000000</td>\n",
       "      <td>8581.000000</td>\n",
       "      <td>8760.000000</td>\n",
       "      <td>8760.000000</td>\n",
       "      <td>8760.000000</td>\n",
       "      <td>8760.000000</td>\n",
       "      <td>8760.000000</td>\n",
       "      <td>8760.000000</td>\n",
       "      <td>8760.00000</td>\n",
       "      <td>8760.000000</td>\n",
       "    </tr>\n",
       "    <tr>\n",
       "      <th>mean</th>\n",
       "      <td>2018-05-31 23:59:59.999999744</td>\n",
       "      <td>11.500000</td>\n",
       "      <td>12.878557</td>\n",
       "      <td>58.226256</td>\n",
       "      <td>1.724909</td>\n",
       "      <td>0.148687</td>\n",
       "      <td>0.075068</td>\n",
       "      <td>0.049315</td>\n",
       "      <td>696.582078</td>\n",
       "      <td>0.34532</td>\n",
       "      <td>0.092694</td>\n",
       "    </tr>\n",
       "    <tr>\n",
       "      <th>min</th>\n",
       "      <td>2017-12-01 00:00:00</td>\n",
       "      <td>0.000000</td>\n",
       "      <td>-17.800000</td>\n",
       "      <td>0.000000</td>\n",
       "      <td>0.000000</td>\n",
       "      <td>0.000000</td>\n",
       "      <td>0.000000</td>\n",
       "      <td>0.000000</td>\n",
       "      <td>0.000000</td>\n",
       "      <td>0.00000</td>\n",
       "      <td>0.000000</td>\n",
       "    </tr>\n",
       "    <tr>\n",
       "      <th>25%</th>\n",
       "      <td>2018-03-02 00:00:00</td>\n",
       "      <td>5.750000</td>\n",
       "      <td>3.400000</td>\n",
       "      <td>42.000000</td>\n",
       "      <td>0.900000</td>\n",
       "      <td>0.000000</td>\n",
       "      <td>0.000000</td>\n",
       "      <td>0.000000</td>\n",
       "      <td>157.000000</td>\n",
       "      <td>0.00000</td>\n",
       "      <td>0.000000</td>\n",
       "    </tr>\n",
       "    <tr>\n",
       "      <th>50%</th>\n",
       "      <td>2018-06-01 00:00:00</td>\n",
       "      <td>11.500000</td>\n",
       "      <td>13.700000</td>\n",
       "      <td>57.000000</td>\n",
       "      <td>1.500000</td>\n",
       "      <td>0.000000</td>\n",
       "      <td>0.000000</td>\n",
       "      <td>0.000000</td>\n",
       "      <td>425.500000</td>\n",
       "      <td>0.00000</td>\n",
       "      <td>0.000000</td>\n",
       "    </tr>\n",
       "    <tr>\n",
       "      <th>75%</th>\n",
       "      <td>2018-08-31 00:00:00</td>\n",
       "      <td>17.250000</td>\n",
       "      <td>22.500000</td>\n",
       "      <td>74.000000</td>\n",
       "      <td>2.300000</td>\n",
       "      <td>0.000000</td>\n",
       "      <td>0.000000</td>\n",
       "      <td>0.000000</td>\n",
       "      <td>1009.000000</td>\n",
       "      <td>1.00000</td>\n",
       "      <td>0.000000</td>\n",
       "    </tr>\n",
       "    <tr>\n",
       "      <th>max</th>\n",
       "      <td>2018-11-30 00:00:00</td>\n",
       "      <td>23.000000</td>\n",
       "      <td>39.400000</td>\n",
       "      <td>98.000000</td>\n",
       "      <td>7.400000</td>\n",
       "      <td>35.000000</td>\n",
       "      <td>8.800000</td>\n",
       "      <td>1.000000</td>\n",
       "      <td>6012.000000</td>\n",
       "      <td>1.00000</td>\n",
       "      <td>1.000000</td>\n",
       "    </tr>\n",
       "    <tr>\n",
       "      <th>std</th>\n",
       "      <td>NaN</td>\n",
       "      <td>6.922582</td>\n",
       "      <td>11.955551</td>\n",
       "      <td>20.362413</td>\n",
       "      <td>1.036300</td>\n",
       "      <td>1.128193</td>\n",
       "      <td>0.436746</td>\n",
       "      <td>0.216537</td>\n",
       "      <td>749.812613</td>\n",
       "      <td>0.47550</td>\n",
       "      <td>0.290020</td>\n",
       "    </tr>\n",
       "  </tbody>\n",
       "</table>\n",
       "</div>"
      ],
      "text/plain": [
       "                                Date         Hour  Temperature     Humidity  \\\n",
       "count                           8760  8760.000000  8581.000000  8760.000000   \n",
       "mean   2018-05-31 23:59:59.999999744    11.500000    12.878557    58.226256   \n",
       "min              2017-12-01 00:00:00     0.000000   -17.800000     0.000000   \n",
       "25%              2018-03-02 00:00:00     5.750000     3.400000    42.000000   \n",
       "50%              2018-06-01 00:00:00    11.500000    13.700000    57.000000   \n",
       "75%              2018-08-31 00:00:00    17.250000    22.500000    74.000000   \n",
       "max              2018-11-30 00:00:00    23.000000    39.400000    98.000000   \n",
       "std                              NaN     6.922582    11.955551    20.362413   \n",
       "\n",
       "        Wind speed     Rainfall     Snowfall      Holiday  Rental Count  \\\n",
       "count  8760.000000  8760.000000  8760.000000  8760.000000   8760.000000   \n",
       "mean      1.724909     0.148687     0.075068     0.049315    696.582078   \n",
       "min       0.000000     0.000000     0.000000     0.000000      0.000000   \n",
       "25%       0.900000     0.000000     0.000000     0.000000    157.000000   \n",
       "50%       1.500000     0.000000     0.000000     0.000000    425.500000   \n",
       "75%       2.300000     0.000000     0.000000     0.000000   1009.000000   \n",
       "max       7.400000    35.000000     8.800000     1.000000   6012.000000   \n",
       "std       1.036300     1.128193     0.436746     0.216537    749.812613   \n",
       "\n",
       "       Normal Humidity  Good Weather  \n",
       "count       8760.00000   8760.000000  \n",
       "mean           0.34532      0.092694  \n",
       "min            0.00000      0.000000  \n",
       "25%            0.00000      0.000000  \n",
       "50%            0.00000      0.000000  \n",
       "75%            1.00000      0.000000  \n",
       "max            1.00000      1.000000  \n",
       "std            0.47550      0.290020  "
      ]
     },
     "execution_count": 10,
     "metadata": {},
     "output_type": "execute_result"
    }
   ],
   "source": [
    "bikes.describe() # возвращение dataframe, в котором для каждой кол-венной переменной дается информация о медиане и тд"
   ]
  },
  {
   "cell_type": "code",
   "execution_count": 11,
   "id": "ebc2601a",
   "metadata": {},
   "outputs": [
    {
     "data": {
      "text/html": [
       "<div>\n",
       "<style scoped>\n",
       "    .dataframe tbody tr th:only-of-type {\n",
       "        vertical-align: middle;\n",
       "    }\n",
       "\n",
       "    .dataframe tbody tr th {\n",
       "        vertical-align: top;\n",
       "    }\n",
       "\n",
       "    .dataframe thead th {\n",
       "        text-align: right;\n",
       "    }\n",
       "</style>\n",
       "<table border=\"1\" class=\"dataframe\">\n",
       "  <thead>\n",
       "    <tr style=\"text-align: right;\">\n",
       "      <th></th>\n",
       "      <th>Temperature</th>\n",
       "      <th>Humidity</th>\n",
       "    </tr>\n",
       "  </thead>\n",
       "  <tbody>\n",
       "    <tr>\n",
       "      <th>count</th>\n",
       "      <td>8581.000000</td>\n",
       "      <td>8760.000000</td>\n",
       "    </tr>\n",
       "    <tr>\n",
       "      <th>mean</th>\n",
       "      <td>12.878557</td>\n",
       "      <td>58.226256</td>\n",
       "    </tr>\n",
       "    <tr>\n",
       "      <th>std</th>\n",
       "      <td>11.955551</td>\n",
       "      <td>20.362413</td>\n",
       "    </tr>\n",
       "    <tr>\n",
       "      <th>min</th>\n",
       "      <td>-17.800000</td>\n",
       "      <td>0.000000</td>\n",
       "    </tr>\n",
       "    <tr>\n",
       "      <th>25%</th>\n",
       "      <td>3.400000</td>\n",
       "      <td>42.000000</td>\n",
       "    </tr>\n",
       "    <tr>\n",
       "      <th>50%</th>\n",
       "      <td>13.700000</td>\n",
       "      <td>57.000000</td>\n",
       "    </tr>\n",
       "    <tr>\n",
       "      <th>75%</th>\n",
       "      <td>22.500000</td>\n",
       "      <td>74.000000</td>\n",
       "    </tr>\n",
       "    <tr>\n",
       "      <th>max</th>\n",
       "      <td>39.400000</td>\n",
       "      <td>98.000000</td>\n",
       "    </tr>\n",
       "  </tbody>\n",
       "</table>\n",
       "</div>"
      ],
      "text/plain": [
       "       Temperature     Humidity\n",
       "count  8581.000000  8760.000000\n",
       "mean     12.878557    58.226256\n",
       "std      11.955551    20.362413\n",
       "min     -17.800000     0.000000\n",
       "25%       3.400000    42.000000\n",
       "50%      13.700000    57.000000\n",
       "75%      22.500000    74.000000\n",
       "max      39.400000    98.000000"
      ]
     },
     "execution_count": 11,
     "metadata": {},
     "output_type": "execute_result"
    }
   ],
   "source": [
    "bikes[['Temperature', 'Humidity']].describe()"
   ]
  },
  {
   "cell_type": "code",
   "execution_count": 12,
   "id": "cbe88f6f",
   "metadata": {},
   "outputs": [
    {
     "data": {
      "text/plain": [
       "count    8760.000000\n",
       "mean       58.226256\n",
       "std        20.362413\n",
       "min         0.000000\n",
       "25%        42.000000\n",
       "50%        57.000000\n",
       "75%        74.000000\n",
       "max        98.000000\n",
       "Name: Humidity, dtype: float64"
      ]
     },
     "execution_count": 12,
     "metadata": {},
     "output_type": "execute_result"
    }
   ],
   "source": [
    "bikes['Humidity'].describe()"
   ]
  },
  {
   "cell_type": "markdown",
   "id": "9758d2ac",
   "metadata": {},
   "source": [
    "#### groupby"
   ]
  },
  {
   "cell_type": "code",
   "execution_count": 13,
   "id": "c5b30ba9",
   "metadata": {},
   "outputs": [
    {
     "data": {
      "text/plain": [
       "Hour\n",
       "0      558.178082\n",
       "1      415.720548\n",
       "2      319.767123\n",
       "3      201.010959\n",
       "4      122.838356\n",
       "5      135.863014\n",
       "6      283.654795\n",
       "7      612.646575\n",
       "8      979.838356\n",
       "9      642.136986\n",
       "10     519.123288\n",
       "11     585.336986\n",
       "12     710.534247\n",
       "13     700.706849\n",
       "14     747.147945\n",
       "15     796.084932\n",
       "16     938.032877\n",
       "17    1128.873973\n",
       "18    1518.983562\n",
       "19    1168.328767\n",
       "20    1069.698630\n",
       "21     997.942466\n",
       "22     893.621918\n",
       "23     671.898630\n",
       "Name: Rental Count, dtype: float64"
      ]
     },
     "execution_count": 13,
     "metadata": {},
     "output_type": "execute_result"
    }
   ],
   "source": [
    "bikes.groupby('Hour')['Rental Count'].mean()"
   ]
  },
  {
   "cell_type": "code",
   "execution_count": 14,
   "id": "e18f9875",
   "metadata": {},
   "outputs": [
    {
     "data": {
      "text/plain": [
       "<Axes: xlabel='Hour'>"
      ]
     },
     "execution_count": 14,
     "metadata": {},
     "output_type": "execute_result"
    },
    {
     "data": {
      "image/png": "[encoded data removed]",
      "text/plain": [
       "<Figure size 640x480 with 1 Axes>"
      ]
     },
     "metadata": {},
     "output_type": "display_data"
    }
   ],
   "source": [
    "bikes.groupby('Hour')['Rental Count'].mean().plot(kind = 'bar')"
   ]
  },
  {
   "cell_type": "code",
   "execution_count": 15,
   "id": "595ea9c2",
   "metadata": {},
   "outputs": [
    {
     "data": {
      "text/plain": [
       "Hour  Good Weather\n",
       "0     0                514.797619\n",
       "      1               1060.793103\n",
       "1     0                399.179941\n",
       "      1                631.384615\n",
       "2     0                304.476608\n",
       "      1                547.130435\n",
       "3     0                193.178161\n",
       "      1                361.352941\n",
       "4     0                119.467236\n",
       "      1                207.357143\n",
       "5     0                131.218487\n",
       "      1                343.125000\n",
       "6     0                279.243017\n",
       "      1                509.285714\n",
       "7     0                604.888571\n",
       "      1                793.666667\n",
       "8     0                957.336336\n",
       "      1               1214.000000\n",
       "9     0                598.072327\n",
       "      1                940.276596\n",
       "10    0                478.721154\n",
       "      1                756.962264\n",
       "11    0                514.022801\n",
       "      1                962.810345\n",
       "12    0                664.558065\n",
       "      1                969.672727\n",
       "13    0                674.304075\n",
       "      1                883.804348\n",
       "14    0                736.636905\n",
       "      1                868.931034\n",
       "15    0                795.384615\n",
       "      1                804.851852\n",
       "16    0                935.814925\n",
       "      1                962.800000\n",
       "17    0               1082.452599\n",
       "      1               1528.342105\n",
       "18    0               1410.716981\n",
       "      1               2251.510638\n",
       "19    0               1054.064725\n",
       "      1               1798.821429\n",
       "20    0                961.383178\n",
       "      1               1859.909091\n",
       "21    0                922.609231\n",
       "      1               1610.025000\n",
       "22    0                831.304878\n",
       "      1               1446.054054\n",
       "23    0                634.060423\n",
       "      1               1040.264706\n",
       "Name: Rental Count, dtype: float64"
      ]
     },
     "execution_count": 15,
     "metadata": {},
     "output_type": "execute_result"
    }
   ],
   "source": [
    "bikes.groupby(['Hour', 'Good Weather'])['Rental Count'].mean()"
   ]
  },
  {
   "cell_type": "code",
   "execution_count": 16,
   "id": "9e7d0c8a",
   "metadata": {},
   "outputs": [
    {
     "data": {
      "text/plain": [
       "Hour  Good Weather\n",
       "0     0                386.0\n",
       "      1               1053.0\n",
       "1     0                301.0\n",
       "      1                621.5\n",
       "2     0                230.0\n",
       "      1                550.0\n",
       "3     0                155.0\n",
       "      1                347.0\n",
       "4     0                 91.0\n",
       "      1                193.5\n",
       "5     0                105.0\n",
       "      1                353.5\n",
       "6     0                188.0\n",
       "      1                349.0\n",
       "7     0                386.5\n",
       "      1                671.0\n",
       "8     0                755.0\n",
       "      1                914.5\n",
       "9     0                477.0\n",
       "      1                995.0\n",
       "10    0                346.0\n",
       "      1                724.0\n",
       "11    0                422.0\n",
       "      1               1005.5\n",
       "12    0                506.0\n",
       "      1               1048.0\n",
       "13    0                505.0\n",
       "      1                933.5\n",
       "14    0                534.0\n",
       "      1                874.0\n",
       "15    0                668.5\n",
       "      1                758.0\n",
       "16    0                771.0\n",
       "      1               1047.0\n",
       "17    0                844.0\n",
       "      1               1410.0\n",
       "18    0               1015.5\n",
       "      1               2084.0\n",
       "19    0                694.0\n",
       "      1               1618.0\n",
       "20    0                577.0\n",
       "      1               1851.5\n",
       "21    0                590.0\n",
       "      1               1653.0\n",
       "22    0                595.0\n",
       "      1               1429.0\n",
       "23    0                439.0\n",
       "      1                973.0\n",
       "Name: Rental Count, dtype: float64"
      ]
     },
     "execution_count": 16,
     "metadata": {},
     "output_type": "execute_result"
    }
   ],
   "source": [
    "bikes.groupby(['Hour', 'Good Weather'])['Rental Count'].median()"
   ]
  },
  {
   "cell_type": "code",
   "execution_count": 17,
   "id": "4e603367",
   "metadata": {},
   "outputs": [
    {
     "data": {
      "text/plain": [
       "Seasons\n",
       "Autumn      Chilly\n",
       "Spring      Chilly\n",
       "Summer         Hot\n",
       "Winter    Freezing\n",
       "Name: Temperature Category, dtype: category\n",
       "Categories (4, object): ['Chilly', 'Freezing', 'Hot', 'Nice']"
      ]
     },
     "execution_count": 17,
     "metadata": {},
     "output_type": "execute_result"
    }
   ],
   "source": [
    "bikes.groupby('Seasons')['Temperature Category'].agg(lambda x: x.value_counts().index[0])"
   ]
  },
  {
   "cell_type": "code",
   "execution_count": 18,
   "id": "caca44db",
   "metadata": {},
   "outputs": [
    {
     "data": {
      "text/html": [
       "<div>\n",
       "<style scoped>\n",
       "    .dataframe tbody tr th:only-of-type {\n",
       "        vertical-align: middle;\n",
       "    }\n",
       "\n",
       "    .dataframe tbody tr th {\n",
       "        vertical-align: top;\n",
       "    }\n",
       "\n",
       "    .dataframe thead th {\n",
       "        text-align: right;\n",
       "    }\n",
       "</style>\n",
       "<table border=\"1\" class=\"dataframe\">\n",
       "  <thead>\n",
       "    <tr style=\"text-align: right;\">\n",
       "      <th></th>\n",
       "      <th>mean</th>\n",
       "      <th>median</th>\n",
       "    </tr>\n",
       "    <tr>\n",
       "      <th>Seasons</th>\n",
       "      <th></th>\n",
       "      <th></th>\n",
       "    </tr>\n",
       "  </thead>\n",
       "  <tbody>\n",
       "    <tr>\n",
       "      <th>Autumn</th>\n",
       "      <td>14.138821</td>\n",
       "      <td>13.8</td>\n",
       "    </tr>\n",
       "    <tr>\n",
       "      <th>Spring</th>\n",
       "      <td>13.038533</td>\n",
       "      <td>13.3</td>\n",
       "    </tr>\n",
       "    <tr>\n",
       "      <th>Summer</th>\n",
       "      <td>26.574827</td>\n",
       "      <td>26.6</td>\n",
       "    </tr>\n",
       "    <tr>\n",
       "      <th>Winter</th>\n",
       "      <td>-2.567783</td>\n",
       "      <td>-2.2</td>\n",
       "    </tr>\n",
       "  </tbody>\n",
       "</table>\n",
       "</div>"
      ],
      "text/plain": [
       "              mean  median\n",
       "Seasons                   \n",
       "Autumn   14.138821    13.8\n",
       "Spring   13.038533    13.3\n",
       "Summer   26.574827    26.6\n",
       "Winter   -2.567783    -2.2"
      ]
     },
     "execution_count": 18,
     "metadata": {},
     "output_type": "execute_result"
    }
   ],
   "source": [
    "bikes.groupby('Seasons')['Temperature'].agg(['mean', 'median'])"
   ]
  },
  {
   "cell_type": "code",
   "execution_count": 19,
   "id": "f61724e8",
   "metadata": {},
   "outputs": [
    {
     "data": {
      "text/plain": [
       "Seasons\n",
       "Autumn    14.138821\n",
       "Spring    13.038533\n",
       "Summer    26.574827\n",
       "Winter    -2.567783\n",
       "Name: Temperature, dtype: float64"
      ]
     },
     "execution_count": 19,
     "metadata": {},
     "output_type": "execute_result"
    }
   ],
   "source": [
    "bikes.groupby('Seasons')['Temperature'].mean()"
   ]
  },
  {
   "cell_type": "code",
   "execution_count": 20,
   "id": "fcd8174d",
   "metadata": {},
   "outputs": [
    {
     "data": {
      "text/html": [
       "<div>\n",
       "<style scoped>\n",
       "    .dataframe tbody tr th:only-of-type {\n",
       "        vertical-align: middle;\n",
       "    }\n",
       "\n",
       "    .dataframe tbody tr th {\n",
       "        vertical-align: top;\n",
       "    }\n",
       "\n",
       "    .dataframe thead tr th {\n",
       "        text-align: left;\n",
       "    }\n",
       "\n",
       "    .dataframe thead tr:last-of-type th {\n",
       "        text-align: right;\n",
       "    }\n",
       "</style>\n",
       "<table border=\"1\" class=\"dataframe\">\n",
       "  <thead>\n",
       "    <tr>\n",
       "      <th></th>\n",
       "      <th colspan=\"2\" halign=\"left\">median</th>\n",
       "      <th colspan=\"2\" halign=\"left\">mean</th>\n",
       "    </tr>\n",
       "    <tr>\n",
       "      <th></th>\n",
       "      <th>Rental Count</th>\n",
       "      <th>Temperature</th>\n",
       "      <th>Rental Count</th>\n",
       "      <th>Temperature</th>\n",
       "    </tr>\n",
       "    <tr>\n",
       "      <th>Hour</th>\n",
       "      <th></th>\n",
       "      <th></th>\n",
       "      <th></th>\n",
       "      <th></th>\n",
       "    </tr>\n",
       "  </thead>\n",
       "  <tbody>\n",
       "    <tr>\n",
       "      <th>0</th>\n",
       "      <td>433.0</td>\n",
       "      <td>11.80</td>\n",
       "      <td>558.178082</td>\n",
       "      <td>11.253652</td>\n",
       "    </tr>\n",
       "    <tr>\n",
       "      <th>1</th>\n",
       "      <td>329.0</td>\n",
       "      <td>11.50</td>\n",
       "      <td>415.720548</td>\n",
       "      <td>10.972145</td>\n",
       "    </tr>\n",
       "    <tr>\n",
       "      <th>2</th>\n",
       "      <td>239.0</td>\n",
       "      <td>10.90</td>\n",
       "      <td>319.767123</td>\n",
       "      <td>10.542535</td>\n",
       "    </tr>\n",
       "    <tr>\n",
       "      <th>3</th>\n",
       "      <td>165.0</td>\n",
       "      <td>10.70</td>\n",
       "      <td>201.010959</td>\n",
       "      <td>10.355462</td>\n",
       "    </tr>\n",
       "    <tr>\n",
       "      <th>4</th>\n",
       "      <td>94.0</td>\n",
       "      <td>10.40</td>\n",
       "      <td>122.838356</td>\n",
       "      <td>10.069859</td>\n",
       "    </tr>\n",
       "    <tr>\n",
       "      <th>5</th>\n",
       "      <td>107.0</td>\n",
       "      <td>10.00</td>\n",
       "      <td>135.863014</td>\n",
       "      <td>9.849580</td>\n",
       "    </tr>\n",
       "    <tr>\n",
       "      <th>6</th>\n",
       "      <td>193.0</td>\n",
       "      <td>10.00</td>\n",
       "      <td>283.654795</td>\n",
       "      <td>9.763944</td>\n",
       "    </tr>\n",
       "    <tr>\n",
       "      <th>7</th>\n",
       "      <td>410.0</td>\n",
       "      <td>9.60</td>\n",
       "      <td>612.646575</td>\n",
       "      <td>9.454062</td>\n",
       "    </tr>\n",
       "    <tr>\n",
       "      <th>8</th>\n",
       "      <td>762.0</td>\n",
       "      <td>10.40</td>\n",
       "      <td>979.838356</td>\n",
       "      <td>9.988515</td>\n",
       "    </tr>\n",
       "    <tr>\n",
       "      <th>9</th>\n",
       "      <td>519.0</td>\n",
       "      <td>12.10</td>\n",
       "      <td>642.136986</td>\n",
       "      <td>11.459669</td>\n",
       "    </tr>\n",
       "    <tr>\n",
       "      <th>10</th>\n",
       "      <td>414.0</td>\n",
       "      <td>14.00</td>\n",
       "      <td>519.123288</td>\n",
       "      <td>12.766947</td>\n",
       "    </tr>\n",
       "    <tr>\n",
       "      <th>11</th>\n",
       "      <td>485.0</td>\n",
       "      <td>16.40</td>\n",
       "      <td>585.336986</td>\n",
       "      <td>14.285434</td>\n",
       "    </tr>\n",
       "    <tr>\n",
       "      <th>12</th>\n",
       "      <td>572.0</td>\n",
       "      <td>17.40</td>\n",
       "      <td>710.534247</td>\n",
       "      <td>15.417175</td>\n",
       "    </tr>\n",
       "    <tr>\n",
       "      <th>13</th>\n",
       "      <td>586.0</td>\n",
       "      <td>18.30</td>\n",
       "      <td>700.706849</td>\n",
       "      <td>16.184765</td>\n",
       "    </tr>\n",
       "    <tr>\n",
       "      <th>14</th>\n",
       "      <td>567.0</td>\n",
       "      <td>19.10</td>\n",
       "      <td>747.147945</td>\n",
       "      <td>16.862360</td>\n",
       "    </tr>\n",
       "    <tr>\n",
       "      <th>15</th>\n",
       "      <td>678.0</td>\n",
       "      <td>19.20</td>\n",
       "      <td>796.084932</td>\n",
       "      <td>17.084358</td>\n",
       "    </tr>\n",
       "    <tr>\n",
       "      <th>16</th>\n",
       "      <td>804.0</td>\n",
       "      <td>18.80</td>\n",
       "      <td>938.032877</td>\n",
       "      <td>16.821652</td>\n",
       "    </tr>\n",
       "    <tr>\n",
       "      <th>17</th>\n",
       "      <td>899.0</td>\n",
       "      <td>18.40</td>\n",
       "      <td>1128.873973</td>\n",
       "      <td>16.325281</td>\n",
       "    </tr>\n",
       "    <tr>\n",
       "      <th>18</th>\n",
       "      <td>1154.0</td>\n",
       "      <td>16.80</td>\n",
       "      <td>1518.983562</td>\n",
       "      <td>15.255956</td>\n",
       "    </tr>\n",
       "    <tr>\n",
       "      <th>19</th>\n",
       "      <td>845.0</td>\n",
       "      <td>15.20</td>\n",
       "      <td>1168.328767</td>\n",
       "      <td>14.254062</td>\n",
       "    </tr>\n",
       "    <tr>\n",
       "      <th>20</th>\n",
       "      <td>721.0</td>\n",
       "      <td>14.10</td>\n",
       "      <td>1069.698630</td>\n",
       "      <td>13.394460</td>\n",
       "    </tr>\n",
       "    <tr>\n",
       "      <th>21</th>\n",
       "      <td>688.0</td>\n",
       "      <td>13.40</td>\n",
       "      <td>997.942466</td>\n",
       "      <td>12.680165</td>\n",
       "    </tr>\n",
       "    <tr>\n",
       "      <th>22</th>\n",
       "      <td>649.0</td>\n",
       "      <td>12.95</td>\n",
       "      <td>893.621918</td>\n",
       "      <td>12.281461</td>\n",
       "    </tr>\n",
       "    <tr>\n",
       "      <th>23</th>\n",
       "      <td>516.0</td>\n",
       "      <td>12.25</td>\n",
       "      <td>671.898630</td>\n",
       "      <td>11.717416</td>\n",
       "    </tr>\n",
       "  </tbody>\n",
       "</table>\n",
       "</div>"
      ],
      "text/plain": [
       "           median                     mean            \n",
       "     Rental Count Temperature Rental Count Temperature\n",
       "Hour                                                  \n",
       "0           433.0       11.80   558.178082   11.253652\n",
       "1           329.0       11.50   415.720548   10.972145\n",
       "2           239.0       10.90   319.767123   10.542535\n",
       "3           165.0       10.70   201.010959   10.355462\n",
       "4            94.0       10.40   122.838356   10.069859\n",
       "5           107.0       10.00   135.863014    9.849580\n",
       "6           193.0       10.00   283.654795    9.763944\n",
       "7           410.0        9.60   612.646575    9.454062\n",
       "8           762.0       10.40   979.838356    9.988515\n",
       "9           519.0       12.10   642.136986   11.459669\n",
       "10          414.0       14.00   519.123288   12.766947\n",
       "11          485.0       16.40   585.336986   14.285434\n",
       "12          572.0       17.40   710.534247   15.417175\n",
       "13          586.0       18.30   700.706849   16.184765\n",
       "14          567.0       19.10   747.147945   16.862360\n",
       "15          678.0       19.20   796.084932   17.084358\n",
       "16          804.0       18.80   938.032877   16.821652\n",
       "17          899.0       18.40  1128.873973   16.325281\n",
       "18         1154.0       16.80  1518.983562   15.255956\n",
       "19          845.0       15.20  1168.328767   14.254062\n",
       "20          721.0       14.10  1069.698630   13.394460\n",
       "21          688.0       13.40   997.942466   12.680165\n",
       "22          649.0       12.95   893.621918   12.281461\n",
       "23          516.0       12.25   671.898630   11.717416"
      ]
     },
     "execution_count": 20,
     "metadata": {},
     "output_type": "execute_result"
    }
   ],
   "source": [
    "bikes.pivot_table(index = 'Hour', values = ['Temperature', 'Rental Count'], aggfunc = ['median', 'mean'])"
   ]
  },
  {
   "cell_type": "markdown",
   "id": "3d46e79c",
   "metadata": {},
   "source": [
    "### Mеры разброса"
   ]
  },
  {
   "cell_type": "code",
   "execution_count": 21,
   "id": "a19bda85",
   "metadata": {
    "scrolled": true
   },
   "outputs": [
    {
     "data": {
      "text/html": [
       "<div>\n",
       "<style scoped>\n",
       "    .dataframe tbody tr th:only-of-type {\n",
       "        vertical-align: middle;\n",
       "    }\n",
       "\n",
       "    .dataframe tbody tr th {\n",
       "        vertical-align: top;\n",
       "    }\n",
       "\n",
       "    .dataframe thead th {\n",
       "        text-align: right;\n",
       "    }\n",
       "</style>\n",
       "<table border=\"1\" class=\"dataframe\">\n",
       "  <thead>\n",
       "    <tr style=\"text-align: right;\">\n",
       "      <th></th>\n",
       "      <th>Date</th>\n",
       "      <th>Hour</th>\n",
       "      <th>Temperature</th>\n",
       "      <th>Humidity</th>\n",
       "      <th>Wind speed</th>\n",
       "      <th>Rainfall</th>\n",
       "      <th>Snowfall</th>\n",
       "      <th>Seasons</th>\n",
       "      <th>Holiday</th>\n",
       "      <th>Functioning Day</th>\n",
       "      <th>Rental Count</th>\n",
       "      <th>Normal Humidity</th>\n",
       "      <th>Temperature Category</th>\n",
       "      <th>Good Weather</th>\n",
       "    </tr>\n",
       "  </thead>\n",
       "  <tbody>\n",
       "    <tr>\n",
       "      <th>0</th>\n",
       "      <td>2017-12-01</td>\n",
       "      <td>0</td>\n",
       "      <td>-5.2</td>\n",
       "      <td>37</td>\n",
       "      <td>2.2</td>\n",
       "      <td>0.0</td>\n",
       "      <td>0.0</td>\n",
       "      <td>Winter</td>\n",
       "      <td>0</td>\n",
       "      <td>True</td>\n",
       "      <td>257</td>\n",
       "      <td>0</td>\n",
       "      <td>Freezing</td>\n",
       "      <td>0</td>\n",
       "    </tr>\n",
       "    <tr>\n",
       "      <th>1</th>\n",
       "      <td>2017-12-01</td>\n",
       "      <td>1</td>\n",
       "      <td>-5.5</td>\n",
       "      <td>38</td>\n",
       "      <td>0.8</td>\n",
       "      <td>0.0</td>\n",
       "      <td>0.0</td>\n",
       "      <td>Winter</td>\n",
       "      <td>0</td>\n",
       "      <td>True</td>\n",
       "      <td>219</td>\n",
       "      <td>0</td>\n",
       "      <td>Freezing</td>\n",
       "      <td>0</td>\n",
       "    </tr>\n",
       "    <tr>\n",
       "      <th>2</th>\n",
       "      <td>2017-12-01</td>\n",
       "      <td>2</td>\n",
       "      <td>-6.0</td>\n",
       "      <td>39</td>\n",
       "      <td>1.0</td>\n",
       "      <td>0.0</td>\n",
       "      <td>0.0</td>\n",
       "      <td>Winter</td>\n",
       "      <td>0</td>\n",
       "      <td>True</td>\n",
       "      <td>162</td>\n",
       "      <td>0</td>\n",
       "      <td>Freezing</td>\n",
       "      <td>0</td>\n",
       "    </tr>\n",
       "    <tr>\n",
       "      <th>3</th>\n",
       "      <td>2017-12-01</td>\n",
       "      <td>3</td>\n",
       "      <td>-6.2</td>\n",
       "      <td>40</td>\n",
       "      <td>0.9</td>\n",
       "      <td>0.0</td>\n",
       "      <td>0.0</td>\n",
       "      <td>Winter</td>\n",
       "      <td>0</td>\n",
       "      <td>True</td>\n",
       "      <td>148</td>\n",
       "      <td>1</td>\n",
       "      <td>Freezing</td>\n",
       "      <td>0</td>\n",
       "    </tr>\n",
       "    <tr>\n",
       "      <th>4</th>\n",
       "      <td>2017-12-01</td>\n",
       "      <td>4</td>\n",
       "      <td>-6.0</td>\n",
       "      <td>36</td>\n",
       "      <td>2.3</td>\n",
       "      <td>0.0</td>\n",
       "      <td>0.0</td>\n",
       "      <td>Winter</td>\n",
       "      <td>0</td>\n",
       "      <td>True</td>\n",
       "      <td>97</td>\n",
       "      <td>0</td>\n",
       "      <td>Freezing</td>\n",
       "      <td>0</td>\n",
       "    </tr>\n",
       "  </tbody>\n",
       "</table>\n",
       "</div>"
      ],
      "text/plain": [
       "        Date  Hour  Temperature  Humidity  Wind speed  Rainfall  Snowfall  \\\n",
       "0 2017-12-01     0         -5.2        37         2.2       0.0       0.0   \n",
       "1 2017-12-01     1         -5.5        38         0.8       0.0       0.0   \n",
       "2 2017-12-01     2         -6.0        39         1.0       0.0       0.0   \n",
       "3 2017-12-01     3         -6.2        40         0.9       0.0       0.0   \n",
       "4 2017-12-01     4         -6.0        36         2.3       0.0       0.0   \n",
       "\n",
       "  Seasons  Holiday  Functioning Day  Rental Count  Normal Humidity  \\\n",
       "0  Winter        0             True           257                0   \n",
       "1  Winter        0             True           219                0   \n",
       "2  Winter        0             True           162                0   \n",
       "3  Winter        0             True           148                1   \n",
       "4  Winter        0             True            97                0   \n",
       "\n",
       "  Temperature Category  Good Weather  \n",
       "0             Freezing             0  \n",
       "1             Freezing             0  \n",
       "2             Freezing             0  \n",
       "3             Freezing             0  \n",
       "4             Freezing             0  "
      ]
     },
     "execution_count": 21,
     "metadata": {},
     "output_type": "execute_result"
    }
   ],
   "source": [
    "bikes.head()"
   ]
  },
  {
   "cell_type": "code",
   "execution_count": 22,
   "id": "b0e6ad8f",
   "metadata": {},
   "outputs": [],
   "source": [
    "bikes_hour = pd.DataFrame(bikes.groupby('Hour')['Rental Count'].sum())"
   ]
  },
  {
   "cell_type": "code",
   "execution_count": 23,
   "id": "26d5aa32",
   "metadata": {},
   "outputs": [
    {
     "data": {
      "text/plain": [
       "<Axes: xlabel='Hour'>"
      ]
     },
     "execution_count": 23,
     "metadata": {},
     "output_type": "execute_result"
    },
    {
     "data": {
      "image/png": "[encoded data removed]",
      "text/plain": [
       "<Figure size 640x480 with 1 Axes>"
      ]
     },
     "metadata": {},
     "output_type": "display_data"
    }
   ],
   "source": [
    "bikes_hour.plot(kind = 'bar')"
   ]
  },
  {
   "cell_type": "markdown",
   "id": "dc2f94d7",
   "metadata": {},
   "source": [
    "01/ Размах"
   ]
  },
  {
   "cell_type": "code",
   "execution_count": 28,
   "id": "595e8234",
   "metadata": {},
   "outputs": [
    {
     "data": {
      "text/plain": [
       "509593"
      ]
     },
     "execution_count": 28,
     "metadata": {},
     "output_type": "execute_result"
    }
   ],
   "source": [
    "int(bikes_hour['Rental Count'].max() - bikes_hour['Rental Count'].min())"
   ]
  },
  {
   "cell_type": "markdown",
   "id": "22cced1d",
   "metadata": {},
   "source": [
    "02/ Интерквартильный размах"
   ]
  },
  {
   "cell_type": "code",
   "execution_count": 29,
   "id": "b09cbe3d",
   "metadata": {},
   "outputs": [
    {
     "data": {
      "text/plain": [
       "180044"
      ]
     },
     "execution_count": 29,
     "metadata": {},
     "output_type": "execute_result"
    }
   ],
   "source": [
    "int(bikes_hour.describe()['Rental Count']['25%'])"
   ]
  },
  {
   "cell_type": "code",
   "execution_count": 30,
   "id": "054d78d5",
   "metadata": {},
   "outputs": [
    {
     "data": {
      "text/plain": [
       "180044"
      ]
     },
     "execution_count": 30,
     "metadata": {},
     "output_type": "execute_result"
    }
   ],
   "source": [
    "int(np.percentile(bikes_hour['Rental Count'], 25))"
   ]
  },
  {
   "cell_type": "code",
   "execution_count": 31,
   "id": "66685476",
   "metadata": {},
   "outputs": [
    {
     "data": {
      "text/plain": [
       "166152"
      ]
     },
     "execution_count": 31,
     "metadata": {},
     "output_type": "execute_result"
    }
   ],
   "source": [
    "int(np.percentile(bikes_hour['Rental Count'], 75) - np.percentile(bikes_hour['Rental Count'], 25))"
   ]
  },
  {
   "cell_type": "markdown",
   "id": "744791d5",
   "metadata": {},
   "source": [
    "### Для Выборки"
   ]
  },
  {
   "cell_type": "markdown",
   "id": "19656000",
   "metadata": {},
   "source": [
    "03/ Дисперсия"
   ]
  },
  {
   "cell_type": "code",
   "execution_count": 32,
   "id": "0ddfc983",
   "metadata": {},
   "outputs": [
    {
     "name": "stdout",
     "output_type": "stream",
     "text": [
      "16566399888.43297\n"
     ]
    }
   ],
   "source": [
    "bikes_mean = bikes_hour['Rental Count'].mean()\n",
    "deviations = bikes_hour['Rental Count'] - bikes_mean\n",
    "\n",
    "\n",
    "sq_deviations = deviations ** 2\n",
    "\n",
    "variance_samp = sq_deviations.sum() / (len(bikes_hour) - 1)\n",
    "print(variance_samp)"
   ]
  },
  {
   "cell_type": "markdown",
   "id": "9cb92557",
   "metadata": {},
   "source": [
    "04/ Cреднеквадратичное отклонение"
   ]
  },
  {
   "cell_type": "code",
   "execution_count": 33,
   "id": "fcf45b85",
   "metadata": {},
   "outputs": [
    {
     "name": "stdout",
     "output_type": "stream",
     "text": [
      "128710.52749652209\n"
     ]
    }
   ],
   "source": [
    "std_samp = np.sqrt(variance_samp)\n",
    "print(std_samp)"
   ]
  },
  {
   "cell_type": "markdown",
   "id": "a48de537",
   "metadata": {},
   "source": [
    "### Для генеральной совокупности"
   ]
  },
  {
   "cell_type": "markdown",
   "id": "ffd10e50",
   "metadata": {},
   "source": [
    "03/ Дисперсия"
   ]
  },
  {
   "cell_type": "code",
   "execution_count": 34,
   "id": "2efb8720",
   "metadata": {},
   "outputs": [
    {
     "name": "stdout",
     "output_type": "stream",
     "text": [
      "15876133226.41493\n"
     ]
    }
   ],
   "source": [
    "variance_pop = sq_deviations.sum() / len(bikes_hour)\n",
    "print(variance_pop)"
   ]
  },
  {
   "cell_type": "markdown",
   "id": "a681f766",
   "metadata": {},
   "source": [
    "04/ Cреднеквадратичное отклонение"
   ]
  },
  {
   "cell_type": "code",
   "execution_count": 35,
   "id": "fd98e47f",
   "metadata": {},
   "outputs": [
    {
     "name": "stdout",
     "output_type": "stream",
     "text": [
      "126000.52867514061\n"
     ]
    }
   ],
   "source": [
    "std_pop = np.sqrt(variance_pop)\n",
    "print(std_pop)"
   ]
  },
  {
   "cell_type": "markdown",
   "id": "aa5e4fbf",
   "metadata": {},
   "source": [
    "Дисперсия и Cреднеквадратичное отклонение по формуле"
   ]
  },
  {
   "cell_type": "code",
   "execution_count": 36,
   "id": "86ff455a",
   "metadata": {},
   "outputs": [
    {
     "name": "stdout",
     "output_type": "stream",
     "text": [
      "16566399888.43297\n",
      "128710.52749652209\n"
     ]
    }
   ],
   "source": [
    "## выборка\n",
    "\n",
    "bikes_var = bikes_hour['Rental Count'].var()\n",
    "bikes_std = bikes_hour['Rental Count'].std()\n",
    "\n",
    "print(bikes_var)\n",
    "print(bikes_std)"
   ]
  },
  {
   "cell_type": "code",
   "execution_count": 37,
   "id": "160e74d2",
   "metadata": {},
   "outputs": [
    {
     "name": "stdout",
     "output_type": "stream",
     "text": [
      "15876133226.41493\n",
      "126000.52867514061\n"
     ]
    }
   ],
   "source": [
    "## ген совокупность\n",
    "\n",
    "bikes_var_gen = bikes_hour['Rental Count'].var(ddof=0)\n",
    "bikes_std_gen = bikes_hour['Rental Count'].std(ddof=0)\n",
    "\n",
    "print(bikes_var_gen)\n",
    "print(bikes_std_gen)"
   ]
  },
  {
   "cell_type": "markdown",
   "id": "ed683bf9",
   "metadata": {},
   "source": [
    "### Использование мер разброса в суммирующих и агригирующих таблицах"
   ]
  },
  {
   "cell_type": "code",
   "execution_count": 38,
   "id": "8e544779",
   "metadata": {},
   "outputs": [
    {
     "data": {
      "text/plain": [
       "Hour\n",
       "0      455.016192\n",
       "1      338.058896\n",
       "2      268.797389\n",
       "3      162.601701\n",
       "4      106.375778\n",
       "5      113.191916\n",
       "6      273.636723\n",
       "7      582.515881\n",
       "8      871.005983\n",
       "9      500.018849\n",
       "10     415.278139\n",
       "11     452.773454\n",
       "12     538.838247\n",
       "13     539.252891\n",
       "14     613.267340\n",
       "15     631.989742\n",
       "16     744.642450\n",
       "17     935.173622\n",
       "18    1286.770715\n",
       "19    1088.371072\n",
       "20     995.999725\n",
       "21     916.900635\n",
       "22     787.161188\n",
       "23     581.424225\n",
       "Name: Rental Count, dtype: float64"
      ]
     },
     "execution_count": 38,
     "metadata": {},
     "output_type": "execute_result"
    }
   ],
   "source": [
    "bikes.groupby('Hour')['Rental Count'].std()"
   ]
  },
  {
   "cell_type": "code",
   "execution_count": 39,
   "id": "b04f03dc",
   "metadata": {},
   "outputs": [
    {
     "data": {
      "text/html": [
       "<div>\n",
       "<style scoped>\n",
       "    .dataframe tbody tr th:only-of-type {\n",
       "        vertical-align: middle;\n",
       "    }\n",
       "\n",
       "    .dataframe tbody tr th {\n",
       "        vertical-align: top;\n",
       "    }\n",
       "\n",
       "    .dataframe thead th {\n",
       "        text-align: right;\n",
       "    }\n",
       "</style>\n",
       "<table border=\"1\" class=\"dataframe\">\n",
       "  <thead>\n",
       "    <tr style=\"text-align: right;\">\n",
       "      <th></th>\n",
       "      <th>mean</th>\n",
       "      <th>std</th>\n",
       "      <th>median</th>\n",
       "    </tr>\n",
       "    <tr>\n",
       "      <th>Hour</th>\n",
       "      <th></th>\n",
       "      <th></th>\n",
       "      <th></th>\n",
       "    </tr>\n",
       "  </thead>\n",
       "  <tbody>\n",
       "    <tr>\n",
       "      <th>0</th>\n",
       "      <td>558.178082</td>\n",
       "      <td>455.016192</td>\n",
       "      <td>433.0</td>\n",
       "    </tr>\n",
       "    <tr>\n",
       "      <th>1</th>\n",
       "      <td>415.720548</td>\n",
       "      <td>338.058896</td>\n",
       "      <td>329.0</td>\n",
       "    </tr>\n",
       "    <tr>\n",
       "      <th>2</th>\n",
       "      <td>319.767123</td>\n",
       "      <td>268.797389</td>\n",
       "      <td>239.0</td>\n",
       "    </tr>\n",
       "    <tr>\n",
       "      <th>3</th>\n",
       "      <td>201.010959</td>\n",
       "      <td>162.601701</td>\n",
       "      <td>165.0</td>\n",
       "    </tr>\n",
       "    <tr>\n",
       "      <th>4</th>\n",
       "      <td>122.838356</td>\n",
       "      <td>106.375778</td>\n",
       "      <td>94.0</td>\n",
       "    </tr>\n",
       "    <tr>\n",
       "      <th>5</th>\n",
       "      <td>135.863014</td>\n",
       "      <td>113.191916</td>\n",
       "      <td>107.0</td>\n",
       "    </tr>\n",
       "    <tr>\n",
       "      <th>6</th>\n",
       "      <td>283.654795</td>\n",
       "      <td>273.636723</td>\n",
       "      <td>193.0</td>\n",
       "    </tr>\n",
       "    <tr>\n",
       "      <th>7</th>\n",
       "      <td>612.646575</td>\n",
       "      <td>582.515881</td>\n",
       "      <td>410.0</td>\n",
       "    </tr>\n",
       "    <tr>\n",
       "      <th>8</th>\n",
       "      <td>979.838356</td>\n",
       "      <td>871.005983</td>\n",
       "      <td>762.0</td>\n",
       "    </tr>\n",
       "    <tr>\n",
       "      <th>9</th>\n",
       "      <td>642.136986</td>\n",
       "      <td>500.018849</td>\n",
       "      <td>519.0</td>\n",
       "    </tr>\n",
       "    <tr>\n",
       "      <th>10</th>\n",
       "      <td>519.123288</td>\n",
       "      <td>415.278139</td>\n",
       "      <td>414.0</td>\n",
       "    </tr>\n",
       "    <tr>\n",
       "      <th>11</th>\n",
       "      <td>585.336986</td>\n",
       "      <td>452.773454</td>\n",
       "      <td>485.0</td>\n",
       "    </tr>\n",
       "    <tr>\n",
       "      <th>12</th>\n",
       "      <td>710.534247</td>\n",
       "      <td>538.838247</td>\n",
       "      <td>572.0</td>\n",
       "    </tr>\n",
       "    <tr>\n",
       "      <th>13</th>\n",
       "      <td>700.706849</td>\n",
       "      <td>539.252891</td>\n",
       "      <td>586.0</td>\n",
       "    </tr>\n",
       "    <tr>\n",
       "      <th>14</th>\n",
       "      <td>747.147945</td>\n",
       "      <td>613.267340</td>\n",
       "      <td>567.0</td>\n",
       "    </tr>\n",
       "    <tr>\n",
       "      <th>15</th>\n",
       "      <td>796.084932</td>\n",
       "      <td>631.989742</td>\n",
       "      <td>678.0</td>\n",
       "    </tr>\n",
       "    <tr>\n",
       "      <th>16</th>\n",
       "      <td>938.032877</td>\n",
       "      <td>744.642450</td>\n",
       "      <td>804.0</td>\n",
       "    </tr>\n",
       "    <tr>\n",
       "      <th>17</th>\n",
       "      <td>1128.873973</td>\n",
       "      <td>935.173622</td>\n",
       "      <td>899.0</td>\n",
       "    </tr>\n",
       "    <tr>\n",
       "      <th>18</th>\n",
       "      <td>1518.983562</td>\n",
       "      <td>1286.770715</td>\n",
       "      <td>1154.0</td>\n",
       "    </tr>\n",
       "    <tr>\n",
       "      <th>19</th>\n",
       "      <td>1168.328767</td>\n",
       "      <td>1088.371072</td>\n",
       "      <td>845.0</td>\n",
       "    </tr>\n",
       "    <tr>\n",
       "      <th>20</th>\n",
       "      <td>1069.698630</td>\n",
       "      <td>995.999725</td>\n",
       "      <td>721.0</td>\n",
       "    </tr>\n",
       "    <tr>\n",
       "      <th>21</th>\n",
       "      <td>997.942466</td>\n",
       "      <td>916.900635</td>\n",
       "      <td>688.0</td>\n",
       "    </tr>\n",
       "    <tr>\n",
       "      <th>22</th>\n",
       "      <td>893.621918</td>\n",
       "      <td>787.161188</td>\n",
       "      <td>649.0</td>\n",
       "    </tr>\n",
       "    <tr>\n",
       "      <th>23</th>\n",
       "      <td>671.898630</td>\n",
       "      <td>581.424225</td>\n",
       "      <td>516.0</td>\n",
       "    </tr>\n",
       "  </tbody>\n",
       "</table>\n",
       "</div>"
      ],
      "text/plain": [
       "             mean          std  median\n",
       "Hour                                  \n",
       "0      558.178082   455.016192   433.0\n",
       "1      415.720548   338.058896   329.0\n",
       "2      319.767123   268.797389   239.0\n",
       "3      201.010959   162.601701   165.0\n",
       "4      122.838356   106.375778    94.0\n",
       "5      135.863014   113.191916   107.0\n",
       "6      283.654795   273.636723   193.0\n",
       "7      612.646575   582.515881   410.0\n",
       "8      979.838356   871.005983   762.0\n",
       "9      642.136986   500.018849   519.0\n",
       "10     519.123288   415.278139   414.0\n",
       "11     585.336986   452.773454   485.0\n",
       "12     710.534247   538.838247   572.0\n",
       "13     700.706849   539.252891   586.0\n",
       "14     747.147945   613.267340   567.0\n",
       "15     796.084932   631.989742   678.0\n",
       "16     938.032877   744.642450   804.0\n",
       "17    1128.873973   935.173622   899.0\n",
       "18    1518.983562  1286.770715  1154.0\n",
       "19    1168.328767  1088.371072   845.0\n",
       "20    1069.698630   995.999725   721.0\n",
       "21     997.942466   916.900635   688.0\n",
       "22     893.621918   787.161188   649.0\n",
       "23     671.898630   581.424225   516.0"
      ]
     },
     "execution_count": 39,
     "metadata": {},
     "output_type": "execute_result"
    }
   ],
   "source": [
    "bikes.groupby('Hour')['Rental Count'].agg(['mean', 'std', 'median'])"
   ]
  },
  {
   "cell_type": "code",
   "execution_count": 40,
   "id": "5bf25d6f",
   "metadata": {},
   "outputs": [
    {
     "data": {
      "text/html": [
       "<div>\n",
       "<style scoped>\n",
       "    .dataframe tbody tr th:only-of-type {\n",
       "        vertical-align: middle;\n",
       "    }\n",
       "\n",
       "    .dataframe tbody tr th {\n",
       "        vertical-align: top;\n",
       "    }\n",
       "\n",
       "    .dataframe thead tr th {\n",
       "        text-align: left;\n",
       "    }\n",
       "\n",
       "    .dataframe thead tr:last-of-type th {\n",
       "        text-align: right;\n",
       "    }\n",
       "</style>\n",
       "<table border=\"1\" class=\"dataframe\">\n",
       "  <thead>\n",
       "    <tr>\n",
       "      <th></th>\n",
       "      <th colspan=\"2\" halign=\"left\">var</th>\n",
       "      <th colspan=\"2\" halign=\"left\">std</th>\n",
       "      <th colspan=\"2\" halign=\"left\">range_value</th>\n",
       "    </tr>\n",
       "    <tr>\n",
       "      <th></th>\n",
       "      <th>Rental Count</th>\n",
       "      <th>Temperature</th>\n",
       "      <th>Rental Count</th>\n",
       "      <th>Temperature</th>\n",
       "      <th>Rental Count</th>\n",
       "      <th>Temperature</th>\n",
       "    </tr>\n",
       "    <tr>\n",
       "      <th>Hour</th>\n",
       "      <th></th>\n",
       "      <th></th>\n",
       "      <th></th>\n",
       "      <th></th>\n",
       "      <th></th>\n",
       "      <th></th>\n",
       "    </tr>\n",
       "  </thead>\n",
       "  <tbody>\n",
       "    <tr>\n",
       "      <th>0</th>\n",
       "      <td>2.070397e+05</td>\n",
       "      <td>130.823339</td>\n",
       "      <td>455.016192</td>\n",
       "      <td>11.437803</td>\n",
       "      <td>2059</td>\n",
       "      <td>48.0</td>\n",
       "    </tr>\n",
       "    <tr>\n",
       "      <th>1</th>\n",
       "      <td>1.142838e+05</td>\n",
       "      <td>129.769278</td>\n",
       "      <td>338.058896</td>\n",
       "      <td>11.391632</td>\n",
       "      <td>1485</td>\n",
       "      <td>47.8</td>\n",
       "    </tr>\n",
       "    <tr>\n",
       "      <th>2</th>\n",
       "      <td>7.225204e+04</td>\n",
       "      <td>130.217762</td>\n",
       "      <td>268.797389</td>\n",
       "      <td>11.411300</td>\n",
       "      <td>1950</td>\n",
       "      <td>47.5</td>\n",
       "    </tr>\n",
       "    <tr>\n",
       "      <th>3</th>\n",
       "      <td>2.643931e+04</td>\n",
       "      <td>127.842870</td>\n",
       "      <td>162.601701</td>\n",
       "      <td>11.306762</td>\n",
       "      <td>781</td>\n",
       "      <td>47.2</td>\n",
       "    </tr>\n",
       "    <tr>\n",
       "      <th>4</th>\n",
       "      <td>1.131581e+04</td>\n",
       "      <td>127.332677</td>\n",
       "      <td>106.375778</td>\n",
       "      <td>11.284178</td>\n",
       "      <td>608</td>\n",
       "      <td>47.5</td>\n",
       "    </tr>\n",
       "    <tr>\n",
       "      <th>5</th>\n",
       "      <td>1.281241e+04</td>\n",
       "      <td>127.921327</td>\n",
       "      <td>113.191916</td>\n",
       "      <td>11.310231</td>\n",
       "      <td>561</td>\n",
       "      <td>47.6</td>\n",
       "    </tr>\n",
       "    <tr>\n",
       "      <th>6</th>\n",
       "      <td>7.487706e+04</td>\n",
       "      <td>128.232369</td>\n",
       "      <td>273.636723</td>\n",
       "      <td>11.323973</td>\n",
       "      <td>1577</td>\n",
       "      <td>47.9</td>\n",
       "    </tr>\n",
       "    <tr>\n",
       "      <th>7</th>\n",
       "      <td>3.393248e+05</td>\n",
       "      <td>131.970580</td>\n",
       "      <td>582.515881</td>\n",
       "      <td>11.487845</td>\n",
       "      <td>2880</td>\n",
       "      <td>48.0</td>\n",
       "    </tr>\n",
       "    <tr>\n",
       "      <th>8</th>\n",
       "      <td>7.586514e+05</td>\n",
       "      <td>142.368491</td>\n",
       "      <td>871.005983</td>\n",
       "      <td>11.931827</td>\n",
       "      <td>4438</td>\n",
       "      <td>49.6</td>\n",
       "    </tr>\n",
       "    <tr>\n",
       "      <th>9</th>\n",
       "      <td>2.500188e+05</td>\n",
       "      <td>148.816319</td>\n",
       "      <td>500.018849</td>\n",
       "      <td>12.199029</td>\n",
       "      <td>2318</td>\n",
       "      <td>50.5</td>\n",
       "    </tr>\n",
       "    <tr>\n",
       "      <th>10</th>\n",
       "      <td>1.724559e+05</td>\n",
       "      <td>147.593567</td>\n",
       "      <td>415.278139</td>\n",
       "      <td>12.148809</td>\n",
       "      <td>1740</td>\n",
       "      <td>50.9</td>\n",
       "    </tr>\n",
       "    <tr>\n",
       "      <th>11</th>\n",
       "      <td>2.050038e+05</td>\n",
       "      <td>144.927933</td>\n",
       "      <td>452.773454</td>\n",
       "      <td>12.038602</td>\n",
       "      <td>2041</td>\n",
       "      <td>51.4</td>\n",
       "    </tr>\n",
       "    <tr>\n",
       "      <th>12</th>\n",
       "      <td>2.903467e+05</td>\n",
       "      <td>142.313704</td>\n",
       "      <td>538.838247</td>\n",
       "      <td>11.929531</td>\n",
       "      <td>2239</td>\n",
       "      <td>51.2</td>\n",
       "    </tr>\n",
       "    <tr>\n",
       "      <th>13</th>\n",
       "      <td>2.907937e+05</td>\n",
       "      <td>140.029017</td>\n",
       "      <td>539.252891</td>\n",
       "      <td>11.833386</td>\n",
       "      <td>2805</td>\n",
       "      <td>51.2</td>\n",
       "    </tr>\n",
       "    <tr>\n",
       "      <th>14</th>\n",
       "      <td>3.760968e+05</td>\n",
       "      <td>139.832607</td>\n",
       "      <td>613.267340</td>\n",
       "      <td>11.825084</td>\n",
       "      <td>3163</td>\n",
       "      <td>50.8</td>\n",
       "    </tr>\n",
       "    <tr>\n",
       "      <th>15</th>\n",
       "      <td>3.994110e+05</td>\n",
       "      <td>140.957178</td>\n",
       "      <td>631.989742</td>\n",
       "      <td>11.872539</td>\n",
       "      <td>3194</td>\n",
       "      <td>50.7</td>\n",
       "    </tr>\n",
       "    <tr>\n",
       "      <th>16</th>\n",
       "      <td>5.544924e+05</td>\n",
       "      <td>139.194330</td>\n",
       "      <td>744.642450</td>\n",
       "      <td>11.798065</td>\n",
       "      <td>3671</td>\n",
       "      <td>50.6</td>\n",
       "    </tr>\n",
       "    <tr>\n",
       "      <th>17</th>\n",
       "      <td>8.745497e+05</td>\n",
       "      <td>145.927077</td>\n",
       "      <td>935.173622</td>\n",
       "      <td>12.080028</td>\n",
       "      <td>4450</td>\n",
       "      <td>50.8</td>\n",
       "    </tr>\n",
       "    <tr>\n",
       "      <th>18</th>\n",
       "      <td>1.655779e+06</td>\n",
       "      <td>147.720860</td>\n",
       "      <td>1286.770715</td>\n",
       "      <td>12.154047</td>\n",
       "      <td>6012</td>\n",
       "      <td>50.8</td>\n",
       "    </tr>\n",
       "    <tr>\n",
       "      <th>19</th>\n",
       "      <td>1.184552e+06</td>\n",
       "      <td>140.360917</td>\n",
       "      <td>1088.371072</td>\n",
       "      <td>11.847401</td>\n",
       "      <td>5418</td>\n",
       "      <td>49.9</td>\n",
       "    </tr>\n",
       "    <tr>\n",
       "      <th>20</th>\n",
       "      <td>9.920155e+05</td>\n",
       "      <td>135.874914</td>\n",
       "      <td>995.999725</td>\n",
       "      <td>11.656540</td>\n",
       "      <td>3857</td>\n",
       "      <td>48.8</td>\n",
       "    </tr>\n",
       "    <tr>\n",
       "      <th>21</th>\n",
       "      <td>8.407068e+05</td>\n",
       "      <td>131.790545</td>\n",
       "      <td>916.900635</td>\n",
       "      <td>11.480006</td>\n",
       "      <td>4373</td>\n",
       "      <td>48.0</td>\n",
       "    </tr>\n",
       "    <tr>\n",
       "      <th>22</th>\n",
       "      <td>6.196227e+05</td>\n",
       "      <td>131.796557</td>\n",
       "      <td>787.161188</td>\n",
       "      <td>11.480268</td>\n",
       "      <td>3432</td>\n",
       "      <td>48.1</td>\n",
       "    </tr>\n",
       "    <tr>\n",
       "      <th>23</th>\n",
       "      <td>3.380541e+05</td>\n",
       "      <td>128.721555</td>\n",
       "      <td>581.424225</td>\n",
       "      <td>11.345552</td>\n",
       "      <td>2603</td>\n",
       "      <td>48.1</td>\n",
       "    </tr>\n",
       "  </tbody>\n",
       "</table>\n",
       "</div>"
      ],
      "text/plain": [
       "               var                      std              range_value  \\\n",
       "      Rental Count Temperature Rental Count Temperature Rental Count   \n",
       "Hour                                                                   \n",
       "0     2.070397e+05  130.823339   455.016192   11.437803         2059   \n",
       "1     1.142838e+05  129.769278   338.058896   11.391632         1485   \n",
       "2     7.225204e+04  130.217762   268.797389   11.411300         1950   \n",
       "3     2.643931e+04  127.842870   162.601701   11.306762          781   \n",
       "4     1.131581e+04  127.332677   106.375778   11.284178          608   \n",
       "5     1.281241e+04  127.921327   113.191916   11.310231          561   \n",
       "6     7.487706e+04  128.232369   273.636723   11.323973         1577   \n",
       "7     3.393248e+05  131.970580   582.515881   11.487845         2880   \n",
       "8     7.586514e+05  142.368491   871.005983   11.931827         4438   \n",
       "9     2.500188e+05  148.816319   500.018849   12.199029         2318   \n",
       "10    1.724559e+05  147.593567   415.278139   12.148809         1740   \n",
       "11    2.050038e+05  144.927933   452.773454   12.038602         2041   \n",
       "12    2.903467e+05  142.313704   538.838247   11.929531         2239   \n",
       "13    2.907937e+05  140.029017   539.252891   11.833386         2805   \n",
       "14    3.760968e+05  139.832607   613.267340   11.825084         3163   \n",
       "15    3.994110e+05  140.957178   631.989742   11.872539         3194   \n",
       "16    5.544924e+05  139.194330   744.642450   11.798065         3671   \n",
       "17    8.745497e+05  145.927077   935.173622   12.080028         4450   \n",
       "18    1.655779e+06  147.720860  1286.770715   12.154047         6012   \n",
       "19    1.184552e+06  140.360917  1088.371072   11.847401         5418   \n",
       "20    9.920155e+05  135.874914   995.999725   11.656540         3857   \n",
       "21    8.407068e+05  131.790545   916.900635   11.480006         4373   \n",
       "22    6.196227e+05  131.796557   787.161188   11.480268         3432   \n",
       "23    3.380541e+05  128.721555   581.424225   11.345552         2603   \n",
       "\n",
       "                  \n",
       "     Temperature  \n",
       "Hour              \n",
       "0           48.0  \n",
       "1           47.8  \n",
       "2           47.5  \n",
       "3           47.2  \n",
       "4           47.5  \n",
       "5           47.6  \n",
       "6           47.9  \n",
       "7           48.0  \n",
       "8           49.6  \n",
       "9           50.5  \n",
       "10          50.9  \n",
       "11          51.4  \n",
       "12          51.2  \n",
       "13          51.2  \n",
       "14          50.8  \n",
       "15          50.7  \n",
       "16          50.6  \n",
       "17          50.8  \n",
       "18          50.8  \n",
       "19          49.9  \n",
       "20          48.8  \n",
       "21          48.0  \n",
       "22          48.1  \n",
       "23          48.1  "
      ]
     },
     "execution_count": 40,
     "metadata": {},
     "output_type": "execute_result"
    }
   ],
   "source": [
    "def range_value(x):\n",
    "    return x.max() - x.min()\n",
    "\n",
    "bikes.pivot_table(index = 'Hour', values = ['Temperature', 'Rental Count'], aggfunc = ['var', 'std', range_value])"
   ]
  },
  {
   "cell_type": "markdown",
   "id": "add4447b-7de9-4c78-bac7-7d1bc4f43c7f",
   "metadata": {},
   "source": [
    "Частотная таблица"
   ]
  },
  {
   "cell_type": "code",
   "execution_count": 41,
   "id": "cee5d16e-6ef5-4026-9152-abba219e4de9",
   "metadata": {},
   "outputs": [
    {
     "data": {
      "text/plain": [
       "Temperature Category\n",
       "Chilly      3112\n",
       "Nice        2778\n",
       "Freezing    1412\n",
       "Hot         1279\n",
       "Name: count, dtype: int64"
      ]
     },
     "execution_count": 41,
     "metadata": {},
     "output_type": "execute_result"
    }
   ],
   "source": [
    "bikes[\"Temperature Category\"].value_counts()"
   ]
  },
  {
   "cell_type": "code",
   "execution_count": 42,
   "id": "725710b1-3ecd-473e-aab6-ad21b8a1bff3",
   "metadata": {},
   "outputs": [
    {
     "data": {
      "text/plain": [
       "Temperature Category\n",
       "Chilly      3112\n",
       "Nice        2778\n",
       "Freezing    1412\n",
       "Hot         1279\n",
       "NaN          179\n",
       "Name: count, dtype: int64"
      ]
     },
     "execution_count": 42,
     "metadata": {},
     "output_type": "execute_result"
    }
   ],
   "source": [
    "bikes[\"Temperature Category\"].value_counts(dropna = False)"
   ]
  },
  {
   "cell_type": "code",
   "execution_count": 43,
   "id": "7de926a7-bf40-4634-ac85-3c3dbf7fffa4",
   "metadata": {},
   "outputs": [
    {
     "data": {
      "text/plain": [
       "Good Weather\n",
       "0    7948\n",
       "1     812\n",
       "Name: count, dtype: int64"
      ]
     },
     "execution_count": 43,
     "metadata": {},
     "output_type": "execute_result"
    }
   ],
   "source": [
    "bikes['Good Weather'].value_counts()"
   ]
  },
  {
   "cell_type": "code",
   "execution_count": 44,
   "id": "a6c4e187-f6b0-4456-83c4-dbdbe2e1f225",
   "metadata": {},
   "outputs": [],
   "source": [
    "# группируем данные по какому-то признаку"
   ]
  },
  {
   "cell_type": "code",
   "execution_count": 45,
   "id": "6b29f671-11ec-4fe3-8fba-0179d2d0d5da",
   "metadata": {},
   "outputs": [
    {
     "data": {
      "text/plain": [
       "Date\n",
       "2017-12-01     9802\n",
       "2017-12-02     8404\n",
       "2017-12-03     8644\n",
       "2017-12-04     9556\n",
       "2017-12-05     6578\n",
       "              ...  \n",
       "2018-11-26    13934\n",
       "2018-11-27    13964\n",
       "2018-11-28    17378\n",
       "2018-11-29    18058\n",
       "2018-11-30    17543\n",
       "Name: Rental Count, Length: 365, dtype: int64"
      ]
     },
     "execution_count": 45,
     "metadata": {},
     "output_type": "execute_result"
    }
   ],
   "source": [
    "bikes.groupby('Date')['Rental Count'].sum()"
   ]
  },
  {
   "cell_type": "code",
   "execution_count": 46,
   "id": "3ad6d6fc-ee8d-4ae5-a955-cee6d3239a68",
   "metadata": {},
   "outputs": [
    {
     "data": {
      "text/plain": [
       "365"
      ]
     },
     "execution_count": 46,
     "metadata": {},
     "output_type": "execute_result"
    }
   ],
   "source": [
    "len(list(bikes.groupby('Date'))) "
   ]
  },
  {
   "cell_type": "code",
   "execution_count": 47,
   "id": "5b7d6722-dc24-4b8c-9dfe-1c512422f902",
   "metadata": {},
   "outputs": [
    {
     "data": {
      "text/html": [
       "<div>\n",
       "<style scoped>\n",
       "    .dataframe tbody tr th:only-of-type {\n",
       "        vertical-align: middle;\n",
       "    }\n",
       "\n",
       "    .dataframe tbody tr th {\n",
       "        vertical-align: top;\n",
       "    }\n",
       "\n",
       "    .dataframe thead th {\n",
       "        text-align: right;\n",
       "    }\n",
       "</style>\n",
       "<table border=\"1\" class=\"dataframe\">\n",
       "  <thead>\n",
       "    <tr style=\"text-align: right;\">\n",
       "      <th></th>\n",
       "      <th>Date</th>\n",
       "      <th>Hour</th>\n",
       "      <th>Temperature</th>\n",
       "      <th>Humidity</th>\n",
       "      <th>Wind speed</th>\n",
       "      <th>Rainfall</th>\n",
       "      <th>Snowfall</th>\n",
       "      <th>Seasons</th>\n",
       "      <th>Holiday</th>\n",
       "      <th>Functioning Day</th>\n",
       "      <th>Rental Count</th>\n",
       "      <th>Normal Humidity</th>\n",
       "      <th>Temperature Category</th>\n",
       "      <th>Good Weather</th>\n",
       "    </tr>\n",
       "  </thead>\n",
       "  <tbody>\n",
       "    <tr>\n",
       "      <th>0</th>\n",
       "      <td>2017-12-01</td>\n",
       "      <td>0</td>\n",
       "      <td>-5.2</td>\n",
       "      <td>37</td>\n",
       "      <td>2.2</td>\n",
       "      <td>0.0</td>\n",
       "      <td>0.0</td>\n",
       "      <td>Winter</td>\n",
       "      <td>0</td>\n",
       "      <td>True</td>\n",
       "      <td>257</td>\n",
       "      <td>0</td>\n",
       "      <td>Freezing</td>\n",
       "      <td>0</td>\n",
       "    </tr>\n",
       "    <tr>\n",
       "      <th>1</th>\n",
       "      <td>2017-12-01</td>\n",
       "      <td>1</td>\n",
       "      <td>-5.5</td>\n",
       "      <td>38</td>\n",
       "      <td>0.8</td>\n",
       "      <td>0.0</td>\n",
       "      <td>0.0</td>\n",
       "      <td>Winter</td>\n",
       "      <td>0</td>\n",
       "      <td>True</td>\n",
       "      <td>219</td>\n",
       "      <td>0</td>\n",
       "      <td>Freezing</td>\n",
       "      <td>0</td>\n",
       "    </tr>\n",
       "    <tr>\n",
       "      <th>2</th>\n",
       "      <td>2017-12-01</td>\n",
       "      <td>2</td>\n",
       "      <td>-6.0</td>\n",
       "      <td>39</td>\n",
       "      <td>1.0</td>\n",
       "      <td>0.0</td>\n",
       "      <td>0.0</td>\n",
       "      <td>Winter</td>\n",
       "      <td>0</td>\n",
       "      <td>True</td>\n",
       "      <td>162</td>\n",
       "      <td>0</td>\n",
       "      <td>Freezing</td>\n",
       "      <td>0</td>\n",
       "    </tr>\n",
       "    <tr>\n",
       "      <th>3</th>\n",
       "      <td>2017-12-01</td>\n",
       "      <td>3</td>\n",
       "      <td>-6.2</td>\n",
       "      <td>40</td>\n",
       "      <td>0.9</td>\n",
       "      <td>0.0</td>\n",
       "      <td>0.0</td>\n",
       "      <td>Winter</td>\n",
       "      <td>0</td>\n",
       "      <td>True</td>\n",
       "      <td>148</td>\n",
       "      <td>1</td>\n",
       "      <td>Freezing</td>\n",
       "      <td>0</td>\n",
       "    </tr>\n",
       "    <tr>\n",
       "      <th>4</th>\n",
       "      <td>2017-12-01</td>\n",
       "      <td>4</td>\n",
       "      <td>-6.0</td>\n",
       "      <td>36</td>\n",
       "      <td>2.3</td>\n",
       "      <td>0.0</td>\n",
       "      <td>0.0</td>\n",
       "      <td>Winter</td>\n",
       "      <td>0</td>\n",
       "      <td>True</td>\n",
       "      <td>97</td>\n",
       "      <td>0</td>\n",
       "      <td>Freezing</td>\n",
       "      <td>0</td>\n",
       "    </tr>\n",
       "    <tr>\n",
       "      <th>5</th>\n",
       "      <td>2017-12-01</td>\n",
       "      <td>5</td>\n",
       "      <td>-6.4</td>\n",
       "      <td>37</td>\n",
       "      <td>1.5</td>\n",
       "      <td>0.0</td>\n",
       "      <td>0.0</td>\n",
       "      <td>Winter</td>\n",
       "      <td>0</td>\n",
       "      <td>True</td>\n",
       "      <td>173</td>\n",
       "      <td>0</td>\n",
       "      <td>Freezing</td>\n",
       "      <td>0</td>\n",
       "    </tr>\n",
       "    <tr>\n",
       "      <th>6</th>\n",
       "      <td>2017-12-01</td>\n",
       "      <td>6</td>\n",
       "      <td>-6.6</td>\n",
       "      <td>35</td>\n",
       "      <td>1.3</td>\n",
       "      <td>0.0</td>\n",
       "      <td>0.0</td>\n",
       "      <td>Winter</td>\n",
       "      <td>0</td>\n",
       "      <td>True</td>\n",
       "      <td>167</td>\n",
       "      <td>0</td>\n",
       "      <td>Freezing</td>\n",
       "      <td>0</td>\n",
       "    </tr>\n",
       "    <tr>\n",
       "      <th>7</th>\n",
       "      <td>2017-12-01</td>\n",
       "      <td>7</td>\n",
       "      <td>-7.4</td>\n",
       "      <td>38</td>\n",
       "      <td>0.9</td>\n",
       "      <td>0.0</td>\n",
       "      <td>0.0</td>\n",
       "      <td>Winter</td>\n",
       "      <td>0</td>\n",
       "      <td>True</td>\n",
       "      <td>483</td>\n",
       "      <td>0</td>\n",
       "      <td>Freezing</td>\n",
       "      <td>0</td>\n",
       "    </tr>\n",
       "    <tr>\n",
       "      <th>8</th>\n",
       "      <td>2017-12-01</td>\n",
       "      <td>8</td>\n",
       "      <td>-7.6</td>\n",
       "      <td>37</td>\n",
       "      <td>1.1</td>\n",
       "      <td>0.0</td>\n",
       "      <td>0.0</td>\n",
       "      <td>Winter</td>\n",
       "      <td>0</td>\n",
       "      <td>True</td>\n",
       "      <td>853</td>\n",
       "      <td>0</td>\n",
       "      <td>Freezing</td>\n",
       "      <td>0</td>\n",
       "    </tr>\n",
       "    <tr>\n",
       "      <th>9</th>\n",
       "      <td>2017-12-01</td>\n",
       "      <td>9</td>\n",
       "      <td>-6.5</td>\n",
       "      <td>27</td>\n",
       "      <td>0.5</td>\n",
       "      <td>0.0</td>\n",
       "      <td>0.0</td>\n",
       "      <td>Winter</td>\n",
       "      <td>0</td>\n",
       "      <td>True</td>\n",
       "      <td>238</td>\n",
       "      <td>0</td>\n",
       "      <td>Freezing</td>\n",
       "      <td>0</td>\n",
       "    </tr>\n",
       "    <tr>\n",
       "      <th>10</th>\n",
       "      <td>2017-12-01</td>\n",
       "      <td>10</td>\n",
       "      <td>-3.5</td>\n",
       "      <td>24</td>\n",
       "      <td>1.2</td>\n",
       "      <td>0.0</td>\n",
       "      <td>0.0</td>\n",
       "      <td>Winter</td>\n",
       "      <td>0</td>\n",
       "      <td>True</td>\n",
       "      <td>385</td>\n",
       "      <td>0</td>\n",
       "      <td>Freezing</td>\n",
       "      <td>0</td>\n",
       "    </tr>\n",
       "    <tr>\n",
       "      <th>11</th>\n",
       "      <td>2017-12-01</td>\n",
       "      <td>11</td>\n",
       "      <td>-0.5</td>\n",
       "      <td>21</td>\n",
       "      <td>1.3</td>\n",
       "      <td>0.0</td>\n",
       "      <td>0.0</td>\n",
       "      <td>Winter</td>\n",
       "      <td>0</td>\n",
       "      <td>True</td>\n",
       "      <td>334</td>\n",
       "      <td>0</td>\n",
       "      <td>Freezing</td>\n",
       "      <td>0</td>\n",
       "    </tr>\n",
       "    <tr>\n",
       "      <th>12</th>\n",
       "      <td>2017-12-01</td>\n",
       "      <td>12</td>\n",
       "      <td>1.7</td>\n",
       "      <td>23</td>\n",
       "      <td>1.4</td>\n",
       "      <td>0.0</td>\n",
       "      <td>0.0</td>\n",
       "      <td>Winter</td>\n",
       "      <td>0</td>\n",
       "      <td>True</td>\n",
       "      <td>592</td>\n",
       "      <td>0</td>\n",
       "      <td>Chilly</td>\n",
       "      <td>0</td>\n",
       "    </tr>\n",
       "    <tr>\n",
       "      <th>13</th>\n",
       "      <td>2017-12-01</td>\n",
       "      <td>13</td>\n",
       "      <td>2.4</td>\n",
       "      <td>25</td>\n",
       "      <td>1.6</td>\n",
       "      <td>0.0</td>\n",
       "      <td>0.0</td>\n",
       "      <td>Winter</td>\n",
       "      <td>0</td>\n",
       "      <td>True</td>\n",
       "      <td>700</td>\n",
       "      <td>0</td>\n",
       "      <td>Chilly</td>\n",
       "      <td>0</td>\n",
       "    </tr>\n",
       "    <tr>\n",
       "      <th>14</th>\n",
       "      <td>2017-12-01</td>\n",
       "      <td>14</td>\n",
       "      <td>3.0</td>\n",
       "      <td>26</td>\n",
       "      <td>2.0</td>\n",
       "      <td>0.0</td>\n",
       "      <td>0.0</td>\n",
       "      <td>Winter</td>\n",
       "      <td>0</td>\n",
       "      <td>True</td>\n",
       "      <td>490</td>\n",
       "      <td>0</td>\n",
       "      <td>Chilly</td>\n",
       "      <td>0</td>\n",
       "    </tr>\n",
       "    <tr>\n",
       "      <th>15</th>\n",
       "      <td>2017-12-01</td>\n",
       "      <td>15</td>\n",
       "      <td>2.1</td>\n",
       "      <td>36</td>\n",
       "      <td>3.2</td>\n",
       "      <td>0.0</td>\n",
       "      <td>0.0</td>\n",
       "      <td>Winter</td>\n",
       "      <td>0</td>\n",
       "      <td>True</td>\n",
       "      <td>817</td>\n",
       "      <td>0</td>\n",
       "      <td>Chilly</td>\n",
       "      <td>0</td>\n",
       "    </tr>\n",
       "    <tr>\n",
       "      <th>16</th>\n",
       "      <td>2017-12-01</td>\n",
       "      <td>16</td>\n",
       "      <td>1.2</td>\n",
       "      <td>54</td>\n",
       "      <td>4.2</td>\n",
       "      <td>0.0</td>\n",
       "      <td>0.0</td>\n",
       "      <td>Winter</td>\n",
       "      <td>0</td>\n",
       "      <td>True</td>\n",
       "      <td>184</td>\n",
       "      <td>1</td>\n",
       "      <td>Chilly</td>\n",
       "      <td>0</td>\n",
       "    </tr>\n",
       "    <tr>\n",
       "      <th>17</th>\n",
       "      <td>2017-12-01</td>\n",
       "      <td>17</td>\n",
       "      <td>0.8</td>\n",
       "      <td>58</td>\n",
       "      <td>1.6</td>\n",
       "      <td>0.0</td>\n",
       "      <td>0.0</td>\n",
       "      <td>Winter</td>\n",
       "      <td>0</td>\n",
       "      <td>True</td>\n",
       "      <td>468</td>\n",
       "      <td>1</td>\n",
       "      <td>Chilly</td>\n",
       "      <td>0</td>\n",
       "    </tr>\n",
       "    <tr>\n",
       "      <th>18</th>\n",
       "      <td>2017-12-01</td>\n",
       "      <td>18</td>\n",
       "      <td>0.6</td>\n",
       "      <td>66</td>\n",
       "      <td>1.4</td>\n",
       "      <td>0.0</td>\n",
       "      <td>0.0</td>\n",
       "      <td>Winter</td>\n",
       "      <td>0</td>\n",
       "      <td>True</td>\n",
       "      <td>924</td>\n",
       "      <td>0</td>\n",
       "      <td>Chilly</td>\n",
       "      <td>0</td>\n",
       "    </tr>\n",
       "    <tr>\n",
       "      <th>19</th>\n",
       "      <td>2017-12-01</td>\n",
       "      <td>19</td>\n",
       "      <td>0.0</td>\n",
       "      <td>77</td>\n",
       "      <td>1.7</td>\n",
       "      <td>0.0</td>\n",
       "      <td>0.0</td>\n",
       "      <td>Winter</td>\n",
       "      <td>0</td>\n",
       "      <td>True</td>\n",
       "      <td>917</td>\n",
       "      <td>0</td>\n",
       "      <td>Chilly</td>\n",
       "      <td>0</td>\n",
       "    </tr>\n",
       "    <tr>\n",
       "      <th>20</th>\n",
       "      <td>2017-12-01</td>\n",
       "      <td>20</td>\n",
       "      <td>-0.3</td>\n",
       "      <td>79</td>\n",
       "      <td>1.5</td>\n",
       "      <td>0.0</td>\n",
       "      <td>0.0</td>\n",
       "      <td>Winter</td>\n",
       "      <td>0</td>\n",
       "      <td>True</td>\n",
       "      <td>184</td>\n",
       "      <td>0</td>\n",
       "      <td>Freezing</td>\n",
       "      <td>0</td>\n",
       "    </tr>\n",
       "    <tr>\n",
       "      <th>21</th>\n",
       "      <td>2017-12-01</td>\n",
       "      <td>21</td>\n",
       "      <td>-0.8</td>\n",
       "      <td>81</td>\n",
       "      <td>0.8</td>\n",
       "      <td>0.0</td>\n",
       "      <td>0.0</td>\n",
       "      <td>Winter</td>\n",
       "      <td>0</td>\n",
       "      <td>True</td>\n",
       "      <td>319</td>\n",
       "      <td>0</td>\n",
       "      <td>Freezing</td>\n",
       "      <td>0</td>\n",
       "    </tr>\n",
       "    <tr>\n",
       "      <th>22</th>\n",
       "      <td>2017-12-01</td>\n",
       "      <td>22</td>\n",
       "      <td>-0.9</td>\n",
       "      <td>83</td>\n",
       "      <td>1.5</td>\n",
       "      <td>0.0</td>\n",
       "      <td>0.0</td>\n",
       "      <td>Winter</td>\n",
       "      <td>0</td>\n",
       "      <td>True</td>\n",
       "      <td>473</td>\n",
       "      <td>0</td>\n",
       "      <td>Freezing</td>\n",
       "      <td>0</td>\n",
       "    </tr>\n",
       "    <tr>\n",
       "      <th>23</th>\n",
       "      <td>2017-12-01</td>\n",
       "      <td>23</td>\n",
       "      <td>-1.3</td>\n",
       "      <td>84</td>\n",
       "      <td>1.0</td>\n",
       "      <td>0.0</td>\n",
       "      <td>0.0</td>\n",
       "      <td>Winter</td>\n",
       "      <td>0</td>\n",
       "      <td>True</td>\n",
       "      <td>218</td>\n",
       "      <td>0</td>\n",
       "      <td>Freezing</td>\n",
       "      <td>0</td>\n",
       "    </tr>\n",
       "  </tbody>\n",
       "</table>\n",
       "</div>"
      ],
      "text/plain": [
       "         Date  Hour  Temperature  Humidity  Wind speed  Rainfall  Snowfall  \\\n",
       "0  2017-12-01     0         -5.2        37         2.2       0.0       0.0   \n",
       "1  2017-12-01     1         -5.5        38         0.8       0.0       0.0   \n",
       "2  2017-12-01     2         -6.0        39         1.0       0.0       0.0   \n",
       "3  2017-12-01     3         -6.2        40         0.9       0.0       0.0   \n",
       "4  2017-12-01     4         -6.0        36         2.3       0.0       0.0   \n",
       "5  2017-12-01     5         -6.4        37         1.5       0.0       0.0   \n",
       "6  2017-12-01     6         -6.6        35         1.3       0.0       0.0   \n",
       "7  2017-12-01     7         -7.4        38         0.9       0.0       0.0   \n",
       "8  2017-12-01     8         -7.6        37         1.1       0.0       0.0   \n",
       "9  2017-12-01     9         -6.5        27         0.5       0.0       0.0   \n",
       "10 2017-12-01    10         -3.5        24         1.2       0.0       0.0   \n",
       "11 2017-12-01    11         -0.5        21         1.3       0.0       0.0   \n",
       "12 2017-12-01    12          1.7        23         1.4       0.0       0.0   \n",
       "13 2017-12-01    13          2.4        25         1.6       0.0       0.0   \n",
       "14 2017-12-01    14          3.0        26         2.0       0.0       0.0   \n",
       "15 2017-12-01    15          2.1        36         3.2       0.0       0.0   \n",
       "16 2017-12-01    16          1.2        54         4.2       0.0       0.0   \n",
       "17 2017-12-01    17          0.8        58         1.6       0.0       0.0   \n",
       "18 2017-12-01    18          0.6        66         1.4       0.0       0.0   \n",
       "19 2017-12-01    19          0.0        77         1.7       0.0       0.0   \n",
       "20 2017-12-01    20         -0.3        79         1.5       0.0       0.0   \n",
       "21 2017-12-01    21         -0.8        81         0.8       0.0       0.0   \n",
       "22 2017-12-01    22         -0.9        83         1.5       0.0       0.0   \n",
       "23 2017-12-01    23         -1.3        84         1.0       0.0       0.0   \n",
       "\n",
       "   Seasons  Holiday  Functioning Day  Rental Count  Normal Humidity  \\\n",
       "0   Winter        0             True           257                0   \n",
       "1   Winter        0             True           219                0   \n",
       "2   Winter        0             True           162                0   \n",
       "3   Winter        0             True           148                1   \n",
       "4   Winter        0             True            97                0   \n",
       "5   Winter        0             True           173                0   \n",
       "6   Winter        0             True           167                0   \n",
       "7   Winter        0             True           483                0   \n",
       "8   Winter        0             True           853                0   \n",
       "9   Winter        0             True           238                0   \n",
       "10  Winter        0             True           385                0   \n",
       "11  Winter        0             True           334                0   \n",
       "12  Winter        0             True           592                0   \n",
       "13  Winter        0             True           700                0   \n",
       "14  Winter        0             True           490                0   \n",
       "15  Winter        0             True           817                0   \n",
       "16  Winter        0             True           184                1   \n",
       "17  Winter        0             True           468                1   \n",
       "18  Winter        0             True           924                0   \n",
       "19  Winter        0             True           917                0   \n",
       "20  Winter        0             True           184                0   \n",
       "21  Winter        0             True           319                0   \n",
       "22  Winter        0             True           473                0   \n",
       "23  Winter        0             True           218                0   \n",
       "\n",
       "   Temperature Category  Good Weather  \n",
       "0              Freezing             0  \n",
       "1              Freezing             0  \n",
       "2              Freezing             0  \n",
       "3              Freezing             0  \n",
       "4              Freezing             0  \n",
       "5              Freezing             0  \n",
       "6              Freezing             0  \n",
       "7              Freezing             0  \n",
       "8              Freezing             0  \n",
       "9              Freezing             0  \n",
       "10             Freezing             0  \n",
       "11             Freezing             0  \n",
       "12               Chilly             0  \n",
       "13               Chilly             0  \n",
       "14               Chilly             0  \n",
       "15               Chilly             0  \n",
       "16               Chilly             0  \n",
       "17               Chilly             0  \n",
       "18               Chilly             0  \n",
       "19               Chilly             0  \n",
       "20             Freezing             0  \n",
       "21             Freezing             0  \n",
       "22             Freezing             0  \n",
       "23             Freezing             0  "
      ]
     },
     "execution_count": 47,
     "metadata": {},
     "output_type": "execute_result"
    }
   ],
   "source": [
    "list(bikes.groupby('Date'))[0][1]"
   ]
  },
  {
   "cell_type": "code",
   "execution_count": 48,
   "id": "ea1cd0e6-ac72-48e0-99d9-4aad20327f58",
   "metadata": {},
   "outputs": [
    {
     "data": {
      "text/plain": [
       "Seasons\n",
       "Spring    2208\n",
       "Summer    2208\n",
       "Autumn    2184\n",
       "Winter    2160\n",
       "Name: count, dtype: int64"
      ]
     },
     "execution_count": 48,
     "metadata": {},
     "output_type": "execute_result"
    }
   ],
   "source": [
    "bikes['Seasons'].value_counts()"
   ]
  },
  {
   "cell_type": "code",
   "execution_count": 49,
   "id": "2af3da81-83dc-423b-b52d-01aa775f809f",
   "metadata": {},
   "outputs": [
    {
     "data": {
      "text/plain": [
       "Seasons\n",
       "Autumn    2184\n",
       "Spring    2208\n",
       "Summer    2208\n",
       "Winter    2160\n",
       "dtype: int64"
      ]
     },
     "execution_count": 49,
     "metadata": {},
     "output_type": "execute_result"
    }
   ],
   "source": [
    "bikes.groupby('Seasons').size()"
   ]
  },
  {
   "cell_type": "code",
   "execution_count": 50,
   "id": "d4930eba-0501-4ab3-9d61-32bfc490f62b",
   "metadata": {},
   "outputs": [
    {
     "data": {
      "text/plain": [
       "Seasons  Good Weather\n",
       "Autumn   0               1861\n",
       "         1                323\n",
       "Spring   0               1949\n",
       "         1                259\n",
       "Summer   0               1978\n",
       "         1                230\n",
       "Winter   0               2160\n",
       "Name: count, dtype: int64"
      ]
     },
     "execution_count": 50,
     "metadata": {},
     "output_type": "execute_result"
    }
   ],
   "source": [
    "bikes.groupby('Seasons')['Good Weather'].value_counts()"
   ]
  },
  {
   "cell_type": "code",
   "execution_count": 53,
   "id": "d289ed89-a894-4086-844d-7214a74a5a0b",
   "metadata": {},
   "outputs": [
    {
     "data": {
      "text/plain": [
       "Seasons  Temperature Category\n",
       "Autumn   Chilly                   775694\n",
       "         Freezing                  12035\n",
       "         Hot                      134156\n",
       "         Nice                     811498\n",
       "Spring   Chilly                   587211\n",
       "         Freezing                   6331\n",
       "         Hot                       52993\n",
       "         Nice                     928572\n",
       "Summer   Chilly                        0\n",
       "         Freezing                      0\n",
       "         Hot                     1315525\n",
       "         Nice                     892664\n",
       "Winter   Chilly                   215221\n",
       "         Freezing                 258570\n",
       "         Hot                           0\n",
       "         Nice                          0\n",
       "Name: Rental Count, dtype: int64"
      ]
     },
     "execution_count": 53,
     "metadata": {},
     "output_type": "execute_result"
    }
   ],
   "source": [
    "bikes.groupby(['Seasons','Temperature Category'], observed=False)['Rental Count'].sum()"
   ]
  },
  {
   "cell_type": "markdown",
   "id": "4e2711fb-8cb9-49f5-bc5e-3508ae0bcaa4",
   "metadata": {},
   "source": [
    "Визуализация"
   ]
  },
  {
   "cell_type": "markdown",
   "id": "9cc6acef-38d9-4157-9103-c8a8ab251799",
   "metadata": {},
   "source": [
    "Кол-венные данные"
   ]
  },
  {
   "cell_type": "code",
   "execution_count": 54,
   "id": "ec9a4622-947e-463b-9071-9508d7d9a14b",
   "metadata": {},
   "outputs": [
    {
     "data": {
      "text/html": [
       "<div>\n",
       "<style scoped>\n",
       "    .dataframe tbody tr th:only-of-type {\n",
       "        vertical-align: middle;\n",
       "    }\n",
       "\n",
       "    .dataframe tbody tr th {\n",
       "        vertical-align: top;\n",
       "    }\n",
       "\n",
       "    .dataframe thead th {\n",
       "        text-align: right;\n",
       "    }\n",
       "</style>\n",
       "<table border=\"1\" class=\"dataframe\">\n",
       "  <thead>\n",
       "    <tr style=\"text-align: right;\">\n",
       "      <th></th>\n",
       "      <th>Date</th>\n",
       "      <th>Hour</th>\n",
       "      <th>Temperature</th>\n",
       "      <th>Humidity</th>\n",
       "      <th>Wind speed</th>\n",
       "      <th>Rainfall</th>\n",
       "      <th>Snowfall</th>\n",
       "      <th>Seasons</th>\n",
       "      <th>Holiday</th>\n",
       "      <th>Functioning Day</th>\n",
       "      <th>Rental Count</th>\n",
       "      <th>Normal Humidity</th>\n",
       "      <th>Temperature Category</th>\n",
       "      <th>Good Weather</th>\n",
       "    </tr>\n",
       "  </thead>\n",
       "  <tbody>\n",
       "    <tr>\n",
       "      <th>0</th>\n",
       "      <td>2017-12-01</td>\n",
       "      <td>0</td>\n",
       "      <td>-5.2</td>\n",
       "      <td>37</td>\n",
       "      <td>2.2</td>\n",
       "      <td>0.0</td>\n",
       "      <td>0.0</td>\n",
       "      <td>Winter</td>\n",
       "      <td>0</td>\n",
       "      <td>True</td>\n",
       "      <td>257</td>\n",
       "      <td>0</td>\n",
       "      <td>Freezing</td>\n",
       "      <td>0</td>\n",
       "    </tr>\n",
       "    <tr>\n",
       "      <th>1</th>\n",
       "      <td>2017-12-01</td>\n",
       "      <td>1</td>\n",
       "      <td>-5.5</td>\n",
       "      <td>38</td>\n",
       "      <td>0.8</td>\n",
       "      <td>0.0</td>\n",
       "      <td>0.0</td>\n",
       "      <td>Winter</td>\n",
       "      <td>0</td>\n",
       "      <td>True</td>\n",
       "      <td>219</td>\n",
       "      <td>0</td>\n",
       "      <td>Freezing</td>\n",
       "      <td>0</td>\n",
       "    </tr>\n",
       "    <tr>\n",
       "      <th>2</th>\n",
       "      <td>2017-12-01</td>\n",
       "      <td>2</td>\n",
       "      <td>-6.0</td>\n",
       "      <td>39</td>\n",
       "      <td>1.0</td>\n",
       "      <td>0.0</td>\n",
       "      <td>0.0</td>\n",
       "      <td>Winter</td>\n",
       "      <td>0</td>\n",
       "      <td>True</td>\n",
       "      <td>162</td>\n",
       "      <td>0</td>\n",
       "      <td>Freezing</td>\n",
       "      <td>0</td>\n",
       "    </tr>\n",
       "    <tr>\n",
       "      <th>3</th>\n",
       "      <td>2017-12-01</td>\n",
       "      <td>3</td>\n",
       "      <td>-6.2</td>\n",
       "      <td>40</td>\n",
       "      <td>0.9</td>\n",
       "      <td>0.0</td>\n",
       "      <td>0.0</td>\n",
       "      <td>Winter</td>\n",
       "      <td>0</td>\n",
       "      <td>True</td>\n",
       "      <td>148</td>\n",
       "      <td>1</td>\n",
       "      <td>Freezing</td>\n",
       "      <td>0</td>\n",
       "    </tr>\n",
       "    <tr>\n",
       "      <th>4</th>\n",
       "      <td>2017-12-01</td>\n",
       "      <td>4</td>\n",
       "      <td>-6.0</td>\n",
       "      <td>36</td>\n",
       "      <td>2.3</td>\n",
       "      <td>0.0</td>\n",
       "      <td>0.0</td>\n",
       "      <td>Winter</td>\n",
       "      <td>0</td>\n",
       "      <td>True</td>\n",
       "      <td>97</td>\n",
       "      <td>0</td>\n",
       "      <td>Freezing</td>\n",
       "      <td>0</td>\n",
       "    </tr>\n",
       "  </tbody>\n",
       "</table>\n",
       "</div>"
      ],
      "text/plain": [
       "        Date  Hour  Temperature  Humidity  Wind speed  Rainfall  Snowfall  \\\n",
       "0 2017-12-01     0         -5.2        37         2.2       0.0       0.0   \n",
       "1 2017-12-01     1         -5.5        38         0.8       0.0       0.0   \n",
       "2 2017-12-01     2         -6.0        39         1.0       0.0       0.0   \n",
       "3 2017-12-01     3         -6.2        40         0.9       0.0       0.0   \n",
       "4 2017-12-01     4         -6.0        36         2.3       0.0       0.0   \n",
       "\n",
       "  Seasons  Holiday  Functioning Day  Rental Count  Normal Humidity  \\\n",
       "0  Winter        0             True           257                0   \n",
       "1  Winter        0             True           219                0   \n",
       "2  Winter        0             True           162                0   \n",
       "3  Winter        0             True           148                1   \n",
       "4  Winter        0             True            97                0   \n",
       "\n",
       "  Temperature Category  Good Weather  \n",
       "0             Freezing             0  \n",
       "1             Freezing             0  \n",
       "2             Freezing             0  \n",
       "3             Freezing             0  \n",
       "4             Freezing             0  "
      ]
     },
     "execution_count": 54,
     "metadata": {},
     "output_type": "execute_result"
    }
   ],
   "source": [
    "bikes.head()"
   ]
  },
  {
   "cell_type": "code",
   "execution_count": 55,
   "id": "38b58a50-72cd-4b06-b90d-dc75405a858c",
   "metadata": {},
   "outputs": [
    {
     "data": {
      "text/plain": [
       "<Axes: >"
      ]
     },
     "execution_count": 55,
     "metadata": {},
     "output_type": "execute_result"
    },
    {
     "data": {
      "image/png": "[encoded data removed]",
      "text/plain": [
       "<Figure size 640x480 with 1 Axes>"
      ]
     },
     "metadata": {},
     "output_type": "display_data"
    }
   ],
   "source": [
    "bikes['Temperature'].hist(bins = 20)  #гистограмма"
   ]
  },
  {
   "cell_type": "code",
   "execution_count": 56,
   "id": "a60d4b2f-7aa7-4311-b99b-699a8e428f4a",
   "metadata": {},
   "outputs": [
    {
     "data": {
      "text/plain": [
       "<Axes: xlabel='Temperature Category'>"
      ]
     },
     "execution_count": 56,
     "metadata": {},
     "output_type": "execute_result"
    },
    {
     "data": {
      "image/png": "[encoded data removed]",
      "text/plain": [
       "<Figure size 640x480 with 1 Axes>"
      ]
     },
     "metadata": {},
     "output_type": "display_data"
    }
   ],
   "source": [
    "bikes['Temperature Category'].value_counts().plot(kind = 'bar') # стоблчатая диаграмма"
   ]
  },
  {
   "cell_type": "code",
   "execution_count": 64,
   "id": "34ed2a07-4396-4582-94b2-b472a6695cc0",
   "metadata": {},
   "outputs": [
    {
     "data": {
      "text/plain": [
       "<Axes: xlabel='Temperature Category'>"
      ]
     },
     "execution_count": 64,
     "metadata": {},
     "output_type": "execute_result"
    },
    {
     "data": {
      "image/png": "[encoded data removed]",
      "text/plain": [
       "<Figure size 640x480 with 1 Axes>"
      ]
     },
     "metadata": {},
     "output_type": "display_data"
    }
   ],
   "source": [
    "bikes.groupby('Temperature Category', observed=True).size().plot(kind='bar')"
   ]
  },
  {
   "cell_type": "code",
   "execution_count": 65,
   "id": "46e56ac9-cf57-4878-8e2b-8b2bfded5084",
   "metadata": {},
   "outputs": [],
   "source": [
    "## из нескольких категорий"
   ]
  },
  {
   "cell_type": "code",
   "execution_count": 66,
   "id": "820d4f39-3de6-4257-a71f-4b5f9af648d4",
   "metadata": {},
   "outputs": [
    {
     "data": {
      "text/plain": [
       "<Axes: xlabel='Seasons,Temperature Category'>"
      ]
     },
     "execution_count": 66,
     "metadata": {},
     "output_type": "execute_result"
    },
    {
     "data": {
      "image/png": "[encoded data removed]",
      "text/plain": [
       "<Figure size 640x480 with 1 Axes>"
      ]
     },
     "metadata": {},
     "output_type": "display_data"
    }
   ],
   "source": [
    "bikes.groupby('Seasons')['Temperature Category'].value_counts().plot(kind = 'bar')"
   ]
  },
  {
   "cell_type": "code",
   "execution_count": 67,
   "id": "99ecce6d-f24f-4c8a-be03-84374d3c5e4b",
   "metadata": {},
   "outputs": [
    {
     "data": {
      "text/html": [
       "<div>\n",
       "<style scoped>\n",
       "    .dataframe tbody tr th:only-of-type {\n",
       "        vertical-align: middle;\n",
       "    }\n",
       "\n",
       "    .dataframe tbody tr th {\n",
       "        vertical-align: top;\n",
       "    }\n",
       "\n",
       "    .dataframe thead th {\n",
       "        text-align: right;\n",
       "    }\n",
       "</style>\n",
       "<table border=\"1\" class=\"dataframe\">\n",
       "  <thead>\n",
       "    <tr style=\"text-align: right;\">\n",
       "      <th>Temperature Category</th>\n",
       "      <th>Chilly</th>\n",
       "      <th>Freezing</th>\n",
       "      <th>Hot</th>\n",
       "      <th>Nice</th>\n",
       "    </tr>\n",
       "    <tr>\n",
       "      <th>Seasons</th>\n",
       "      <th></th>\n",
       "      <th></th>\n",
       "      <th></th>\n",
       "      <th></th>\n",
       "    </tr>\n",
       "  </thead>\n",
       "  <tbody>\n",
       "    <tr>\n",
       "      <th>Autumn</th>\n",
       "      <td>1138</td>\n",
       "      <td>20</td>\n",
       "      <td>86</td>\n",
       "      <td>894</td>\n",
       "    </tr>\n",
       "    <tr>\n",
       "      <th>Spring</th>\n",
       "      <td>1224</td>\n",
       "      <td>22</td>\n",
       "      <td>27</td>\n",
       "      <td>881</td>\n",
       "    </tr>\n",
       "    <tr>\n",
       "      <th>Summer</th>\n",
       "      <td>0</td>\n",
       "      <td>0</td>\n",
       "      <td>1166</td>\n",
       "      <td>1003</td>\n",
       "    </tr>\n",
       "    <tr>\n",
       "      <th>Winter</th>\n",
       "      <td>750</td>\n",
       "      <td>1370</td>\n",
       "      <td>0</td>\n",
       "      <td>0</td>\n",
       "    </tr>\n",
       "  </tbody>\n",
       "</table>\n",
       "</div>"
      ],
      "text/plain": [
       "Temperature Category  Chilly  Freezing   Hot  Nice\n",
       "Seasons                                           \n",
       "Autumn                  1138        20    86   894\n",
       "Spring                  1224        22    27   881\n",
       "Summer                     0         0  1166  1003\n",
       "Winter                   750      1370     0     0"
      ]
     },
     "execution_count": 67,
     "metadata": {},
     "output_type": "execute_result"
    }
   ],
   "source": [
    "bikes.groupby('Seasons')['Temperature Category'].value_counts().unstack()"
   ]
  },
  {
   "cell_type": "code",
   "execution_count": 68,
   "id": "38e79e3b-6ba6-48f4-87aa-296e2033c623",
   "metadata": {},
   "outputs": [
    {
     "data": {
      "text/plain": [
       "<Axes: xlabel='Seasons'>"
      ]
     },
     "execution_count": 68,
     "metadata": {},
     "output_type": "execute_result"
    },
    {
     "data": {
      "image/png": "[encoded data removed]",
      "text/plain": [
       "<Figure size 640x480 with 1 Axes>"
      ]
     },
     "metadata": {},
     "output_type": "display_data"
    }
   ],
   "source": [
    "bikes.groupby('Seasons')['Temperature Category'].value_counts().unstack().plot(kind = 'bar')"
   ]
  },
  {
   "cell_type": "code",
   "execution_count": 69,
   "id": "8330105e-0984-4cf3-ad1e-48244f3ef80f",
   "metadata": {},
   "outputs": [
    {
     "data": {
      "text/plain": [
       "<Axes: xlabel='Seasons'>"
      ]
     },
     "execution_count": 69,
     "metadata": {},
     "output_type": "execute_result"
    },
    {
     "data": {
      "image/png": "[encoded data removed]",
      "text/plain": [
       "<Figure size 640x480 with 1 Axes>"
      ]
     },
     "metadata": {},
     "output_type": "display_data"
    }
   ],
   "source": [
    "bikes.groupby('Seasons')['Temperature Category'].value_counts().unstack().plot(kind = 'bar', stacked = True)"
   ]
  }
 ],
 "metadata": {
  "kernelspec": {
   "display_name": "Python 3 (ipykernel)",
   "language": "python",
   "name": "python3"
  },
  "language_info": {
   "codemirror_mode": {
    "name": "ipython",
    "version": 3
   },
   "file_extension": ".py",
   "mimetype": "text/x-python",
   "name": "python",
   "nbconvert_exporter": "python",
   "pygments_lexer": "ipython3",
   "version": "3.12.6"
  }
 },
 "nbformat": 4,
 "nbformat_minor": 5
}
