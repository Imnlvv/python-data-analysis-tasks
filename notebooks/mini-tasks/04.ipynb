{
 "cells": [
  {
   "cell_type": "code",
   "execution_count": 1,
   "id": "b0f1cd23-bfd2-4538-b9ab-c039d0c66662",
   "metadata": {},
   "outputs": [],
   "source": [
    "import pandas as pd\n",
    "import numpy as np"
   ]
  },
  {
   "cell_type": "markdown",
   "id": "b92e2851-b3ed-456e-ab70-19feeb37f606",
   "metadata": {},
   "source": [
    "01"
   ]
  },
  {
   "cell_type": "code",
   "execution_count": 2,
   "id": "d2176494-5562-4ca1-8981-4ae6e5b4e0de",
   "metadata": {},
   "outputs": [
    {
     "data": {
      "text/html": [
       "<div>\n",
       "<style scoped>\n",
       "    .dataframe tbody tr th:only-of-type {\n",
       "        vertical-align: middle;\n",
       "    }\n",
       "\n",
       "    .dataframe tbody tr th {\n",
       "        vertical-align: top;\n",
       "    }\n",
       "\n",
       "    .dataframe thead th {\n",
       "        text-align: right;\n",
       "    }\n",
       "</style>\n",
       "<table border=\"1\" class=\"dataframe\">\n",
       "  <thead>\n",
       "    <tr style=\"text-align: right;\">\n",
       "      <th></th>\n",
       "      <th>first_name</th>\n",
       "      <th>last_name</th>\n",
       "      <th>Genre</th>\n",
       "      <th>M1</th>\n",
       "      <th>M2</th>\n",
       "      <th>M3</th>\n",
       "      <th>Y1</th>\n",
       "      <th>Y2</th>\n",
       "    </tr>\n",
       "  </thead>\n",
       "  <tbody>\n",
       "    <tr>\n",
       "      <th>0</th>\n",
       "      <td>Arlena</td>\n",
       "      <td>Rulton</td>\n",
       "      <td>Drama</td>\n",
       "      <td>97.18</td>\n",
       "      <td>0.088130</td>\n",
       "      <td>78</td>\n",
       "      <td>0.0</td>\n",
       "      <td>1.0</td>\n",
       "    </tr>\n",
       "    <tr>\n",
       "      <th>1</th>\n",
       "      <td>Othilia</td>\n",
       "      <td>Shailer</td>\n",
       "      <td>Comedy|Drama</td>\n",
       "      <td>103.84</td>\n",
       "      <td>0.066219</td>\n",
       "      <td>79</td>\n",
       "      <td>0.0</td>\n",
       "      <td>1.0</td>\n",
       "    </tr>\n",
       "    <tr>\n",
       "      <th>2</th>\n",
       "      <td>Hyman</td>\n",
       "      <td>Oxshott</td>\n",
       "      <td>Children|Drama</td>\n",
       "      <td>99.12</td>\n",
       "      <td>0.008806</td>\n",
       "      <td>88</td>\n",
       "      <td>0.0</td>\n",
       "      <td>1.0</td>\n",
       "    </tr>\n",
       "    <tr>\n",
       "      <th>3</th>\n",
       "      <td>Dallas</td>\n",
       "      <td>Forster</td>\n",
       "      <td>Action|Adventure|Sci-Fi</td>\n",
       "      <td>100.77</td>\n",
       "      <td>0.061354</td>\n",
       "      <td>97</td>\n",
       "      <td>0.0</td>\n",
       "      <td>1.0</td>\n",
       "    </tr>\n",
       "    <tr>\n",
       "      <th>4</th>\n",
       "      <td>Jeddy</td>\n",
       "      <td>Woolnough</td>\n",
       "      <td>Drama</td>\n",
       "      <td>101.94</td>\n",
       "      <td>0.040866</td>\n",
       "      <td>80</td>\n",
       "      <td>0.0</td>\n",
       "      <td>1.0</td>\n",
       "    </tr>\n",
       "  </tbody>\n",
       "</table>\n",
       "</div>"
      ],
      "text/plain": [
       "  first_name  last_name                    Genre      M1        M2  M3   Y1  \\\n",
       "0     Arlena     Rulton                    Drama   97.18  0.088130  78  0.0   \n",
       "1    Othilia    Shailer             Comedy|Drama  103.84  0.066219  79  0.0   \n",
       "2      Hyman    Oxshott           Children|Drama   99.12  0.008806  88  0.0   \n",
       "3     Dallas    Forster  Action|Adventure|Sci-Fi  100.77  0.061354  97  0.0   \n",
       "4      Jeddy  Woolnough                    Drama  101.94  0.040866  80  0.0   \n",
       "\n",
       "    Y2  \n",
       "0  1.0  \n",
       "1  1.0  \n",
       "2  1.0  \n",
       "3  1.0  \n",
       "4  1.0  "
      ]
     },
     "execution_count": 2,
     "metadata": {},
     "output_type": "execute_result"
    }
   ],
   "source": [
    "cat = pd.read_csv('cat.csv')\n",
    "cat.head()"
   ]
  },
  {
   "cell_type": "code",
   "execution_count": 3,
   "id": "117fd0ee-ea45-41b0-955e-73c7d8357f15",
   "metadata": {},
   "outputs": [],
   "source": [
    "def fun(x):\n",
    "    if x == 'Horror':\n",
    "        return 2\n",
    "    if x == 'Drama':\n",
    "        return 1\n",
    "    else:\n",
    "        return 0"
   ]
  },
  {
   "cell_type": "code",
   "execution_count": 4,
   "id": "f74ff560-a77a-4395-840c-ebd3d19665c8",
   "metadata": {},
   "outputs": [],
   "source": [
    "cat['coded'] = cat['Genre'].apply(fun)"
   ]
  },
  {
   "cell_type": "code",
   "execution_count": 5,
   "id": "2fd863ac-9d59-456f-b121-390b7f8169be",
   "metadata": {},
   "outputs": [
    {
     "data": {
      "text/plain": [
       "np.int64(184)"
      ]
     },
     "execution_count": 5,
     "metadata": {},
     "output_type": "execute_result"
    }
   ],
   "source": [
    "cat['coded'].sum()"
   ]
  },
  {
   "cell_type": "code",
   "execution_count": 6,
   "id": "895ea00d-f76c-4269-97dd-1d20e8eca109",
   "metadata": {},
   "outputs": [
    {
     "name": "stdout",
     "output_type": "stream",
     "text": [
      "184\n"
     ]
    }
   ],
   "source": [
    "total_sum = cat['coded'].sum().item()  # преобразование к обычному числу\n",
    "print(total_sum)\n"
   ]
  }
 ],
 "metadata": {
  "kernelspec": {
   "display_name": "Python 3 (ipykernel)",
   "language": "python",
   "name": "python3"
  },
  "language_info": {
   "codemirror_mode": {
    "name": "ipython",
    "version": 3
   },
   "file_extension": ".py",
   "mimetype": "text/x-python",
   "name": "python",
   "nbconvert_exporter": "python",
   "pygments_lexer": "ipython3",
   "version": "3.12.6"
  }
 },
 "nbformat": 4,
 "nbformat_minor": 5
}
