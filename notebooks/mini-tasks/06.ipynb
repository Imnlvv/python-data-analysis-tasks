{
 "cells": [
  {
   "cell_type": "code",
   "execution_count": 2,
   "id": "24a807ce-9c19-4519-ba34-38ae9f14fe48",
   "metadata": {},
   "outputs": [],
   "source": [
    "import pandas as pd\n",
    "import numpy as np"
   ]
  },
  {
   "cell_type": "markdown",
   "id": "bf15f734-f13b-4cad-a1fd-ac7e3f341a59",
   "metadata": {},
   "source": [
    "01"
   ]
  },
  {
   "cell_type": "code",
   "execution_count": 3,
   "id": "2fd16186-c74d-472a-8a04-23f1bcb3ad99",
   "metadata": {},
   "outputs": [
    {
     "data": {
      "text/html": [
       "<div>\n",
       "<style scoped>\n",
       "    .dataframe tbody tr th:only-of-type {\n",
       "        vertical-align: middle;\n",
       "    }\n",
       "\n",
       "    .dataframe tbody tr th {\n",
       "        vertical-align: top;\n",
       "    }\n",
       "\n",
       "    .dataframe thead th {\n",
       "        text-align: right;\n",
       "    }\n",
       "</style>\n",
       "<table border=\"1\" class=\"dataframe\">\n",
       "  <thead>\n",
       "    <tr style=\"text-align: right;\">\n",
       "      <th></th>\n",
       "      <th>data</th>\n",
       "      <th>public_transport_usage</th>\n",
       "      <th>pedestrian_count</th>\n",
       "      <th>temperature</th>\n",
       "      <th>humidity</th>\n",
       "      <th>public_transport_delay</th>\n",
       "      <th>weather_conditions</th>\n",
       "      <th>day_of_week</th>\n",
       "      <th>pedestrian_incidents</th>\n",
       "    </tr>\n",
       "  </thead>\n",
       "  <tbody>\n",
       "    <tr>\n",
       "      <th>0</th>\n",
       "      <td>2023-01-01</td>\n",
       "      <td>288.333333</td>\n",
       "      <td>863.833333</td>\n",
       "      <td>12.704031</td>\n",
       "      <td>47.833333</td>\n",
       "      <td>14.647987</td>\n",
       "      <td>Rain</td>\n",
       "      <td>Sunday</td>\n",
       "      <td>46</td>\n",
       "    </tr>\n",
       "    <tr>\n",
       "      <th>1</th>\n",
       "      <td>2023-01-02</td>\n",
       "      <td>232.541667</td>\n",
       "      <td>830.333333</td>\n",
       "      <td>11.343628</td>\n",
       "      <td>63.666667</td>\n",
       "      <td>11.660099</td>\n",
       "      <td>Snow</td>\n",
       "      <td>Monday</td>\n",
       "      <td>40</td>\n",
       "    </tr>\n",
       "    <tr>\n",
       "      <th>2</th>\n",
       "      <td>2023-01-03</td>\n",
       "      <td>267.458333</td>\n",
       "      <td>891.125000</td>\n",
       "      <td>13.902640</td>\n",
       "      <td>57.125000</td>\n",
       "      <td>14.749126</td>\n",
       "      <td>Fog</td>\n",
       "      <td>Tuesday</td>\n",
       "      <td>54</td>\n",
       "    </tr>\n",
       "    <tr>\n",
       "      <th>3</th>\n",
       "      <td>2023-01-04</td>\n",
       "      <td>257.791667</td>\n",
       "      <td>876.625000</td>\n",
       "      <td>17.733302</td>\n",
       "      <td>58.791667</td>\n",
       "      <td>14.248311</td>\n",
       "      <td>Clear, Fog, Snow</td>\n",
       "      <td>Wednesday</td>\n",
       "      <td>51</td>\n",
       "    </tr>\n",
       "    <tr>\n",
       "      <th>4</th>\n",
       "      <td>2023-01-05</td>\n",
       "      <td>281.083333</td>\n",
       "      <td>1036.291667</td>\n",
       "      <td>13.445025</td>\n",
       "      <td>54.916667</td>\n",
       "      <td>13.869797</td>\n",
       "      <td>Fog, Rain</td>\n",
       "      <td>Thursday</td>\n",
       "      <td>54</td>\n",
       "    </tr>\n",
       "  </tbody>\n",
       "</table>\n",
       "</div>"
      ],
      "text/plain": [
       "         data  public_transport_usage  pedestrian_count  temperature  \\\n",
       "0  2023-01-01              288.333333        863.833333    12.704031   \n",
       "1  2023-01-02              232.541667        830.333333    11.343628   \n",
       "2  2023-01-03              267.458333        891.125000    13.902640   \n",
       "3  2023-01-04              257.791667        876.625000    17.733302   \n",
       "4  2023-01-05              281.083333       1036.291667    13.445025   \n",
       "\n",
       "    humidity  public_transport_delay weather_conditions day_of_week  \\\n",
       "0  47.833333               14.647987               Rain      Sunday   \n",
       "1  63.666667               11.660099               Snow      Monday   \n",
       "2  57.125000               14.749126                Fog     Tuesday   \n",
       "3  58.791667               14.248311   Clear, Fog, Snow   Wednesday   \n",
       "4  54.916667               13.869797          Fog, Rain    Thursday   \n",
       "\n",
       "   pedestrian_incidents  \n",
       "0                    46  \n",
       "1                    40  \n",
       "2                    54  \n",
       "3                    51  \n",
       "4                    54  "
      ]
     },
     "execution_count": 3,
     "metadata": {},
     "output_type": "execute_result"
    }
   ],
   "source": [
    "train = pd.read_csv('train3_C.csv')\n",
    "train.head()"
   ]
  },
  {
   "cell_type": "code",
   "execution_count": 4,
   "id": "89353466-3e3b-470f-bbb4-dd8b7625e4e8",
   "metadata": {},
   "outputs": [
    {
     "data": {
      "text/html": [
       "<div>\n",
       "<style scoped>\n",
       "    .dataframe tbody tr th:only-of-type {\n",
       "        vertical-align: middle;\n",
       "    }\n",
       "\n",
       "    .dataframe tbody tr th {\n",
       "        vertical-align: top;\n",
       "    }\n",
       "\n",
       "    .dataframe thead th {\n",
       "        text-align: right;\n",
       "    }\n",
       "</style>\n",
       "<table border=\"1\" class=\"dataframe\">\n",
       "  <thead>\n",
       "    <tr style=\"text-align: right;\">\n",
       "      <th></th>\n",
       "      <th>data</th>\n",
       "      <th>public_transport_usage</th>\n",
       "      <th>pedestrian_count</th>\n",
       "      <th>temperature</th>\n",
       "      <th>humidity</th>\n",
       "      <th>public_transport_delay</th>\n",
       "      <th>weather_conditions</th>\n",
       "      <th>day_of_week</th>\n",
       "      <th>pedestrian_incidents</th>\n",
       "    </tr>\n",
       "  </thead>\n",
       "  <tbody>\n",
       "    <tr>\n",
       "      <th>2229</th>\n",
       "      <td>2094-01-29</td>\n",
       "      <td>294.625000</td>\n",
       "      <td>997.208333</td>\n",
       "      <td>9.849309</td>\n",
       "      <td>44.708333</td>\n",
       "      <td>15.496846</td>\n",
       "      <td>Clear, Fog, Rain, Snow</td>\n",
       "      <td>Friday</td>\n",
       "      <td>59</td>\n",
       "    </tr>\n",
       "    <tr>\n",
       "      <th>3306</th>\n",
       "      <td>2129-01-21</td>\n",
       "      <td>260.416667</td>\n",
       "      <td>1162.833333</td>\n",
       "      <td>12.541912</td>\n",
       "      <td>46.916667</td>\n",
       "      <td>16.476123</td>\n",
       "      <td>Fog</td>\n",
       "      <td>Friday</td>\n",
       "      <td>37</td>\n",
       "    </tr>\n",
       "    <tr>\n",
       "      <th>1347</th>\n",
       "      <td>2066-01-15</td>\n",
       "      <td>309.208333</td>\n",
       "      <td>775.541667</td>\n",
       "      <td>12.560052</td>\n",
       "      <td>47.000000</td>\n",
       "      <td>13.381304</td>\n",
       "      <td>Fog</td>\n",
       "      <td>Friday</td>\n",
       "      <td>57</td>\n",
       "    </tr>\n",
       "    <tr>\n",
       "      <th>3359</th>\n",
       "      <td>2131-01-12</td>\n",
       "      <td>310.500000</td>\n",
       "      <td>963.166667</td>\n",
       "      <td>15.380422</td>\n",
       "      <td>47.125000</td>\n",
       "      <td>16.975002</td>\n",
       "      <td>Clear</td>\n",
       "      <td>Friday</td>\n",
       "      <td>54</td>\n",
       "    </tr>\n",
       "    <tr>\n",
       "      <th>3121</th>\n",
       "      <td>2123-01-22</td>\n",
       "      <td>271.625000</td>\n",
       "      <td>1110.458333</td>\n",
       "      <td>18.660254</td>\n",
       "      <td>47.416667</td>\n",
       "      <td>13.198695</td>\n",
       "      <td>Clear</td>\n",
       "      <td>Friday</td>\n",
       "      <td>51</td>\n",
       "    </tr>\n",
       "    <tr>\n",
       "      <th>...</th>\n",
       "      <td>...</td>\n",
       "      <td>...</td>\n",
       "      <td>...</td>\n",
       "      <td>...</td>\n",
       "      <td>...</td>\n",
       "      <td>...</td>\n",
       "      <td>...</td>\n",
       "      <td>...</td>\n",
       "      <td>...</td>\n",
       "    </tr>\n",
       "    <tr>\n",
       "      <th>1384</th>\n",
       "      <td>2067-01-21</td>\n",
       "      <td>305.500000</td>\n",
       "      <td>976.500000</td>\n",
       "      <td>10.083327</td>\n",
       "      <td>71.625000</td>\n",
       "      <td>13.761111</td>\n",
       "      <td>Fog</td>\n",
       "      <td>Friday</td>\n",
       "      <td>58</td>\n",
       "    </tr>\n",
       "    <tr>\n",
       "      <th>532</th>\n",
       "      <td>2040-01-06</td>\n",
       "      <td>314.958333</td>\n",
       "      <td>1055.875000</td>\n",
       "      <td>10.378157</td>\n",
       "      <td>71.833333</td>\n",
       "      <td>15.642129</td>\n",
       "      <td>Rain, Snow</td>\n",
       "      <td>Friday</td>\n",
       "      <td>55</td>\n",
       "    </tr>\n",
       "    <tr>\n",
       "      <th>2995</th>\n",
       "      <td>2119-01-20</td>\n",
       "      <td>289.666667</td>\n",
       "      <td>1060.500000</td>\n",
       "      <td>10.446521</td>\n",
       "      <td>72.708333</td>\n",
       "      <td>16.311543</td>\n",
       "      <td>Fog</td>\n",
       "      <td>Friday</td>\n",
       "      <td>51</td>\n",
       "    </tr>\n",
       "    <tr>\n",
       "      <th>2289</th>\n",
       "      <td>2096-01-27</td>\n",
       "      <td>242.791667</td>\n",
       "      <td>912.500000</td>\n",
       "      <td>15.464260</td>\n",
       "      <td>72.875000</td>\n",
       "      <td>13.152052</td>\n",
       "      <td>Clear</td>\n",
       "      <td>Friday</td>\n",
       "      <td>53</td>\n",
       "    </tr>\n",
       "    <tr>\n",
       "      <th>3114</th>\n",
       "      <td>2123-01-15</td>\n",
       "      <td>306.250000</td>\n",
       "      <td>951.208333</td>\n",
       "      <td>16.096191</td>\n",
       "      <td>73.458333</td>\n",
       "      <td>17.140299</td>\n",
       "      <td>Snow</td>\n",
       "      <td>Friday</td>\n",
       "      <td>48</td>\n",
       "    </tr>\n",
       "  </tbody>\n",
       "</table>\n",
       "<p>508 rows × 9 columns</p>\n",
       "</div>"
      ],
      "text/plain": [
       "            data  public_transport_usage  pedestrian_count  temperature  \\\n",
       "2229  2094-01-29              294.625000        997.208333     9.849309   \n",
       "3306  2129-01-21              260.416667       1162.833333    12.541912   \n",
       "1347  2066-01-15              309.208333        775.541667    12.560052   \n",
       "3359  2131-01-12              310.500000        963.166667    15.380422   \n",
       "3121  2123-01-22              271.625000       1110.458333    18.660254   \n",
       "...          ...                     ...               ...          ...   \n",
       "1384  2067-01-21              305.500000        976.500000    10.083327   \n",
       "532   2040-01-06              314.958333       1055.875000    10.378157   \n",
       "2995  2119-01-20              289.666667       1060.500000    10.446521   \n",
       "2289  2096-01-27              242.791667        912.500000    15.464260   \n",
       "3114  2123-01-15              306.250000        951.208333    16.096191   \n",
       "\n",
       "       humidity  public_transport_delay      weather_conditions day_of_week  \\\n",
       "2229  44.708333               15.496846  Clear, Fog, Rain, Snow      Friday   \n",
       "3306  46.916667               16.476123                     Fog      Friday   \n",
       "1347  47.000000               13.381304                     Fog      Friday   \n",
       "3359  47.125000               16.975002                   Clear      Friday   \n",
       "3121  47.416667               13.198695                   Clear      Friday   \n",
       "...         ...                     ...                     ...         ...   \n",
       "1384  71.625000               13.761111                     Fog      Friday   \n",
       "532   71.833333               15.642129              Rain, Snow      Friday   \n",
       "2995  72.708333               16.311543                     Fog      Friday   \n",
       "2289  72.875000               13.152052                   Clear      Friday   \n",
       "3114  73.458333               17.140299                    Snow      Friday   \n",
       "\n",
       "      pedestrian_incidents  \n",
       "2229                    59  \n",
       "3306                    37  \n",
       "1347                    57  \n",
       "3359                    54  \n",
       "3121                    51  \n",
       "...                    ...  \n",
       "1384                    58  \n",
       "532                     55  \n",
       "2995                    51  \n",
       "2289                    53  \n",
       "3114                    48  \n",
       "\n",
       "[508 rows x 9 columns]"
      ]
     },
     "execution_count": 4,
     "metadata": {},
     "output_type": "execute_result"
    }
   ],
   "source": [
    "train[(train['day_of_week'] == 'Friday')].sort_values('humidity')"
   ]
  },
  {
   "cell_type": "code",
   "execution_count": 5,
   "id": "b2b480eb-2bbc-4859-a677-0dc8ac27356c",
   "metadata": {},
   "outputs": [
    {
     "data": {
      "text/html": [
       "<div>\n",
       "<style scoped>\n",
       "    .dataframe tbody tr th:only-of-type {\n",
       "        vertical-align: middle;\n",
       "    }\n",
       "\n",
       "    .dataframe tbody tr th {\n",
       "        vertical-align: top;\n",
       "    }\n",
       "\n",
       "    .dataframe thead th {\n",
       "        text-align: right;\n",
       "    }\n",
       "</style>\n",
       "<table border=\"1\" class=\"dataframe\">\n",
       "  <thead>\n",
       "    <tr style=\"text-align: right;\">\n",
       "      <th></th>\n",
       "      <th>data</th>\n",
       "      <th>public_transport_usage</th>\n",
       "      <th>pedestrian_count</th>\n",
       "      <th>temperature</th>\n",
       "      <th>humidity</th>\n",
       "      <th>public_transport_delay</th>\n",
       "      <th>weather_conditions</th>\n",
       "      <th>day_of_week</th>\n",
       "      <th>pedestrian_incidents</th>\n",
       "    </tr>\n",
       "  </thead>\n",
       "  <tbody>\n",
       "    <tr>\n",
       "      <th>2229</th>\n",
       "      <td>2094-01-29</td>\n",
       "      <td>294.625000</td>\n",
       "      <td>997.208333</td>\n",
       "      <td>9.849309</td>\n",
       "      <td>44.708333</td>\n",
       "      <td>15.496846</td>\n",
       "      <td>Clear, Fog, Rain, Snow</td>\n",
       "      <td>Friday</td>\n",
       "      <td>59</td>\n",
       "    </tr>\n",
       "    <tr>\n",
       "      <th>1964</th>\n",
       "      <td>2086-01-12</td>\n",
       "      <td>248.125000</td>\n",
       "      <td>1054.333333</td>\n",
       "      <td>12.067450</td>\n",
       "      <td>44.833333</td>\n",
       "      <td>13.239301</td>\n",
       "      <td>Clear</td>\n",
       "      <td>Saturday</td>\n",
       "      <td>38</td>\n",
       "    </tr>\n",
       "    <tr>\n",
       "      <th>3241</th>\n",
       "      <td>2127-01-18</td>\n",
       "      <td>261.708333</td>\n",
       "      <td>987.125000</td>\n",
       "      <td>17.468757</td>\n",
       "      <td>45.625000</td>\n",
       "      <td>16.308123</td>\n",
       "      <td>Fog</td>\n",
       "      <td>Saturday</td>\n",
       "      <td>53</td>\n",
       "    </tr>\n",
       "    <tr>\n",
       "      <th>3306</th>\n",
       "      <td>2129-01-21</td>\n",
       "      <td>260.416667</td>\n",
       "      <td>1162.833333</td>\n",
       "      <td>12.541912</td>\n",
       "      <td>46.916667</td>\n",
       "      <td>16.476123</td>\n",
       "      <td>Fog</td>\n",
       "      <td>Friday</td>\n",
       "      <td>37</td>\n",
       "    </tr>\n",
       "    <tr>\n",
       "      <th>1347</th>\n",
       "      <td>2066-01-15</td>\n",
       "      <td>309.208333</td>\n",
       "      <td>775.541667</td>\n",
       "      <td>12.560052</td>\n",
       "      <td>47.000000</td>\n",
       "      <td>13.381304</td>\n",
       "      <td>Fog</td>\n",
       "      <td>Friday</td>\n",
       "      <td>57</td>\n",
       "    </tr>\n",
       "    <tr>\n",
       "      <th>...</th>\n",
       "      <td>...</td>\n",
       "      <td>...</td>\n",
       "      <td>...</td>\n",
       "      <td>...</td>\n",
       "      <td>...</td>\n",
       "      <td>...</td>\n",
       "      <td>...</td>\n",
       "      <td>...</td>\n",
       "      <td>...</td>\n",
       "    </tr>\n",
       "    <tr>\n",
       "      <th>79</th>\n",
       "      <td>2025-01-18</td>\n",
       "      <td>292.666667</td>\n",
       "      <td>1066.166667</td>\n",
       "      <td>10.892304</td>\n",
       "      <td>71.791667</td>\n",
       "      <td>11.683658</td>\n",
       "      <td>Clear</td>\n",
       "      <td>Saturday</td>\n",
       "      <td>59</td>\n",
       "    </tr>\n",
       "    <tr>\n",
       "      <th>532</th>\n",
       "      <td>2040-01-06</td>\n",
       "      <td>314.958333</td>\n",
       "      <td>1055.875000</td>\n",
       "      <td>10.378157</td>\n",
       "      <td>71.833333</td>\n",
       "      <td>15.642129</td>\n",
       "      <td>Rain, Snow</td>\n",
       "      <td>Friday</td>\n",
       "      <td>55</td>\n",
       "    </tr>\n",
       "    <tr>\n",
       "      <th>2995</th>\n",
       "      <td>2119-01-20</td>\n",
       "      <td>289.666667</td>\n",
       "      <td>1060.500000</td>\n",
       "      <td>10.446521</td>\n",
       "      <td>72.708333</td>\n",
       "      <td>16.311543</td>\n",
       "      <td>Fog</td>\n",
       "      <td>Friday</td>\n",
       "      <td>51</td>\n",
       "    </tr>\n",
       "    <tr>\n",
       "      <th>2289</th>\n",
       "      <td>2096-01-27</td>\n",
       "      <td>242.791667</td>\n",
       "      <td>912.500000</td>\n",
       "      <td>15.464260</td>\n",
       "      <td>72.875000</td>\n",
       "      <td>13.152052</td>\n",
       "      <td>Clear</td>\n",
       "      <td>Friday</td>\n",
       "      <td>53</td>\n",
       "    </tr>\n",
       "    <tr>\n",
       "      <th>3114</th>\n",
       "      <td>2123-01-15</td>\n",
       "      <td>306.250000</td>\n",
       "      <td>951.208333</td>\n",
       "      <td>16.096191</td>\n",
       "      <td>73.458333</td>\n",
       "      <td>17.140299</td>\n",
       "      <td>Snow</td>\n",
       "      <td>Friday</td>\n",
       "      <td>48</td>\n",
       "    </tr>\n",
       "  </tbody>\n",
       "</table>\n",
       "<p>1018 rows × 9 columns</p>\n",
       "</div>"
      ],
      "text/plain": [
       "            data  public_transport_usage  pedestrian_count  temperature  \\\n",
       "2229  2094-01-29              294.625000        997.208333     9.849309   \n",
       "1964  2086-01-12              248.125000       1054.333333    12.067450   \n",
       "3241  2127-01-18              261.708333        987.125000    17.468757   \n",
       "3306  2129-01-21              260.416667       1162.833333    12.541912   \n",
       "1347  2066-01-15              309.208333        775.541667    12.560052   \n",
       "...          ...                     ...               ...          ...   \n",
       "79    2025-01-18              292.666667       1066.166667    10.892304   \n",
       "532   2040-01-06              314.958333       1055.875000    10.378157   \n",
       "2995  2119-01-20              289.666667       1060.500000    10.446521   \n",
       "2289  2096-01-27              242.791667        912.500000    15.464260   \n",
       "3114  2123-01-15              306.250000        951.208333    16.096191   \n",
       "\n",
       "       humidity  public_transport_delay      weather_conditions day_of_week  \\\n",
       "2229  44.708333               15.496846  Clear, Fog, Rain, Snow      Friday   \n",
       "1964  44.833333               13.239301                   Clear    Saturday   \n",
       "3241  45.625000               16.308123                     Fog    Saturday   \n",
       "3306  46.916667               16.476123                     Fog      Friday   \n",
       "1347  47.000000               13.381304                     Fog      Friday   \n",
       "...         ...                     ...                     ...         ...   \n",
       "79    71.791667               11.683658                   Clear    Saturday   \n",
       "532   71.833333               15.642129              Rain, Snow      Friday   \n",
       "2995  72.708333               16.311543                     Fog      Friday   \n",
       "2289  72.875000               13.152052                   Clear      Friday   \n",
       "3114  73.458333               17.140299                    Snow      Friday   \n",
       "\n",
       "      pedestrian_incidents  \n",
       "2229                    59  \n",
       "1964                    38  \n",
       "3241                    53  \n",
       "3306                    37  \n",
       "1347                    57  \n",
       "...                    ...  \n",
       "79                      59  \n",
       "532                     55  \n",
       "2995                    51  \n",
       "2289                    53  \n",
       "3114                    48  \n",
       "\n",
       "[1018 rows x 9 columns]"
      ]
     },
     "execution_count": 5,
     "metadata": {},
     "output_type": "execute_result"
    }
   ],
   "source": [
    "train[train['day_of_week'].isin(['Friday', 'Saturday'])].sort_values('humidity')"
   ]
  },
  {
   "cell_type": "code",
   "execution_count": 6,
   "id": "6b9286b7-47a7-4739-bc32-b558ef4315fd",
   "metadata": {},
   "outputs": [
    {
     "data": {
      "text/plain": [
       "306.25"
      ]
     },
     "execution_count": 6,
     "metadata": {},
     "output_type": "execute_result"
    }
   ],
   "source": [
    "round(306.250000, 2)"
   ]
  },
  {
   "cell_type": "code",
   "execution_count": 7,
   "id": "e8052615-8133-4c4f-bd95-1e0a10960a8c",
   "metadata": {},
   "outputs": [
    {
     "data": {
      "text/html": [
       "<div>\n",
       "<style scoped>\n",
       "    .dataframe tbody tr th:only-of-type {\n",
       "        vertical-align: middle;\n",
       "    }\n",
       "\n",
       "    .dataframe tbody tr th {\n",
       "        vertical-align: top;\n",
       "    }\n",
       "\n",
       "    .dataframe thead th {\n",
       "        text-align: right;\n",
       "    }\n",
       "</style>\n",
       "<table border=\"1\" class=\"dataframe\">\n",
       "  <thead>\n",
       "    <tr style=\"text-align: right;\">\n",
       "      <th></th>\n",
       "      <th>data</th>\n",
       "      <th>public_transport_usage</th>\n",
       "      <th>pedestrian_count</th>\n",
       "      <th>temperature</th>\n",
       "      <th>humidity</th>\n",
       "      <th>public_transport_delay</th>\n",
       "      <th>weather_conditions</th>\n",
       "      <th>day_of_week</th>\n",
       "      <th>pedestrian_incidents</th>\n",
       "    </tr>\n",
       "  </thead>\n",
       "  <tbody>\n",
       "    <tr>\n",
       "      <th>0</th>\n",
       "      <td>2023-01-01</td>\n",
       "      <td>288.333333</td>\n",
       "      <td>863.833333</td>\n",
       "      <td>12.704031</td>\n",
       "      <td>47.833333</td>\n",
       "      <td>14.647987</td>\n",
       "      <td>Rain</td>\n",
       "      <td>Sunday</td>\n",
       "      <td>46</td>\n",
       "    </tr>\n",
       "    <tr>\n",
       "      <th>1</th>\n",
       "      <td>2023-01-02</td>\n",
       "      <td>232.541667</td>\n",
       "      <td>830.333333</td>\n",
       "      <td>11.343628</td>\n",
       "      <td>63.666667</td>\n",
       "      <td>11.660099</td>\n",
       "      <td>Snow</td>\n",
       "      <td>Monday</td>\n",
       "      <td>40</td>\n",
       "    </tr>\n",
       "    <tr>\n",
       "      <th>2</th>\n",
       "      <td>2023-01-03</td>\n",
       "      <td>267.458333</td>\n",
       "      <td>891.125000</td>\n",
       "      <td>13.902640</td>\n",
       "      <td>57.125000</td>\n",
       "      <td>14.749126</td>\n",
       "      <td>Fog</td>\n",
       "      <td>Tuesday</td>\n",
       "      <td>54</td>\n",
       "    </tr>\n",
       "    <tr>\n",
       "      <th>3</th>\n",
       "      <td>2023-01-04</td>\n",
       "      <td>257.791667</td>\n",
       "      <td>876.625000</td>\n",
       "      <td>17.733302</td>\n",
       "      <td>58.791667</td>\n",
       "      <td>14.248311</td>\n",
       "      <td>Clear, Fog, Snow</td>\n",
       "      <td>Wednesday</td>\n",
       "      <td>51</td>\n",
       "    </tr>\n",
       "    <tr>\n",
       "      <th>5</th>\n",
       "      <td>2023-01-06</td>\n",
       "      <td>284.375000</td>\n",
       "      <td>873.125000</td>\n",
       "      <td>9.622476</td>\n",
       "      <td>58.125000</td>\n",
       "      <td>14.759618</td>\n",
       "      <td>Snow</td>\n",
       "      <td>Friday</td>\n",
       "      <td>48</td>\n",
       "    </tr>\n",
       "  </tbody>\n",
       "</table>\n",
       "</div>"
      ],
      "text/plain": [
       "         data  public_transport_usage  pedestrian_count  temperature  \\\n",
       "0  2023-01-01              288.333333        863.833333    12.704031   \n",
       "1  2023-01-02              232.541667        830.333333    11.343628   \n",
       "2  2023-01-03              267.458333        891.125000    13.902640   \n",
       "3  2023-01-04              257.791667        876.625000    17.733302   \n",
       "5  2023-01-06              284.375000        873.125000     9.622476   \n",
       "\n",
       "    humidity  public_transport_delay weather_conditions day_of_week  \\\n",
       "0  47.833333               14.647987               Rain      Sunday   \n",
       "1  63.666667               11.660099               Snow      Monday   \n",
       "2  57.125000               14.749126                Fog     Tuesday   \n",
       "3  58.791667               14.248311   Clear, Fog, Snow   Wednesday   \n",
       "5  58.125000               14.759618               Snow      Friday   \n",
       "\n",
       "   pedestrian_incidents  \n",
       "0                    46  \n",
       "1                    40  \n",
       "2                    54  \n",
       "3                    51  \n",
       "5                    48  "
      ]
     },
     "execution_count": 7,
     "metadata": {},
     "output_type": "execute_result"
    }
   ],
   "source": [
    "qv_count = train['pedestrian_count'].quantile(0.25)\n",
    "\n",
    "\n",
    "train_c = train[(train['pedestrian_count'] < qv_count)]\n",
    "train_c.head()"
   ]
  },
  {
   "cell_type": "code",
   "execution_count": 10,
   "id": "a3bb5272-c51a-49e0-8079-83c137e9c79e",
   "metadata": {},
   "outputs": [
    {
     "data": {
      "text/plain": [
       "np.int64(48)"
      ]
     },
     "execution_count": 10,
     "metadata": {},
     "output_type": "execute_result"
    }
   ],
   "source": [
    "incidents = train_c['pedestrian_incidents'].max() - train_c['pedestrian_incidents'].min()\n",
    "incidents"
   ]
  },
  {
   "cell_type": "code",
   "execution_count": 29,
   "id": "bc2f1bda-2b95-45e8-97c8-bd51df0cdd5c",
   "metadata": {},
   "outputs": [],
   "source": [
    "def fun(x):\n",
    "    return len(x.split(',')) "
   ]
  },
  {
   "cell_type": "code",
   "execution_count": 30,
   "id": "597644e6-6550-471b-98eb-5e047612aa0b",
   "metadata": {},
   "outputs": [],
   "source": [
    "train['coded'] = train['weather_conditions'].apply(fun)"
   ]
  },
  {
   "cell_type": "code",
   "execution_count": 31,
   "id": "a56e1c38-f7b5-4b26-bea9-619a88012f74",
   "metadata": {},
   "outputs": [
    {
     "data": {
      "text/plain": [
       "np.int64(4287)"
      ]
     },
     "execution_count": 31,
     "metadata": {},
     "output_type": "execute_result"
    }
   ],
   "source": [
    "train['coded'].sum()"
   ]
  },
  {
   "cell_type": "markdown",
   "id": "f04bb8ce-ec56-4dcf-aa76-f95a4db9e5a6",
   "metadata": {},
   "source": [
    "02"
   ]
  },
  {
   "cell_type": "code",
   "execution_count": 42,
   "id": "c5e9b271-94f6-4c6f-bf09-2474e59c380f",
   "metadata": {},
   "outputs": [
    {
     "data": {
      "text/html": [
       "<div>\n",
       "<style scoped>\n",
       "    .dataframe tbody tr th:only-of-type {\n",
       "        vertical-align: middle;\n",
       "    }\n",
       "\n",
       "    .dataframe tbody tr th {\n",
       "        vertical-align: top;\n",
       "    }\n",
       "\n",
       "    .dataframe thead th {\n",
       "        text-align: right;\n",
       "    }\n",
       "</style>\n",
       "<table border=\"1\" class=\"dataframe\">\n",
       "  <thead>\n",
       "    <tr style=\"text-align: right;\">\n",
       "      <th></th>\n",
       "      <th>Country</th>\n",
       "      <th>Region</th>\n",
       "      <th>Economy</th>\n",
       "      <th>Health</th>\n",
       "    </tr>\n",
       "  </thead>\n",
       "  <tbody>\n",
       "    <tr>\n",
       "      <th>0</th>\n",
       "      <td>Switzerland</td>\n",
       "      <td>J</td>\n",
       "      <td>1.40</td>\n",
       "      <td>0.94</td>\n",
       "    </tr>\n",
       "    <tr>\n",
       "      <th>1</th>\n",
       "      <td>Iceland</td>\n",
       "      <td>J</td>\n",
       "      <td>1.30</td>\n",
       "      <td>0.95</td>\n",
       "    </tr>\n",
       "    <tr>\n",
       "      <th>2</th>\n",
       "      <td>Denmark</td>\n",
       "      <td>J</td>\n",
       "      <td>1.33</td>\n",
       "      <td>0.87</td>\n",
       "    </tr>\n",
       "    <tr>\n",
       "      <th>3</th>\n",
       "      <td>Norway</td>\n",
       "      <td>J</td>\n",
       "      <td>1.46</td>\n",
       "      <td>0.89</td>\n",
       "    </tr>\n",
       "    <tr>\n",
       "      <th>4</th>\n",
       "      <td>Canada</td>\n",
       "      <td>F</td>\n",
       "      <td>1.33</td>\n",
       "      <td>0.91</td>\n",
       "    </tr>\n",
       "  </tbody>\n",
       "</table>\n",
       "</div>"
      ],
      "text/plain": [
       "       Country Region  Economy  Health\n",
       "0  Switzerland      J     1.40    0.94\n",
       "1      Iceland      J     1.30    0.95\n",
       "2      Denmark      J     1.33    0.87\n",
       "3       Norway      J     1.46    0.89\n",
       "4       Canada      F     1.33    0.91"
      ]
     },
     "execution_count": 42,
     "metadata": {},
     "output_type": "execute_result"
    }
   ],
   "source": [
    "trainss = pd.read_csv('trains_b.csv')\n",
    "trainss.head()"
   ]
  },
  {
   "cell_type": "code",
   "execution_count": 104,
   "id": "546856fd-e51f-40af-b44b-fb35ccb2ba50",
   "metadata": {},
   "outputs": [
    {
     "data": {
      "text/plain": [
       "<Axes: xlabel='Region'>"
      ]
     },
     "execution_count": 104,
     "metadata": {},
     "output_type": "execute_result"
    },
    {
     "data": {
      "image/png": "[encoded data removed]",
      "text/plain": [
       "<Figure size 640x480 with 1 Axes>"
      ]
     },
     "metadata": {},
     "output_type": "display_data"
    }
   ],
   "source": [
    "trainss['Region'].value_counts().plot(kind = 'line')"
   ]
  },
  {
   "cell_type": "code",
   "execution_count": 67,
   "id": "d32b07ab-a0e0-4124-a40b-e704bf134659",
   "metadata": {},
   "outputs": [
    {
     "data": {
      "text/html": [
       "<div>\n",
       "<style scoped>\n",
       "    .dataframe tbody tr th:only-of-type {\n",
       "        vertical-align: middle;\n",
       "    }\n",
       "\n",
       "    .dataframe tbody tr th {\n",
       "        vertical-align: top;\n",
       "    }\n",
       "\n",
       "    .dataframe thead th {\n",
       "        text-align: right;\n",
       "    }\n",
       "</style>\n",
       "<table border=\"1\" class=\"dataframe\">\n",
       "  <thead>\n",
       "    <tr style=\"text-align: right;\">\n",
       "      <th></th>\n",
       "      <th>Age</th>\n",
       "      <th>Sex</th>\n",
       "      <th>Credit amount</th>\n",
       "      <th>Duration</th>\n",
       "    </tr>\n",
       "  </thead>\n",
       "  <tbody>\n",
       "    <tr>\n",
       "      <th>0</th>\n",
       "      <td>67</td>\n",
       "      <td>0</td>\n",
       "      <td>1169</td>\n",
       "      <td>6</td>\n",
       "    </tr>\n",
       "    <tr>\n",
       "      <th>1</th>\n",
       "      <td>22</td>\n",
       "      <td>1</td>\n",
       "      <td>5951</td>\n",
       "      <td>48</td>\n",
       "    </tr>\n",
       "    <tr>\n",
       "      <th>2</th>\n",
       "      <td>49</td>\n",
       "      <td>0</td>\n",
       "      <td>2096</td>\n",
       "      <td>12</td>\n",
       "    </tr>\n",
       "    <tr>\n",
       "      <th>3</th>\n",
       "      <td>45</td>\n",
       "      <td>0</td>\n",
       "      <td>7882</td>\n",
       "      <td>42</td>\n",
       "    </tr>\n",
       "    <tr>\n",
       "      <th>4</th>\n",
       "      <td>53</td>\n",
       "      <td>0</td>\n",
       "      <td>4870</td>\n",
       "      <td>24</td>\n",
       "    </tr>\n",
       "  </tbody>\n",
       "</table>\n",
       "</div>"
      ],
      "text/plain": [
       "   Age  Sex  Credit amount  Duration\n",
       "0   67    0           1169         6\n",
       "1   22    1           5951        48\n",
       "2   49    0           2096        12\n",
       "3   45    0           7882        42\n",
       "4   53    0           4870        24"
      ]
     },
     "execution_count": 67,
     "metadata": {},
     "output_type": "execute_result"
    }
   ],
   "source": [
    "tr = pd.read_csv('train4_b.csv')\n",
    "tr.head()"
   ]
  },
  {
   "cell_type": "code",
   "execution_count": 75,
   "id": "18ea57f2-4a35-405b-98fd-e9c511cd2f42",
   "metadata": {},
   "outputs": [
    {
     "data": {
      "text/plain": [
       "array([<Axes: ylabel='Age'>, <Axes: ylabel='Credit amount'>,\n",
       "       <Axes: ylabel='Duration'>], dtype=object)"
      ]
     },
     "execution_count": 75,
     "metadata": {},
     "output_type": "execute_result"
    },
    {
     "data": {
      "image/png": "[encoded data removed]",
      "text/plain": [
       "<Figure size 640x480 with 3 Axes>"
      ]
     },
     "metadata": {},
     "output_type": "display_data"
    }
   ],
   "source": [
    "tr.groupby('Sex').sum().plot(kind = 'pie', subplots=True)"
   ]
  },
  {
   "cell_type": "markdown",
   "id": "c81327c8-e3e1-467d-87a2-784596cf4a86",
   "metadata": {},
   "source": [
    "03"
   ]
  },
  {
   "cell_type": "code",
   "execution_count": 73,
   "id": "e55ebb69-4103-4c6b-a7ce-2e3826a9fe52",
   "metadata": {},
   "outputs": [
    {
     "data": {
      "text/html": [
       "<div>\n",
       "<style scoped>\n",
       "    .dataframe tbody tr th:only-of-type {\n",
       "        vertical-align: middle;\n",
       "    }\n",
       "\n",
       "    .dataframe tbody tr th {\n",
       "        vertical-align: top;\n",
       "    }\n",
       "\n",
       "    .dataframe thead th {\n",
       "        text-align: right;\n",
       "    }\n",
       "</style>\n",
       "<table border=\"1\" class=\"dataframe\">\n",
       "  <thead>\n",
       "    <tr style=\"text-align: right;\">\n",
       "      <th></th>\n",
       "      <th>Soil_Type</th>\n",
       "      <th>Sunlight_Hours</th>\n",
       "      <th>Temperature</th>\n",
       "      <th>Humidity</th>\n",
       "    </tr>\n",
       "  </thead>\n",
       "  <tbody>\n",
       "    <tr>\n",
       "      <th>0</th>\n",
       "      <td>2</td>\n",
       "      <td>5.192294</td>\n",
       "      <td>31.719602</td>\n",
       "      <td>61.591861</td>\n",
       "    </tr>\n",
       "    <tr>\n",
       "      <th>1</th>\n",
       "      <td>3</td>\n",
       "      <td>4.033133</td>\n",
       "      <td>28.919484</td>\n",
       "      <td>52.422276</td>\n",
       "    </tr>\n",
       "    <tr>\n",
       "      <th>2</th>\n",
       "      <td>2</td>\n",
       "      <td>8.892769</td>\n",
       "      <td>23.179059</td>\n",
       "      <td>44.660539</td>\n",
       "    </tr>\n",
       "    <tr>\n",
       "      <th>3</th>\n",
       "      <td>2</td>\n",
       "      <td>8.241144</td>\n",
       "      <td>18.465886</td>\n",
       "      <td>46.433227</td>\n",
       "    </tr>\n",
       "    <tr>\n",
       "      <th>4</th>\n",
       "      <td>3</td>\n",
       "      <td>8.374043</td>\n",
       "      <td>18.128741</td>\n",
       "      <td>63.625923</td>\n",
       "    </tr>\n",
       "  </tbody>\n",
       "</table>\n",
       "</div>"
      ],
      "text/plain": [
       "   Soil_Type  Sunlight_Hours  Temperature   Humidity\n",
       "0          2        5.192294    31.719602  61.591861\n",
       "1          3        4.033133    28.919484  52.422276\n",
       "2          2        8.892769    23.179059  44.660539\n",
       "3          2        8.241144    18.465886  46.433227\n",
       "4          3        8.374043    18.128741  63.625923"
      ]
     },
     "execution_count": 73,
     "metadata": {},
     "output_type": "execute_result"
    }
   ],
   "source": [
    "train5 = pd.read_csv('train5_b.csv')\n",
    "train5.head()"
   ]
  },
  {
   "cell_type": "code",
   "execution_count": 76,
   "id": "f6f2eb73-9bad-4d3d-ad63-abf19a2b60be",
   "metadata": {},
   "outputs": [
    {
     "data": {
      "text/plain": [
       "<Axes: >"
      ]
     },
     "execution_count": 76,
     "metadata": {},
     "output_type": "execute_result"
    },
    {
     "data": {
      "image/png": "[encoded data removed]",
      "text/plain": [
       "<Figure size 640x480 with 1 Axes>"
      ]
     },
     "metadata": {},
     "output_type": "display_data"
    }
   ],
   "source": [
    "train5['Humidity'].plot(kind = 'box')"
   ]
  },
  {
   "cell_type": "markdown",
   "id": "9e4b0df9-80b4-4500-b3cf-aa51d98fcdbc",
   "metadata": {},
   "source": [
    "04"
   ]
  },
  {
   "cell_type": "code",
   "execution_count": 77,
   "id": "d0324f78-5d06-4eff-8699-ad25e7bd9815",
   "metadata": {},
   "outputs": [
    {
     "data": {
      "text/html": [
       "<div>\n",
       "<style scoped>\n",
       "    .dataframe tbody tr th:only-of-type {\n",
       "        vertical-align: middle;\n",
       "    }\n",
       "\n",
       "    .dataframe tbody tr th {\n",
       "        vertical-align: top;\n",
       "    }\n",
       "\n",
       "    .dataframe thead th {\n",
       "        text-align: right;\n",
       "    }\n",
       "</style>\n",
       "<table border=\"1\" class=\"dataframe\">\n",
       "  <thead>\n",
       "    <tr style=\"text-align: right;\">\n",
       "      <th></th>\n",
       "      <th>cat</th>\n",
       "      <th>total_fat</th>\n",
       "      <th>protein</th>\n",
       "      <th>calcium</th>\n",
       "    </tr>\n",
       "  </thead>\n",
       "  <tbody>\n",
       "    <tr>\n",
       "      <th>0</th>\n",
       "      <td>3</td>\n",
       "      <td>20</td>\n",
       "      <td>17</td>\n",
       "      <td>25</td>\n",
       "    </tr>\n",
       "    <tr>\n",
       "      <th>1</th>\n",
       "      <td>3</td>\n",
       "      <td>12</td>\n",
       "      <td>18</td>\n",
       "      <td>25</td>\n",
       "    </tr>\n",
       "    <tr>\n",
       "      <th>2</th>\n",
       "      <td>3</td>\n",
       "      <td>35</td>\n",
       "      <td>14</td>\n",
       "      <td>25</td>\n",
       "    </tr>\n",
       "    <tr>\n",
       "      <th>3</th>\n",
       "      <td>3</td>\n",
       "      <td>43</td>\n",
       "      <td>21</td>\n",
       "      <td>30</td>\n",
       "    </tr>\n",
       "    <tr>\n",
       "      <th>4</th>\n",
       "      <td>3</td>\n",
       "      <td>35</td>\n",
       "      <td>21</td>\n",
       "      <td>25</td>\n",
       "    </tr>\n",
       "  </tbody>\n",
       "</table>\n",
       "</div>"
      ],
      "text/plain": [
       "   cat  total_fat  protein  calcium\n",
       "0    3         20       17       25\n",
       "1    3         12       18       25\n",
       "2    3         35       14       25\n",
       "3    3         43       21       30\n",
       "4    3         35       21       25"
      ]
     },
     "execution_count": 77,
     "metadata": {},
     "output_type": "execute_result"
    }
   ],
   "source": [
    "catty = pd.read_csv('catti.csv')\n",
    "catty.head()"
   ]
  },
  {
   "cell_type": "code",
   "execution_count": 83,
   "id": "970bcf71-8edd-4f3a-95a6-cb2d99df301a",
   "metadata": {},
   "outputs": [
    {
     "data": {
      "text/plain": [
       "<Axes: xlabel='cat'>"
      ]
     },
     "execution_count": 83,
     "metadata": {},
     "output_type": "execute_result"
    },
    {
     "data": {
      "image/png": "[encoded data removed]",
      "text/plain": [
       "<Figure size 640x480 with 1 Axes>"
      ]
     },
     "metadata": {},
     "output_type": "display_data"
    }
   ],
   "source": [
    "catty['cat'].value_counts().plot(kind = 'bar')"
   ]
  },
  {
   "cell_type": "markdown",
   "id": "b5480a8f-9f40-454e-8e27-d0a50906e263",
   "metadata": {},
   "source": [
    "05"
   ]
  },
  {
   "cell_type": "code",
   "execution_count": 105,
   "id": "f8fd63e6-857c-4d4d-869b-41d8a74401f9",
   "metadata": {},
   "outputs": [
    {
     "data": {
      "text/html": [
       "<div>\n",
       "<style scoped>\n",
       "    .dataframe tbody tr th:only-of-type {\n",
       "        vertical-align: middle;\n",
       "    }\n",
       "\n",
       "    .dataframe tbody tr th {\n",
       "        vertical-align: top;\n",
       "    }\n",
       "\n",
       "    .dataframe thead th {\n",
       "        text-align: right;\n",
       "    }\n",
       "</style>\n",
       "<table border=\"1\" class=\"dataframe\">\n",
       "  <thead>\n",
       "    <tr style=\"text-align: right;\">\n",
       "      <th></th>\n",
       "      <th>Resort</th>\n",
       "      <th>Country</th>\n",
       "      <th>HighestPoint</th>\n",
       "      <th>LowestPoint</th>\n",
       "      <th>DayPassPriceAdult</th>\n",
       "      <th>TotalSlope</th>\n",
       "      <th>NightSki</th>\n",
       "      <th>TotalLifts</th>\n",
       "      <th>LiftCapacity</th>\n",
       "    </tr>\n",
       "  </thead>\n",
       "  <tbody>\n",
       "    <tr>\n",
       "      <th>0</th>\n",
       "      <td>Alpendorf (Ski amedé)</td>\n",
       "      <td>Austria</td>\n",
       "      <td>1980</td>\n",
       "      <td>740</td>\n",
       "      <td>52</td>\n",
       "      <td>115</td>\n",
       "      <td>No</td>\n",
       "      <td>49</td>\n",
       "      <td>75398</td>\n",
       "    </tr>\n",
       "    <tr>\n",
       "      <th>1</th>\n",
       "      <td>Soldeu-Pas de la Casa/​Grau Roig/​El Tarter/​C...</td>\n",
       "      <td>Andorra</td>\n",
       "      <td>2640</td>\n",
       "      <td>1710</td>\n",
       "      <td>47</td>\n",
       "      <td>210</td>\n",
       "      <td>Yes</td>\n",
       "      <td>72</td>\n",
       "      <td>99017</td>\n",
       "    </tr>\n",
       "    <tr>\n",
       "      <th>2</th>\n",
       "      <td>Oberau (Wildschönau)</td>\n",
       "      <td>Austria</td>\n",
       "      <td>1130</td>\n",
       "      <td>900</td>\n",
       "      <td>30</td>\n",
       "      <td>2</td>\n",
       "      <td>No</td>\n",
       "      <td>2</td>\n",
       "      <td>1932</td>\n",
       "    </tr>\n",
       "    <tr>\n",
       "      <th>3</th>\n",
       "      <td>Dachstein West</td>\n",
       "      <td>Austria</td>\n",
       "      <td>1620</td>\n",
       "      <td>780</td>\n",
       "      <td>42</td>\n",
       "      <td>51</td>\n",
       "      <td>Yes</td>\n",
       "      <td>36</td>\n",
       "      <td>32938</td>\n",
       "    </tr>\n",
       "    <tr>\n",
       "      <th>4</th>\n",
       "      <td>Rosa Khutor</td>\n",
       "      <td>Southern Russia</td>\n",
       "      <td>2320</td>\n",
       "      <td>940</td>\n",
       "      <td>22</td>\n",
       "      <td>77</td>\n",
       "      <td>No</td>\n",
       "      <td>27</td>\n",
       "      <td>49228</td>\n",
       "    </tr>\n",
       "  </tbody>\n",
       "</table>\n",
       "</div>"
      ],
      "text/plain": [
       "                                              Resort          Country  \\\n",
       "0                              Alpendorf (Ski amedé)          Austria   \n",
       "1  Soldeu-Pas de la Casa/​Grau Roig/​El Tarter/​C...          Andorra   \n",
       "2                              Oberau (Wildschönau)          Austria   \n",
       "3                                     Dachstein West          Austria   \n",
       "4                                        Rosa Khutor  Southern Russia   \n",
       "\n",
       "   HighestPoint  LowestPoint  DayPassPriceAdult  TotalSlope NightSki  \\\n",
       "0          1980          740                 52         115       No   \n",
       "1          2640         1710                 47         210      Yes   \n",
       "2          1130          900                 30           2       No   \n",
       "3          1620          780                 42          51      Yes   \n",
       "4          2320          940                 22          77       No   \n",
       "\n",
       "   TotalLifts  LiftCapacity  \n",
       "0          49         75398  \n",
       "1          72         99017  \n",
       "2           2          1932  \n",
       "3          36         32938  \n",
       "4          27         49228  "
      ]
     },
     "execution_count": 105,
     "metadata": {},
     "output_type": "execute_result"
    }
   ],
   "source": [
    "trainy = pd.read_csv('train5_C.csv')\n",
    "trainy.head()"
   ]
  },
  {
   "cell_type": "code",
   "execution_count": 106,
   "id": "fb43cca6-f450-4804-aaa9-ebc21f69ff97",
   "metadata": {},
   "outputs": [
    {
     "data": {
      "text/plain": [
       "Country\n",
       "Netherlands                1\n",
       "Siberia (Russia)           1\n",
       "Serbia                     1\n",
       "Ukraine                    1\n",
       "Greece                     1\n",
       "Bosnia and Herzegovina     1\n",
       "Lithuania                  1\n",
       "Liechtenstein              1\n",
       "Czech Republic             2\n",
       "Romania                    2\n",
       "Poland                     2\n",
       "Finland                    3\n",
       "Slovenia                   4\n",
       "Bulgaria                   4\n",
       "Southern Russia            4\n",
       "United Kingdom             4\n",
       "Slovakia                   5\n",
       "Andorra                    5\n",
       "Sweden                     6\n",
       "Denmark                    8\n",
       "Spain                      8\n",
       "Norway                    10\n",
       "Germany                   24\n",
       "Italy                     44\n",
       "Switzerland               61\n",
       "France                    83\n",
       "Austria                   89\n",
       "Name: count, dtype: int64"
      ]
     },
     "execution_count": 106,
     "metadata": {},
     "output_type": "execute_result"
    }
   ],
   "source": [
    "trainy['Country'].value_counts(ascending=True)"
   ]
  },
  {
   "cell_type": "code",
   "execution_count": 114,
   "id": "457f1e2a-219f-413a-9d28-13251cecaef5",
   "metadata": {},
   "outputs": [],
   "source": [
    "austria = trainy[(trainy['Country'] == 'Austria')]"
   ]
  },
  {
   "cell_type": "code",
   "execution_count": 117,
   "id": "4bad4e06-21d0-49be-9342-fa68b8ca5ede",
   "metadata": {},
   "outputs": [
    {
     "data": {
      "text/html": [
       "<div>\n",
       "<style scoped>\n",
       "    .dataframe tbody tr th:only-of-type {\n",
       "        vertical-align: middle;\n",
       "    }\n",
       "\n",
       "    .dataframe tbody tr th {\n",
       "        vertical-align: top;\n",
       "    }\n",
       "\n",
       "    .dataframe thead th {\n",
       "        text-align: right;\n",
       "    }\n",
       "</style>\n",
       "<table border=\"1\" class=\"dataframe\">\n",
       "  <thead>\n",
       "    <tr style=\"text-align: right;\">\n",
       "      <th></th>\n",
       "      <th>Resort</th>\n",
       "      <th>Country</th>\n",
       "      <th>HighestPoint</th>\n",
       "      <th>LowestPoint</th>\n",
       "      <th>DayPassPriceAdult</th>\n",
       "      <th>TotalSlope</th>\n",
       "      <th>NightSki</th>\n",
       "      <th>TotalLifts</th>\n",
       "      <th>LiftCapacity</th>\n",
       "    </tr>\n",
       "  </thead>\n",
       "  <tbody>\n",
       "    <tr>\n",
       "      <th>206</th>\n",
       "      <td>Kirchdorf</td>\n",
       "      <td>Austria</td>\n",
       "      <td>780</td>\n",
       "      <td>640</td>\n",
       "      <td>30</td>\n",
       "      <td>5</td>\n",
       "      <td>No</td>\n",
       "      <td>4</td>\n",
       "      <td>3570</td>\n",
       "    </tr>\n",
       "  </tbody>\n",
       "</table>\n",
       "</div>"
      ],
      "text/plain": [
       "        Resort  Country  HighestPoint  LowestPoint  DayPassPriceAdult  \\\n",
       "206  Kirchdorf  Austria           780          640                 30   \n",
       "\n",
       "     TotalSlope NightSki  TotalLifts  LiftCapacity  \n",
       "206           5       No           4          3570  "
      ]
     },
     "execution_count": 117,
     "metadata": {},
     "output_type": "execute_result"
    }
   ],
   "source": [
    "austria[austria['HighestPoint'] == 780]"
   ]
  },
  {
   "cell_type": "code",
   "execution_count": 123,
   "id": "4492cf85-fab5-4e23-837c-f8e26c48edca",
   "metadata": {},
   "outputs": [],
   "source": [
    "lif = trainy[(trainy['NightSki'] == 'Yes')]['LiftCapacity']"
   ]
  },
  {
   "cell_type": "code",
   "execution_count": 120,
   "id": "79a29db3-dc33-42a9-b0f8-0be1fad16deb",
   "metadata": {},
   "outputs": [
    {
     "data": {
      "text/plain": [
       "np.float64(45356.0)"
      ]
     },
     "execution_count": 120,
     "metadata": {},
     "output_type": "execute_result"
    }
   ],
   "source": [
    "lif.quantile(0.75) - lif.quantile(0.25)"
   ]
  },
  {
   "cell_type": "code",
   "execution_count": 121,
   "id": "96aa73b2-112b-4530-97a0-a617c3ba2ba0",
   "metadata": {},
   "outputs": [
    {
     "data": {
      "text/plain": [
       "45356.0"
      ]
     },
     "execution_count": 121,
     "metadata": {},
     "output_type": "execute_result"
    }
   ],
   "source": [
    "round(45356.0, 2)"
   ]
  },
  {
   "cell_type": "code",
   "execution_count": 124,
   "id": "00b3ba3d-4983-4300-838d-7a379fdc3307",
   "metadata": {},
   "outputs": [],
   "source": [
    "def fun(x):\n",
    "    if 'Russia' in x:\n",
    "        return 1\n",
    "    else:\n",
    "        return 0"
   ]
  },
  {
   "cell_type": "code",
   "execution_count": 126,
   "id": "8de1c46e-9b7d-41b4-8bf8-538a90bf1dfb",
   "metadata": {},
   "outputs": [],
   "source": [
    "trainy['coded'] = trainy['Country'].apply(fun)"
   ]
  },
  {
   "cell_type": "code",
   "execution_count": 127,
   "id": "f5614f8d-7b79-42f2-aa41-928cc8d1b8af",
   "metadata": {},
   "outputs": [
    {
     "data": {
      "text/plain": [
       "np.int64(5)"
      ]
     },
     "execution_count": 127,
     "metadata": {},
     "output_type": "execute_result"
    }
   ],
   "source": [
    "trainy['coded'].sum()"
   ]
  },
  {
   "cell_type": "code",
   "execution_count": 128,
   "id": "741ba4c2-312d-4457-ad3f-0d113edae939",
   "metadata": {},
   "outputs": [
    {
     "data": {
      "text/plain": [
       "5"
      ]
     },
     "execution_count": 128,
     "metadata": {},
     "output_type": "execute_result"
    }
   ],
   "source": [
    "round(5, 2)"
   ]
  },
  {
   "cell_type": "markdown",
   "id": "62de1a76-6368-4f30-b8b4-ca6888e7adc5",
   "metadata": {},
   "source": [
    "06"
   ]
  },
  {
   "cell_type": "code",
   "execution_count": 11,
   "id": "57067820-6829-4e37-9b8f-bbbbbd58570a",
   "metadata": {},
   "outputs": [
    {
     "data": {
      "text/html": [
       "<div>\n",
       "<style scoped>\n",
       "    .dataframe tbody tr th:only-of-type {\n",
       "        vertical-align: middle;\n",
       "    }\n",
       "\n",
       "    .dataframe tbody tr th {\n",
       "        vertical-align: top;\n",
       "    }\n",
       "\n",
       "    .dataframe thead th {\n",
       "        text-align: right;\n",
       "    }\n",
       "</style>\n",
       "<table border=\"1\" class=\"dataframe\">\n",
       "  <thead>\n",
       "    <tr style=\"text-align: right;\">\n",
       "      <th></th>\n",
       "      <th>song_name</th>\n",
       "      <th>album_name</th>\n",
       "      <th>track_number</th>\n",
       "      <th>popularity</th>\n",
       "      <th>danceability</th>\n",
       "      <th>energy</th>\n",
       "      <th>loudness</th>\n",
       "      <th>mode</th>\n",
       "      <th>instrumentalness</th>\n",
       "      <th>valence</th>\n",
       "      <th>tempo</th>\n",
       "    </tr>\n",
       "  </thead>\n",
       "  <tbody>\n",
       "    <tr>\n",
       "      <th>0</th>\n",
       "      <td>Tom Sawyer</td>\n",
       "      <td>Moving Pictures (40th Anniversary Super Deluxe)</td>\n",
       "      <td>1</td>\n",
       "      <td>31</td>\n",
       "      <td>0.526</td>\n",
       "      <td>0.881</td>\n",
       "      <td>-7.447</td>\n",
       "      <td>0</td>\n",
       "      <td>0.005770</td>\n",
       "      <td>0.655</td>\n",
       "      <td>87.392</td>\n",
       "    </tr>\n",
       "    <tr>\n",
       "      <th>1</th>\n",
       "      <td>Red Barchetta</td>\n",
       "      <td>Moving Pictures (40th Anniversary Super Deluxe)</td>\n",
       "      <td>2</td>\n",
       "      <td>28</td>\n",
       "      <td>0.530</td>\n",
       "      <td>0.933</td>\n",
       "      <td>-7.377</td>\n",
       "      <td>1</td>\n",
       "      <td>0.000081</td>\n",
       "      <td>0.348</td>\n",
       "      <td>144.143</td>\n",
       "    </tr>\n",
       "    <tr>\n",
       "      <th>2</th>\n",
       "      <td>YYZ</td>\n",
       "      <td>Moving Pictures (40th Anniversary Super Deluxe)</td>\n",
       "      <td>3</td>\n",
       "      <td>28</td>\n",
       "      <td>0.504</td>\n",
       "      <td>0.909</td>\n",
       "      <td>-8.101</td>\n",
       "      <td>1</td>\n",
       "      <td>0.842000</td>\n",
       "      <td>0.402</td>\n",
       "      <td>140.854</td>\n",
       "    </tr>\n",
       "    <tr>\n",
       "      <th>3</th>\n",
       "      <td>Limelight</td>\n",
       "      <td>Moving Pictures (40th Anniversary Super Deluxe)</td>\n",
       "      <td>4</td>\n",
       "      <td>29</td>\n",
       "      <td>0.573</td>\n",
       "      <td>0.878</td>\n",
       "      <td>-7.990</td>\n",
       "      <td>0</td>\n",
       "      <td>0.000281</td>\n",
       "      <td>0.842</td>\n",
       "      <td>131.005</td>\n",
       "    </tr>\n",
       "    <tr>\n",
       "      <th>4</th>\n",
       "      <td>The Camera Eye</td>\n",
       "      <td>Moving Pictures (40th Anniversary Super Deluxe)</td>\n",
       "      <td>5</td>\n",
       "      <td>26</td>\n",
       "      <td>0.356</td>\n",
       "      <td>0.793</td>\n",
       "      <td>-8.495</td>\n",
       "      <td>1</td>\n",
       "      <td>0.398000</td>\n",
       "      <td>0.149</td>\n",
       "      <td>165.004</td>\n",
       "    </tr>\n",
       "  </tbody>\n",
       "</table>\n",
       "</div>"
      ],
      "text/plain": [
       "        song_name                                       album_name  \\\n",
       "0      Tom Sawyer  Moving Pictures (40th Anniversary Super Deluxe)   \n",
       "1   Red Barchetta  Moving Pictures (40th Anniversary Super Deluxe)   \n",
       "2             YYZ  Moving Pictures (40th Anniversary Super Deluxe)   \n",
       "3       Limelight  Moving Pictures (40th Anniversary Super Deluxe)   \n",
       "4  The Camera Eye  Moving Pictures (40th Anniversary Super Deluxe)   \n",
       "\n",
       "   track_number  popularity  danceability  energy  loudness  mode  \\\n",
       "0             1          31         0.526   0.881    -7.447     0   \n",
       "1             2          28         0.530   0.933    -7.377     1   \n",
       "2             3          28         0.504   0.909    -8.101     1   \n",
       "3             4          29         0.573   0.878    -7.990     0   \n",
       "4             5          26         0.356   0.793    -8.495     1   \n",
       "\n",
       "   instrumentalness  valence    tempo  \n",
       "0          0.005770    0.655   87.392  \n",
       "1          0.000081    0.348  144.143  \n",
       "2          0.842000    0.402  140.854  \n",
       "3          0.000281    0.842  131.005  \n",
       "4          0.398000    0.149  165.004  "
      ]
     },
     "execution_count": 11,
     "metadata": {},
     "output_type": "execute_result"
    }
   ],
   "source": [
    "mus = pd.read_csv('music.csv')\n",
    "mus.head()"
   ]
  },
  {
   "cell_type": "code",
   "execution_count": 12,
   "id": "f6274194-54ea-423c-a1bf-5a9c106972f5",
   "metadata": {},
   "outputs": [],
   "source": [
    "df = mus[mus['album_name'] == 'Different Stages']"
   ]
  },
  {
   "cell_type": "code",
   "execution_count": 13,
   "id": "2a1f0907-2eb2-4e6f-a0b6-0ace29a2fd49",
   "metadata": {},
   "outputs": [
    {
     "data": {
      "text/plain": [
       "334     6.519\n",
       "335     7.332\n",
       "336     8.165\n",
       "337     7.231\n",
       "338     7.830\n",
       "339     6.430\n",
       "340     8.207\n",
       "341     7.166\n",
       "342     7.545\n",
       "343     8.833\n",
       "344     7.736\n",
       "345    14.393\n",
       "346     7.268\n",
       "347     7.949\n",
       "348     8.488\n",
       "349     8.451\n",
       "350     6.319\n",
       "351     6.466\n",
       "352     6.089\n",
       "353     7.672\n",
       "354     7.340\n",
       "355     7.795\n",
       "356     7.124\n",
       "357    10.479\n",
       "358     7.325\n",
       "359     7.188\n",
       "360     7.257\n",
       "361     7.322\n",
       "362     6.051\n",
       "363     6.081\n",
       "364     7.362\n",
       "365     7.043\n",
       "366     5.724\n",
       "367     7.605\n",
       "368     6.058\n",
       "369     5.809\n",
       "370     5.567\n",
       "371     5.729\n",
       "372     6.425\n",
       "Name: loudness, dtype: float64"
      ]
     },
     "execution_count": 13,
     "metadata": {},
     "output_type": "execute_result"
    }
   ],
   "source": [
    "df['loudness'].abs()"
   ]
  },
  {
   "cell_type": "code",
   "execution_count": 16,
   "id": "5f3c4131-6469-44fe-94b8-915abd1c93bd",
   "metadata": {},
   "outputs": [],
   "source": [
    "ds = mus[mus['album_name'] == 'Different Stages']"
   ]
  },
  {
   "cell_type": "code",
   "execution_count": 17,
   "id": "344aa637-0437-4c25-b7e9-f70abc0db559",
   "metadata": {},
   "outputs": [
    {
     "data": {
      "text/plain": [
       "np.float64(14.393)"
      ]
     },
     "execution_count": 17,
     "metadata": {},
     "output_type": "execute_result"
    }
   ],
   "source": [
    "ds['loudness'].abs().max()"
   ]
  },
  {
   "cell_type": "code",
   "execution_count": 18,
   "id": "23affd4b-cc19-431a-8857-40c1c61bf91d",
   "metadata": {},
   "outputs": [
    {
     "data": {
      "text/plain": [
       "'2112 (Discovery) - Live'"
      ]
     },
     "execution_count": 18,
     "metadata": {},
     "output_type": "execute_result"
    }
   ],
   "source": [
    "ds['song_name'].loc[345]"
   ]
  },
  {
   "cell_type": "code",
   "execution_count": 19,
   "id": "4d154843-76d8-4d1d-be0d-fa65ad03eb05",
   "metadata": {},
   "outputs": [
    {
     "data": {
      "text/html": [
       "<div>\n",
       "<style scoped>\n",
       "    .dataframe tbody tr th:only-of-type {\n",
       "        vertical-align: middle;\n",
       "    }\n",
       "\n",
       "    .dataframe tbody tr th {\n",
       "        vertical-align: top;\n",
       "    }\n",
       "\n",
       "    .dataframe thead th {\n",
       "        text-align: right;\n",
       "    }\n",
       "</style>\n",
       "<table border=\"1\" class=\"dataframe\">\n",
       "  <thead>\n",
       "    <tr style=\"text-align: right;\">\n",
       "      <th></th>\n",
       "      <th>song_name</th>\n",
       "      <th>album_name</th>\n",
       "      <th>track_number</th>\n",
       "      <th>popularity</th>\n",
       "      <th>danceability</th>\n",
       "      <th>energy</th>\n",
       "      <th>loudness</th>\n",
       "      <th>mode</th>\n",
       "      <th>instrumentalness</th>\n",
       "      <th>valence</th>\n",
       "      <th>tempo</th>\n",
       "    </tr>\n",
       "  </thead>\n",
       "  <tbody>\n",
       "    <tr>\n",
       "      <th>345</th>\n",
       "      <td>2112 (Discovery) - Live</td>\n",
       "      <td>Different Stages</td>\n",
       "      <td>12</td>\n",
       "      <td>17</td>\n",
       "      <td>0.338</td>\n",
       "      <td>0.273</td>\n",
       "      <td>-14.393</td>\n",
       "      <td>1</td>\n",
       "      <td>0.0478</td>\n",
       "      <td>0.27</td>\n",
       "      <td>64.781</td>\n",
       "    </tr>\n",
       "  </tbody>\n",
       "</table>\n",
       "</div>"
      ],
      "text/plain": [
       "                   song_name        album_name  track_number  popularity  \\\n",
       "345  2112 (Discovery) - Live  Different Stages            12          17   \n",
       "\n",
       "     danceability  energy  loudness  mode  instrumentalness  valence   tempo  \n",
       "345         0.338   0.273   -14.393     1            0.0478     0.27  64.781  "
      ]
     },
     "execution_count": 19,
     "metadata": {},
     "output_type": "execute_result"
    }
   ],
   "source": [
    "mus[mus['song_name'] == '2112 (Discovery) - Live']"
   ]
  },
  {
   "cell_type": "code",
   "execution_count": 189,
   "id": "5613c957-9357-43c6-a9ed-0b37fdeb0c57",
   "metadata": {},
   "outputs": [
    {
     "data": {
      "text/html": [
       "<div>\n",
       "<style scoped>\n",
       "    .dataframe tbody tr th:only-of-type {\n",
       "        vertical-align: middle;\n",
       "    }\n",
       "\n",
       "    .dataframe tbody tr th {\n",
       "        vertical-align: top;\n",
       "    }\n",
       "\n",
       "    .dataframe thead th {\n",
       "        text-align: right;\n",
       "    }\n",
       "</style>\n",
       "<table border=\"1\" class=\"dataframe\">\n",
       "  <thead>\n",
       "    <tr style=\"text-align: right;\">\n",
       "      <th></th>\n",
       "      <th>song_name</th>\n",
       "      <th>album_name</th>\n",
       "      <th>track_number</th>\n",
       "      <th>popularity</th>\n",
       "      <th>danceability</th>\n",
       "      <th>energy</th>\n",
       "      <th>loudness</th>\n",
       "      <th>mode</th>\n",
       "      <th>instrumentalness</th>\n",
       "      <th>valence</th>\n",
       "      <th>tempo</th>\n",
       "    </tr>\n",
       "  </thead>\n",
       "  <tbody>\n",
       "    <tr>\n",
       "      <th>0</th>\n",
       "      <td>Tom Sawyer</td>\n",
       "      <td>Moving Pictures (40th Anniversary Super Deluxe)</td>\n",
       "      <td>1</td>\n",
       "      <td>31</td>\n",
       "      <td>0.526</td>\n",
       "      <td>0.881</td>\n",
       "      <td>-7.447</td>\n",
       "      <td>0</td>\n",
       "      <td>0.005770</td>\n",
       "      <td>0.655</td>\n",
       "      <td>87.392</td>\n",
       "    </tr>\n",
       "    <tr>\n",
       "      <th>1</th>\n",
       "      <td>Red Barchetta</td>\n",
       "      <td>Moving Pictures (40th Anniversary Super Deluxe)</td>\n",
       "      <td>2</td>\n",
       "      <td>28</td>\n",
       "      <td>0.530</td>\n",
       "      <td>0.933</td>\n",
       "      <td>-7.377</td>\n",
       "      <td>1</td>\n",
       "      <td>0.000081</td>\n",
       "      <td>0.348</td>\n",
       "      <td>144.143</td>\n",
       "    </tr>\n",
       "    <tr>\n",
       "      <th>2</th>\n",
       "      <td>YYZ</td>\n",
       "      <td>Moving Pictures (40th Anniversary Super Deluxe)</td>\n",
       "      <td>3</td>\n",
       "      <td>28</td>\n",
       "      <td>0.504</td>\n",
       "      <td>0.909</td>\n",
       "      <td>-8.101</td>\n",
       "      <td>1</td>\n",
       "      <td>0.842000</td>\n",
       "      <td>0.402</td>\n",
       "      <td>140.854</td>\n",
       "    </tr>\n",
       "    <tr>\n",
       "      <th>3</th>\n",
       "      <td>Limelight</td>\n",
       "      <td>Moving Pictures (40th Anniversary Super Deluxe)</td>\n",
       "      <td>4</td>\n",
       "      <td>29</td>\n",
       "      <td>0.573</td>\n",
       "      <td>0.878</td>\n",
       "      <td>-7.990</td>\n",
       "      <td>0</td>\n",
       "      <td>0.000281</td>\n",
       "      <td>0.842</td>\n",
       "      <td>131.005</td>\n",
       "    </tr>\n",
       "    <tr>\n",
       "      <th>4</th>\n",
       "      <td>The Camera Eye</td>\n",
       "      <td>Moving Pictures (40th Anniversary Super Deluxe)</td>\n",
       "      <td>5</td>\n",
       "      <td>26</td>\n",
       "      <td>0.356</td>\n",
       "      <td>0.793</td>\n",
       "      <td>-8.495</td>\n",
       "      <td>1</td>\n",
       "      <td>0.398000</td>\n",
       "      <td>0.149</td>\n",
       "      <td>165.004</td>\n",
       "    </tr>\n",
       "  </tbody>\n",
       "</table>\n",
       "</div>"
      ],
      "text/plain": [
       "        song_name                                       album_name  \\\n",
       "0      Tom Sawyer  Moving Pictures (40th Anniversary Super Deluxe)   \n",
       "1   Red Barchetta  Moving Pictures (40th Anniversary Super Deluxe)   \n",
       "2             YYZ  Moving Pictures (40th Anniversary Super Deluxe)   \n",
       "3       Limelight  Moving Pictures (40th Anniversary Super Deluxe)   \n",
       "4  The Camera Eye  Moving Pictures (40th Anniversary Super Deluxe)   \n",
       "\n",
       "   track_number  popularity  danceability  energy  loudness  mode  \\\n",
       "0             1          31         0.526   0.881    -7.447     0   \n",
       "1             2          28         0.530   0.933    -7.377     1   \n",
       "2             3          28         0.504   0.909    -8.101     1   \n",
       "3             4          29         0.573   0.878    -7.990     0   \n",
       "4             5          26         0.356   0.793    -8.495     1   \n",
       "\n",
       "   instrumentalness  valence    tempo  \n",
       "0          0.005770    0.655   87.392  \n",
       "1          0.000081    0.348  144.143  \n",
       "2          0.842000    0.402  140.854  \n",
       "3          0.000281    0.842  131.005  \n",
       "4          0.398000    0.149  165.004  "
      ]
     },
     "execution_count": 189,
     "metadata": {},
     "output_type": "execute_result"
    }
   ],
   "source": [
    "mus.head()"
   ]
  },
  {
   "cell_type": "code",
   "execution_count": 191,
   "id": "a95c9d98-f5c5-429e-a50d-1f18de56a346",
   "metadata": {},
   "outputs": [],
   "source": [
    "inst = mus[(mus['mode'] == 0)]['instrumentalness']"
   ]
  },
  {
   "cell_type": "code",
   "execution_count": 193,
   "id": "1394cd45-fefe-4821-8a4b-5bdf3e2d7c30",
   "metadata": {},
   "outputs": [
    {
     "data": {
      "text/plain": [
       "np.float64(0.26475000000000004)"
      ]
     },
     "execution_count": 193,
     "metadata": {},
     "output_type": "execute_result"
    }
   ],
   "source": [
    "inst.quantile(0.75)"
   ]
  },
  {
   "cell_type": "code",
   "execution_count": 194,
   "id": "3ef18d76-10da-4dab-8353-26e7350842e8",
   "metadata": {},
   "outputs": [
    {
     "data": {
      "text/plain": [
       "0.26"
      ]
     },
     "execution_count": 194,
     "metadata": {},
     "output_type": "execute_result"
    }
   ],
   "source": [
    "round(0.26475000000000004, 2)"
   ]
  },
  {
   "cell_type": "code",
   "execution_count": 195,
   "id": "fac80264-ec49-412a-8a09-56c3f6b6d4ad",
   "metadata": {},
   "outputs": [],
   "source": [
    "def fun(x):\n",
    "    return len(x)"
   ]
  },
  {
   "cell_type": "code",
   "execution_count": 196,
   "id": "e25dd17d-fa3a-48d3-a1a2-1c3177c08b65",
   "metadata": {},
   "outputs": [],
   "source": [
    "mus['coded'] = mus['song_name'].apply(fun)"
   ]
  },
  {
   "cell_type": "code",
   "execution_count": 197,
   "id": "61e359e6-98ce-4dff-8434-fc451eddfa88",
   "metadata": {},
   "outputs": [
    {
     "data": {
      "text/plain": [
       "np.float64(30.758928571428573)"
      ]
     },
     "execution_count": 197,
     "metadata": {},
     "output_type": "execute_result"
    }
   ],
   "source": [
    "mus['coded'].mean()"
   ]
  },
  {
   "cell_type": "code",
   "execution_count": 198,
   "id": "fb5883e6-a4a8-4da3-bd19-74d91d01f6e9",
   "metadata": {},
   "outputs": [
    {
     "data": {
      "text/plain": [
       "30.76"
      ]
     },
     "execution_count": 198,
     "metadata": {},
     "output_type": "execute_result"
    }
   ],
   "source": [
    "round(30.758928571428573, 2)"
   ]
  }
 ],
 "metadata": {
  "kernelspec": {
   "display_name": "Python 3 (ipykernel)",
   "language": "python",
   "name": "python3"
  },
  "language_info": {
   "codemirror_mode": {
    "name": "ipython",
    "version": 3
   },
   "file_extension": ".py",
   "mimetype": "text/x-python",
   "name": "python",
   "nbconvert_exporter": "python",
   "pygments_lexer": "ipython3",
   "version": "3.12.6"
  }
 },
 "nbformat": 4,
 "nbformat_minor": 5
}
